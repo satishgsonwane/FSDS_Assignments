{
 "cells": [
  {
   "cell_type": "markdown",
   "id": "188cb7d8",
   "metadata": {},
   "source": [
    "1. Write a program to reverse a string."
   ]
  },
  {
   "cell_type": "code",
   "execution_count": 1,
   "id": "2cb922a5",
   "metadata": {},
   "outputs": [
    {
     "name": "stdout",
     "output_type": "stream",
     "text": [
      "!elpoeP ,olleH\n"
     ]
    }
   ],
   "source": [
    "inputString = \"Hello, People!\"\n",
    "# Next Step Resets\n",
    "reversedString = \"\" \n",
    "for char in inputString:\n",
    "    reversedString = char + reversedString \n",
    "print(reversedString)"
   ]
  },
  {
   "cell_type": "markdown",
   "id": "3ea19226",
   "metadata": {},
   "source": [
    "2. Check if a string is a palindrome."
   ]
  },
  {
   "cell_type": "code",
   "execution_count": 4,
   "id": "030c5ecc",
   "metadata": {},
   "outputs": [
    {
     "name": "stdout",
     "output_type": "stream",
     "text": [
      "Enter a string:myman\n",
      "The string is not a palindrome.\n"
     ]
    }
   ],
   "source": [
    "# Get a string input from the user\n",
    "inputString = input(\"Enter a string:\")\n",
    "\n",
    "# Remove spaces and convert to lowercase for case-insensitive comparison\n",
    "cleaned_string = inputString.replace(\" \", \"\").lower()\n",
    "\n",
    "# Reverse the cleaned string\n",
    "reversed_string = cleaned_string[::-1]\n",
    "\n",
    "# Check if the original and reversed strings are the same\n",
    "if cleaned_string == reversed_string:\n",
    "    print(\"The string is a palindrome.\")\n",
    "else:\n",
    "    print(\"The string is not a palindrome.\")"
   ]
  },
  {
   "cell_type": "markdown",
   "id": "3db4a553",
   "metadata": {},
   "source": [
    "3. Convert a string to uppercase."
   ]
  },
  {
   "cell_type": "code",
   "execution_count": 5,
   "id": "ccd6c6ec",
   "metadata": {},
   "outputs": [
    {
     "name": "stdout",
     "output_type": "stream",
     "text": [
      "Enter a string: I am maverick\n",
      "I AM MAVERICK\n"
     ]
    }
   ],
   "source": [
    "# Step 1: Get input from the user\n",
    "input_string = input(\"Enter a string: \")\n",
    "\n",
    "# Step 2: Convert the string to uppercase\n",
    "uppercase_string = input_string.upper()\n",
    "\n",
    "# Step 3: Print the uppercase string\n",
    "print(uppercase_string)"
   ]
  },
  {
   "cell_type": "markdown",
   "id": "4841323d",
   "metadata": {},
   "source": [
    "4. Convert a string to lowercase."
   ]
  },
  {
   "cell_type": "code",
   "execution_count": 6,
   "id": "7f6afff2",
   "metadata": {},
   "outputs": [
    {
     "name": "stdout",
     "output_type": "stream",
     "text": [
      "Enter a string: I AM MAVERICK\n",
      "i am maverick\n"
     ]
    }
   ],
   "source": [
    "# Step 1: Get input from the user\n",
    "input_string = input(\"Enter a string: \")\n",
    "\n",
    "# Step 2: Convert the string to uppercase\n",
    "uppercase_string = input_string.lower()\n",
    "\n",
    "# Step 3: Print the uppercase string\n",
    "print(uppercase_string)"
   ]
  },
  {
   "cell_type": "markdown",
   "id": "ff32867f",
   "metadata": {},
   "source": [
    "5. Count the number of vowels in a string."
   ]
  },
  {
   "cell_type": "code",
   "execution_count": 7,
   "id": "2694c332",
   "metadata": {},
   "outputs": [
    {
     "name": "stdout",
     "output_type": "stream",
     "text": [
      "Enter a string: Hello, how are you\n",
      "Number of vowels in the string: 7\n"
     ]
    }
   ],
   "source": [
    "# Get a string input from the user\n",
    "input_string = input(\"Enter a string: \")\n",
    "\n",
    "# Initialize a variable to store the vowel count\n",
    "vowel_count = 0\n",
    "\n",
    "# Define a set of vowels for case-insensitive comparison\n",
    "vowels = set(\"aeiouAEIOU\")\n",
    "\n",
    "# Iterate through each character in the string\n",
    "for char in input_string:\n",
    "    if char in vowels: \n",
    "        vowel_count += 1\n",
    "\n",
    "# Display the vowel count\n",
    "print(\"Number of vowels in the string:\", vowel_count)"
   ]
  },
  {
   "cell_type": "markdown",
   "id": "fd64e58e",
   "metadata": {},
   "source": [
    "6. Count the number of consonants in a string."
   ]
  },
  {
   "cell_type": "code",
   "execution_count": 8,
   "id": "80380b0f",
   "metadata": {},
   "outputs": [
    {
     "name": "stdout",
     "output_type": "stream",
     "text": [
      "Enter a string: FDSD PRO\n",
      "Number of consonants in the string: 7\n"
     ]
    }
   ],
   "source": [
    "# Get a string input from the user\n",
    "input_string = input(\"Enter a string: \")\n",
    "\n",
    "# Initialize variables to store character count and vowel count\n",
    "character_count = 0\n",
    "vowel_count = 0\n",
    "\n",
    "# Define a set of vowels for case-insensitive comparison\n",
    "vowels = set(\"aeiouAEIOU\")\n",
    "\n",
    "# Iterate through each character in the string\n",
    "for char in input_string:\n",
    "    # Count characters\n",
    "    character_count += 1\n",
    "    \n",
    "    # Check if the character is a vowel\n",
    "    if char in vowels:\n",
    "        vowel_count += 1\n",
    "\n",
    "# Calculate the consonant count by subtracting vowel count from character count\n",
    "consonant_count = character_count - vowel_count\n",
    "\n",
    "# Display the consonant count\n",
    "print(\"Number of consonants in the string:\", consonant_count)"
   ]
  },
  {
   "cell_type": "markdown",
   "id": "2655d05c",
   "metadata": {},
   "source": [
    "7. Remove all whitespaces from a string."
   ]
  },
  {
   "cell_type": "code",
   "execution_count": 10,
   "id": "fc771b99",
   "metadata": {},
   "outputs": [
    {
     "name": "stdout",
     "output_type": "stream",
     "text": [
      "Enter a string: Hello   World!  How's   it   going?\n",
      "String without whitespaces: HelloWorld!How'sitgoing?\n"
     ]
    }
   ],
   "source": [
    "# Get a string input from the user\n",
    "input_string = input(\"Enter a string: \")\n",
    "\n",
    "# Remove all whitespaces from the input string using replace\n",
    "no_whitespace_string = input_string.replace(\" \", \"\")\n",
    "\n",
    "# Display the string without whitespaces\n",
    "print(\"String without whitespaces:\", no_whitespace_string)"
   ]
  },
  {
   "cell_type": "markdown",
   "id": "1173b0b6",
   "metadata": {},
   "source": [
    "8. Find the length of a string without using the len() function."
   ]
  },
  {
   "cell_type": "code",
   "execution_count": 12,
   "id": "cb9a74c9",
   "metadata": {},
   "outputs": [
    {
     "name": "stdout",
     "output_type": "stream",
     "text": [
      "Enter a string: Hello World! How's it going?\n",
      "Length of the string: 28\n"
     ]
    }
   ],
   "source": [
    "# Get a string input from the user\n",
    "input_string = input(\"Enter a string: \")\n",
    "\n",
    "# Initialize a variable to store the length\n",
    "string_length = 0\n",
    "\n",
    "# Iterate through each character in the string\n",
    "for char in input_string:\n",
    "    string_length += 1\n",
    "\n",
    "# Display the length of the string\n",
    "print(\"Length of the string:\", string_length)"
   ]
  },
  {
   "cell_type": "markdown",
   "id": "b2005817",
   "metadata": {},
   "source": [
    "9. Check if a string contains a specific word."
   ]
  },
  {
   "cell_type": "code",
   "execution_count": 13,
   "id": "fe5cf2cc",
   "metadata": {},
   "outputs": [
    {
     "name": "stdout",
     "output_type": "stream",
     "text": [
      "Enter a string: Hello World! How's it going?\n",
      "Enter the word to search for: Hello\n",
      "The string contains the word 'Hello' at position 0.\n"
     ]
    }
   ],
   "source": [
    "# Get a string input from the user\n",
    "input_string = input(\"Enter a string: \")\n",
    "\n",
    "# Get the word to search for from the user\n",
    "word_to_find = input(\"Enter the word to search for: \")\n",
    "\n",
    "# Find the position of the word in the string\n",
    "position = input_string.find(word_to_find)\n",
    "\n",
    "# Check if the word was found (position is not -1)\n",
    "if position != -1:\n",
    "    print(f\"The string contains the word '{word_to_find}' at position {position}.\")\n",
    "else:\n",
    "    print(f\"The string does not contain the word '{word_to_find}'.\")"
   ]
  },
  {
   "cell_type": "markdown",
   "id": "68bfe9c9",
   "metadata": {},
   "source": [
    "10. Replace a word in a string with another word."
   ]
  },
  {
   "cell_type": "code",
   "execution_count": 14,
   "id": "4551c5e9",
   "metadata": {},
   "outputs": [
    {
     "name": "stdout",
     "output_type": "stream",
     "text": [
      "Enter a string: Hello World! How's it going?\n",
      "Enter the word to replace: World\n",
      "Enter the replacement word: Shital\n",
      "Modified string: Hello Shital! How's it going?\n"
     ]
    }
   ],
   "source": [
    "# Get a string input from the user\n",
    "input_string = input(\"Enter a string: \")\n",
    "\n",
    "# Get the word to replace from the user\n",
    "word_to_replace = input(\"Enter the word to replace: \")\n",
    "\n",
    "# Get the word to replace it with from the user\n",
    "replacement_word = input(\"Enter the replacement word: \")\n",
    "\n",
    "# Replace the word in the string with the replacement word\n",
    "result_string = input_string.replace(word_to_replace, replacement_word)\n",
    "\n",
    "# Display the modified string\n",
    "print(\"Modified string:\", result_string)"
   ]
  },
  {
   "cell_type": "code",
   "execution_count": 21,
   "id": "df562ec6",
   "metadata": {},
   "outputs": [
    {
     "name": "stdout",
     "output_type": "stream",
     "text": [
      "Enter a string: This is a sample sentence. This sentence contains the word sample multiple times.\n",
      "Enter the word to count: sample\n",
      "The word 'sample' appears 2 times in the string.\n"
     ]
    }
   ],
   "source": [
    "# Get a string input from the user\n",
    "input_string = input(\"Enter a string: \")\n",
    "\n",
    "# Get the word to count from the user\n",
    "word_to_count = input(\"Enter the word to count: \")\n",
    "\n",
    "# Split the input string into words\n",
    "words = input_string.split()\n",
    "\n",
    "# Initialize a variable to count occurrences\n",
    "word_count = 0\n",
    "\n",
    "# Iterate through the words and count occurrences\n",
    "for word in words:\n",
    "    if word == word_to_count:\n",
    "        word_count += 1\n",
    "\n",
    "# Display the word count\n",
    "print(f\"The word '{word_to_count}' appears {word_count} times in the string.\")"
   ]
  },
  {
   "cell_type": "markdown",
   "id": "c17ec14e",
   "metadata": {},
   "source": [
    "12. Find the first occurrence of a word in a string."
   ]
  },
  {
   "cell_type": "code",
   "execution_count": 22,
   "id": "9bc9b1a3",
   "metadata": {},
   "outputs": [
    {
     "name": "stdout",
     "output_type": "stream",
     "text": [
      "Enter a string: This is an example sentence. This sentence contains the word example.\n",
      "Enter the word to find: example\n",
      "The word 'example' first appears at position 11 in the string.\n"
     ]
    }
   ],
   "source": [
    "# Get a string input from the user\n",
    "input_string = input(\"Enter a string: \")\n",
    "\n",
    "# Get the word to find from the user\n",
    "word_to_find = input(\"Enter the word to find: \")\n",
    "\n",
    "# Find the position of the first occurrence of the word in the string\n",
    "position = input_string.find(word_to_find)\n",
    "\n",
    "# Check if the word was found (position is not -1)\n",
    "if position != -1:\n",
    "    print(f\"The word '{word_to_find}' first appears at position {position} in the string.\")\n",
    "else:\n",
    "    print(f\"The word '{word_to_find}' was not found in the string.\")"
   ]
  },
  {
   "cell_type": "markdown",
   "id": "6f143187",
   "metadata": {},
   "source": [
    "13. Find the last occurrence of a word in a string."
   ]
  },
  {
   "cell_type": "code",
   "execution_count": 24,
   "id": "6ad01691",
   "metadata": {},
   "outputs": [
    {
     "name": "stdout",
     "output_type": "stream",
     "text": [
      "Enter a string: This is an example sentence. This sentence also contains the word example.\n",
      "Enter the word to find: example\n",
      "The last occurrence of 'example' was found at position 66.\n"
     ]
    }
   ],
   "source": [
    "# Get a string input from the user\n",
    "input_string = input(\"Enter a string: \")\n",
    "\n",
    "# Get the word to find from the user\n",
    "word_to_find = input(\"Enter the word to find: \")\n",
    "\n",
    "# Find the position of the last occurrence of the word in the string\n",
    "position = input_string.rfind(word_to_find)\n",
    "\n",
    "# Check if the word was found (position is not -1)\n",
    "if position != -1:\n",
    "    print(f\"The last occurrence of '{word_to_find}' was found at position {position}.\")\n",
    "else:\n",
    "    print(f\"'{word_to_find}' was not found in the string.\")"
   ]
  },
  {
   "cell_type": "markdown",
   "id": "43bc568a",
   "metadata": {},
   "source": [
    "14. Split a string into a list of words."
   ]
  },
  {
   "cell_type": "code",
   "execution_count": 25,
   "id": "1ca9a456",
   "metadata": {},
   "outputs": [
    {
     "name": "stdout",
     "output_type": "stream",
     "text": [
      "Enter a string: This is an example sentence. This sentence also contains the word example.\n",
      "List of words: ['This', 'is', 'an', 'example', 'sentence.', 'This', 'sentence', 'also', 'contains', 'the', 'word', 'example.']\n"
     ]
    }
   ],
   "source": [
    "# Get a string input from the user\n",
    "input_string = input(\"Enter a string: \")\n",
    "\n",
    "# Split the input string into a list of words\n",
    "words_list = input_string.split()\n",
    "\n",
    "# Display the list of words\n",
    "print(\"List of words:\", words_list)"
   ]
  },
  {
   "cell_type": "markdown",
   "id": "233c0da8",
   "metadata": {},
   "source": [
    "15. Join a list of words into a string."
   ]
  },
  {
   "cell_type": "code",
   "execution_count": 29,
   "id": "13411f71",
   "metadata": {},
   "outputs": [
    {
     "name": "stdout",
     "output_type": "stream",
     "text": [
      "Joined string: This is an example sentence.\n"
     ]
    }
   ],
   "source": [
    "def join_words_into_string(words_list):\n",
    "    \n",
    "    # Step 1: Use the join() method to join the words in the list into a single string.\n",
    "    joined_string = ' '.join(words_list)\n",
    "\n",
    "    # Step 2: Return the joined string.\n",
    "    return joined_string\n",
    "\n",
    "# Example usage\n",
    "words = [\"This\", \"is\", \"an\", \"example\", \"sentence.\"]\n",
    "text = join_words_into_string(words)\n",
    "print(\"Joined string:\", text)"
   ]
  },
  {
   "cell_type": "markdown",
   "id": "c487d080",
   "metadata": {},
   "source": [
    "16. Convert a string where words are separated by spaces to one where words are separated by underscores"
   ]
  },
  {
   "cell_type": "code",
   "execution_count": 30,
   "id": "fac37f29",
   "metadata": {},
   "outputs": [
    {
     "name": "stdout",
     "output_type": "stream",
     "text": [
      "Enter a string with words separated by spaces: This is an example sentence.\n",
      "Modified string: This_is_an_example_sentence.\n"
     ]
    }
   ],
   "source": [
    "# Get a string input from the user\n",
    "input_string = input(\"Enter a string with words separated by spaces: \")\n",
    "\n",
    "# Replace spaces with underscores\n",
    "result_string = input_string.replace(\" \", \"_\")\n",
    "\n",
    "# Display the modified string\n",
    "print(\"Modified string:\", result_string)"
   ]
  },
  {
   "cell_type": "markdown",
   "id": "618cedf8",
   "metadata": {},
   "source": [
    "17. Check if a string starts with a specific word or phrase."
   ]
  },
  {
   "cell_type": "code",
   "execution_count": 32,
   "id": "d3f10f8f",
   "metadata": {},
   "outputs": [
    {
     "name": "stdout",
     "output_type": "stream",
     "text": [
      "Enter a string: Hello, world!\n",
      "Enter the word or phrase to check for: Hello\n",
      " Yes the string starts with 'Hello'.\n"
     ]
    }
   ],
   "source": [
    "# Get a string input from the user\n",
    "input_string = input(\"Enter a string: \")\n",
    "\n",
    "# Get the word or phrase to check for from the user\n",
    "word_to_check = input(\"Enter the word or phrase to check for: \")\n",
    "\n",
    "# Check if the string starts with the specified word or phrase\n",
    "if input_string.startswith(word_to_check):\n",
    "    print(f\" Yes the string starts with '{word_to_check}'.\")\n",
    "else:\n",
    "    print(f\"No the string does not start with '{word_to_check}'.\")\n"
   ]
  },
  {
   "cell_type": "markdown",
   "id": "fb81aff5",
   "metadata": {},
   "source": [
    "18. Check if a string ends with a specific word or phrase."
   ]
  },
  {
   "cell_type": "code",
   "execution_count": 34,
   "id": "583c07c6",
   "metadata": {},
   "outputs": [
    {
     "name": "stdout",
     "output_type": "stream",
     "text": [
      "Enter a string: Hello world\n",
      "Enter the word or phrase to check for: Hello\n",
      "No the string does not end with 'Hello'.\n"
     ]
    }
   ],
   "source": [
    "# Get a string input from the user\n",
    "input_string = input(\"Enter a string: \")\n",
    "\n",
    "# Get the word or phrase to check for from the user\n",
    "word_to_check = input(\"Enter the word or phrase to check for: \")\n",
    "\n",
    "# Check if the string starts with the specified word or phrase\n",
    "if input_string.endswith(word_to_check):\n",
    "    print(f\"Yes the string ends with '{word_to_check}'.\")\n",
    "else:\n",
    "    print(f\"No the string does not end with '{word_to_check}'.\")"
   ]
  },
  {
   "cell_type": "markdown",
   "id": "6b221aea",
   "metadata": {},
   "source": [
    "19. Convert a string to title case (e.g., \"hello world\" to \"Hello World\")."
   ]
  },
  {
   "cell_type": "code",
   "execution_count": 35,
   "id": "bfd52f87",
   "metadata": {},
   "outputs": [
    {
     "name": "stdout",
     "output_type": "stream",
     "text": [
      "Enter a string: hello world\n",
      "Title case string: Hello World\n"
     ]
    }
   ],
   "source": [
    "# Get a string input from the user\n",
    "input_string = input(\"Enter a string: \")\n",
    "\n",
    "# Convert the string to title case\n",
    "title_case_string = input_string.title()\n",
    "\n",
    "# Display the string in title case\n",
    "print(\"Title case string:\", title_case_string)"
   ]
  },
  {
   "cell_type": "markdown",
   "id": "5ec877ca",
   "metadata": {},
   "source": [
    "20. Find the longest word in a string."
   ]
  },
  {
   "cell_type": "code",
   "execution_count": 36,
   "id": "ba5ae89d",
   "metadata": {},
   "outputs": [
    {
     "name": "stdout",
     "output_type": "stream",
     "text": [
      "Enter a string: This is an example sentence with some long words.\n",
      "The longest word in the string is: sentence\n"
     ]
    }
   ],
   "source": [
    "# Get a string input from the user\n",
    "input_string = input(\"Enter a string: \")\n",
    "\n",
    "# Split the input string into words\n",
    "words = input_string.split()\n",
    "\n",
    "# Initialize a variable to store the longest word\n",
    "longest_word = \"\"\n",
    "\n",
    "# Iterate through the words and find the longest one\n",
    "for word in words:\n",
    "    if len(word) > len(longest_word):\n",
    "        longest_word = word\n",
    "\n",
    "# Display the longest word\n",
    "print(\"The longest word in the string is:\", longest_word)"
   ]
  },
  {
   "cell_type": "markdown",
   "id": "a21b5d10",
   "metadata": {},
   "source": [
    "21. Find the shortest word in a string."
   ]
  },
  {
   "cell_type": "code",
   "execution_count": 42,
   "id": "14f521f1",
   "metadata": {},
   "outputs": [
    {
     "name": "stdout",
     "output_type": "stream",
     "text": [
      "Enter a string: This is an example sentence with some long words.\n",
      "The longest word in the string is: is\n"
     ]
    }
   ],
   "source": [
    "# Get a string input from the user\n",
    "input_string = input(\"Enter a string: \")\n",
    "\n",
    "# Split the input string into words\n",
    "words = input_string.split()\n",
    "\n",
    "# Initialize a variable to store the shortest word\n",
    "shortest_word = None\n",
    "min_length = float('inf')  # Initialize to a large value\n",
    "\n",
    "# Iterate through the words and find the shortest one\n",
    "for word in words:\n",
    "    if len(word) < min_length:\n",
    "        min_length = len(word)\n",
    "        shortest_word = word\n",
    "\n",
    "# Display the longest word\n",
    "print(\"The longest word in the string is:\", shortest_word)"
   ]
  },
  {
   "cell_type": "markdown",
   "id": "be8a14af",
   "metadata": {},
   "source": [
    "22. Reverse the order of words in a string."
   ]
  },
  {
   "cell_type": "code",
   "execution_count": 43,
   "id": "ff355127",
   "metadata": {},
   "outputs": [
    {
     "name": "stdout",
     "output_type": "stream",
     "text": [
      "Enter a string: This is an example sentence with some short words.\n",
      "String with reversed word order: words. short some with sentence example an is This\n"
     ]
    }
   ],
   "source": [
    "# Get a string input from the user\n",
    "input_string = input(\"Enter a string: \")\n",
    "\n",
    "# Split the input string into words\n",
    "words = input_string.split()\n",
    "\n",
    "# Reverse the order of words\n",
    "reversed_words = reversed(words)\n",
    "\n",
    "# Join the reversed words into a single string\n",
    "reversed_string = \" \".join(reversed_words)\n",
    "\n",
    "# Display the string with reversed word order\n",
    "print(\"String with reversed word order:\", reversed_string)"
   ]
  },
  {
   "cell_type": "markdown",
   "id": "423b9aa0",
   "metadata": {},
   "source": [
    "23. Check if a string is alphanumeric."
   ]
  },
  {
   "cell_type": "code",
   "execution_count": 45,
   "id": "9e2d6a64",
   "metadata": {},
   "outputs": [
    {
     "name": "stdout",
     "output_type": "stream",
     "text": [
      "Enter a string: Hello World\n",
      "The string is not alphanumeric.\n"
     ]
    }
   ],
   "source": [
    "text = input(\"Enter a string: \")\n",
    "\n",
    "result=text.isalnum()\n",
    "\n",
    "if result:\n",
    "    print(\"The string is alphanumeric.\")\n",
    "else:\n",
    "    print(\"The string is not alphanumeric.\")"
   ]
  },
  {
   "cell_type": "markdown",
   "id": "b9840297",
   "metadata": {},
   "source": [
    "24. Extract all digits from a string."
   ]
  },
  {
   "cell_type": "code",
   "execution_count": 47,
   "id": "a970d8fd",
   "metadata": {},
   "outputs": [
    {
     "name": "stdout",
     "output_type": "stream",
     "text": [
      "Enter a sentence: Hello123World456\n",
      "Extracted digits: 123456\n"
     ]
    }
   ],
   "source": [
    "text = input(\"Enter a sentence: \")\n",
    "\n",
    "digits = \"\"\n",
    "\n",
    "# Step 2: Iterate through each character in the text.\n",
    "for char in text:\n",
    "# Check if the character is a digit using the isdigit() method.\n",
    "    if char.isdigit():\n",
    "# Append the digit to the digits string.\n",
    "        digits += char\n",
    "print(\"Extracted digits:\", digits)"
   ]
  },
  {
   "cell_type": "markdown",
   "id": "d62eb9f5",
   "metadata": {},
   "source": [
    "25. Extract all alphabets from a string"
   ]
  },
  {
   "cell_type": "code",
   "execution_count": 50,
   "id": "aa453bfc",
   "metadata": {},
   "outputs": [
    {
     "name": "stdout",
     "output_type": "stream",
     "text": [
      "Enter a sentence: Hello123World456\n",
      "first result:  HelloWorld\n"
     ]
    }
   ],
   "source": [
    "ini_string = input(\"Enter a sentence: \")\n",
    " \n",
    "# code to find characters in string\n",
    "res1 = \"\"\n",
    "for i in ini_string:\n",
    "    if i.isalpha():\n",
    "        res1 = \"\".join([res1, i])\n",
    " \n",
    " \n",
    "# printing resultant string\n",
    "print(\"first result: \", str(res1))\n"
   ]
  },
  {
   "cell_type": "markdown",
   "id": "df24ca60",
   "metadata": {},
   "source": [
    "26. Count the number of uppercase letters in a string."
   ]
  },
  {
   "cell_type": "code",
   "execution_count": 57,
   "id": "5ca47c68",
   "metadata": {},
   "outputs": [
    {
     "name": "stdout",
     "output_type": "stream",
     "text": [
      "Enter a sentence having mix of lower and uppercase letters: HelloWORLD\n",
      "6\n"
     ]
    }
   ],
   "source": [
    "input_string = input(\"Enter a sentence having mix of lower and uppercase letters: \")\n",
    "uppercase_count = 0\n",
    "for i in range(len(input_string)): #range of length of input string\n",
    "    if input_string[i].isupper():\n",
    "        uppercase_count += 1\n",
    "\n",
    "print(uppercase_count)"
   ]
  },
  {
   "cell_type": "markdown",
   "id": "cc1b6327",
   "metadata": {},
   "source": [
    "27. Count the number of lowercase letters in a string."
   ]
  },
  {
   "cell_type": "code",
   "execution_count": 58,
   "id": "3b1d356f",
   "metadata": {},
   "outputs": [
    {
     "name": "stdout",
     "output_type": "stream",
     "text": [
      "Enter a sentence having mix of lower and uppercase letters: HelloWORLD\n",
      "4\n"
     ]
    }
   ],
   "source": [
    "input_string = input(\"Enter a sentence having mix of lower and uppercase letters: \")\n",
    "lowercase_count = 0\n",
    "for i in range(len(input_string)): #range of length of input string\n",
    "    if input_string[i].islower():\n",
    "        lowercase_count += 1\n",
    "\n",
    "print(lowercase_count)"
   ]
  },
  {
   "cell_type": "markdown",
   "id": "df50bd58",
   "metadata": {},
   "source": [
    "28. Swap the case of each character in a string."
   ]
  },
  {
   "cell_type": "code",
   "execution_count": 59,
   "id": "aa840f0d",
   "metadata": {},
   "outputs": [
    {
     "name": "stdout",
     "output_type": "stream",
     "text": [
      "Enter a sentence having mix of lower and uppercase letters: HelloWORLD\n",
      "hELLOworld\n"
     ]
    }
   ],
   "source": [
    "input_string = input(\"Enter a sentence having mix of lower and uppercase letters: \")\n",
    "swapped_string = input_string.swapcase()\n",
    "print(swapped_string)"
   ]
  },
  {
   "cell_type": "markdown",
   "id": "bf3d3b09",
   "metadata": {},
   "source": [
    "29. Remove a specific word from a string."
   ]
  },
  {
   "cell_type": "code",
   "execution_count": 65,
   "id": "61242960",
   "metadata": {},
   "outputs": [
    {
     "name": "stdout",
     "output_type": "stream",
     "text": [
      "Hello, welcome to the of programming.\n"
     ]
    }
   ],
   "source": [
    "# Example input string and word to remove\n",
    "string = \"Hello world, welcome to the world of programming.\"\n",
    "word = \"world\"\n",
    "\n",
    "if word in string:\n",
    "# To cover the case if the word is at the beginning\n",
    "# of the string or anywhere in the middle\n",
    "    tempWord = word + \" \"\n",
    "    string = string.replace(tempWord, \"\")\n",
    "# To cover the edge case if the word is at the endof the string\n",
    "    tempWord = \" \" + word\n",
    "    string = string.replace(tempWord, \"\")\n",
    "\n",
    "print(string)"
   ]
  },
  {
   "cell_type": "markdown",
   "id": "4eb0be3c",
   "metadata": {},
   "source": [
    "30. Check if a string is a valid email address."
   ]
  },
  {
   "cell_type": "code",
   "execution_count": 67,
   "id": "331b6a11",
   "metadata": {},
   "outputs": [
    {
     "name": "stdout",
     "output_type": "stream",
     "text": [
      "Valid Email\n"
     ]
    }
   ],
   "source": [
    "import re\n",
    "email = \"example@email.com\"\n",
    "\n",
    "pat = r'\\b[A-Za-z0-9._%+-]+@[A-Za-z0-9.-]+\\.[A-Z|a-z]{2,7}\\b'\n",
    "if re.match(pat,email):\n",
    "    print(\"Valid Email\")\n",
    "else:\n",
    "     print(\"Invalid Email\")"
   ]
  },
  {
   "cell_type": "markdown",
   "id": "7b135607",
   "metadata": {},
   "source": [
    "31. Extract the username from an email address string."
   ]
  },
  {
   "cell_type": "code",
   "execution_count": 70,
   "id": "28c8378d",
   "metadata": {},
   "outputs": [
    {
     "name": "stdout",
     "output_type": "stream",
     "text": [
      "The extracted usernaname : example\n"
     ]
    }
   ],
   "source": [
    "# initializing strings\n",
    "test_str = 'example@email.com'\n",
    "  \n",
    "# slicing domain name using slicing\n",
    "username = email.split('@')[0]\n",
    " \n",
    "# printing result\n",
    "print(\"The extracted usernaname : \" + str(username))"
   ]
  },
  {
   "cell_type": "markdown",
   "id": "a33bc8b9",
   "metadata": {},
   "source": [
    "32. Extract the domain name from an email address string."
   ]
  },
  {
   "cell_type": "code",
   "execution_count": 71,
   "id": "134ebbe7",
   "metadata": {},
   "outputs": [
    {
     "name": "stdout",
     "output_type": "stream",
     "text": [
      "The extracted domain name : email.com\n"
     ]
    }
   ],
   "source": [
    "# initializing strings\n",
    "test_str = 'example@email.com'\n",
    "  \n",
    "# slicing domain name using slicing\n",
    "domain = email.split('@')[1]\n",
    " \n",
    "# printing result\n",
    "print(\"The extracted domain name : \" + str(domain))"
   ]
  },
  {
   "cell_type": "markdown",
   "id": "6556bc98",
   "metadata": {},
   "source": [
    "33. Replace multiple spaces in a string with a single space."
   ]
  },
  {
   "cell_type": "code",
   "execution_count": 72,
   "id": "776de382",
   "metadata": {},
   "outputs": [
    {
     "name": "stdout",
     "output_type": "stream",
     "text": [
      "Hello world! How are you?\n"
     ]
    }
   ],
   "source": [
    "input_string = \"Hello     world!   How   are   you?\"\n",
    "cleaned_string = ' '.join(input_string.split())\n",
    "print(cleaned_string)"
   ]
  },
  {
   "cell_type": "markdown",
   "id": "323bd1cb",
   "metadata": {},
   "source": [
    "34. Check if a string is a valid URL."
   ]
  },
  {
   "cell_type": "code",
   "execution_count": 73,
   "id": "2172de0d",
   "metadata": {},
   "outputs": [
    {
     "name": "stdout",
     "output_type": "stream",
     "text": [
      "True\n",
      "False\n"
     ]
    }
   ],
   "source": [
    "from urllib.parse import urlparse\n",
    "\n",
    "def is_valid_url(url):\n",
    "    try:\n",
    "        result = urlparse(url)\n",
    "        return all([result.scheme, result.netloc])  # Check if both scheme and netloc are present\n",
    "    except ValueError:\n",
    "        return False\n",
    "\n",
    "# Example URLs\n",
    "url1 = \"https://www.example.com\"\n",
    "url2 = \"invalid-url\"\n",
    "result1 = is_valid_url(url1)\n",
    "result2 = is_valid_url(url2)\n",
    "print(result1)  # Should print True\n",
    "print(result2)  # Should print False"
   ]
  },
  {
   "cell_type": "markdown",
   "id": "fc7fdcd0",
   "metadata": {},
   "source": [
    "35. Extract the protocol (http or https) from a URL string."
   ]
  },
  {
   "cell_type": "code",
   "execution_count": 82,
   "id": "9f8a24fb",
   "metadata": {},
   "outputs": [
    {
     "name": "stdout",
     "output_type": "stream",
     "text": [
      "Protocol 1: https\n",
      "Protocol 2: http\n",
      "Protocol 3: ftp\n"
     ]
    }
   ],
   "source": [
    "def extract_protocol(url):\n",
    "    # Find the index of the first occurrence of \"://\"\n",
    "    protocol_end = url.find(\"://\")\n",
    "\n",
    "    if protocol_end != -1:\n",
    "        # Extract the protocol from the URL\n",
    "        protocol = url[:protocol_end]\n",
    "        return protocol\n",
    "    else:\n",
    "        return None\n",
    "\n",
    "# Example URL strings\n",
    "url1 = \"https://www.example.com\"\n",
    "url2 = \"http://google.com\"\n",
    "url3 = \"ftp://ftp.example.com\"\n",
    "\n",
    "# Extract protocols\n",
    "protocol1 = extract_protocol(url1)\n",
    "protocol2 = extract_protocol(url2)\n",
    "protocol3 = extract_protocol(url3)\n",
    "\n",
    "# Print extracted protocols\n",
    "print(\"Protocol 1:\", protocol1)\n",
    "print(\"Protocol 2:\", protocol2)\n",
    "print(\"Protocol 3:\", protocol3)"
   ]
  },
  {
   "cell_type": "markdown",
   "id": "c5928d33",
   "metadata": {},
   "source": [
    "36. Find the frequency of each character in a string."
   ]
  },
  {
   "cell_type": "code",
   "execution_count": 83,
   "id": "0e071e78",
   "metadata": {},
   "outputs": [
    {
     "name": "stdout",
     "output_type": "stream",
     "text": [
      "Count of all characters in FDSDFORFDSD is :\n",
      " {'F': 3, 'D': 4, 'S': 2, 'O': 1, 'R': 1}\n"
     ]
    }
   ],
   "source": [
    "test_str = \"FDSDFORFDSD\"\n",
    " \n",
    "# using naive method to get count\n",
    "# of each element in string\n",
    "all_freq = {}\n",
    " \n",
    "for i in test_str:\n",
    "    if i in all_freq:\n",
    "        all_freq[i] += 1\n",
    "    else:\n",
    "        all_freq[i] = 1\n",
    " \n",
    "# printing result\n",
    "print(\"Count of all characters in FDSDFORFDSD is :\\n \"\n",
    "      + str(all_freq))"
   ]
  },
  {
   "cell_type": "markdown",
   "id": "131043bb",
   "metadata": {},
   "source": [
    "37. Remove all punctuation from a string."
   ]
  },
  {
   "cell_type": "code",
   "execution_count": 84,
   "id": "c7d55f0b",
   "metadata": {},
   "outputs": [
    {
     "name": "stdout",
     "output_type": "stream",
     "text": [
      "The original string is : FDSD, is best : for us>><: ;\n",
      "The string after punctuation filter : FDSD is best  for us \n"
     ]
    }
   ],
   "source": [
    "# initializing string\n",
    "test_str = \"FDSD, is best : for us>><:\"\" ;\"\n",
    " \n",
    "# printing original string\n",
    "print(\"The original string is : \" + test_str)\n",
    " \n",
    "# initializing punctuations string\n",
    "punc = '''!()-[]{};:'\"\\,<>./?@#$%^&*_~'''\n",
    " \n",
    "# Removing punctuations in string\n",
    "# Using loop + punctuation string\n",
    "for ele in test_str:\n",
    "    if ele in punc:\n",
    "        test_str = test_str.replace(ele, \"\")\n",
    " \n",
    "# printing result\n",
    "print(\"The string after punctuation filter : \" + test_str)"
   ]
  },
  {
   "cell_type": "markdown",
   "id": "e115c92f",
   "metadata": {},
   "source": [
    "38. Check if a string contains only digits."
   ]
  },
  {
   "cell_type": "code",
   "execution_count": 87,
   "id": "de0a3f36",
   "metadata": {},
   "outputs": [
    {
     "name": "stdout",
     "output_type": "stream",
     "text": [
      "Enter a word: Hello12345\n",
      "'Hello12345' contains only digits: False\n"
     ]
    }
   ],
   "source": [
    "string1 = input(\"Enter a word: \")\n",
    "\n",
    "result = string1.isdigit()\n",
    "\n",
    "print(f\"'{string1}' contains only digits:\", result)"
   ]
  },
  {
   "cell_type": "markdown",
   "id": "33545aa0",
   "metadata": {},
   "source": [
    "39. Check if a string contains only alphabets."
   ]
  },
  {
   "cell_type": "code",
   "execution_count": 88,
   "id": "47b69221",
   "metadata": {},
   "outputs": [
    {
     "name": "stdout",
     "output_type": "stream",
     "text": [
      "Enter a word: Hello12345\n",
      "'Hello12345' contains only digits: False\n"
     ]
    }
   ],
   "source": [
    "string1 = input(\"Enter a word: \")\n",
    "\n",
    "result = string1.isalpha()\n",
    "\n",
    "print(f\"'{string1}' contains only digits:\", result)"
   ]
  },
  {
   "cell_type": "markdown",
   "id": "d8e499af",
   "metadata": {},
   "source": [
    "40. Convert a string to a list of characters."
   ]
  },
  {
   "cell_type": "code",
   "execution_count": 90,
   "id": "85c0d26b",
   "metadata": {},
   "outputs": [
    {
     "name": "stdout",
     "output_type": "stream",
     "text": [
      "Original string: Hello, world!\n",
      "List of characters: ['H', 'e', 'l', 'l', 'o', ',', ' ', 'w', 'o', 'r', 'l', 'd', '!']\n"
     ]
    }
   ],
   "source": [
    "# Example string\n",
    "input_str = \"Hello, world!\"\n",
    "\n",
    "char_list = list(input_str)\n",
    "    \n",
    "print(\"Original string:\", input_str)\n",
    "\n",
    "print(\"List of characters:\", char_list)    "
   ]
  },
  {
   "cell_type": "markdown",
   "id": "bb673cf3",
   "metadata": {},
   "source": [
    "41. Check if two strings are anagrams."
   ]
  },
  {
   "cell_type": "code",
   "execution_count": 91,
   "id": "adb8c7db",
   "metadata": {},
   "outputs": [
    {
     "name": "stdout",
     "output_type": "stream",
     "text": [
      "enter string 1:listen\n",
      "enter string 2:silent\n",
      "The strings are anagrams.\n"
     ]
    }
   ],
   "source": [
    "## Example 1 for \"The strings are anagrams.\"\n",
    " \n",
    "#Declare Inputs\n",
    "\n",
    "inp1 = input(\"enter string 1:\")\n",
    "inp2 = input(\"enter string 2:\")\n",
    " \n",
    "#Sort Elements\n",
    "x = [inp1[i] for i in range(0,len(inp1))]\n",
    "x.sort()\n",
    "y = [inp2[i] for i in range(0,len(inp2))]\n",
    "y.sort()\n",
    " \n",
    "# the sorted strings are checked\n",
    "if (x == y):print(\"The strings are anagrams.\")\n",
    "else: print(\"The strings aren't anagrams.\")"
   ]
  },
  {
   "cell_type": "markdown",
   "id": "9c28cee4",
   "metadata": {},
   "source": [
    "42. Encode a string using a Caesar cipher."
   ]
  },
  {
   "cell_type": "code",
   "execution_count": 94,
   "id": "da9b8159",
   "metadata": {},
   "outputs": [
    {
     "name": "stdout",
     "output_type": "stream",
     "text": [
      "Encoded text: ehoor, zruog!\n"
     ]
    }
   ],
   "source": [
    "# Define a function named caesar_cipher that encodes a string using a Caesar cipher.\n",
    "def caesar_cipher(text, shift):\n",
    "  \"\"\"\n",
    "  Encodes a string using a Caesar cipher.\n",
    "\n",
    "  Args:\n",
    "    text: The string to encode.\n",
    "    shift: The number of positions to shift each letter.\n",
    "\n",
    "  Returns:\n",
    "    The encoded string.\n",
    "  \"\"\"\n",
    "\n",
    "  # Initialize an empty string to store the encoded text.\n",
    "  encoded_text = \"\"\n",
    "\n",
    "  # Iterate through each character in the input text.\n",
    "  for char in text:\n",
    "    # Check if the character is alphabetic.\n",
    "    if char.isalpha():\n",
    "      # Calculate the encoded character's Unicode code point value by shifting it by the specified amount.\n",
    "      # Ensure the value wraps around within the lowercase alphabet range (a-z).\n",
    "      encoded_char = chr((ord(char) + shift - ord('a')) % 26 + ord('a'))\n",
    "    else:\n",
    "      # Keep non-alphabetic characters unchanged.\n",
    "      encoded_char = char\n",
    "\n",
    "    # Add the encoded character to the encoded text.\n",
    "    encoded_text += encoded_char\n",
    "\n",
    "  # Return the resulting encoded text.\n",
    "  return encoded_text\n",
    "\n",
    "# Define the input text and the shift value for encoding.\n",
    "text = \"Hello, world!\"\n",
    "shift = 3\n",
    "\n",
    "# Call the caesar_cipher function to encode the text using the specified shift.\n",
    "encoded_text = caesar_cipher(text, shift)\n",
    "\n",
    "# Print the encoded text.\n",
    "print(\"Encoded text:\", encoded_text)"
   ]
  },
  {
   "cell_type": "markdown",
   "id": "fe461dca",
   "metadata": {},
   "source": [
    "43. Decode a Caesar cipher encoded string."
   ]
  },
  {
   "cell_type": "code",
   "execution_count": 95,
   "id": "f4db4083",
   "metadata": {},
   "outputs": [
    {
     "name": "stdout",
     "output_type": "stream",
     "text": [
      "Decoded text: ilmm, world!\n"
     ]
    }
   ],
   "source": [
    "# Define a function to decode a string using a Caesar cipher\n",
    "def caesar_cipher_decoder(text, shift):\n",
    "    \"\"\"\n",
    "    Decodes a string using a Caesar cipher.\n",
    "\n",
    "    Args:\n",
    "        text: The string to decode.\n",
    "        shift: The number of positions to shift each letter.\n",
    "\n",
    "    Returns:\n",
    "        The decoded string.\n",
    "    \"\"\"\n",
    "\n",
    "    # Initialize an empty string to store the decoded text\n",
    "    decoded_text = \"\"\n",
    "\n",
    "    # Loop through each character in the input text\n",
    "    for char in text:\n",
    "        # Check if the character is an alphabetic character\n",
    "        if char.isalpha():\n",
    "            # Calculate the decoded character using the shift value\n",
    "            decoded_char = chr((ord(char) - shift - ord('a')) % 26 + ord('a'))\n",
    "        else:\n",
    "            # If the character is not alphabetic, keep it unchanged\n",
    "            decoded_char = char\n",
    "\n",
    "        # Add the decoded character to the decoded text\n",
    "        decoded_text += decoded_char\n",
    "\n",
    "    # Return the fully decoded text\n",
    "    return decoded_text\n",
    "\n",
    "# Example input\n",
    "text = \"lopp, zruog!\"\n",
    "shift = 3\n",
    "\n",
    "# Call the caesar_cipher_decoder function to decode the input text\n",
    "decoded_text = caesar_cipher_decoder(text, shift)\n",
    "\n",
    "# Print the decoded text\n",
    "print(\"Decoded text:\", decoded_text)"
   ]
  },
  {
   "cell_type": "markdown",
   "id": "9e358436",
   "metadata": {},
   "source": [
    "44. Find the most frequent word in a string."
   ]
  },
  {
   "cell_type": "code",
   "execution_count": 98,
   "id": "c16a0d1d",
   "metadata": {},
   "outputs": [
    {
     "name": "stdout",
     "output_type": "stream",
     "text": [
      "Most frequent word: hello\n"
     ]
    }
   ],
   "source": [
    "import re\n",
    "from collections import Counter\n",
    "\n",
    "def most_frequent_word(input_string):\n",
    "    # Remove punctuation and convert to lowercase\n",
    "    clean_string = re.sub(r'[^\\w\\s]', '', input_string).lower()\n",
    "\n",
    "    # Split the string into words\n",
    "    words = clean_string.split()\n",
    "\n",
    "    # Use Counter to count word frequencies\n",
    "    word_counter = Counter(words)\n",
    "\n",
    "    # Find the most common word\n",
    "    most_common_word = word_counter.most_common(1)[0][0]\n",
    "\n",
    "    return most_common_word\n",
    "\n",
    "# Example string\n",
    "input_str = \"Hello world, hello there! How's the world?\"\n",
    "\n",
    "# Find the most frequent word\n",
    "most_common = most_frequent_word(input_str)\n",
    "\n",
    "# Print the result\n",
    "print(\"Most frequent word:\", most_common)"
   ]
  },
  {
   "cell_type": "markdown",
   "id": "806ca3bf",
   "metadata": {},
   "source": [
    "45. Find all unique words in a string"
   ]
  },
  {
   "cell_type": "code",
   "execution_count": 99,
   "id": "e40c02bb",
   "metadata": {},
   "outputs": [
    {
     "name": "stdout",
     "output_type": "stream",
     "text": [
      "Unique words: {'there', 'hows', 'hello', 'the', 'world'}\n"
     ]
    }
   ],
   "source": [
    "import re\n",
    "\n",
    "def unique_words(input_string):\n",
    "    # Remove punctuation and convert to lowercase\n",
    "    clean_string = re.sub(r'[^\\w\\s]', '', input_string).lower()\n",
    "\n",
    "    # Split the string into words and convert to a set for uniqueness\n",
    "    words = set(clean_string.split())\n",
    "\n",
    "    return words\n",
    "\n",
    "# Example string\n",
    "input_str = \"Hello world, hello there! How's the world?\"\n",
    "\n",
    "# Find unique words\n",
    "unique_word_set = unique_words(input_str)\n",
    "\n",
    "# Print the result\n",
    "print(\"Unique words:\", unique_word_set)"
   ]
  },
  {
   "cell_type": "markdown",
   "id": "5bdf89b8",
   "metadata": {},
   "source": [
    "46. Count the number of syllables in a string."
   ]
  },
  {
   "cell_type": "code",
   "execution_count": 100,
   "id": "e389fad3",
   "metadata": {},
   "outputs": [
    {
     "name": "stdout",
     "output_type": "stream",
     "text": [
      "'hello' has 2 syllables.\n",
      "'banana' has 3 syllables.\n",
      "'syllable' has 3 syllables.\n"
     ]
    }
   ],
   "source": [
    "import re\n",
    "\n",
    "def count_syllables(word):\n",
    "    # Count vowel groups using regular expression\n",
    "    vowel_groups = re.findall(r'[aeiouy]+', word, re.IGNORECASE)\n",
    "\n",
    "    return len(vowel_groups)\n",
    "\n",
    "# Example words\n",
    "word1 = \"hello\"\n",
    "word2 = \"banana\"\n",
    "word3 = \"syllable\"\n",
    "\n",
    "# Count syllables\n",
    "syllables1 = count_syllables(word1)\n",
    "syllables2 = count_syllables(word2)\n",
    "syllables3 = count_syllables(word3)\n",
    "\n",
    "# Print the results\n",
    "print(f\"'{word1}' has {syllables1} syllables.\")\n",
    "print(f\"'{word2}' has {syllables2} syllables.\")\n",
    "print(f\"'{word3}' has {syllables3} syllables.\")"
   ]
  },
  {
   "cell_type": "markdown",
   "id": "4bd40631",
   "metadata": {},
   "source": [
    "47. Check if a string contains any special characters."
   ]
  },
  {
   "cell_type": "code",
   "execution_count": 101,
   "id": "d89792f5",
   "metadata": {},
   "outputs": [
    {
     "name": "stdout",
     "output_type": "stream",
     "text": [
      "'Hello, world!' contains special characters: True\n",
      "'This is a test.' contains special characters: True\n",
      "'Special@Characters' contains special characters: True\n"
     ]
    }
   ],
   "source": [
    "import re\n",
    "\n",
    "def contains_special_characters(input_string):\n",
    "    # Define a regular expression pattern to match special characters\n",
    "    pattern = re.compile(r'[!@#$%^&*()_+{}\\[\\]:;<>,.?~\\\\/]')\n",
    "\n",
    "    # Use the search() method to find a match\n",
    "    match = pattern.search(input_string)\n",
    "\n",
    "    # Return True if a match is found, False otherwise\n",
    "    return bool(match)\n",
    "\n",
    "# Example strings\n",
    "string1 = \"Hello, world!\"\n",
    "string2 = \"This is a test.\"\n",
    "string3 = \"Special@Characters\"\n",
    "\n",
    "# Check if strings contain special characters\n",
    "result1 = contains_special_characters(string1)\n",
    "result2 = contains_special_characters(string2)\n",
    "result3 = contains_special_characters(string3)\n",
    "\n",
    "# Print the results\n",
    "print(f\"'{string1}' contains special characters:\", result1)\n",
    "print(f\"'{string2}' contains special characters:\", result2)\n",
    "print(f\"'{string3}' contains special characters:\", result3)"
   ]
  },
  {
   "cell_type": "markdown",
   "id": "7aafd7d7",
   "metadata": {},
   "source": [
    "48. Remove the nth word from a string."
   ]
  },
  {
   "cell_type": "code",
   "execution_count": 103,
   "id": "56fb3c01",
   "metadata": {},
   "outputs": [
    {
     "name": "stdout",
     "output_type": "stream",
     "text": [
      "Original string: This is an example sentence to test the function.\n",
      "Modified string: This is an sentence to test the function.\n",
      "Removed word: example\n"
     ]
    }
   ],
   "source": [
    "def remove_nth_word(input_string, n):\n",
    "    # Split the input string into words\n",
    "    words = input_string.split()\n",
    "\n",
    "    # Check if n is within a valid range\n",
    "    if n >= 1 and n <= len(words):\n",
    "        # Remove the nth word by excluding it from the words list\n",
    "        removed_word = words.pop(n - 1)\n",
    "\n",
    "        # Join the remaining words to form the modified string\n",
    "        modified_string = ' '.join(words)\n",
    "\n",
    "        return modified_string, removed_word\n",
    "    else:\n",
    "        return None, None\n",
    "\n",
    "# Example string and n value\n",
    "input_str = \"This is an example sentence to test the function.\"\n",
    "n_value = 4\n",
    "\n",
    "# Remove the nth word\n",
    "modified_str, removed_word = remove_nth_word(input_str, n_value)\n",
    "\n",
    "# Print the results\n",
    "print(\"Original string:\", input_str)\n",
    "if modified_str is not None:\n",
    "    print(\"Modified string:\", modified_str)\n",
    "    print(\"Removed word:\", removed_word)\n",
    "else:\n",
    "    print(\"Invalid n value.\")"
   ]
  },
  {
   "cell_type": "markdown",
   "id": "777b6317",
   "metadata": {},
   "source": [
    "49. Insert a word at the nth position in a string."
   ]
  },
  {
   "cell_type": "code",
   "execution_count": 106,
   "id": "b39db92a",
   "metadata": {},
   "outputs": [
    {
     "name": "stdout",
     "output_type": "stream",
     "text": [
      "Adding 'p' at 9th index of an input string:\n",
      " FDSDPRO\n"
     ]
    }
   ],
   "source": [
    "# input string\n",
    "inputString = \"FDSD\"\n",
    "\n",
    "# adding character 'PRO' at a specific position i.e, at index 5\n",
    "inputString = inputString[:5] + 'PRO' + inputString[5:]\n",
    "\n",
    "# printing the resultant string \n",
    "print(\"Adding 'p' at 9th index of an input string:\\n\", inputString)"
   ]
  },
  {
   "cell_type": "markdown",
   "id": "63993d8a",
   "metadata": {},
   "source": [
    "50. Convert a CSV string to a list of lists."
   ]
  },
  {
   "cell_type": "code",
   "execution_count": 104,
   "id": "727eaf93",
   "metadata": {},
   "outputs": [
    {
     "name": "stdout",
     "output_type": "stream",
     "text": [
      "['Name', ' Age', ' Country']\n",
      "['John', ' 25', ' USA']\n",
      "['Alice', ' 30', ' Canada']\n",
      "['Bob', ' 22', ' UK']\n"
     ]
    }
   ],
   "source": [
    "def csv_string_to_list(csv_string):\n",
    "    # Split the CSV string into lines\n",
    "    lines = csv_string.split('\\n')\n",
    "\n",
    "    # Initialize an empty list to store the result\n",
    "    result = []\n",
    "\n",
    "    for line in lines:\n",
    "        # Split each line into fields using comma as the delimiter\n",
    "        fields = line.split(',')\n",
    "\n",
    "        # Append the fields to the result list as a row\n",
    "        result.append(fields)\n",
    "\n",
    "    return result\n",
    "\n",
    "# Example CSV string\n",
    "csv_data = \"Name, Age, Country\\nJohn, 25, USA\\nAlice, 30, Canada\\nBob, 22, UK\"\n",
    "\n",
    "# Convert CSV string to a list of lists\n",
    "list_of_lists = csv_string_to_list(csv_data)\n",
    "\n",
    "# Print the result\n",
    "for row in list_of_lists:\n",
    "    print(row)"
   ]
  },
  {
   "cell_type": "markdown",
   "id": "7a382e35",
   "metadata": {},
   "source": [
    "List based practice problem :\n",
    "1. Create a list with integers from 1 to 10."
   ]
  },
  {
   "cell_type": "code",
   "execution_count": 1,
   "id": "fe53f648",
   "metadata": {},
   "outputs": [
    {
     "name": "stdout",
     "output_type": "stream",
     "text": [
      "[1, 2, 3, 4, 5, 6, 7, 8, 9, 10, 11, 12, 13, 14]\n"
     ]
    }
   ],
   "source": [
    "#1\n",
    "# Use a list comprehension to create a list of integers from 1 to 10\n",
    "integer_list = [i for i in range(1, 15)]\n",
    "# Print the list\n",
    "print(integer_list)"
   ]
  },
  {
   "cell_type": "code",
   "execution_count": 2,
   "id": "49842058",
   "metadata": {},
   "outputs": [
    {
     "name": "stdout",
     "output_type": "stream",
     "text": [
      "Length of the list: 7\n"
     ]
    }
   ],
   "source": [
    "#2.\n",
    "def custom_len(input_list):\n",
    "    count = 0\n",
    "    for _ in input_list:\n",
    "        count += 1\n",
    "    return count\n",
    "\n",
    "# Example list\n",
    "my_list = [10, 20, 30, 40, 50,60,70]\n",
    "\n",
    "# Find the length of the list using the custom_len function\n",
    "length = custom_len(my_list)\n",
    "\n",
    "# Print the length of the list\n",
    "print(\"Length of the list:\", length)"
   ]
  },
  {
   "cell_type": "code",
   "execution_count": 3,
   "id": "1ee9eb2e",
   "metadata": {},
   "outputs": [
    {
     "name": "stdout",
     "output_type": "stream",
     "text": [
      "Updated list: [10, 20, 30, 40, 50, 40]\n"
     ]
    }
   ],
   "source": [
    "#3.\n",
    "# Example list\n",
    "my_list = [10, 20, 30,40,50]\n",
    "\n",
    "# Element to append\n",
    "new_element = 40\n",
    "\n",
    "# Append the new element to the end of the list\n",
    "my_list.append(new_element)\n",
    "\n",
    "# Print the updated list\n",
    "print(\"Updated list:\", my_list)"
   ]
  },
  {
   "cell_type": "code",
   "execution_count": 4,
   "id": "be6b9e7d",
   "metadata": {},
   "outputs": [
    {
     "name": "stdout",
     "output_type": "stream",
     "text": [
      "Updated list: [10, 20, 30, 40, 22, 50]\n"
     ]
    }
   ],
   "source": [
    "#4\n",
    "# Example list\n",
    "my_list = [10, 20, 30, 40, 50]\n",
    "\n",
    "# Element to insert\n",
    "new_element = 22\n",
    "\n",
    "# Index at which to insert the element\n",
    "index_to_insert = 4\n",
    "\n",
    "# Insert the new element at the specified index\n",
    "my_list.insert(index_to_insert, new_element)\n",
    "\n",
    "# Print the updated list\n",
    "print(\"Updated list:\", my_list)"
   ]
  },
  {
   "cell_type": "code",
   "execution_count": 7,
   "id": "e29c2f0c",
   "metadata": {},
   "outputs": [
    {
     "name": "stdout",
     "output_type": "stream",
     "text": [
      "Updated list: [10, 20, 40, 50]\n"
     ]
    }
   ],
   "source": [
    "#5\n",
    "# Example list\n",
    "my_list = [10, 20, 30, 40, 50]\n",
    "\n",
    "# Element to remove\n",
    "element_to_remove = 30\n",
    "\n",
    "# Remove the element by its value\n",
    "my_list.remove(element_to_remove)\n",
    "\n",
    "# Print the updated list\n",
    "print(\"Updated list:\", my_list)"
   ]
  },
  {
   "cell_type": "code",
   "execution_count": 8,
   "id": "c12d68bf",
   "metadata": {},
   "outputs": [
    {
     "name": "stdout",
     "output_type": "stream",
     "text": [
      "Updated list: [10, 20, 40, 50]\n",
      "Removed element: 30\n"
     ]
    }
   ],
   "source": [
    "#6\n",
    "# Example list\n",
    "my_list = [10, 20, 30, 40, 50]\n",
    "\n",
    "# Index of the element to remove\n",
    "index_to_remove = 2\n",
    "\n",
    "# Remove the element at the specified index\n",
    "removed_element = my_list.pop(index_to_remove)\n",
    "\n",
    "# Print the updated list and the removed element\n",
    "print(\"Updated list:\", my_list)\n",
    "print(\"Removed element:\", removed_element)"
   ]
  },
  {
   "cell_type": "code",
   "execution_count": 9,
   "id": "0e68e680",
   "metadata": {},
   "outputs": [
    {
     "name": "stdout",
     "output_type": "stream",
     "text": [
      "30 exists in the list.\n"
     ]
    }
   ],
   "source": [
    "#7\n",
    "# Example list\n",
    "my_list = [10, 20, 30, 40, 50]\n",
    "\n",
    "# Element to check\n",
    "element_to_check = 30\n",
    "\n",
    "# Check if the element exists in the list\n",
    "if element_to_check in my_list:\n",
    "    print(f\"{element_to_check} exists in the list.\")\n",
    "else:\n",
    "    print(f\"{element_to_check} does not exist in the list.\")"
   ]
  },
  {
   "cell_type": "code",
   "execution_count": 10,
   "id": "5526cea7",
   "metadata": {},
   "outputs": [
    {
     "name": "stdout",
     "output_type": "stream",
     "text": [
      "The index of 30 is 2\n"
     ]
    }
   ],
   "source": [
    "#8\n",
    "# Example list\n",
    "my_list = [10, 20, 30, 40, 50, 30]\n",
    "\n",
    "# Element to find the index of\n",
    "element_to_find = 30\n",
    "\n",
    "# Find the index of the first occurrence of the element\n",
    "index = my_list.index(element_to_find)\n",
    "\n",
    "# Print the index\n",
    "print(f\"The index of {element_to_find} is {index}\")"
   ]
  },
  {
   "cell_type": "code",
   "execution_count": 11,
   "id": "87794920",
   "metadata": {},
   "outputs": [
    {
     "name": "stdout",
     "output_type": "stream",
     "text": [
      "The element 30 occurs 3 times in the list.\n"
     ]
    }
   ],
   "source": [
    "#9\n",
    "# Example list\n",
    "my_list = [10, 20, 30, 40, 50, 30, 30]\n",
    "\n",
    "# Element to count occurrences of\n",
    "element_to_count = 30\n",
    "\n",
    "# Count the occurrences of the element\n",
    "count = my_list.count(element_to_count)\n",
    "\n",
    "# Print the count\n",
    "print(f\"The element {element_to_count} occurs {count} times in the list.\")"
   ]
  },
  {
   "cell_type": "code",
   "execution_count": 12,
   "id": "230a9495",
   "metadata": {},
   "outputs": [
    {
     "name": "stdout",
     "output_type": "stream",
     "text": [
      "Reversed list: [50, 40, 30, 20, 10]\n"
     ]
    }
   ],
   "source": [
    "#10\n",
    "# Example list\n",
    "my_list = [10, 20, 30, 40, 50]\n",
    "\n",
    "# Reverse the order of elements in the list\n",
    "my_list.reverse()\n",
    "\n",
    "# Print the reversed list\n",
    "print(\"Reversed list:\", my_list)"
   ]
  },
  {
   "cell_type": "code",
   "execution_count": 13,
   "id": "7802c0dc",
   "metadata": {},
   "outputs": [
    {
     "name": "stdout",
     "output_type": "stream",
     "text": [
      "Sorted list in ascending order: [10, 20, 30, 40, 50]\n"
     ]
    }
   ],
   "source": [
    "#11\n",
    "# Example list\n",
    "my_list = [50, 10, 30, 40, 20]\n",
    "\n",
    "# Sort the list in ascending order\n",
    "my_list.sort()\n",
    "\n",
    "# Print the sorted list\n",
    "print(\"Sorted list in ascending order:\", my_list)"
   ]
  },
  {
   "cell_type": "code",
   "execution_count": 14,
   "id": "8fe40d06",
   "metadata": {},
   "outputs": [
    {
     "name": "stdout",
     "output_type": "stream",
     "text": [
      "Sorted list in descending order: [50, 40, 30, 20, 10]\n"
     ]
    }
   ],
   "source": [
    "#12\n",
    "# Example list\n",
    "my_list = [50, 10, 30, 40, 20]\n",
    "\n",
    "# Sort the list in descending order\n",
    "my_list.sort(reverse=True)\n",
    "\n",
    "# Print the sorted list\n",
    "print(\"Sorted list in descending order:\", my_list)"
   ]
  },
  {
   "cell_type": "code",
   "execution_count": 15,
   "id": "184425cf",
   "metadata": {},
   "outputs": [
    {
     "name": "stdout",
     "output_type": "stream",
     "text": [
      "List of even numbers: [2, 4, 6, 8, 10, 12, 14, 16, 18, 20]\n"
     ]
    }
   ],
   "source": [
    "#13\n",
    "# Use a list comprehension to create a list of even numbers from 1 to 20\n",
    "even_numbers = [x for x in range(2, 21, 2)]\n",
    "\n",
    "# Print the list of even numbers\n",
    "print(\"List of even numbers:\", even_numbers)"
   ]
  },
  {
   "cell_type": "code",
   "execution_count": 16,
   "id": "d635c679",
   "metadata": {},
   "outputs": [
    {
     "name": "stdout",
     "output_type": "stream",
     "text": [
      "List of odd numbers: [1, 3, 5, 7, 9, 11, 13, 15, 17, 19]\n"
     ]
    }
   ],
   "source": [
    "#14\n",
    "# Use a list comprehension to create a list of odd numbers from 1 to 20\n",
    "odd_numbers = [x for x in range(1, 21, 2)]\n",
    "\n",
    "# Print the list of odd numbers\n",
    "print(\"List of odd numbers:\", odd_numbers)"
   ]
  },
  {
   "cell_type": "code",
   "execution_count": 17,
   "id": "b02b6b98",
   "metadata": {},
   "outputs": [
    {
     "name": "stdout",
     "output_type": "stream",
     "text": [
      "Sum of elements: 150\n"
     ]
    }
   ],
   "source": [
    "#15\n",
    "# Example list\n",
    "my_list = [10, 20, 30, 40, 50]\n",
    "\n",
    "# Calculate the sum of all elements in the list\n",
    "total_sum = sum(my_list)\n",
    "\n",
    "# Print the sum\n",
    "print(\"Sum of elements:\", total_sum)"
   ]
  },
  {
   "cell_type": "code",
   "execution_count": 18,
   "id": "701ccd80",
   "metadata": {},
   "outputs": [
    {
     "name": "stdout",
     "output_type": "stream",
     "text": [
      "Maximum value: 50\n"
     ]
    }
   ],
   "source": [
    "#16\n",
    "# Example list\n",
    "my_list = [10, 20, 30, 40, 50]\n",
    "\n",
    "# Find the maximum value in the list\n",
    "max_value = max(my_list)\n",
    "\n",
    "# Print the maximum value\n",
    "print(\"Maximum value:\", max_value)"
   ]
  },
  {
   "cell_type": "code",
   "execution_count": 19,
   "id": "9c42f609",
   "metadata": {},
   "outputs": [
    {
     "name": "stdout",
     "output_type": "stream",
     "text": [
      "Minimum value: 10\n"
     ]
    }
   ],
   "source": [
    "#17\n",
    "# Example list\n",
    "my_list = [10, 20, 30, 40, 50]\n",
    "\n",
    "# Find the minimum value in the list\n",
    "min_value = min(my_list)\n",
    "\n",
    "# Print the minimum value\n",
    "print(\"Minimum value:\", min_value)"
   ]
  },
  {
   "cell_type": "code",
   "execution_count": 20,
   "id": "0d174e49",
   "metadata": {},
   "outputs": [
    {
     "name": "stdout",
     "output_type": "stream",
     "text": [
      "List of squares: [1, 4, 9, 16, 25, 36, 49, 64, 81, 100]\n"
     ]
    }
   ],
   "source": [
    "#18\n",
    "# Use a list comprehension to create a list of squares of numbers from 1 to 10\n",
    "squares = [x ** 2 for x in range(1, 11)]\n",
    "\n",
    "# Print the list of squares\n",
    "print(\"List of squares:\", squares)\n"
   ]
  },
  {
   "cell_type": "code",
   "execution_count": 21,
   "id": "a2730a0e",
   "metadata": {},
   "outputs": [
    {
     "name": "stdout",
     "output_type": "stream",
     "text": [
      "List of random integers: [59, 75, 70, 87, 21, 69, 11, 70, 14, 68]\n"
     ]
    }
   ],
   "source": [
    "#19\n",
    "import random\n",
    "\n",
    "# Create a list of random integers between 1 and 100\n",
    "random_integers = [random.randint(1, 100) for _ in range(10)]\n",
    "\n",
    "# Print the list of random integers\n",
    "print(\"List of random integers:\", random_integers)\n"
   ]
  },
  {
   "cell_type": "code",
   "execution_count": 22,
   "id": "70cf4fc0",
   "metadata": {},
   "outputs": [
    {
     "name": "stdout",
     "output_type": "stream",
     "text": [
      "List without duplicates: [40, 10, 50, 20, 30]\n"
     ]
    }
   ],
   "source": [
    "#20\n",
    "# Example list with duplicates\n",
    "my_list = [10, 20, 30, 20, 40, 10, 50, 30]\n",
    "\n",
    "# Remove duplicates by converting to a set and back to a list\n",
    "unique_list = list(set(my_list))\n",
    "\n",
    "# Print the list without duplicates\n",
    "print(\"List without duplicates:\", unique_list)"
   ]
  },
  {
   "cell_type": "code",
   "execution_count": 23,
   "id": "b33e3d58",
   "metadata": {},
   "outputs": [
    {
     "name": "stdout",
     "output_type": "stream",
     "text": [
      "{5}\n",
      "No common elements\n"
     ]
    }
   ],
   "source": [
    "#21\n",
    "def common_member(a, b):\n",
    "    a_set = set(a)\n",
    "    b_set = set(b)\n",
    " \n",
    "    if (a_set & b_set):\n",
    "        print(a_set & b_set)\n",
    "    else:\n",
    "        print(\"No common elements\")\n",
    "          \n",
    "  \n",
    "a = [1, 2, 3, 4, 5]\n",
    "b = [5, 6, 7, 8, 9]\n",
    "common_member(a, b)\n",
    "  \n",
    "a = [1, 2, 3, 4, 5]\n",
    "b = [6, 7, 8, 9]\n",
    "common_member(a, b)"
   ]
  },
  {
   "cell_type": "code",
   "execution_count": 24,
   "id": "985f440b",
   "metadata": {},
   "outputs": [
    {
     "name": "stdout",
     "output_type": "stream",
     "text": [
      "Difference between lists: [20, 10]\n"
     ]
    }
   ],
   "source": [
    "#22\n",
    "# Example lists\n",
    "list1 = [10, 20, 30, 40, 50]\n",
    "list2 = [30, 40, 50, 60, 70]\n",
    "\n",
    "# Find the difference between lists using the difference() method\n",
    "difference = list(set(list1).difference(list2))\n",
    "\n",
    "# Print the difference\n",
    "print(\"Difference between lists:\", difference)"
   ]
  },
  {
   "cell_type": "code",
   "execution_count": 25,
   "id": "44110ab9",
   "metadata": {},
   "outputs": [
    {
     "name": "stdout",
     "output_type": "stream",
     "text": [
      "Merged list: [10, 20, 30, 40, 50, 60]\n"
     ]
    }
   ],
   "source": [
    "#23\n",
    "# Example lists\n",
    "list1 = [10, 20, 30]\n",
    "list2 = [40, 50, 60]\n",
    "\n",
    "# Merge lists using the + operator\n",
    "merged_list = list1 + list2\n",
    "\n",
    "# Print the merged list\n",
    "print(\"Merged list:\", merged_list)"
   ]
  },
  {
   "cell_type": "code",
   "execution_count": 26,
   "id": "fbc21db8",
   "metadata": {},
   "outputs": [
    {
     "name": "stdout",
     "output_type": "stream",
     "text": [
      "Multiplied list: [20, 40, 60, 80, 100]\n"
     ]
    }
   ],
   "source": [
    "#24\n",
    "# Example list\n",
    "my_list = [10, 20, 30, 40, 50]\n",
    "\n",
    "# Multiply all elements by 2 using a list comprehension\n",
    "multiplied_list = [x * 2 for x in my_list]\n",
    "\n",
    "# Print the multiplied list\n",
    "print(\"Multiplied list:\", multiplied_list)"
   ]
  },
  {
   "cell_type": "code",
   "execution_count": 27,
   "id": "112c63f2",
   "metadata": {},
   "outputs": [
    {
     "name": "stdout",
     "output_type": "stream",
     "text": [
      "[2, 4]\n"
     ]
    }
   ],
   "source": [
    "#25\n",
    "# Python code to filter even values from a list\n",
    " \n",
    "# Initialisation of list\n",
    "lis = [1, 2, 3, 4, 5]\n",
    " \n",
    "# Output list initialisation\n",
    "out = []\n",
    " \n",
    "for num in lis:\n",
    " \n",
    "    # checking condition\n",
    "    if num % 2 == 0:\n",
    "        out.append(num)\n",
    " \n",
    " \n",
    "# printing output\n",
    "print(out)"
   ]
  },
  {
   "cell_type": "code",
   "execution_count": 28,
   "id": "654999dd",
   "metadata": {},
   "outputs": [
    {
     "name": "stdout",
     "output_type": "stream",
     "text": [
      "List of integers: [10, 20, 30, 40, 50]\n"
     ]
    }
   ],
   "source": [
    "#26\n",
    "# Example list of strings\n",
    "string_list = [\"10\", \"20\", \"30\", \"40\", \"50\"]\n",
    "\n",
    "# Convert list of strings to list of integers using a list comprehension\n",
    "integer_list = [int(x) for x in string_list]\n",
    "\n",
    "# Print the list of integers\n",
    "print(\"List of integers:\", integer_list)"
   ]
  },
  {
   "cell_type": "code",
   "execution_count": 29,
   "id": "f81fc941",
   "metadata": {},
   "outputs": [
    {
     "name": "stdout",
     "output_type": "stream",
     "text": [
      "List of strings: ['10', '20', '30', '40', '50']\n"
     ]
    }
   ],
   "source": [
    "#27\n",
    "# Example list of integers\n",
    "integer_list = [10, 20, 30, 40, 50]\n",
    "\n",
    "# Convert list of integers to list of strings using a list comprehension\n",
    "string_list = [str(x) for x in integer_list]\n",
    "\n",
    "# Print the list of strings\n",
    "print(\"List of strings:\", string_list)"
   ]
  },
  {
   "cell_type": "code",
   "execution_count": 30,
   "id": "dac660a5",
   "metadata": {},
   "outputs": [
    {
     "name": "stdout",
     "output_type": "stream",
     "text": [
      "Flattened list: [1, 2, 3, 4, 5, 6, 7, 8, 9]\n"
     ]
    }
   ],
   "source": [
    "#28\n",
    "# Example nested list\n",
    "nested_list = [[1, 2, 3], [4, 5], [6, 7, 8, 9]]\n",
    "\n",
    "# Function to flatten a nested list\n",
    "def flatten_list(nested):\n",
    "    flattened = []\n",
    "    for sublist in nested:\n",
    "        if isinstance(sublist, list):\n",
    "            flattened.extend(flatten_list(sublist))\n",
    "        else:\n",
    "            flattened.append(sublist)\n",
    "    return flattened\n",
    "\n",
    "# Flatten the nested list\n",
    "flattened_list = flatten_list(nested_list)\n",
    "\n",
    "# Print the flattened list\n",
    "print(\"Flattened list:\", flattened_list)"
   ]
  },
  {
   "cell_type": "code",
   "execution_count": 31,
   "id": "58156301",
   "metadata": {},
   "outputs": [
    {
     "name": "stdout",
     "output_type": "stream",
     "text": [
      "First 10 Fibonacci numbers: [0, 1]\n"
     ]
    }
   ],
   "source": [
    "#29\n",
    "# Function to generate the first n Fibonacci numbers\n",
    "def generate_fibonacci(n):\n",
    "    fibonacci_list = [0, 1]  # Initialize the list with the first two Fibonacci numbers\n",
    "\n",
    "    for i in range(2, n):\n",
    "        next_fibonacci = fibonacci_list[i - 1] + fibonacci_list[i - 2]\n",
    "        fibonacci_list.append(next_fibonacci)\n",
    "\n",
    "    return fibonacci_list\n",
    "\n",
    "# Generate the first 10 Fibonacci numbers\n",
    "fibonacci_numbers = generate_fibonacci(2)\n",
    "\n",
    "# Print the list of Fibonacci numbers\n",
    "print(\"First 10 Fibonacci numbers:\", fibonacci_numbers)"
   ]
  },
  {
   "cell_type": "code",
   "execution_count": 32,
   "id": "a36c82e2",
   "metadata": {},
   "outputs": [
    {
     "name": "stdout",
     "output_type": "stream",
     "text": [
      "The list is sorted in ascending order.\n"
     ]
    }
   ],
   "source": [
    "#30\n",
    "# Function to check if a list is sorted in ascending order\n",
    "def is_sorted_ascending(lst):\n",
    "    for i in range(1, len(lst)):\n",
    "        if lst[i] < lst[i - 1]:\n",
    "            return False\n",
    "    return True\n",
    "\n",
    "# Example list\n",
    "ascending_list = [10, 20, 30, 40, 50]\n",
    "\n",
    "# Check if the list is sorted in ascending order\n",
    "if is_sorted_ascending(ascending_list):\n",
    "    print(\"The list is sorted in ascending order.\")\n",
    "else:\n",
    "    print(\"The list is not sorted in ascending order.\")"
   ]
  },
  {
   "cell_type": "code",
   "execution_count": 33,
   "id": "19fbe73e",
   "metadata": {},
   "outputs": [
    {
     "name": "stdout",
     "output_type": "stream",
     "text": [
      "Rotated list: [3, 4, 5, 6, 1, 2]\n"
     ]
    }
   ],
   "source": [
    "#31\n",
    "# Function to rotate a list to the left by n positions\n",
    "def rotate_left(lst, n):\n",
    "    n = n % len(lst)  # Normalize n to handle cases where n is larger than the list length\n",
    "    # print(n)\n",
    "    rotated = lst[n:] + lst[:n]\n",
    "    return rotated\n",
    "\n",
    "# Example list\n",
    "my_list = [1, 2, 3, 4, 5, 6]\n",
    "\n",
    "# Number of positions to rotate by\n",
    "n = 2\n",
    "\n",
    "# Rotate the list to the left by n positions\n",
    "rotated_list = rotate_left(my_list, n)\n",
    "\n",
    "# Print the rotated list\n",
    "print(\"Rotated list:\", rotated_list)"
   ]
  },
  {
   "cell_type": "code",
   "execution_count": 34,
   "id": "3cf22075",
   "metadata": {},
   "outputs": [
    {
     "name": "stdout",
     "output_type": "stream",
     "text": [
      "Rotated list: [5, 6, 1, 2, 3, 4]\n"
     ]
    }
   ],
   "source": [
    "#32\n",
    "# Function to rotate a list to the right by n positions\n",
    "def rotate_right(lst, n):\n",
    "    n = n % len(lst)  # Normalize n to handle cases where n is larger than the list length\n",
    "    # print(n)\n",
    "    rotated = lst[-n:] + lst[:-n]\n",
    "    return rotated\n",
    "\n",
    "# Example list\n",
    "my_list = [1, 2, 3, 4, 5, 6]\n",
    "\n",
    "# Number of positions to rotate by\n",
    "n = 2\n",
    "\n",
    "# Rotate the list to the right by n positions\n",
    "rotated_list = rotate_right(my_list, n)\n",
    "\n",
    "# Print the rotated list\n",
    "print(\"Rotated list:\", rotated_list)"
   ]
  },
  {
   "cell_type": "code",
   "execution_count": 35,
   "id": "f478604e",
   "metadata": {},
   "outputs": [
    {
     "name": "stdout",
     "output_type": "stream",
     "text": [
      "5 25\n",
      "5 29\n",
      "List of prime numbers up to 50: [2, 3, 5, 7, 11, 13, 17, 19, 23, 29]\n"
     ]
    }
   ],
   "source": [
    "#33\n",
    "# Function to check if a number is prime\n",
    "def is_prime(num):\n",
    "    if num <= 1:\n",
    "        return False\n",
    "    if num <= 3:\n",
    "        return True\n",
    "    if num % 2 == 0 or num % 3 == 0:\n",
    "        return False\n",
    "    i = 5\n",
    "    while i * i <= num:\n",
    "      print(i,num)\n",
    "      if num % i == 0 or num % (i + 2) == 0:\n",
    "          return False\n",
    "      i += 6\n",
    "    return True\n",
    "\n",
    "# Create a list of prime numbers up to 50\n",
    "prime_numbers = [num for num in range(2,30) if is_prime(num)]\n",
    "\n",
    "# Print the list of prime numbers\n",
    "print(\"List of prime numbers up to 50:\", prime_numbers)"
   ]
  },
  {
   "cell_type": "code",
   "execution_count": 36,
   "id": "9d018b53",
   "metadata": {},
   "outputs": [
    {
     "name": "stdout",
     "output_type": "stream",
     "text": [
      "List of prime numbers up to 50: [2, 3, 5, 7, 11, 13, 17, 19, 23, 29, 31, 37, 41, 43, 47]\n"
     ]
    }
   ],
   "source": [
    "#34\n",
    "# Create a list of prime numbers up to 50 using Sieve of Eratosthenes algorithm\n",
    "def sieve_of_eratosthenes(limit):\n",
    "    primes = []\n",
    "    is_prime = [True] * (limit + 1)\n",
    "    is_prime[0] = is_prime[1] = False\n",
    "\n",
    "    for num in range(2, int(limit ** 0.5) + 1):\n",
    "        if is_prime[num]:\n",
    "            primes.append(num)\n",
    "            for multiple in range(num * num, limit + 1, num):\n",
    "                is_prime[multiple] = False\n",
    "\n",
    "    for num in range(int(limit ** 0.5) + 1, limit + 1):\n",
    "        if is_prime[num]:\n",
    "            primes.append(num)\n",
    "\n",
    "    return primes\n",
    "\n",
    "# Create a list of prime numbers up to 50\n",
    "prime_numbers = sieve_of_eratosthenes(50)\n",
    "\n",
    "# Print the list of prime numbers\n",
    "print(\"List of prime numbers up to 50:\", prime_numbers)"
   ]
  },
  {
   "cell_type": "code",
   "execution_count": 37,
   "id": "6e68f23e",
   "metadata": {},
   "outputs": [
    {
     "name": "stdout",
     "output_type": "stream",
     "text": [
      "Second largest number: 25\n"
     ]
    }
   ],
   "source": [
    "#35\n",
    "# Example list\n",
    "my_list = [10, 5, 20, 15, 30, 25]\n",
    "\n",
    "# Remove duplicates and sort the list in ascending order\n",
    "sorted_list = sorted(set(my_list))\n",
    "\n",
    "# Find the second largest number\n",
    "if len(sorted_list) >= 2:\n",
    "    second_largest = sorted_list[-2]\n",
    "    print(\"Second largest number:\", second_largest)\n",
    "else:\n",
    "    print(\"The list does not contain enough elements.\")"
   ]
  },
  {
   "cell_type": "code",
   "execution_count": 38,
   "id": "7cc3464a",
   "metadata": {},
   "outputs": [
    {
     "name": "stdout",
     "output_type": "stream",
     "text": [
      "Squared list: [4, 16, 36, 64, 100]\n"
     ]
    }
   ],
   "source": [
    "#36\n",
    "# Example list\n",
    "my_list = [2, 4, 6, 8, 10]\n",
    "\n",
    "# Replace every element with its square using a list comprehension\n",
    "squared_list = [x ** 2 for x in my_list]\n",
    "\n",
    "# Print the squared list\n",
    "print(\"Squared list:\", squared_list)"
   ]
  },
  {
   "cell_type": "code",
   "execution_count": 39,
   "id": "37100169",
   "metadata": {},
   "outputs": [
    {
     "name": "stdout",
     "output_type": "stream",
     "text": [
      "Converted dictionary: {'apple': 0, 'banana': 1, 'cherry': 2, 'date': 3, 'elderberry': 4}\n"
     ]
    }
   ],
   "source": [
    "#37\n",
    "# Example list\n",
    "my_list = ['apple', 'banana', 'cherry', 'date', 'elderberry']\n",
    "\n",
    "# Convert list to dictionary using dictionary comprehension\n",
    "my_dict = {element: index for index, element in enumerate(my_list)}\n",
    "\n",
    "# Print the resulting dictionary\n",
    "print(\"Converted dictionary:\", my_dict)"
   ]
  },
  {
   "cell_type": "code",
   "execution_count": 40,
   "id": "644db143",
   "metadata": {},
   "outputs": [
    {
     "name": "stdout",
     "output_type": "stream",
     "text": [
      "Shuffled list: [4, 2, 7, 8, 10, 9, 6, 5, 1, 3]\n"
     ]
    }
   ],
   "source": [
    "#38\n",
    "import random\n",
    "\n",
    "# Example list\n",
    "my_list = [1, 2, 3, 4, 5, 6, 7, 8, 9, 10]\n",
    "\n",
    "# Shuffle the list randomly\n",
    "random.shuffle(my_list)\n",
    "\n",
    "# Print the shuffled list\n",
    "print(\"Shuffled list:\", my_list)"
   ]
  },
  {
   "cell_type": "code",
   "execution_count": 41,
   "id": "debfa750",
   "metadata": {},
   "outputs": [
    {
     "name": "stdout",
     "output_type": "stream",
     "text": [
      "List of the first 10 factorial numbers: [1, 1, 2, 6, 24, 120, 720, 5040, 40320, 362880]\n"
     ]
    }
   ],
   "source": [
    "#39\n",
    "# Function to calculate factorial\n",
    "def factorial(n):\n",
    "    if n == 0 or n == 1:\n",
    "        return 1\n",
    "    else:\n",
    "        return n * factorial(n - 1)\n",
    "\n",
    "# Create a list of the first 10 factorial numbers\n",
    "factorial_numbers = [factorial(i) for i in range(10)]\n",
    "\n",
    "# Print the list of factorial numbers\n",
    "print(\"List of the first 10 factorial numbers:\", factorial_numbers)"
   ]
  },
  {
   "cell_type": "code",
   "execution_count": 42,
   "id": "f1cf6d5b",
   "metadata": {},
   "outputs": [
    {
     "name": "stdout",
     "output_type": "stream",
     "text": [
      "The lists have at least one common element.\n"
     ]
    }
   ],
   "source": [
    "#40\n",
    "# Function to check if two lists have at least one element in common\n",
    "def has_common_element(list1, list2):\n",
    "    for item in list1:\n",
    "        if item in list2:\n",
    "            return True\n",
    "    return False\n",
    "\n",
    "# Example lists\n",
    "list1 = [1, 2, 3, 4, 5]\n",
    "list2 = [4, 5, 6, 7, 8]\n",
    "\n",
    "# Check if the two lists have at least one element in common\n",
    "if has_common_element(list1, list2):\n",
    "    print(\"The lists have at least one common element.\")\n",
    "else:\n",
    "    print(\"The lists do not have any common elements.\")"
   ]
  },
  {
   "cell_type": "code",
   "execution_count": 43,
   "id": "2407b0ef",
   "metadata": {},
   "outputs": [
    {
     "name": "stdout",
     "output_type": "stream",
     "text": [
      "Empty list: []\n"
     ]
    }
   ],
   "source": [
    "#41\n",
    "# Example list\n",
    "my_list = [1, 2, 3, 4, 5]\n",
    "\n",
    "# Clear all elements from the list\n",
    "my_list.clear()\n",
    "\n",
    "# Print the empty list\n",
    "print(\"Empty list:\", my_list)"
   ]
  },
  {
   "cell_type": "code",
   "execution_count": 44,
   "id": "90c8d726",
   "metadata": {},
   "outputs": [
    {
     "name": "stdout",
     "output_type": "stream",
     "text": [
      "List after replacing negative numbers with 0: [10, 0, 20, 0, 30, 0]\n"
     ]
    }
   ],
   "source": [
    "#42\n",
    "# Example list\n",
    "my_list = [10, -5, 20, -15, 30, -25]\n",
    "\n",
    "# Step 1: Iterate through the list and replace negative numbers with 0\n",
    "for i in range(len(my_list)):\n",
    "    if my_list[i] < 0:\n",
    "        my_list[i] = 0\n",
    "\n",
    "# Print the list after replacing negative numbers with 0\n",
    "print(\"List after replacing negative numbers with 0:\", my_list)"
   ]
  },
  {
   "cell_type": "code",
   "execution_count": 45,
   "id": "f6cce235",
   "metadata": {},
   "outputs": [
    {
     "name": "stdout",
     "output_type": "stream",
     "text": [
      "List of words: ['Hello,', 'this', 'is', 'a', 'sample', 'sentence.']\n"
     ]
    }
   ],
   "source": [
    "#43\n",
    "# Example string\n",
    "my_string = \"Hello, this is a sample sentence.\"\n",
    "\n",
    "# Convert the string into a list of words\n",
    "word_list = my_string.split()\n",
    "\n",
    "# Print the list of words\n",
    "print(\"List of words:\", word_list)"
   ]
  },
  {
   "cell_type": "code",
   "execution_count": 46,
   "id": "256dd180",
   "metadata": {},
   "outputs": [
    {
     "name": "stdout",
     "output_type": "stream",
     "text": [
      "Converted string: Hello, this is a sample sentence.\n"
     ]
    }
   ],
   "source": [
    "#44\n",
    "# Example list of words\n",
    "word_list = [\"Hello,\", \"this\", \"is\", \"a\", \"sample\", \"sentence.\"]\n",
    "\n",
    "# Convert the list of words into a string\n",
    "my_string = \" \".join(word_list)\n",
    "\n",
    "# Print the resulting string\n",
    "print(\"Converted string:\", my_string)"
   ]
  },
  {
   "cell_type": "code",
   "execution_count": 47,
   "id": "253e01ad",
   "metadata": {},
   "outputs": [
    {
     "name": "stdout",
     "output_type": "stream",
     "text": [
      "List of the first 5 powers of 2: [1, 2, 4, 8, 16]\n"
     ]
    }
   ],
   "source": [
    "#45\n",
    "# Specify the value of n\n",
    "n = 5\n",
    "\n",
    "# Create a list of the first n powers of 2 using a loop\n",
    "power_list = [2 ** i for i in range(n)]\n",
    "\n",
    "# Print the list of powers of 2\n",
    "print(\"List of the first\", n, \"powers of 2:\", power_list)"
   ]
  },
  {
   "cell_type": "code",
   "execution_count": 48,
   "id": "844cc2c9",
   "metadata": {},
   "outputs": [
    {
     "name": "stdout",
     "output_type": "stream",
     "text": [
      "Longest string: elderberry\n"
     ]
    }
   ],
   "source": [
    "#46\n",
    "# Example list of strings\n",
    "string_list = [\"apple\", \"banana\", \"cherry\", \"date\", \"elderberry\"]\n",
    "\n",
    "# Find the longest string in the list\n",
    "longest_string = \"\"\n",
    "for s in string_list:\n",
    "    if len(s) > len(longest_string):\n",
    "        longest_string = s\n",
    "\n",
    "# Print the longest string\n",
    "print(\"Longest string:\", longest_string)"
   ]
  },
  {
   "cell_type": "code",
   "execution_count": 49,
   "id": "9ab2276b",
   "metadata": {},
   "outputs": [
    {
     "name": "stdout",
     "output_type": "stream",
     "text": [
      "Shortest string: date\n"
     ]
    }
   ],
   "source": [
    "#47\n",
    "# Example list of strings\n",
    "string_list = [\"apple\", \"banana\", \"cherry\", \"date\", \"elderberry\"]\n",
    "\n",
    "# Find the shortest string in the list\n",
    "shortest_string = string_list[0]  # Initialize with the first string\n",
    "for s in string_list:\n",
    "    if len(s) < len(shortest_string):\n",
    "        shortest_string = s\n",
    "\n",
    "# Print the shortest string\n",
    "print(\"Shortest string:\", shortest_string)"
   ]
  },
  {
   "cell_type": "code",
   "execution_count": 50,
   "id": "d9c1b2d0",
   "metadata": {},
   "outputs": [
    {
     "name": "stdout",
     "output_type": "stream",
     "text": [
      "List of the first 5 triangular numbers: [1, 3, 6, 10, 15]\n"
     ]
    }
   ],
   "source": [
    "#48\n",
    "# Function to calculate triangular numbers\n",
    "def triangular_numbers(n):\n",
    "    return [i * (i + 1) // 2 for i in range(1, n + 1)]\n",
    "\n",
    "# Specify the value of n\n",
    "n = 5\n",
    "\n",
    "# Create a list of the first n triangular numbers\n",
    "triangular_list = triangular_numbers(n)\n",
    "\n",
    "# Print the list of triangular numbers\n",
    "print(\"List of the first\", n, \"triangular numbers:\", triangular_list)"
   ]
  },
  {
   "cell_type": "code",
   "execution_count": 51,
   "id": "31f2c10a",
   "metadata": {},
   "outputs": [
    {
     "name": "stdout",
     "output_type": "stream",
     "text": [
      "Main list contains the subsequence.\n"
     ]
    }
   ],
   "source": [
    "#49\n",
    "# Function to check if a list contains another list as a subsequence\n",
    "def is_subsequence(subsequence, main_list):\n",
    "    subseq_index = 0  # Index for the subsequence elements\n",
    "    for element in main_list:\n",
    "        if element == subsequence[subseq_index]:\n",
    "            subseq_index += 1\n",
    "            if subseq_index == len(subsequence):\n",
    "                return True\n",
    "    return False\n",
    "\n",
    "# Example main list and subsequence\n",
    "main_list = [1, 2, 3, 4, 5, 6, 7, 8, 9, 10]\n",
    "subsequence = [3, 5, 8]\n",
    "\n",
    "# Check if the main list contains the subsequence\n",
    "if is_subsequence(subsequence, main_list):\n",
    "    print(\"Main list contains the subsequence.\")\n",
    "else:\n",
    "    print(\"Main list does not contain the subsequence.\")"
   ]
  },
  {
   "cell_type": "code",
   "execution_count": 52,
   "id": "8de30a46",
   "metadata": {},
   "outputs": [
    {
     "name": "stdout",
     "output_type": "stream",
     "text": [
      "List after swapping elements: [1, 4, 3, 2, 5]\n"
     ]
    }
   ],
   "source": [
    "#50\n",
    "# Example list\n",
    "my_list = [1, 2, 3, 4, 5]\n",
    "\n",
    "# Indices of elements to swap\n",
    "index1 = 1\n",
    "index2 = 3\n",
    "\n",
    "# Swap the elements at the specified indices\n",
    "temp = my_list[index1]\n",
    "my_list[index1] = my_list[index2]\n",
    "my_list[index2] = temp\n",
    "\n",
    "# Print the list after swapping\n",
    "print(\"List after swapping elements:\", my_list)"
   ]
  },
  {
   "cell_type": "markdown",
   "id": "306646cd",
   "metadata": {},
   "source": [
    "Tuple based practice problem :"
   ]
  },
  {
   "cell_type": "code",
   "execution_count": 53,
   "id": "0bb19abc",
   "metadata": {},
   "outputs": [
    {
     "name": "stdout",
     "output_type": "stream",
     "text": [
      "The third element of the tuple is: 30\n"
     ]
    }
   ],
   "source": [
    "#1\n",
    "# Step 1: Create a tuple\n",
    "my_tuple = (10, 20, 30, 40, 50)\n",
    "\n",
    "# Step 2: Access the third element of the tuple\n",
    "third_element = my_tuple[2]\n",
    "\n",
    "# Explanation: In this line, we use indexing to access the third element of the tuple.\n",
    "# Since indexing is 0-based, the third element is at index 2.\n",
    "\n",
    "# Step 3: Print the third element\n",
    "print(\"The third element of the tuple is:\", third_element)"
   ]
  },
  {
   "cell_type": "code",
   "execution_count": 54,
   "id": "813916f4",
   "metadata": {},
   "outputs": [
    {
     "name": "stdout",
     "output_type": "stream",
     "text": [
      "The third element of the tuple is: 30\n"
     ]
    }
   ],
   "source": [
    "#2\n",
    "# Step 1: Create a tuple with some elements\n",
    "my_tuple = (10, 20, 30, 40, 50)\n",
    "\n",
    "# Step 2: Access the third element (index 2) of the tuple\n",
    "third_element = my_tuple[2]\n",
    "\n",
    "# Step 3: Print the third element\n",
    "print(\"The third element of the tuple is:\", third_element)"
   ]
  },
  {
   "cell_type": "code",
   "execution_count": 55,
   "id": "94dfa446",
   "metadata": {},
   "outputs": [
    {
     "name": "stdout",
     "output_type": "stream",
     "text": [
      "The length of the tuple is: 5\n"
     ]
    }
   ],
   "source": [
    "#3\n",
    "# Step 1: Create a tuple\n",
    "my_tuple = (10, 20, 30, 40, 50)\n",
    "\n",
    "# Step 2: Initialize a variable to count the elements\n",
    "count = 0\n",
    "\n",
    "# Step 3: Iterate through the tuple and increment the count for each element\n",
    "for _ in my_tuple:\n",
    "    count += 1\n",
    "\n",
    "# Step 4: Print the length of the tuple\n",
    "print(\"The length of the tuple is:\", count)"
   ]
  },
  {
   "cell_type": "code",
   "execution_count": 56,
   "id": "9e75a706",
   "metadata": {},
   "outputs": [
    {
     "name": "stdout",
     "output_type": "stream",
     "text": [
      "The element 20 appears 3 times in the tuple.\n"
     ]
    }
   ],
   "source": [
    "#4\n",
    "# Step 1: Create a tuple\n",
    "my_tuple = (10, 20, 30, 20, 40, 50, 20)\n",
    "\n",
    "# Step 2: Choose the element to count occurrences of\n",
    "element_to_count = 20\n",
    "\n",
    "# Step 3: Initialize a variable to keep track of the count\n",
    "count = 0\n",
    "\n",
    "# Step 4: Iterate through the tuple and count occurrences of the chosen element\n",
    "for item in my_tuple:\n",
    "    if item == element_to_count:\n",
    "        count += 1\n",
    "\n",
    "# Step 5: Print the count of occurrences\n",
    "print(f\"The element {element_to_count} appears {count} times in the tuple.\")"
   ]
  },
  {
   "cell_type": "code",
   "execution_count": 57,
   "id": "0605cc9b",
   "metadata": {},
   "outputs": [
    {
     "name": "stdout",
     "output_type": "stream",
     "text": [
      "The first occurrence of 20 is at index 1.\n"
     ]
    }
   ],
   "source": [
    "#5\n",
    "# Step 1: Create a tuple\n",
    "my_tuple = (10, 20, 30, 20, 40, 50)\n",
    "\n",
    "# Step 2: Choose the element to find the index of\n",
    "element_to_find = 20\n",
    "\n",
    "# Step 3: Initialize a variable to keep track of the index\n",
    "index = -1  # Initialize with -1 to indicate that the element was not found\n",
    "\n",
    "# Step 4: Iterate through the tuple and find the index of the chosen element\n",
    "for i, item in enumerate(my_tuple):\n",
    "    if item == element_to_find:\n",
    "        index = i\n",
    "        break  # Exit the loop once the first occurrence is found\n",
    "\n",
    "# Step 5: Print the index of the first occurrence\n",
    "if index != -1:\n",
    "    print(f\"The first occurrence of {element_to_find} is at index {index}.\")\n",
    "else:\n",
    "    print(f\"{element_to_find} is not found in the tuple.\")"
   ]
  },
  {
   "cell_type": "code",
   "execution_count": 58,
   "id": "cafeeffb",
   "metadata": {},
   "outputs": [
    {
     "name": "stdout",
     "output_type": "stream",
     "text": [
      "30 exists in the tuple.\n"
     ]
    }
   ],
   "source": [
    "#6\n",
    "# Step 1: Create a tuple\n",
    "my_tuple = (10, 20, 30, 40, 50)\n",
    "\n",
    "# Step 2: Choose the element to check for existence\n",
    "element_to_check = 30\n",
    "\n",
    "# Step 3: Check if the element exists in the tuple using the 'in' operator\n",
    "if element_to_check in my_tuple:\n",
    "    print(f\"{element_to_check} exists in the tuple.\")\n",
    "else:\n",
    "    print(f\"{element_to_check} does not exist in the tuple.\")"
   ]
  },
  {
   "cell_type": "code",
   "execution_count": 59,
   "id": "9181c0d7",
   "metadata": {},
   "outputs": [
    {
     "name": "stdout",
     "output_type": "stream",
     "text": [
      "Tuple: (10, 20, 30, 40, 50)\n",
      "List: [10, 20, 30, 40, 50]\n"
     ]
    }
   ],
   "source": [
    "#7\n",
    "# Step 1: Create a tuple\n",
    "my_tuple = (10, 20, 30, 40, 50)\n",
    "\n",
    "# Step 2: Convert the tuple to a list\n",
    "my_list = list(my_tuple)\n",
    "\n",
    "# Step 3: Print the resulting list\n",
    "print(\"Tuple:\", my_tuple)\n",
    "print(\"List:\", my_list)"
   ]
  },
  {
   "cell_type": "code",
   "execution_count": 60,
   "id": "2f00131f",
   "metadata": {},
   "outputs": [
    {
     "name": "stdout",
     "output_type": "stream",
     "text": [
      "List: [10, 20, 30, 40, 50]\n",
      "Tuple: (10, 20, 30, 40, 50)\n"
     ]
    }
   ],
   "source": [
    "#8\n",
    "# Step 1: Create a list\n",
    "my_list = [10, 20, 30, 40, 50]\n",
    "\n",
    "# Step 2: Convert the list to a tuple\n",
    "my_tuple = tuple(my_list)\n",
    "\n",
    "# Step 3: Print the resulting tuple\n",
    "print(\"List:\", my_list)\n",
    "print(\"Tuple:\", my_tuple)\n"
   ]
  },
  {
   "cell_type": "code",
   "execution_count": 61,
   "id": "1fcd1195",
   "metadata": {},
   "outputs": [
    {
     "name": "stdout",
     "output_type": "stream",
     "text": [
      "var1: 10\n",
      "var2: 20\n",
      "var3: 30\n"
     ]
    }
   ],
   "source": [
    "#9\n",
    "# Step 1: Create a tuple\n",
    "my_tuple = (10, 20, 30)\n",
    "\n",
    "# Step 2: Unpack the elements of the tuple into variables\n",
    "var1, var2, var3 = my_tuple\n",
    "\n",
    "# Step 3: Print the variables\n",
    "print(\"var1:\", var1)\n",
    "print(\"var2:\", var2)\n",
    "print(\"var3:\", var3)"
   ]
  },
  {
   "cell_type": "code",
   "execution_count": 62,
   "id": "dc1cb59d",
   "metadata": {},
   "outputs": [
    {
     "name": "stdout",
     "output_type": "stream",
     "text": [
      "Tuple of even numbers: (2, 4, 6, 8, 10)\n"
     ]
    }
   ],
   "source": [
    "#10\n",
    "# Step 1: Create a list of even numbers using a list comprehension\n",
    "even_numbers_list = [num for num in range(2, 11, 2)]  # Start from 2, step by 2, end at 10\n",
    "\n",
    "# Step 2: Convert the list to a tuple\n",
    "even_numbers_tuple = tuple(even_numbers_list)\n",
    "\n",
    "# Step 3: Print the resulting tuple\n",
    "print(\"Tuple of even numbers:\", even_numbers_tuple)"
   ]
  },
  {
   "cell_type": "code",
   "execution_count": 63,
   "id": "ae620b6a",
   "metadata": {},
   "outputs": [
    {
     "name": "stdout",
     "output_type": "stream",
     "text": [
      "Tuple of even numbers: (2, 4, 6, 8, 10)\n"
     ]
    }
   ],
   "source": [
    "#11\n",
    "# Step 1: Create a list of even numbers using a list comprehension\n",
    "even_numbers_list = [num for num in range(2, 11, 2)]  # Start from 2, step by 2, end at 10\n",
    "\n",
    "# Step 2: Convert the list to a tuple\n",
    "even_numbers_tuple = tuple(even_numbers_list)\n",
    "\n",
    "# Step 3: Print the resulting tuple\n",
    "print(\"Tuple of even numbers:\", even_numbers_tuple)"
   ]
  },
  {
   "cell_type": "code",
   "execution_count": 64,
   "id": "85c94e48",
   "metadata": {},
   "outputs": [
    {
     "name": "stdout",
     "output_type": "stream",
     "text": [
      "Concatenated tuple: (1, 2, 3, 4, 5, 6)\n"
     ]
    }
   ],
   "source": [
    "#12\n",
    "# Step 1: Create two tuples\n",
    "tuple1 = (1, 2, 3)\n",
    "tuple2 = (4, 5, 6)\n",
    "\n",
    "# Step 2: Concatenate the two tuples\n",
    "concatenated_tuple = tuple1 + tuple2\n",
    "\n",
    "# Step 3: Print the concatenated tuple\n",
    "print(\"Concatenated tuple:\", concatenated_tuple)"
   ]
  },
  {
   "cell_type": "code",
   "execution_count": 65,
   "id": "86858528",
   "metadata": {},
   "outputs": [
    {
     "name": "stdout",
     "output_type": "stream",
     "text": [
      "Repeated tuple: (1, 2, 3, 1, 2, 3, 1, 2, 3)\n"
     ]
    }
   ],
   "source": [
    "#13\n",
    "# Step 1: Create a tuple\n",
    "original_tuple = (1, 2, 3)\n",
    "\n",
    "# Step 2: Repeat the tuple three times\n",
    "repeated_tuple = original_tuple * 3\n",
    "\n",
    "# Step 3: Print the repeated tuple\n",
    "print(\"Repeated tuple:\", repeated_tuple)"
   ]
  },
  {
   "cell_type": "code",
   "execution_count": 66,
   "id": "2d952b37",
   "metadata": {},
   "outputs": [
    {
     "name": "stdout",
     "output_type": "stream",
     "text": [
      "The empty_tuple is empty.\n",
      "The non_empty_tuple is not empty.\n"
     ]
    }
   ],
   "source": [
    "#14\n",
    "# Step 1: Create an empty tuple and a non-empty tuple\n",
    "empty_tuple = ()\n",
    "non_empty_tuple = (1, 2, 3)\n",
    "\n",
    "# Step 2: Check if the tuples are empty\n",
    "if not empty_tuple:\n",
    "    print(\"The empty_tuple is empty.\")\n",
    "else:\n",
    "    print(\"The empty_tuple is not empty.\")\n",
    "\n",
    "if not non_empty_tuple:\n",
    "    print(\"The non_empty_tuple is empty.\")\n",
    "else:\n",
    "    print(\"The non_empty_tuple is not empty.\")"
   ]
  },
  {
   "cell_type": "code",
   "execution_count": 67,
   "id": "e423f3be",
   "metadata": {},
   "outputs": [
    {
     "name": "stdout",
     "output_type": "stream",
     "text": [
      "Nested tuple: ((1, 2, 3), ('a', 'b', 'c'), (True, False))\n"
     ]
    }
   ],
   "source": [
    "#15\n",
    "# Step 1: Create a nested tuple\n",
    "nested_tuple = ((1, 2, 3), ('a', 'b', 'c'), (True, False))\n",
    "\n",
    "# Step 2: Print the nested tuple\n",
    "print(\"Nested tuple:\", nested_tuple)"
   ]
  },
  {
   "cell_type": "code",
   "execution_count": 68,
   "id": "f47f260f",
   "metadata": {},
   "outputs": [
    {
     "name": "stdout",
     "output_type": "stream",
     "text": [
      "First element of the nested tuple: (1, 2, 3)\n"
     ]
    }
   ],
   "source": [
    "#16\n",
    "# Step 1: Create a nested tuple\n",
    "nested_tuple = ((1, 2, 3), ('a', 'b', 'c'), (True, False))\n",
    "\n",
    "# Step 2: Access the first element of the nested tuple\n",
    "first_element = nested_tuple[0]\n",
    "\n",
    "# Step 3: Print the first element\n",
    "print(\"First element of the nested tuple:\", first_element)"
   ]
  },
  {
   "cell_type": "code",
   "execution_count": 69,
   "id": "6325a74c",
   "metadata": {},
   "outputs": [
    {
     "name": "stdout",
     "output_type": "stream",
     "text": [
      "Single element tuple: (42,)\n"
     ]
    }
   ],
   "source": [
    "#17\n",
    "# Step 1: Create a tuple with a single element\n",
    "single_element_tuple = (42,)  # Note the trailing comma\n",
    "\n",
    "# Step 2: Print the single element tuple\n",
    "print(\"Single element tuple:\", single_element_tuple)"
   ]
  },
  {
   "cell_type": "code",
   "execution_count": 70,
   "id": "9c89e174",
   "metadata": {},
   "outputs": [
    {
     "name": "stdout",
     "output_type": "stream",
     "text": [
      "tuple1 == tuple2: False\n",
      "tuple1 != tuple2: True\n",
      "tuple1 < tuple2: True\n",
      "tuple1 <= tuple2: True\n",
      "tuple1 > tuple2: False\n",
      "tuple1 >= tuple2: False\n"
     ]
    }
   ],
   "source": [
    "#18\n",
    "# Step 1: Create two tuples\n",
    "tuple1 = (1, 2, 3)\n",
    "tuple2 = (1, 2, 4)\n",
    "\n",
    "# Step 2: Compare the two tuples using comparison operators\n",
    "print(\"tuple1 == tuple2:\", tuple1 == tuple2)  # Equality check\n",
    "print(\"tuple1 != tuple2:\", tuple1 != tuple2)  # Inequality check\n",
    "print(\"tuple1 < tuple2:\", tuple1 < tuple2)    # Less than check\n",
    "print(\"tuple1 <= tuple2:\", tuple1 <= tuple2)  # Less than or equal to check\n",
    "print(\"tuple1 > tuple2:\", tuple1 > tuple2)    # Greater than check\n",
    "print(\"tuple1 >= tuple2:\", tuple1 >= tuple2)  # Greater than or equal to check"
   ]
  },
  {
   "cell_type": "code",
   "execution_count": 73,
   "id": "ed99e07d",
   "metadata": {},
   "outputs": [
    {
     "name": "stdout",
     "output_type": "stream",
     "text": [
      "('tutorials', 'point', 2022, True)\n",
      "After deleting the tuple:\n"
     ]
    },
    {
     "ename": "NameError",
     "evalue": "name 'tup' is not defined",
     "output_type": "error",
     "traceback": [
      "\u001b[1;31m---------------------------------------------------------------------------\u001b[0m",
      "\u001b[1;31mNameError\u001b[0m                                 Traceback (most recent call last)",
      "Input \u001b[1;32mIn [73]\u001b[0m, in \u001b[0;36m<cell line: 5>\u001b[1;34m()\u001b[0m\n\u001b[0;32m      3\u001b[0m \u001b[38;5;28;01mdel\u001b[39;00m(tup)\n\u001b[0;32m      4\u001b[0m \u001b[38;5;28mprint\u001b[39m(\u001b[38;5;124m\"\u001b[39m\u001b[38;5;124mAfter deleting the tuple:\u001b[39m\u001b[38;5;124m\"\u001b[39m)\n\u001b[1;32m----> 5\u001b[0m \u001b[38;5;28mprint\u001b[39m(\u001b[43mtup\u001b[49m)\n",
      "\u001b[1;31mNameError\u001b[0m: name 'tup' is not defined"
     ]
    }
   ],
   "source": [
    "#19\n",
    "tup=('tutorials', 'point', 2022,True)\n",
    "print(tup)\n",
    "del(tup)\n",
    "print(\"After deleting the tuple:\")\n",
    "print(tup)"
   ]
  },
  {
   "cell_type": "code",
   "execution_count": 74,
   "id": "ae8fdcb6",
   "metadata": {},
   "outputs": [
    {
     "name": "stdout",
     "output_type": "stream",
     "text": [
      "Sliced tuple: (3, 4, 5, 6)\n"
     ]
    }
   ],
   "source": [
    "#20\n",
    "# Step 1: Create a tuple\n",
    "my_tuple = (1, 2, 3, 4, 5, 6, 7, 8, 9, 10)\n",
    "\n",
    "# Step 2: Slice the tuple to get a portion of it\n",
    "sliced_tuple = my_tuple[2:6]  # Elements from index 2 to 5 (end index is exclusive)\n",
    "\n",
    "# Step 3: Print the sliced tuple\n",
    "print(\"Sliced tuple:\", sliced_tuple)"
   ]
  },
  {
   "cell_type": "code",
   "execution_count": 75,
   "id": "1e58aa46",
   "metadata": {},
   "outputs": [
    {
     "name": "stdout",
     "output_type": "stream",
     "text": [
      "Maximum value: 45\n"
     ]
    }
   ],
   "source": [
    "#21\n",
    "# Step 1: Create a tuple\n",
    "my_tuple = (10, 20, 5, 45, 30)\n",
    "\n",
    "# Step 2: Find the maximum value in the tuple using the 'max()' function\n",
    "max_value = max(my_tuple)\n",
    "\n",
    "# Step 3: Print the maximum value\n",
    "print(\"Maximum value:\", max_value)"
   ]
  },
  {
   "cell_type": "code",
   "execution_count": 76,
   "id": "df788884",
   "metadata": {},
   "outputs": [
    {
     "name": "stdout",
     "output_type": "stream",
     "text": [
      "Minimum value: 5\n"
     ]
    }
   ],
   "source": [
    "#22\n",
    "# Step 1: Create a tuple\n",
    "my_tuple = (10, 20, 5, 45, 30)\n",
    "\n",
    "# Step 2: Find the minimum value in the tuple using the 'min()' function\n",
    "min_value = min(my_tuple)\n",
    "\n",
    "# Step 3: Print the minimum value\n",
    "print(\"Minimum value:\", min_value)"
   ]
  },
  {
   "cell_type": "code",
   "execution_count": 77,
   "id": "9006247c",
   "metadata": {},
   "outputs": [
    {
     "name": "stdout",
     "output_type": "stream",
     "text": [
      "Tuple of characters: ('H', 'e', 'l', 'l', 'o', ',', ' ', 'W', 'o', 'r', 'l', 'd', '!')\n"
     ]
    }
   ],
   "source": [
    "#23\n",
    "# Step 1: Create a string\n",
    "my_string = \"Hello, World!\"\n",
    "\n",
    "# Step 2: Convert the string to a tuple of characters\n",
    "tuple_of_characters = tuple(my_string)\n",
    "\n",
    "# Step 3: Print the tuple of characters\n",
    "print(\"Tuple of characters:\", tuple_of_characters)"
   ]
  },
  {
   "cell_type": "code",
   "execution_count": 78,
   "id": "67c26201",
   "metadata": {},
   "outputs": [
    {
     "name": "stdout",
     "output_type": "stream",
     "text": [
      "String from tuple: Hello World!\n"
     ]
    }
   ],
   "source": [
    "#24\n",
    "# Step 1: Create a tuple of characters\n",
    "tuple_of_characters = ('H', 'e', 'l', 'l', 'o', ' ', 'W', 'o', 'r', 'l', 'd', '!')\n",
    "\n",
    "# Step 2: Convert the tuple of characters to a string using the 'join()' method\n",
    "string_from_tuple = ''.join(tuple_of_characters)\n",
    "\n",
    "# Step 3: Print the resulting string\n",
    "print(\"String from tuple:\", string_from_tuple)"
   ]
  },
  {
   "cell_type": "code",
   "execution_count": 79,
   "id": "9e9885e7",
   "metadata": {},
   "outputs": [
    {
     "name": "stdout",
     "output_type": "stream",
     "text": [
      "(1, 'hello', 3.14, True)\n"
     ]
    }
   ],
   "source": [
    "#25\n",
    "# Creating a tuple with elements of different data types\n",
    "mixed_tuple = (1, \"hello\", 3.14, True)\n",
    "\n",
    "# Printing the tuple\n",
    "print(mixed_tuple)"
   ]
  },
  {
   "cell_type": "code",
   "execution_count": 80,
   "id": "9e052fdf",
   "metadata": {},
   "outputs": [
    {
     "name": "stdout",
     "output_type": "stream",
     "text": [
      "tuple1 and tuple2 are identical: True\n",
      "tuple1 and tuple3 are identical: False\n"
     ]
    }
   ],
   "source": [
    "#26\n",
    "# Step 1: Create two tuples\n",
    "tuple1 = (1, 2, 3)\n",
    "tuple2 = (1, 2, 3)\n",
    "tuple3 = (4, 5, 6)\n",
    "\n",
    "# Step 2: Compare the tuples for identity using the equality operator\n",
    "are_identical1 = tuple1 == tuple2\n",
    "are_identical2 = tuple1 == tuple3\n",
    "\n",
    "# Step 3: Print the results\n",
    "print(\"tuple1 and tuple2 are identical:\", are_identical1)\n",
    "print(\"tuple1 and tuple3 are identical:\", are_identical2)"
   ]
  },
  {
   "cell_type": "code",
   "execution_count": 81,
   "id": "8b8e735e",
   "metadata": {},
   "outputs": [
    {
     "name": "stdout",
     "output_type": "stream",
     "text": [
      "Sorted tuple: (1, 2, 3, 5, 8)\n"
     ]
    }
   ],
   "source": [
    "#27\n",
    "# Step 1: Create a tuple\n",
    "my_tuple = (5, 2, 8, 1, 3)\n",
    "\n",
    "# Step 2: Convert the tuple to a list, sort the list, and convert it back to a tuple\n",
    "sorted_tuple = tuple(sorted(my_tuple))\n",
    "\n",
    "# Step 3: Print the sorted tuple\n",
    "print(\"Sorted tuple:\", sorted_tuple)\n"
   ]
  },
  {
   "cell_type": "code",
   "execution_count": 82,
   "id": "99c5fbcc",
   "metadata": {},
   "outputs": [
    {
     "name": "stdout",
     "output_type": "stream",
     "text": [
      "Tuple of strings: ('1', '2', '3', '4', '5')\n"
     ]
    }
   ],
   "source": [
    "#28\n",
    "# Step 1: Create a tuple of integers\n",
    "tuple_of_integers = (1, 2, 3, 4, 5)\n",
    "\n",
    "# Step 2: Convert the tuple of integers to a tuple of strings using a list comprehension\n",
    "tuple_of_strings = tuple(str(item) for item in tuple_of_integers)\n",
    "\n",
    "# Step 3: Print the tuple of strings\n",
    "print(\"Tuple of strings:\", tuple_of_strings)"
   ]
  },
  {
   "cell_type": "code",
   "execution_count": 83,
   "id": "e7f3f4cb",
   "metadata": {},
   "outputs": [
    {
     "name": "stdout",
     "output_type": "stream",
     "text": [
      "Tuple of integers: (10, 20, 30, 40, 50)\n"
     ]
    }
   ],
   "source": [
    "#29\n",
    "# Step 1: Create a tuple of strings\n",
    "tuple_of_strings = ('10', '20', '30', '40', '50')\n",
    "\n",
    "# Step 2: Convert the tuple of strings to a tuple of integers using a list comprehension\n",
    "tuple_of_integers = tuple(int(item) for item in tuple_of_strings)\n",
    "\n",
    "# Step 3: Print the tuple of integers\n",
    "print(\"Tuple of integers:\", tuple_of_integers)"
   ]
  },
  {
   "cell_type": "code",
   "execution_count": 84,
   "id": "d881b9fc",
   "metadata": {},
   "outputs": [
    {
     "name": "stdout",
     "output_type": "stream",
     "text": [
      "Merged tuple: (1, 2, 3, 4, 5, 6)\n"
     ]
    }
   ],
   "source": [
    "#30\n",
    "# Step 1: Create two tuples\n",
    "tuple1 = (1, 2, 3)\n",
    "tuple2 = (4, 5, 6)\n",
    "\n",
    "# Step 2: Merge the two tuples using the '+' operator\n",
    "merged_tuple = tuple1 + tuple2\n",
    "\n",
    "# Step 3: Print the merged tuple\n",
    "print(\"Merged tuple:\", merged_tuple)"
   ]
  },
  {
   "cell_type": "code",
   "execution_count": 85,
   "id": "b50beb40",
   "metadata": {},
   "outputs": [
    {
     "name": "stdout",
     "output_type": "stream",
     "text": [
      "Flattened tuple: (1, 2, 3, 4, 5, 6, 7, 8)\n"
     ]
    }
   ],
   "source": [
    "#31\n",
    "# Recursive function to flatten a nested tuple\n",
    "def flatten_tuple(nested_tuple):\n",
    "    flattened = []\n",
    "    for item in nested_tuple:\n",
    "        if isinstance(item, tuple):\n",
    "            flattened.extend(flatten_tuple(item))\n",
    "        else:\n",
    "            flattened.append(item)\n",
    "    return flattened\n",
    "\n",
    "# Step 1: Create a nested tuple\n",
    "nested_tuple = ((1, 2), (3, 4, 5), (6, (7, 8)))\n",
    "\n",
    "# Step 2: Flatten the nested tuple\n",
    "flattened_tuple = tuple(flatten_tuple(nested_tuple))\n",
    "\n",
    "# Step 3: Print the flattened tuple\n",
    "print(\"Flattened tuple:\", flattened_tuple)"
   ]
  },
  {
   "cell_type": "code",
   "execution_count": 86,
   "id": "5f944f3e",
   "metadata": {},
   "outputs": [
    {
     "name": "stdout",
     "output_type": "stream",
     "text": [
      "Tuple of the first 5 prime numbers: (2, 3, 5, 7, 11)\n"
     ]
    }
   ],
   "source": [
    "#32\n",
    "# Function to check if a number is prime\n",
    "def is_prime(num):\n",
    "    if num <= 1:\n",
    "        return False\n",
    "    for i in range(2, int(num ** 0.5) + 1):\n",
    "        if num % i == 0:\n",
    "            return False\n",
    "    return True\n",
    "\n",
    "# Generate the first 5 prime numbers\n",
    "prime_numbers_list = [num for num in range(2, 100) if is_prime(num)][:5]\n",
    "\n",
    "# Convert the list to a tuple\n",
    "prime_numbers_tuple = tuple(prime_numbers_list)\n",
    "\n",
    "# Print the tuple of prime numbers\n",
    "print(\"Tuple of the first 5 prime numbers:\", prime_numbers_tuple)"
   ]
  },
  {
   "cell_type": "code",
   "execution_count": 87,
   "id": "fb6c0a3b",
   "metadata": {},
   "outputs": [
    {
     "name": "stdout",
     "output_type": "stream",
     "text": [
      "palindrome_tuple is a palindrome: True\n",
      "non_palindrome_tuple is a palindrome: False\n"
     ]
    }
   ],
   "source": [
    "#33\n",
    "# Function to check if a tuple is a palindrome\n",
    "def is_palindrome(tup):\n",
    "    return tup == tup[::-1]\n",
    "\n",
    "# Create tuples for testing\n",
    "palindrome_tuple = (1, 2, 3, 2, 1)\n",
    "non_palindrome_tuple = (1, 2, 3, 4, 5)\n",
    "\n",
    "# Check if the tuples are palindromes\n",
    "is_palindrome1 = is_palindrome(palindrome_tuple)\n",
    "is_palindrome2 = is_palindrome(non_palindrome_tuple)\n",
    "\n",
    "# Print the results\n",
    "print(\"palindrome_tuple is a palindrome:\", is_palindrome1)\n",
    "print(\"non_palindrome_tuple is a palindrome:\", is_palindrome2)"
   ]
  },
  {
   "cell_type": "code",
   "execution_count": 88,
   "id": "6259f70b",
   "metadata": {},
   "outputs": [
    {
     "name": "stdout",
     "output_type": "stream",
     "text": [
      "Tuple of squares: (1, 4, 9, 16, 25)\n"
     ]
    }
   ],
   "source": [
    "#34\n",
    "# Create a tuple of squares using a list comprehension\n",
    "squares_tuple = tuple(x ** 2 for x in range(1, 6))\n",
    "\n",
    "# Print the tuple of squares\n",
    "print(\"Tuple of squares:\", squares_tuple)"
   ]
  },
  {
   "cell_type": "code",
   "execution_count": 89,
   "id": "d11705b8",
   "metadata": {},
   "outputs": [
    {
     "name": "stdout",
     "output_type": "stream",
     "text": [
      "Filtered tuple: (1, 3, 5, 7, 9)\n"
     ]
    }
   ],
   "source": [
    "#35\n",
    "# Create a tuple\n",
    "original_tuple = (1, 2, 3, 4, 5, 6, 7, 8, 9, 10)\n",
    "\n",
    "# Filter out even numbers using a list comprehension\n",
    "filtered_tuple = tuple(num for num in original_tuple if num % 2 != 0)\n",
    "\n",
    "# Print the filtered tuple\n",
    "print(\"Filtered tuple:\", filtered_tuple)"
   ]
  },
  {
   "cell_type": "code",
   "execution_count": 90,
   "id": "3d3a6049",
   "metadata": {},
   "outputs": [
    {
     "name": "stdout",
     "output_type": "stream",
     "text": [
      "Doubled tuple: (2, 4, 6, 8, 10)\n"
     ]
    }
   ],
   "source": [
    "#36\n",
    "# Create a tuple\n",
    "original_tuple = (1, 2, 3, 4, 5)\n",
    "\n",
    "# Multiply all elements by 2 using a list comprehension and convert to a tuple\n",
    "doubled_tuple = tuple(num * 2 for num in original_tuple)\n",
    "\n",
    "# Print the doubled tuple\n",
    "print(\"Doubled tuple:\", doubled_tuple)"
   ]
  },
  {
   "cell_type": "code",
   "execution_count": 91,
   "id": "cb50bfce",
   "metadata": {},
   "outputs": [
    {
     "name": "stdout",
     "output_type": "stream",
     "text": [
      "Random tuple: (28, 56, 62, 8, 32, 80, 91, 65, 23, 84)\n"
     ]
    }
   ],
   "source": [
    "#37\n",
    "import random\n",
    "\n",
    "# Create a tuple of random numbers using a list comprehension\n",
    "random_tuple = tuple(random.randint(1, 100) for _ in range(10))  # Generating 10 random numbers between 1 and 100\n",
    "\n",
    "# Print the tuple of random numbers\n",
    "print(\"Random tuple:\", random_tuple)"
   ]
  },
  {
   "cell_type": "code",
   "execution_count": 92,
   "id": "f462fb08",
   "metadata": {},
   "outputs": [
    {
     "name": "stdout",
     "output_type": "stream",
     "text": [
      "sorted_tuple is sorted: True\n",
      "unsorted_tuple is sorted: False\n"
     ]
    }
   ],
   "source": [
    "#38\n",
    "# Function to check if a tuple is sorted\n",
    "def is_sorted(tup):\n",
    "    for i in range(len(tup) - 1):\n",
    "        if tup[i] > tup[i + 1]:\n",
    "            return False\n",
    "    return True\n",
    "\n",
    "# Create tuples for testing\n",
    "sorted_tuple = (1, 2, 3, 4, 5)\n",
    "unsorted_tuple = (5, 3, 1, 4, 2)\n",
    "\n",
    "# Check if the tuples are sorted\n",
    "is_sorted1 = is_sorted(sorted_tuple)\n",
    "is_sorted2 = is_sorted(unsorted_tuple)\n",
    "\n",
    "# Print the results\n",
    "print(\"sorted_tuple is sorted:\", is_sorted1)\n",
    "print(\"unsorted_tuple is sorted:\", is_sorted2)"
   ]
  },
  {
   "cell_type": "code",
   "execution_count": 93,
   "id": "625da4ce",
   "metadata": {},
   "outputs": [
    {
     "name": "stdout",
     "output_type": "stream",
     "text": [
      "(3, 4, 5, 1, 2)\n"
     ]
    }
   ],
   "source": [
    "#39\n",
    "def rotate_tuple_left(tup, n):\n",
    "    n = n % len(tup)  # Ensure n is within the range of tuple length\n",
    "    rotated_tuple = tup[n:] + tup[:n]  # Rotate the tuple\n",
    "    return rotated_tuple\n",
    "\n",
    "# Example tuple\n",
    "my_tuple = (1, 2, 3, 4, 5)\n",
    "n_positions = 2\n",
    "result = rotate_tuple_left(my_tuple, n_positions)\n",
    "print(result)"
   ]
  },
  {
   "cell_type": "code",
   "execution_count": 94,
   "id": "8ab393f2",
   "metadata": {},
   "outputs": [
    {
     "name": "stdout",
     "output_type": "stream",
     "text": [
      "(4, 5, 1, 2, 3)\n"
     ]
    }
   ],
   "source": [
    "#40\n",
    "def rotate_tuple_right(tup, n):\n",
    "    n = n % len(tup)  # Ensure n is within the range of tuple length\n",
    "    rotated_tuple = tup[-n:] + tup[:-n]  # Rotate the tuple\n",
    "    return rotated_tuple\n",
    "\n",
    "# Example tuple\n",
    "my_tuple = (1, 2, 3, 4, 5)\n",
    "n_positions = 2\n",
    "result = rotate_tuple_right(my_tuple, n_positions)\n",
    "print(result)"
   ]
  },
  {
   "cell_type": "code",
   "execution_count": 95,
   "id": "6c3c7187",
   "metadata": {},
   "outputs": [
    {
     "name": "stdout",
     "output_type": "stream",
     "text": [
      "(0, 1, 1, 2, 3)\n"
     ]
    }
   ],
   "source": [
    "#41\n",
    "# Define a function to generate the first n Fibonacci numbers\n",
    "def generate_fibonacci(n):\n",
    "    fibonacci = [0, 1]  # Initialize the list with the first two Fibonacci numbers\n",
    "    while len(fibonacci) < n:  # Continue generating Fibonacci numbers until the list has n elements\n",
    "        next_number = fibonacci[-1] + fibonacci[-2]  # Calculate the next Fibonacci number\n",
    "        fibonacci.append(next_number)  # Add the next Fibonacci number to the list\n",
    "    return tuple(fibonacci)  # Convert the list to a tuple and return it\n",
    "\n",
    "# Call the generate_fibonacci function to create a tuple of the first 5 Fibonacci numbers\n",
    "fibonacci_tuple = generate_fibonacci(5)\n",
    "\n",
    "# Print the resulting tuple\n",
    "print(fibonacci_tuple)"
   ]
  },
  {
   "cell_type": "code",
   "execution_count": 96,
   "id": "e4f209b0",
   "metadata": {},
   "outputs": [
    {
     "name": "stdout",
     "output_type": "stream",
     "text": [
      "Enter elements separated by commas: s,r,t,y,u\n",
      "User input tuple: ('s', 'r', 't', 'y', 'u')\n"
     ]
    }
   ],
   "source": [
    "#42\n",
    "# Taking user input for creating a tuple\n",
    "input_str = input(\"Enter elements separated by commas: \")\n",
    "\n",
    "# Splitting the input string into a list of strings\n",
    "input_list = input_str.split(',')\n",
    "\n",
    "# Converting the list of strings to a tuple\n",
    "user_tuple = tuple(input_list)\n",
    "\n",
    "# Printing the created tuple\n",
    "print(\"User input tuple:\", user_tuple)"
   ]
  },
  {
   "cell_type": "code",
   "execution_count": 97,
   "id": "b151c022",
   "metadata": {},
   "outputs": [
    {
     "name": "stdout",
     "output_type": "stream",
     "text": [
      "Swapped tuple: (1, 4, 3, 2, 5)\n"
     ]
    }
   ],
   "source": [
    "#43\n",
    "# Create a tuple\n",
    "my_tuple = (1, 2, 3, 4, 5)\n",
    "\n",
    "# Swap elements at indices 1 and 3\n",
    "index1 = 1\n",
    "index2 = 3\n",
    "swapped_tuple = tuple(\n",
    "    my_tuple[i] if i not in (index1, index2) else\n",
    "    my_tuple[index2] if i == index1 else\n",
    "    my_tuple[index1]\n",
    "    for i in range(len(my_tuple))\n",
    ")\n",
    "\n",
    "# Print the swapped tuple\n",
    "print(\"Swapped tuple:\", swapped_tuple)"
   ]
  },
  {
   "cell_type": "code",
   "execution_count": 98,
   "id": "0f11b146",
   "metadata": {},
   "outputs": [
    {
     "name": "stdout",
     "output_type": "stream",
     "text": [
      "Reversed tuple: (5, 4, 3, 2, 1)\n"
     ]
    }
   ],
   "source": [
    "#44\n",
    "# Create a tuple\n",
    "my_tuple = (1, 2, 3, 4, 5)\n",
    "\n",
    "# Reverse the elements using slicing\n",
    "reversed_tuple = my_tuple[::-1]\n",
    "\n",
    "# Print the reversed tuple\n",
    "print(\"Reversed tuple:\", reversed_tuple)"
   ]
  },
  {
   "cell_type": "code",
   "execution_count": 99,
   "id": "eb0e1680",
   "metadata": {},
   "outputs": [
    {
     "name": "stdout",
     "output_type": "stream",
     "text": [
      "Tuple of the first 5 powers of 2: (1, 2, 4, 8, 16)\n"
     ]
    }
   ],
   "source": [
    "#45\n",
    "# Define the value of n\n",
    "n = 5\n",
    "\n",
    "# Create a tuple of the first n powers of 2 using a list comprehension\n",
    "powers_of_2_tuple = tuple(2 ** i for i in range(n))\n",
    "\n",
    "# Print the tuple of powers of 2\n",
    "print(\"Tuple of the first\", n, \"powers of 2:\", powers_of_2_tuple)"
   ]
  },
  {
   "cell_type": "code",
   "execution_count": 100,
   "id": "b10c859d",
   "metadata": {},
   "outputs": [
    {
     "name": "stdout",
     "output_type": "stream",
     "text": [
      "Longest string: watermelon\n"
     ]
    }
   ],
   "source": [
    "#46\n",
    "# Create a tuple of strings\n",
    "string_tuple = (\"apple\", \"banana\", \"grape\", \"kiwi\", \"watermelon\")\n",
    "\n",
    "# Find the longest string in the tuple\n",
    "longest_string = max(string_tuple, key=len)\n",
    "\n",
    "# Print the longest string\n",
    "print(\"Longest string:\", longest_string)"
   ]
  },
  {
   "cell_type": "code",
   "execution_count": 101,
   "id": "01214fd7",
   "metadata": {},
   "outputs": [
    {
     "name": "stdout",
     "output_type": "stream",
     "text": [
      "Shortest string: kiwi\n"
     ]
    }
   ],
   "source": [
    "#47\n",
    "# Create a tuple of strings\n",
    "string_tuple = (\"apple\", \"banana\", \"grape\", \"kiwi\", \"watermelon\")\n",
    "\n",
    "# Find the shortest string in the tuple\n",
    "shortest_string = min(string_tuple, key=len)\n",
    "\n",
    "# Print the shortest string\n",
    "print(\"Shortest string:\", shortest_string)"
   ]
  },
  {
   "cell_type": "code",
   "execution_count": 102,
   "id": "2e6e5c28",
   "metadata": {},
   "outputs": [
    {
     "name": "stdout",
     "output_type": "stream",
     "text": [
      "Tuple of the first 5 triangular numbers: (1, 3, 6, 10, 15)\n"
     ]
    }
   ],
   "source": [
    "#48\n",
    "# Define the value of n\n",
    "n = 5\n",
    "\n",
    "# Create a tuple of the first n triangular numbers using a list comprehension\n",
    "triangular_numbers_tuple = tuple((i * (i + 1)) // 2 for i in range(1, n + 1))\n",
    "\n",
    "# Print the tuple of triangular numbers\n",
    "print(\"Tuple of the first\", n, \"triangular numbers:\", triangular_numbers_tuple)"
   ]
  },
  {
   "cell_type": "code",
   "execution_count": 103,
   "id": "6fe2c381",
   "metadata": {},
   "outputs": [
    {
     "name": "stdout",
     "output_type": "stream",
     "text": [
      "Main tuple contains subsequence tuple: True\n"
     ]
    }
   ],
   "source": [
    "#49\n",
    "# Function to check if a tuple contains another tuple as a subsequence\n",
    "def contains_subsequence(main_tuple, sub_tuple):\n",
    "    sub_length = len(sub_tuple)\n",
    "    for i in range(len(main_tuple) - sub_length + 1):\n",
    "        if main_tuple[i:i+sub_length] == sub_tuple:\n",
    "            return True\n",
    "    return False\n",
    "\n",
    "# Main tuple\n",
    "main_tuple = (1, 2, 3, 4, 5, 6, 7, 8, 9)\n",
    "\n",
    "# Subsequence tuple\n",
    "sub_tuple = (3, 4, 5)\n",
    "\n",
    "# Check if the main tuple contains the subsequence tuple\n",
    "contains_subseq = contains_subsequence(main_tuple, sub_tuple)\n",
    "\n",
    "# Print the result\n",
    "print(\"Main tuple contains subsequence tuple:\", contains_subseq)"
   ]
  },
  {
   "cell_type": "code",
   "execution_count": 104,
   "id": "a6e0a981",
   "metadata": {},
   "outputs": [
    {
     "name": "stdout",
     "output_type": "stream",
     "text": [
      "Tuple of alternating 1s and 0s: (0, 1, 0, 1, 0, 1, 0, 1, 0, 1)\n"
     ]
    }
   ],
   "source": [
    "#50\n",
    "# Define the value of n\n",
    "n = 10\n",
    "\n",
    "# Create a tuple of alternating 1s and 0s using a list comprehension\n",
    "alternating_tuple = tuple(i % 2 for i in range(n))\n",
    "\n",
    "# Print the tuple of alternating 1s and 0s\n",
    "print(\"Tuple of alternating 1s and 0s:\", alternating_tuple)"
   ]
  },
  {
   "cell_type": "markdown",
   "id": "1486e3c9",
   "metadata": {},
   "source": [
    "Set based problems:"
   ]
  },
  {
   "cell_type": "code",
   "execution_count": 105,
   "id": "0ff5133c",
   "metadata": {},
   "outputs": [
    {
     "name": "stdout",
     "output_type": "stream",
     "text": [
      "{1, 2, 3, 4, 5}\n"
     ]
    }
   ],
   "source": [
    "#1\n",
    "# Step 1: Create an empty set\n",
    "my_set = set()\n",
    "\n",
    "# Step 2: Add integers from 1 to 5 to the set\n",
    "my_set.add(1)\n",
    "my_set.add(2)\n",
    "my_set.add(3)\n",
    "my_set.add(4)\n",
    "my_set.add(5)\n",
    "\n",
    "# Step 3: Print the final set\n",
    "print(my_set)## Set based problems:"
   ]
  },
  {
   "cell_type": "code",
   "execution_count": 106,
   "id": "078a18a5",
   "metadata": {},
   "outputs": [
    {
     "name": "stdout",
     "output_type": "stream",
     "text": [
      "Original set: {1, 2, 3, 4, 5}\n",
      "Set after adding element: {1, 2, 3, 4, 5, 6}\n"
     ]
    }
   ],
   "source": [
    "#2\n",
    "# Step 1: Create a set\n",
    "my_set = {1, 2, 3, 4, 5}\n",
    "\n",
    "# Step 2: Display the original set\n",
    "print(\"Original set:\", my_set)\n",
    "\n",
    "# Step 3: Add an element to the set\n",
    "element_to_add = 6\n",
    "my_set.add(element_to_add)\n",
    "\n",
    "# Step 4: Display the modified set\n",
    "print(\"Set after adding element:\", my_set)"
   ]
  },
  {
   "cell_type": "code",
   "execution_count": 107,
   "id": "2e76ab15",
   "metadata": {},
   "outputs": [
    {
     "name": "stdout",
     "output_type": "stream",
     "text": [
      "Original Set: {1, 2, 3, 4, 5}\n",
      "Set after removing 3 : {1, 2, 4, 5}\n"
     ]
    }
   ],
   "source": [
    "#3\n",
    "# Step 1: Create a set with some elements\n",
    "my_set = {1, 2, 3, 4, 5}\n",
    "\n",
    "# Step 2: Print the original set\n",
    "print(\"Original Set:\", my_set)\n",
    "\n",
    "# Step 3: Choose an element to remove\n",
    "element_to_remove = 3\n",
    "\n",
    "# Step 4: Use the remove() method to remove the chosen element\n",
    "# Note: If the element is not present in the set, remove() raises a KeyError.\n",
    "my_set.remove(element_to_remove)\n",
    "\n",
    "# Step 5: Print the modified set after removal\n",
    "print(\"Set after removing\", element_to_remove, \":\", my_set)"
   ]
  },
  {
   "cell_type": "code",
   "execution_count": 108,
   "id": "70145105",
   "metadata": {},
   "outputs": [
    {
     "name": "stdout",
     "output_type": "stream",
     "text": [
      "Enter the element to check: 5\n",
      "5 exists in the set.\n"
     ]
    }
   ],
   "source": [
    "#4\n",
    "# Step 1: Create a set with some elements\n",
    "my_set = {1, 3, 5, 7, 9}\n",
    "\n",
    "# Step 2: Ask the user for the element they want to check\n",
    "element_to_check = int(input(\"Enter the element to check: \"))\n",
    "\n",
    "# Step 3: Use the \"in\" keyword to check if the element exists in the set\n",
    "if element_to_check in my_set:\n",
    "    # Step 4: If the element exists in the set, print a message\n",
    "    print(f\"{element_to_check} exists in the set.\")\n",
    "else:\n",
    "    # Step 5: If the element does not exist in the set, print a message\n",
    "    print(f\"{element_to_check} does not exist in the set.\")"
   ]
  },
  {
   "cell_type": "code",
   "execution_count": 109,
   "id": "1cb9d6a1",
   "metadata": {},
   "outputs": [
    {
     "name": "stdout",
     "output_type": "stream",
     "text": [
      "Length of the set: 5\n"
     ]
    }
   ],
   "source": [
    "#5\n",
    "# Create a set with some elements\n",
    "my_set = {1, 2, 3, 4, 5}\n",
    "\n",
    "# Initialize a variable to count the elements in the set\n",
    "count = 0\n",
    "\n",
    "# Iterate through each element in the set\n",
    "for _ in my_set:\n",
    "    # Increase the count by 1 for each element\n",
    "    count += 1\n",
    "\n",
    "# Print the count, which is the length of the set\n",
    "print(\"Length of the set:\", count)"
   ]
  },
  {
   "cell_type": "code",
   "execution_count": 110,
   "id": "d9e6835d",
   "metadata": {},
   "outputs": [
    {
     "name": "stdout",
     "output_type": "stream",
     "text": [
      "Original set: {1, 2, 3, 4, 5}\n",
      "Set after clearing: set()\n"
     ]
    }
   ],
   "source": [
    "#6\n",
    "# Step 1: Create a set with some elements\n",
    "my_set = {1, 2, 3, 4, 5}\n",
    "\n",
    "# Step 2: Display the original set\n",
    "print(\"Original set:\", my_set)\n",
    "\n",
    "# Step 3: Clear all elements from the set using the clear() method\n",
    "my_set.clear()\n",
    "\n",
    "# Step 4: Display the set after clearing\n",
    "print(\"Set after clearing:\", my_set)\n"
   ]
  },
  {
   "cell_type": "code",
   "execution_count": 111,
   "id": "8543e418",
   "metadata": {},
   "outputs": [
    {
     "name": "stdout",
     "output_type": "stream",
     "text": [
      "{2, 4, 6, 8, 10}\n"
     ]
    }
   ],
   "source": [
    "#7\n",
    "# Step 1: Initialize an empty set\n",
    "even_numbers_set = set()\n",
    "\n",
    "# Step 2: Iterate through numbers from 1 to 10\n",
    "for num in range(1, 11):\n",
    "    # Step 3: Check if the number is even\n",
    "    if num % 2 == 0:\n",
    "        # Step 4: Add the even number to the set\n",
    "        even_numbers_set.add(num)\n",
    "\n",
    "# Step 5: Print the set of even numbers\n",
    "print(even_numbers_set)"
   ]
  },
  {
   "cell_type": "code",
   "execution_count": 112,
   "id": "a6563321",
   "metadata": {},
   "outputs": [
    {
     "name": "stdout",
     "output_type": "stream",
     "text": [
      "{1, 3, 5, 7, 9}\n"
     ]
    }
   ],
   "source": [
    "#8\n",
    "# Step 1: Initialize an empty set to store odd numbers.\n",
    "odd_numbers_set = set()\n",
    "\n",
    "# Step 2: Iterate through numbers from 1 to 10.\n",
    "for num in range(1, 11):\n",
    "    # Step 3: Check if the current number is odd.\n",
    "    if num % 2 != 0:\n",
    "        # Step 4: If the number is odd, add it to the set.\n",
    "        odd_numbers_set.add(num)\n",
    "\n",
    "# Step 5: Print the final set of odd numbers.\n",
    "print(odd_numbers_set)"
   ]
  },
  {
   "cell_type": "code",
   "execution_count": 113,
   "id": "2cdcf944",
   "metadata": {},
   "outputs": [
    {
     "name": "stdout",
     "output_type": "stream",
     "text": [
      "Set 1: {1, 2, 3, 4, 5}\n",
      "Set 2: {4, 5, 6, 7, 8}\n",
      "Union of Set 1 and Set 2: {1, 2, 3, 4, 5, 6, 7, 8}\n"
     ]
    }
   ],
   "source": [
    "#9\n",
    "# Define two sets\n",
    "set1 = {1, 2, 3, 4, 5}\n",
    "set2 = {4, 5, 6, 7, 8}\n",
    "\n",
    "# Find the union of the two sets using the `union()` method\n",
    "union_result = set1.union(set2)\n",
    "\n",
    "# Print the original sets and their union\n",
    "print(\"Set 1:\", set1)\n",
    "print(\"Set 2:\", set2)\n",
    "print(\"Union of Set 1 and Set 2:\", union_result)"
   ]
  },
  {
   "cell_type": "code",
   "execution_count": 114,
   "id": "f7679c5e",
   "metadata": {},
   "outputs": [
    {
     "name": "stdout",
     "output_type": "stream",
     "text": [
      "Set 1: {1, 2, 3, 4, 5}\n",
      "Set 2: {3, 4, 5, 6, 7}\n",
      "Intersection: {3, 4, 5}\n"
     ]
    }
   ],
   "source": [
    "#10\n",
    "# Create two sets\n",
    "set1 = {1, 2, 3, 4, 5}\n",
    "set2 = {3, 4, 5, 6, 7}\n",
    "\n",
    "# Find the intersection using the intersection() method\n",
    "intersection_result = set1.intersection(set2)\n",
    "\n",
    "# Print the original sets and the intersection\n",
    "print(\"Set 1:\", set1)\n",
    "print(\"Set 2:\", set2)\n",
    "print(\"Intersection:\", intersection_result)"
   ]
  },
  {
   "cell_type": "code",
   "execution_count": 115,
   "id": "18b02005",
   "metadata": {},
   "outputs": [
    {
     "name": "stdout",
     "output_type": "stream",
     "text": [
      "Set 1: {1, 2, 3, 4, 5}\n",
      "Set 2: {3, 4, 5, 6, 7}\n",
      "Difference: {1, 2}\n"
     ]
    }
   ],
   "source": [
    "#11\n",
    "# Create two sets\n",
    "set1 = {1, 2, 3, 4, 5}\n",
    "set2 = {3, 4, 5, 6, 7}\n",
    "\n",
    "# Find the difference between the sets using the difference() method\n",
    "difference_set = set1.difference(set2)\n",
    "\n",
    "# Print the original sets and the difference set\n",
    "print(\"Set 1:\", set1)\n",
    "print(\"Set 2:\", set2)\n",
    "print(\"Difference:\", difference_set)"
   ]
  },
  {
   "cell_type": "code",
   "execution_count": 116,
   "id": "308e79ae",
   "metadata": {},
   "outputs": [
    {
     "name": "stdout",
     "output_type": "stream",
     "text": [
      "Is set1 a subset of set2: True\n"
     ]
    }
   ],
   "source": [
    "#12\n",
    "# Define the two sets\n",
    "set1 = {1, 2, 3}\n",
    "set2 = {1, 2, 3, 4, 5}\n",
    "\n",
    "# Use the \"issubset()\" method to check if set1 is a subset of set2\n",
    "is_subset = set1.issubset(set2)\n",
    "\n",
    "# Print the result\n",
    "print(\"Is set1 a subset of set2:\", is_subset)"
   ]
  },
  {
   "cell_type": "code",
   "execution_count": 117,
   "id": "10d35351",
   "metadata": {},
   "outputs": [
    {
     "name": "stdout",
     "output_type": "stream",
     "text": [
      "set1 is a superset of set2\n"
     ]
    }
   ],
   "source": [
    "#13\n",
    "# Create two sets\n",
    "set1 = {1, 2, 3, 4, 5, 6}\n",
    "set2 = {3, 4}\n",
    "\n",
    "# Check if set1 is a superset of set2\n",
    "is_superset = set1.issuperset(set2)\n",
    "\n",
    "# Print the result\n",
    "if is_superset:\n",
    "    print(\"set1 is a superset of set2\")\n",
    "else:\n",
    "    print(\"set1 is not a superset of set2\")"
   ]
  },
  {
   "cell_type": "code",
   "execution_count": 118,
   "id": "f5dba583",
   "metadata": {},
   "outputs": [
    {
     "name": "stdout",
     "output_type": "stream",
     "text": [
      "Original List: [2, 4, 1, 4, 3, 2, 5]\n",
      "Set from List: {1, 2, 3, 4, 5}\n"
     ]
    }
   ],
   "source": [
    "#14\n",
    "# Step 1: Create a list of elements\n",
    "my_list = [2, 4, 1, 4, 3, 2, 5]\n",
    "\n",
    "# Step 2: Use the set() constructor to convert the list into a set\n",
    "# This automatically removes duplicates and creates a set with unique elements\n",
    "my_set = set(my_list)\n",
    "\n",
    "# Step 3: Print the original list and the resulting set\n",
    "print(\"Original List:\", my_list)\n",
    "print(\"Set from List:\", my_set)"
   ]
  },
  {
   "cell_type": "code",
   "execution_count": 119,
   "id": "87bb9d9d",
   "metadata": {},
   "outputs": [
    {
     "name": "stdout",
     "output_type": "stream",
     "text": [
      "Original Set: {1, 2, 3, 4, 5, 6, 9}\n",
      "Converted List: [1, 2, 3, 4, 5, 6, 9]\n"
     ]
    }
   ],
   "source": [
    "#15\n",
    "# Step 1: Create a set with some elements\n",
    "my_set = {3, 1, 4, 1, 5, 9, 2, 6, 5}\n",
    "\n",
    "# Step 2: Convert the set to a list using the list() function\n",
    "my_list = list(my_set)\n",
    "\n",
    "# Now, my_list contains the elements from my_set in list format\n",
    "\n",
    "# Step 3: Print the original set and the converted list\n",
    "print(\"Original Set:\", my_set)\n",
    "print(\"Converted List:\", my_list)"
   ]
  },
  {
   "cell_type": "code",
   "execution_count": 120,
   "id": "6eb2976c",
   "metadata": {},
   "outputs": [
    {
     "name": "stdout",
     "output_type": "stream",
     "text": [
      "Original set: {1, 2, 3, 4, 5}\n",
      "Updated set after removing 3 : {1, 2, 4, 5}\n"
     ]
    }
   ],
   "source": [
    "#16\n",
    "import random  # Import the random module\n",
    "\n",
    "# Create a set with some elements\n",
    "my_set = {1, 2, 3, 4, 5}\n",
    "\n",
    "# Display the original set\n",
    "print(\"Original set:\", my_set)\n",
    "\n",
    "# Choose a random element from the set using the random.choice() function\n",
    "random_element = random.choice(list(my_set))\n",
    "\n",
    "# Remove the chosen random element from the set using the remove() method\n",
    "my_set.remove(random_element)\n",
    "\n",
    "# Display the updated set after removing the random element\n",
    "print(\"Updated set after removing\", random_element, \":\", my_set)"
   ]
  },
  {
   "cell_type": "code",
   "execution_count": 121,
   "id": "d9ecdcf9",
   "metadata": {},
   "outputs": [
    {
     "name": "stdout",
     "output_type": "stream",
     "text": [
      "Original set: {1, 2, 3, 4, 5}\n",
      "Popped element: 1\n",
      "Set after popping: {2, 3, 4, 5}\n"
     ]
    }
   ],
   "source": [
    "#17\n",
    "# Create a set with some elements\n",
    "my_set = {1, 2, 3, 4, 5}\n",
    "\n",
    "# Print the original set\n",
    "print(\"Original set:\", my_set)\n",
    "\n",
    "# Pop an element from the set using the pop() method\n",
    "popped_element = my_set.pop()\n",
    "\n",
    "# Print the element that was popped\n",
    "print(\"Popped element:\", popped_element)\n",
    "\n",
    "# Print the set after popping an element\n",
    "print(\"Set after popping:\", my_set)"
   ]
  },
  {
   "cell_type": "code",
   "execution_count": 122,
   "id": "9a590513",
   "metadata": {},
   "outputs": [
    {
     "name": "stdout",
     "output_type": "stream",
     "text": [
      "The two sets have no elements in common.\n"
     ]
    }
   ],
   "source": [
    "#18\n",
    "# Step 1: Define two sets\n",
    "set1 = {1, 2, 3, 4}\n",
    "set2 = {5, 6, 7, 8}\n",
    "\n",
    "# Step 2: Check if the intersection of the two sets is empty\n",
    "# The intersection is the set of elements that are common to both sets\n",
    "common_elements = set1.intersection(set2)\n",
    "\n",
    "# Step 3: Check if the common_elements set is empty\n",
    "if not common_elements:\n",
    "    print(\"The two sets have no elements in common.\")\n",
    "else:\n",
    "    print(\"The two sets have common elements:\", common_elements)"
   ]
  },
  {
   "cell_type": "code",
   "execution_count": 123,
   "id": "b444935e",
   "metadata": {},
   "outputs": [
    {
     "name": "stdout",
     "output_type": "stream",
     "text": [
      "Symmetric Difference: {1, 2, 3, 6, 7, 8}\n"
     ]
    }
   ],
   "source": [
    "#19\n",
    "# Define two sets\n",
    "set1 = {1, 2, 3, 4, 5}\n",
    "set2 = {4, 5, 6, 7, 8}\n",
    "\n",
    "# Calculate the symmetric difference using the ^ operator\n",
    "symmetric_difference = set1 ^ set2\n",
    "\n",
    "# Print the symmetric difference\n",
    "print(\"Symmetric Difference:\", symmetric_difference)"
   ]
  },
  {
   "cell_type": "code",
   "execution_count": 124,
   "id": "7274e224",
   "metadata": {},
   "outputs": [
    {
     "name": "stdout",
     "output_type": "stream",
     "text": [
      "Set 1: {1, 2, 3}\n",
      "Set 2: {3, 4, 5}\n",
      "Updated Set 1: {1, 2, 3, 4, 5}\n"
     ]
    }
   ],
   "source": [
    "#20\n",
    "# Create the first set\n",
    "set1 = {1, 2, 3}\n",
    "print(\"Set 1:\", set1)\n",
    "\n",
    "# Create the second set\n",
    "set2 = {3, 4, 5}\n",
    "print(\"Set 2:\", set2)\n",
    "\n",
    "# Update set1 with elements from set2\n",
    "set1.update(set2)\n",
    "print(\"Updated Set 1:\", set1)"
   ]
  },
  {
   "cell_type": "code",
   "execution_count": 125,
   "id": "9071162a",
   "metadata": {},
   "outputs": [
    {
     "name": "stdout",
     "output_type": "stream",
     "text": [
      "Set of the first 5 prime numbers: {2, 3, 5, 7, 11}\n"
     ]
    }
   ],
   "source": [
    "#21\n",
    "# Function to check if a number is prime\n",
    "def is_prime(num):\n",
    "    if num <= 1:\n",
    "        return False\n",
    "    for i in range(2, int(num ** 0.5) + 1):\n",
    "        if num % i == 0:\n",
    "            return False\n",
    "    return True\n",
    "\n",
    "# Create an empty set to store the prime numbers\n",
    "prime_set = set()\n",
    "\n",
    "# Initialize the number to start checking for primes\n",
    "num = 2\n",
    "\n",
    "# Loop until we have found the first 5 prime numbers\n",
    "while len(prime_set) < 5:\n",
    "    # Check if the current number is prime using the is_prime function\n",
    "    if is_prime(num):\n",
    "        # If the number is prime, add it to the prime_set\n",
    "        prime_set.add(num)\n",
    "\n",
    "    # Move on to the next number for the next iteration\n",
    "    num += 1\n",
    "\n",
    "# Print the set of prime numbers\n",
    "print(\"Set of the first 5 prime numbers:\", prime_set)"
   ]
  },
  {
   "cell_type": "code",
   "execution_count": 126,
   "id": "a6d4f95b",
   "metadata": {},
   "outputs": [
    {
     "name": "stdout",
     "output_type": "stream",
     "text": [
      "The sets are identical.\n"
     ]
    }
   ],
   "source": [
    "#22\n",
    "# Step 1: Define two sets\n",
    "set1 = {1, 2, 3, 4, 5}\n",
    "set2 = {3, 1, 5, 2, 4}  # The order of elements doesn't matter in sets\n",
    "\n",
    "# Step 2: Check if the sets are identical using the `==` operator\n",
    "# Sets are unordered collections, so the order of elements doesn't matter.\n",
    "# The `==` operator compares the content of the sets.\n",
    "if set1 == set2:\n",
    "    print(\"The sets are identical.\")\n",
    "else:\n",
    "    print(\"The sets are not identical.\")"
   ]
  },
  {
   "cell_type": "code",
   "execution_count": 127,
   "id": "c21979f9",
   "metadata": {},
   "outputs": [
    {
     "name": "stdout",
     "output_type": "stream",
     "text": [
      "Frozen Set: frozenset({1, 2, 3, 4, 5})\n"
     ]
    }
   ],
   "source": [
    "#23\n",
    "# Step 2: Define a list of elements that you want to include in the frozen set\n",
    "elements = [1, 2, 3, 4, 5]\n",
    "\n",
    "# Step 3: Create a frozen set using the 'frozenset' constructor and passing the list of elements\n",
    "my_frozen_set = frozenset(elements)\n",
    "\n",
    "# Step 4: Print the frozen set\n",
    "print(\"Frozen Set:\", my_frozen_set)"
   ]
  },
  {
   "cell_type": "code",
   "execution_count": 128,
   "id": "458c0b89",
   "metadata": {},
   "outputs": [
    {
     "name": "stdout",
     "output_type": "stream",
     "text": [
      "Are the sets disjoint? True\n"
     ]
    }
   ],
   "source": [
    "#24\n",
    "# Step 1: Define the two sets you want to check for disjointness\n",
    "set1 = {1, 2, 3, 4}\n",
    "set2 = {5, 6, 7, 8}\n",
    "\n",
    "# Step 2: Use the `isdisjoint()` method to check if the sets are disjoint\n",
    "# The `isdisjoint()` method returns True if the sets have no common elements,\n",
    "# and False if they have at least one common element.\n",
    "disjoint_status = set1.isdisjoint(set2)\n",
    "\n",
    "# Step 3: Print the result\n",
    "print(\"Are the sets disjoint?\", disjoint_status)"
   ]
  },
  {
   "cell_type": "code",
   "execution_count": 129,
   "id": "ca174bb2",
   "metadata": {},
   "outputs": [
    {
     "name": "stdout",
     "output_type": "stream",
     "text": [
      "{1, 4, 9, 16, 25}\n"
     ]
    }
   ],
   "source": [
    "#25\n",
    "# Step 1: Create an empty set to store the squares of numbers\n",
    "squares_set = set()\n",
    "\n",
    "# Step 2: Use a loop to iterate through numbers from 1 to 5\n",
    "for num in range(1, 6):\n",
    "    # Step 3: Calculate the square of the current number\n",
    "    square = num ** 2\n",
    "\n",
    "    # Step 4: Add the square to the set\n",
    "    squares_set.add(square)\n",
    "\n",
    "# Step 5: Print the set of squares\n",
    "print(squares_set)"
   ]
  },
  {
   "cell_type": "code",
   "execution_count": 130,
   "id": "18cddb3b",
   "metadata": {},
   "outputs": [
    {
     "name": "stdout",
     "output_type": "stream",
     "text": [
      "Original Set: {1, 2, 3, 4, 5}\n",
      "Even Numbers Set: {2, 4}\n"
     ]
    }
   ],
   "source": [
    "#26\n",
    "# Step 1: Create a set with integers from 1 to 5\n",
    "original_set = {1, 2, 3, 4, 5}\n",
    "\n",
    "# Step 2: Initialize an empty set to store the filtered even numbers\n",
    "even_numbers_set = set()\n",
    "\n",
    "# Step 3: Iterate through each element in the original set\n",
    "for num in original_set:\n",
    "    # Step 4: Check if the current number is even (divisible by 2)\n",
    "    if num % 2 == 0:\n",
    "        # Step 5: If even, add it to the even_numbers_set\n",
    "        even_numbers_set.add(num)\n",
    "\n",
    "# Step 6: Print the original set and the set containing even numbers\n",
    "print(\"Original Set:\", original_set)\n",
    "print(\"Even Numbers Set:\", even_numbers_set)"
   ]
  },
  {
   "cell_type": "code",
   "execution_count": 131,
   "id": "b4ea41cf",
   "metadata": {},
   "outputs": [
    {
     "name": "stdout",
     "output_type": "stream",
     "text": [
      "Original Set: {1, 2, 3, 4, 5}\n",
      "Multiplied Set: {2, 4, 6, 8, 10}\n"
     ]
    }
   ],
   "source": [
    "#27\n",
    "# Create a set with integers from 1 to 5\n",
    "original_set = {1, 2, 3, 4, 5}\n",
    "\n",
    "# Initialize an empty set to store the multiplied elements\n",
    "multiplied_set = set()\n",
    "\n",
    "# Loop through each element in the original set\n",
    "for num in original_set:\n",
    "    # Multiply the current element by 2\n",
    "    multiplied_num = num * 2\n",
    "\n",
    "    # Add the multiplied element to the multiplied_set\n",
    "    multiplied_set.add(multiplied_num)\n",
    "\n",
    "# The original_set remains unchanged\n",
    "print(\"Original Set:\", original_set)\n",
    "\n",
    "# Display the set with elements multiplied by 2\n",
    "print(\"Multiplied Set:\", multiplied_set)"
   ]
  },
  {
   "cell_type": "code",
   "execution_count": 132,
   "id": "91b841b1",
   "metadata": {},
   "outputs": [
    {
     "name": "stdout",
     "output_type": "stream",
     "text": [
      "Generated set of random numbers: {33, 98, 99, 18, 93}\n"
     ]
    }
   ],
   "source": [
    "#28\n",
    "# Step 1: Import the `random` module to generate random numbers\n",
    "import random\n",
    "\n",
    "# Step 2: Define the number of random numbers you want in the set\n",
    "num_random_numbers = 5\n",
    "\n",
    "# Step 3: Initialize an empty set to store the random numbers\n",
    "random_number_set = set()\n",
    "\n",
    "# Step 4: Use a loop to generate random numbers and add them to the set\n",
    "for _ in range(num_random_numbers):\n",
    "    # Generate a random integer using the `randint` function from the `random` module\n",
    "    random_num = random.randint(1, 100)  # Generate a random number between 1 and 100\n",
    "    # Add the random number to the set\n",
    "    random_number_set.add(random_num)\n",
    "\n",
    "# Step 5: Print the generated set of random numbers\n",
    "print(\"Generated set of random numbers:\", random_number_set)"
   ]
  },
  {
   "cell_type": "code",
   "execution_count": 133,
   "id": "0ae6cb18",
   "metadata": {},
   "outputs": [
    {
     "name": "stdout",
     "output_type": "stream",
     "text": [
      "The set is empty.\n"
     ]
    }
   ],
   "source": [
    "#29\n",
    "# Step 1: Create a set (you can replace this with your own set)\n",
    "my_set = set()\n",
    "\n",
    "# Step 2: Check if the set is empty using the 'if' statement\n",
    "if not my_set:\n",
    "    print(\"The set is empty.\")\n",
    "else:\n",
    "    print(\"The set is not empty.\")"
   ]
  },
  {
   "cell_type": "code",
   "execution_count": 134,
   "id": "ac6aa01f",
   "metadata": {},
   "outputs": [
    {
     "name": "stdout",
     "output_type": "stream",
     "text": [
      "Nested Set: {frozenset({1, 2, 3, 4, 5}), frozenset({6, 7, 8, 9, 10})}\n"
     ]
    }
   ],
   "source": [
    "#30\n",
    "# Step 1: Create the inner sets\n",
    "set1 = {1, 2, 3, 4, 5}\n",
    "set2 = {6, 7, 8, 9, 10}\n",
    "\n",
    "# Step 2: Create frozensets from the inner sets\n",
    "frozen_set1 = frozenset(set1)\n",
    "frozen_set2 = frozenset(set2)\n",
    "\n",
    "# Step 3: Create the nested set using the frozensets\n",
    "nested_set = {frozen_set1, frozen_set2}\n",
    "\n",
    "# Print the nested set\n",
    "print(\"Nested Set:\", nested_set)"
   ]
  },
  {
   "cell_type": "code",
   "execution_count": 135,
   "id": "bdb19cb3",
   "metadata": {},
   "outputs": [
    {
     "name": "stdout",
     "output_type": "stream",
     "text": [
      "Initial set: {1, 2, 3, 4, 5}\n",
      "Set after removing 3 : {1, 2, 4, 5}\n"
     ]
    }
   ],
   "source": [
    "#31\n",
    "# Create a set with some elements\n",
    "my_set = {1, 2, 3, 4, 5}\n",
    "\n",
    "# Display the initial set\n",
    "print(\"Initial set:\", my_set)\n",
    "\n",
    "# Define the element to be removed\n",
    "element_to_remove = 3\n",
    "\n",
    "# Use the discard() method to remove the element from the set\n",
    "# If the element is not present in the set, discard() won't raise an error\n",
    "my_set.discard(element_to_remove)\n",
    "\n",
    "# Display the set after removing the element\n",
    "print(\"Set after removing\", element_to_remove, \":\", my_set)"
   ]
  },
  {
   "cell_type": "code",
   "execution_count": 136,
   "id": "f65f5697",
   "metadata": {},
   "outputs": [
    {
     "name": "stdout",
     "output_type": "stream",
     "text": [
      "Set 1: {1, 2, 3, 4, 5}\n",
      "Set 2: {4, 5, 6, 7, 8}\n",
      "Is set1 a subset of set2? False\n",
      "Is set2 a subset of set1? False\n",
      "Intersection: {4, 5}\n",
      "Union: {1, 2, 3, 4, 5, 6, 7, 8}\n",
      "Elements in set1 but not in set2: {1, 2, 3}\n",
      "Elements in set2 but not in set1: {8, 6, 7}\n"
     ]
    }
   ],
   "source": [
    "#32\n",
    "# Step 1: Define two sets\n",
    "set1 = {1, 2, 3, 4, 5}\n",
    "set2 = {4, 5, 6, 7, 8}\n",
    "\n",
    "# Step 2: Use set operations to compare the sets\n",
    "# Check if set1 is a subset of set2\n",
    "is_subset = set1.issubset(set2)\n",
    "\n",
    "# Check if set2 is a subset of set1\n",
    "is_superset = set1.issuperset(set2)\n",
    "\n",
    "# Find the intersection of the sets\n",
    "intersection = set1.intersection(set2)\n",
    "\n",
    "# Find the union of the sets\n",
    "union = set1.union(set2)\n",
    "\n",
    "# Find the elements that are in set1 but not in set2\n",
    "difference1 = set1.difference(set2)\n",
    "\n",
    "# Find the elements that are in set2 but not in set1\n",
    "difference2 = set2.difference(set1)\n",
    "\n",
    "# Step 3: Print the results\n",
    "print(\"Set 1:\", set1)\n",
    "print(\"Set 2:\", set2)\n",
    "print(\"Is set1 a subset of set2?\", is_subset)\n",
    "print(\"Is set2 a subset of set1?\", is_superset)\n",
    "print(\"Intersection:\", intersection)\n",
    "print(\"Union:\", union)\n",
    "print(\"Elements in set1 but not in set2:\", difference1)\n",
    "print(\"Elements in set2 but not in set1:\", difference2)"
   ]
  },
  {
   "cell_type": "code",
   "execution_count": 137,
   "id": "c25340aa",
   "metadata": {},
   "outputs": [
    {
     "name": "stdout",
     "output_type": "stream",
     "text": [
      "{'h', 'l', 'e', 'o'}\n"
     ]
    }
   ],
   "source": [
    "#33\n",
    "# Step 1: Define the input string\n",
    "input_string = \"hello\"\n",
    "\n",
    "# Step 2: Use the set() constructor to create a set from the characters in the string\n",
    "char_set = set(input_string)\n",
    "\n",
    "# Step 3: Print the resulting set\n",
    "print(char_set)"
   ]
  },
  {
   "cell_type": "code",
   "execution_count": 138,
   "id": "1145a6c9",
   "metadata": {},
   "outputs": [
    {
     "name": "stdout",
     "output_type": "stream",
     "text": [
      "Original String Set: {'789', '123', '456'}\n",
      "Converted Integer Set: {456, 123, 789}\n"
     ]
    }
   ],
   "source": [
    "#34\n",
    "# Step 1: Create a set of strings\n",
    "string_set = {\"123\", \"456\", \"789\"}\n",
    "\n",
    "# Step 2: Initialize an empty set to store integers\n",
    "integer_set = set()\n",
    "\n",
    "# Step 3: Iterate through each string in the string set\n",
    "for string in string_set:\n",
    "    # Step 4: Convert the string to an integer using the int() function\n",
    "    integer_value = int(string)\n",
    "\n",
    "    # Step 5: Add the integer to the integer set\n",
    "    integer_set.add(integer_value)\n",
    "\n",
    "# Step 6: Print the original string set and the converted integer set\n",
    "print(\"Original String Set:\", string_set)\n",
    "print(\"Converted Integer Set:\", integer_set)"
   ]
  },
  {
   "cell_type": "code",
   "execution_count": 139,
   "id": "645cf64a",
   "metadata": {},
   "outputs": [
    {
     "name": "stdout",
     "output_type": "stream",
     "text": [
      "Original integers_set: {1, 2, 3, 4, 5}\n",
      "Converted strings_set: {'4', '2', '1', '3', '5'}\n"
     ]
    }
   ],
   "source": [
    "#35\n",
    "# Step 1: Create a set of integers\n",
    "integers_set = {1, 2, 3, 4, 5}\n",
    "\n",
    "# Step 2: Initialize an empty set to store the strings\n",
    "strings_set = set()\n",
    "\n",
    "# Step 3: Iterate through each integer in the integers_set\n",
    "for num in integers_set:\n",
    "    # Step 4: Convert the integer to a string using the str() function\n",
    "    num_str = str(num)\n",
    "\n",
    "    # Step 5: Add the string representation to the strings_set\n",
    "    strings_set.add(num_str)\n",
    "\n",
    "# Step 6: Print the original integers_set and the converted strings_set\n",
    "print(\"Original integers_set:\", integers_set)\n",
    "print(\"Converted strings_set:\", strings_set)"
   ]
  },
  {
   "cell_type": "code",
   "execution_count": 140,
   "id": "5876380e",
   "metadata": {},
   "outputs": [
    {
     "name": "stdout",
     "output_type": "stream",
     "text": [
      "{1, 2, 3, 4, 5}\n"
     ]
    }
   ],
   "source": [
    "#36\n",
    "# Given tuple\n",
    "input_tuple = (1, 2, 3, 2, 4, 5, 1)\n",
    "\n",
    "# Step 1: Convert the tuple to a set\n",
    "output_set = set(input_tuple)\n",
    "# At this point, the set() function is used to convert the elements of the tuple into a set.\n",
    "# Since sets only contain unique elements, duplicate values are automatically removed.\n",
    "\n",
    "# Step 2: Print the resulting set\n",
    "print(output_set)\n",
    "# The set is now printed, and it will only contain the unique elements from the original tuple."
   ]
  },
  {
   "cell_type": "code",
   "execution_count": 141,
   "id": "d6037164",
   "metadata": {},
   "outputs": [
    {
     "name": "stdout",
     "output_type": "stream",
     "text": [
      "Original set: {1, 2, 3, 4, 5}\n",
      "Converted tuple: (1, 2, 3, 4, 5)\n"
     ]
    }
   ],
   "source": [
    "#37\n",
    "# Step 1: Create a set\n",
    "input_set = {1, 2, 3, 4, 5}\n",
    "\n",
    "# Step 2: Convert the set to a tuple\n",
    "output_tuple = tuple(input_set)\n",
    "\n",
    "# Step 3: Print the original set and the converted tuple\n",
    "print(\"Original set:\", input_set)\n",
    "print(\"Converted tuple:\", output_tuple)"
   ]
  },
  {
   "cell_type": "code",
   "execution_count": 142,
   "id": "15226c95",
   "metadata": {},
   "outputs": [
    {
     "name": "stdout",
     "output_type": "stream",
     "text": [
      "Maximum value: 22\n"
     ]
    }
   ],
   "source": [
    "#38\n",
    "# Define a set with some values\n",
    "my_set = {15, 7, 22, 13, 8}\n",
    "\n",
    "# Initialize a variable to store the maximum value\n",
    "max_value = None\n",
    "\n",
    "# Iterate through each element in the set\n",
    "for num in my_set:\n",
    "    # Check if max_value is None (first iteration) or if the current number is greater than max_value\n",
    "    if max_value is None or num > max_value:\n",
    "        max_value = num  # Update max_value with the current number if it's greater\n",
    "\n",
    "# Print the maximum value\n",
    "print(\"Maximum value:\", max_value)"
   ]
  },
  {
   "cell_type": "code",
   "execution_count": 143,
   "id": "236ab1ce",
   "metadata": {},
   "outputs": [
    {
     "name": "stdout",
     "output_type": "stream",
     "text": [
      "The minimum value in the set is: 4\n"
     ]
    }
   ],
   "source": [
    "#39\n",
    "# Create a sample set of numbers\n",
    "number_set = {15, 8, 23, 4, 42, 11}\n",
    "\n",
    "# Initialize a variable to store the minimum value\n",
    "min_value = None\n",
    "\n",
    "# Iterate through each element in the set\n",
    "for num in number_set:\n",
    "    # Check if min_value is None (first iteration) or if num is smaller than the current min_value\n",
    "    if min_value is None or num < min_value:\n",
    "        # Update min_value to the current num since it's smaller\n",
    "        min_value = num\n",
    "\n",
    "# Print the minimum value found in the set\n",
    "print(\"The minimum value in the set is:\", min_value)"
   ]
  },
  {
   "cell_type": "code",
   "execution_count": 144,
   "id": "c9e341ab",
   "metadata": {},
   "outputs": [
    {
     "name": "stdout",
     "output_type": "stream",
     "text": [
      "Enter elements for the set (type 'done' to finish):\n",
      "> 5\n",
      "> 5\n",
      "> 6\n",
      "> 5\n",
      "> 32\n",
      "> 232683\n",
      "> done\n",
      "Final set: {'5', '6', '232683', '32'}\n"
     ]
    }
   ],
   "source": [
    "#40 \n",
    "# Step 1: Initialize an empty set\n",
    "user_set = set()\n",
    "\n",
    "# Step 2: Get input from the user\n",
    "print(\"Enter elements for the set (type 'done' to finish):\")\n",
    "while True:\n",
    "    user_input = input(\"> \")  # Get input from the user\n",
    "\n",
    "    if user_input.lower() == 'done':\n",
    "        break  # Exit the loop if the user enters 'done'\n",
    "\n",
    "    # Step 3: Add the user input to the set\n",
    "    user_set.add(user_input)\n",
    "\n",
    "# Step 4: Display the final set created from user input\n",
    "print(\"Final set:\", user_set)"
   ]
  },
  {
   "cell_type": "code",
   "execution_count": 145,
   "id": "a5937a13",
   "metadata": {},
   "outputs": [
    {
     "name": "stdout",
     "output_type": "stream",
     "text": [
      "The intersection of the two sets is not empty.\n"
     ]
    }
   ],
   "source": [
    "#41\n",
    "# Step 1: Define two sets\n",
    "set1 = {1, 2, 3, 4, 5}\n",
    "set2 = {4, 5, 6, 7, 8}\n",
    "\n",
    "# Step 2: Find the intersection of the two sets using the `intersection()` method\n",
    "intersection_result = set1.intersection(set2)\n",
    "\n",
    "# Step 3: Check if the intersection result is empty\n",
    "if not intersection_result:\n",
    "    print(\"The intersection of the two sets is empty.\")\n",
    "else:\n",
    "    print(\"The intersection of the two sets is not empty.\")\n",
    "    "
   ]
  },
  {
   "cell_type": "code",
   "execution_count": 146,
   "id": "61c1d21e",
   "metadata": {},
   "outputs": [
    {
     "name": "stdout",
     "output_type": "stream",
     "text": [
      "Set of the first 5 Fibonacci numbers: {0, 1, 2, 3, 5}\n"
     ]
    }
   ],
   "source": [
    "#42\n",
    "# Create a set to store the first 5 Fibonacci numbers\n",
    "fibonacci_set = set()\n",
    "\n",
    "# Initialize the first two Fibonacci numbers\n",
    "a, b = 0, 1\n",
    "\n",
    "# Loop to generate the first 5 Fibonacci numbers\n",
    "for _ in range(6):\n",
    "    # Add the current Fibonacci number to the set\n",
    "    fibonacci_set.add(a)\n",
    "\n",
    "    # Calculate the next Fibonacci number\n",
    "    a, b = b, a + b\n",
    "\n",
    "# Print the set of Fibonacci numbers\n",
    "print(\"Set of the first 5 Fibonacci numbers:\", fibonacci_set)"
   ]
  },
  {
   "cell_type": "code",
   "execution_count": 147,
   "id": "3f45a7b8",
   "metadata": {},
   "outputs": [
    {
     "name": "stdout",
     "output_type": "stream",
     "text": [
      "Original List: [2, 4, 6, 8, 4, 10, 6, 12, 14, 8]\n",
      "List with Duplicates Removed: [2, 4, 6, 8, 10, 12, 14]\n"
     ]
    }
   ],
   "source": [
    "#43\n",
    "# Step 1: Define a list with duplicates\n",
    "original_list = [2, 4, 6, 8, 4, 10, 6, 12, 14, 8]\n",
    "\n",
    "# Step 2: Convert the list to a set\n",
    "unique_set = set(original_list)\n",
    "# Now, 'unique_set' contains only unique elements from 'original_list'\n",
    "\n",
    "# Step 3: Convert the set back to a list\n",
    "unique_list = list(unique_set)\n",
    "# Now, 'unique_list' is a list containing only unique elements\n",
    "\n",
    "# Step 4: Print the original list and the list with duplicates removed\n",
    "print(\"Original List:\", original_list)\n",
    "print(\"List with Duplicates Removed:\", unique_list)"
   ]
  },
  {
   "cell_type": "code",
   "execution_count": 148,
   "id": "65ccf100",
   "metadata": {},
   "outputs": [
    {
     "name": "stdout",
     "output_type": "stream",
     "text": [
      "The sets have the same elements.\n"
     ]
    }
   ],
   "source": [
    "#44\n",
    "def have_same_elements(set1, set2):\n",
    "    # Convert the sets to lists and sort them\n",
    "    sorted_list1 = sorted(list(set1))\n",
    "    sorted_list2 = sorted(list(set2))\n",
    "\n",
    "    # Compare the sorted lists to check if they are equal\n",
    "    return sorted_list1 == sorted_list2\n",
    "\n",
    "# Example sets\n",
    "set1 = {1, 2, 3, 2, 1}\n",
    "set2 = {3, 1, 2}\n",
    "\n",
    "# Check if the sets have the same elements\n",
    "result = have_same_elements(set1, set2)\n",
    "\n",
    "# Print the result\n",
    "if result:\n",
    "    print(\"The sets have the same elements.\")\n",
    "else:\n",
    "    print(\"The sets do not have the same elements.\")"
   ]
  },
  {
   "cell_type": "code",
   "execution_count": 149,
   "id": "83c25427",
   "metadata": {},
   "outputs": [
    {
     "name": "stdout",
     "output_type": "stream",
     "text": [
      "{1, 2, 4, 8, 16}\n"
     ]
    }
   ],
   "source": [
    "#45\n",
    "def generate_powers_of_2(n):\n",
    "    # Initialize an empty set to store the powers of 2\n",
    "    powers_of_2 = set()\n",
    "\n",
    "    # Loop from 0 to n-1\n",
    "    for i in range(n):\n",
    "        # Calculate the current power of 2 using the exponentiation operator **\n",
    "        power = 2 ** i\n",
    "\n",
    "        # Add the current power of 2 to the set\n",
    "        powers_of_2.add(power)\n",
    "\n",
    "    # Return the set of powers of 2\n",
    "    return powers_of_2\n",
    "\n",
    "# Define the value of n\n",
    "n = 5\n",
    "\n",
    "# Call the function to generate the set of powers of 2\n",
    "powers_set = generate_powers_of_2(n)\n",
    "\n",
    "# Print the resulting set\n",
    "print(powers_set)"
   ]
  },
  {
   "cell_type": "code",
   "execution_count": 150,
   "id": "800d8d16",
   "metadata": {},
   "outputs": [
    {
     "name": "stdout",
     "output_type": "stream",
     "text": [
      "Common elements: [7, 9, 12]\n"
     ]
    }
   ],
   "source": [
    "#46\n",
    "# Step 1: Define a set and a list\n",
    "my_set = {3, 7, 9, 12, 15}\n",
    "my_list = [7, 12, 5, 9]\n",
    "\n",
    "# Step 2: Convert the list to a set for efficient comparison\n",
    "list_to_set = set(my_list)\n",
    "\n",
    "# Step 3: Initialize an empty list to store common elements\n",
    "common_elements = []\n",
    "\n",
    "# Step 4: Iterate through the elements in the set\n",
    "for element in my_set:\n",
    "    # Step 5: Check if the element is present in the converted set (list_to_set)\n",
    "    if element in list_to_set:\n",
    "        # Step 6: If the element is present in both the set and the list, add it to the common_elements list\n",
    "        common_elements.append(element)\n",
    "\n",
    "# Step 7: Print the common elements\n",
    "print(\"Common elements:\", common_elements)"
   ]
  },
  {
   "cell_type": "code",
   "execution_count": 151,
   "id": "1a6fce63",
   "metadata": {},
   "outputs": [
    {
     "name": "stdout",
     "output_type": "stream",
     "text": [
      "Enter the value of n: 5\n",
      "The set of the first 5 triangular numbers is: {1, 3, 6, 10, 15}\n"
     ]
    }
   ],
   "source": [
    "#47\n",
    "def generate_triangular_numbers(n):\n",
    "    triangular_numbers = set()  # Create an empty set to store the triangular numbers\n",
    "    for i in range(1, n + 1):\n",
    "        triangular_number = i * (i + 1) // 2  # Calculate the ith triangular number using the formula\n",
    "        triangular_numbers.add(triangular_number)  # Add the calculated triangular number to the set\n",
    "    return triangular_numbers\n",
    "\n",
    "# Input the value of 'n'\n",
    "n = int(input(\"Enter the value of n: \"))\n",
    "\n",
    "# Call the function to generate the set of first 'n' triangular numbers\n",
    "triangular_set = generate_triangular_numbers(n)\n",
    "\n",
    "# Display the set of triangular numbers\n",
    "print(f\"The set of the first {n} triangular numbers is:\", triangular_set)"
   ]
  },
  {
   "cell_type": "code",
   "execution_count": 152,
   "id": "9026a5d1",
   "metadata": {},
   "outputs": [
    {
     "name": "stdout",
     "output_type": "stream",
     "text": [
      "set2 is a subset of set1\n"
     ]
    }
   ],
   "source": [
    "#48\n",
    "# Define two sets\n",
    "set1 = {1, 2, 3, 4, 5}\n",
    "set2 = {3, 4}\n",
    "\n",
    "# Check if set2 is a subset of set1\n",
    "is_subset = set2.issubset(set1)\n",
    "\n",
    "# Print the result\n",
    "if is_subset:\n",
    "    print(\"set2 is a subset of set1\")\n",
    "else:\n",
    "    print(\"set2 is not a subset of set1\")"
   ]
  },
  {
   "cell_type": "code",
   "execution_count": 153,
   "id": "a7f56898",
   "metadata": {},
   "outputs": [
    {
     "name": "stdout",
     "output_type": "stream",
     "text": [
      "{0, 1}\n"
     ]
    }
   ],
   "source": [
    "#49\n",
    "def create_alternating_set(n):\n",
    "    # Initialize an empty set to store the alternating sequence.\n",
    "    alternating_set = set()\n",
    "\n",
    "    # Loop to generate alternating 1s and 0s.\n",
    "    for i in range(n):\n",
    "        # Alternate between adding 1 and 0 to the set based on whether i is even or odd.\n",
    "        if i % 2 == 0:\n",
    "            alternating_set.add(1)  # Add 1 if i is even.\n",
    "        else:\n",
    "            alternating_set.add(0)  # Add 0 if i is odd.\n",
    "\n",
    "    return alternating_set\n",
    "\n",
    "# Define the desired length of the alternating set.\n",
    "length_n = 10\n",
    "\n",
    "# Call the function to create the alternating set of length 'length_n'.\n",
    "result = create_alternating_set(length_n)\n",
    "\n",
    "# Print the resulting set.\n",
    "print(result)"
   ]
  },
  {
   "cell_type": "code",
   "execution_count": 154,
   "id": "8762537c",
   "metadata": {},
   "outputs": [
    {
     "name": "stdout",
     "output_type": "stream",
     "text": [
      "Merged Set: {1, 2, 3, 4, 5, 6, 7}\n"
     ]
    }
   ],
   "source": [
    "#50\n",
    "# Step 1: Create multiple sets\n",
    "set1 = {1, 2, 3}\n",
    "set2 = {3, 4, 5}\n",
    "set3 = {5, 6, 7}\n",
    "\n",
    "# Step 2: Use the union() method to merge sets\n",
    "merged_set = set1.union(set2, set3)\n",
    "\n",
    "# Alternatively, you can use the | operator\n",
    "# merged_set = set1 | set2 | set3\n",
    "\n",
    "# Step 3: Print the merged set\n",
    "print(\"Merged Set:\", merged_set)"
   ]
  },
  {
   "cell_type": "code",
   "execution_count": null,
   "id": "e0b4b4de",
   "metadata": {},
   "outputs": [],
   "source": []
  }
 ],
 "metadata": {
  "kernelspec": {
   "display_name": "Python 3 (ipykernel)",
   "language": "python",
   "name": "python3"
  },
  "language_info": {
   "codemirror_mode": {
    "name": "ipython",
    "version": 3
   },
   "file_extension": ".py",
   "mimetype": "text/x-python",
   "name": "python",
   "nbconvert_exporter": "python",
   "pygments_lexer": "ipython3",
   "version": "3.9.12"
  }
 },
 "nbformat": 4,
 "nbformat_minor": 5
}
