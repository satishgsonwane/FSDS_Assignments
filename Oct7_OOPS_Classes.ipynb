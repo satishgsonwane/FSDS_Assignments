{
 "cells": [
  {
   "cell_type": "markdown",
   "id": "b3132138",
   "metadata": {},
   "source": [
    "# Problem 1: Bank Account Create a class representing a bank account with attributes like account number, account holder name, and balance. Implement methods to deposit and withdraw money from the account."
   ]
  },
  {
   "cell_type": "code",
   "execution_count": null,
   "id": "b0c5b313",
   "metadata": {},
   "outputs": [],
   "source": [
    "class BankAccount:\n",
    "    def __init__(self, account_number, account_holder_name, balance=0.0):\n",
    "        self.account_number = account_number\n",
    "        self.account_holder_name = account_holder_name\n",
    "        self.balance = balance\n",
    "        self.currency = \"INR\"\n",
    "\n",
    "    def deposit(self, amount):\n",
    "        if amount > 0:\n",
    "            self.balance += amount\n",
    "            print(f\"Deposited {amount} {self.currency}. New balance: {self.balance} {self.currency}\")\n",
    "        else:\n",
    "            print(\"Invalid deposit amount. Please enter a positive value.\")\n",
    "\n",
    "    def withdraw(self, amount):\n",
    "        if amount > 0 and amount <= self.balance:\n",
    "            self.balance -= amount\n",
    "            print(f\"Withdrew {amount} {self.currency}. New balance: {self.balance} {self.currency}\")\n",
    "        elif amount > self.balance:\n",
    "            print(\"Insufficient funds. Withdrawal denied.\")\n",
    "        else:\n",
    "            print(\"Invalid withdrawal amount. Please enter a positive value.\")\n",
    "\n",
    "    def get_balance(self):\n",
    "        return f\"{self.balance} {self.currency}\""
   ]
  },
  {
   "cell_type": "code",
   "execution_count": 18,
   "id": "8df49685",
   "metadata": {},
   "outputs": [],
   "source": [
    "# Example usage:\n",
    "if __name__ == \"__main__\":\n",
    "    # Create a bank account\n",
    "    my_account = BankAccount(\"123456789\", \"Satish\", 1000.0)"
   ]
  },
  {
   "cell_type": "code",
   "execution_count": 19,
   "id": "3169472e",
   "metadata": {},
   "outputs": [
    {
     "name": "stdout",
     "output_type": "stream",
     "text": [
      "Account Number: 123456789\n",
      "Account Holder: Satish\n",
      "Balance: 1000.0 INR\n"
     ]
    }
   ],
   "source": [
    "    print(f\"Account Number: {my_account.account_number}\")\n",
    "    print(f\"Account Holder: {my_account.account_holder_name}\")\n",
    "    print(f\"Balance: {my_account.get_balance()}\")"
   ]
  },
  {
   "cell_type": "code",
   "execution_count": 22,
   "id": "128e1160",
   "metadata": {},
   "outputs": [
    {
     "name": "stdout",
     "output_type": "stream",
     "text": [
      "Deposited 500 INR. New balance: 1500.0 INR\n",
      "Withdrew 200 INR. New balance: 1300.0 INR\n",
      "Insufficient funds. Withdrawal denied.\n",
      "Updated Balance: 1300.0 INR\n"
     ]
    }
   ],
   "source": [
    "my_account.deposit(500)  # Deposit 500 INR\n",
    "my_account.withdraw(200)  # Withdraw 200 INR\n",
    "my_account.withdraw(1500)  # Attempt to withdraw 1500 INR (insufficient funds)\n",
    "\n",
    "print(\"Updated Balance:\", my_account.get_balance())"
   ]
  },
  {
   "cell_type": "markdown",
   "id": "75383154",
   "metadata": {},
   "source": [
    "# Problem 2: Employee Management Create a class representing an employee with attributes like employee ID, name, and salary. Implement methods to calculate the yearly bonus and display employee details."
   ]
  },
  {
   "cell_type": "code",
   "execution_count": 27,
   "id": "446e3161",
   "metadata": {},
   "outputs": [],
   "source": [
    "class Employee:\n",
    "    def __init__(self, employee_id, name, salary):\n",
    "        self.employee_id = employee_id\n",
    "        self.name = name\n",
    "        self.salary = salary\n",
    "\n",
    "    def calculate_yearly_bonus(self, bonus_percentage):\n",
    "        if bonus_percentage >= 0:\n",
    "            bonus = (bonus_percentage / 100) * self.salary\n",
    "            return bonus\n",
    "        else:\n",
    "            return 0\n",
    "\n",
    "    def display_details(self):\n",
    "        print(f\"Employee ID: {self.employee_id}\")\n",
    "        print(f\"Name: {self.name}\")\n",
    "        print(f\"Salary: INR{self.salary}\")\n",
    "        print(f\"Yearly Bonus: INR{self.calculate_yearly_bonus(10)}\")  # Assuming a 10% bonus for demonstration"
   ]
  },
  {
   "cell_type": "code",
   "execution_count": 28,
   "id": "842b2429",
   "metadata": {},
   "outputs": [
    {
     "name": "stdout",
     "output_type": "stream",
     "text": [
      "Employee ID: E123\n",
      "Name: Satish\n",
      "Salary: INR50000\n",
      "Yearly Bonus: INR5000.0\n",
      "Yearly Bonus: INR5000.0\n"
     ]
    }
   ],
   "source": [
    "# Example usage:\n",
    "if __name__ == \"__main__\":\n",
    "    # Create an employee\n",
    "    emp1 = Employee(\"E123\", \"Satish\", 50000)\n",
    "\n",
    "    # Display employee details\n",
    "    emp1.display_details()\n",
    "\n",
    "    # Calculate and display the yearly bonus\n",
    "    bonus_percentage = 10  # 10% bonus\n",
    "    yearly_bonus = emp1.calculate_yearly_bonus(bonus_percentage)\n",
    "    print(f\"Yearly Bonus: INR{yearly_bonus}\")\n"
   ]
  },
  {
   "cell_type": "markdown",
   "id": "1c7c82a7",
   "metadata": {},
   "source": [
    "# Problem 3: Vehicle Rental Create a class representing a vehicle rental system. Implement methods to rent a vehicle, return a vehicle, and display available vehicles."
   ]
  },
  {
   "cell_type": "code",
   "execution_count": 29,
   "id": "75b31aaf",
   "metadata": {},
   "outputs": [],
   "source": [
    "class VehicleRentalSystem:\n",
    "    def __init__(self):\n",
    "        # Initialize an empty list to store the available vehicles.\n",
    "        self.available_vehicles = []\n",
    "\n",
    "    def add_vehicle(self, vehicle):\n",
    "        # Add a vehicle to the list of available vehicles.\n",
    "        self.available_vehicles.append(vehicle)\n",
    "\n",
    "    def rent_vehicle(self, customer, vehicle_type):\n",
    "        # Rent a vehicle to a customer if it's available.\n",
    "        for vehicle in self.available_vehicles:\n",
    "            if vehicle.type == vehicle_type:\n",
    "                if not vehicle.is_rented:\n",
    "                    vehicle.rent(customer)\n",
    "                    return f\"Vehicle {vehicle.registration_number} rented to {customer}.\"\n",
    "        return \"No available vehicle of that type.\"\n",
    "\n",
    "    def return_vehicle(self, customer, vehicle_type):\n",
    "        # Return a vehicle previously rented by a customer.\n",
    "        for vehicle in self.available_vehicles:\n",
    "            if vehicle.type == vehicle_type and vehicle.is_rented and vehicle.customer == customer:\n",
    "                vehicle.return_vehicle()\n",
    "                return f\"Vehicle {vehicle.registration_number} returned by {customer}.\"\n",
    "        return \"No matching rented vehicle found.\"\n",
    "\n",
    "    def display_available_vehicles(self):\n",
    "        # Display a list of available vehicles.\n",
    "        available_vehicle_list = [vehicle for vehicle in self.available_vehicles if not vehicle.is_rented]\n",
    "        if available_vehicle_list:\n",
    "            available_info = \"\\n\".join([f\"{vehicle.type}: {vehicle.registration_number}\" for vehicle in available_vehicle_list])\n",
    "            return f\"Available Vehicles:\\n{available_info}\"\n",
    "        else:\n",
    "            return \"No available vehicles.\"\n",
    "\n",
    "class Vehicle:\n",
    "    def __init__(self, registration_number, vehicle_type):\n",
    "        self.registration_number = registration_number\n",
    "        self.type = vehicle_type\n",
    "        self.is_rented = False\n",
    "        self.customer = None\n",
    "\n",
    "    def rent(self, customer):\n",
    "        self.is_rented = True\n",
    "        self.customer = customer\n",
    "\n",
    "    def return_vehicle(self):\n",
    "        self.is_rented = False\n",
    "        self.customer = None"
   ]
  },
  {
   "cell_type": "code",
   "execution_count": 31,
   "id": "c3eaf2bc",
   "metadata": {},
   "outputs": [
    {
     "name": "stdout",
     "output_type": "stream",
     "text": [
      "Vehicle XYZ789 rented to Satish.\n",
      "Vehicle XYZ789 returned by Satish.\n",
      "Available Vehicles:\n",
      "Sedan: ABC123\n",
      "SUV: XYZ789\n"
     ]
    }
   ],
   "source": [
    "# Example usage:\n",
    "if __name__ == \"__main__\":\n",
    "    rental_system = VehicleRentalSystem()\n",
    "\n",
    "    # Adding vehicles to the rental system\n",
    "    vehicle1 = Vehicle(\"ABC123\", \"Sedan\")\n",
    "    vehicle2 = Vehicle(\"XYZ789\", \"SUV\")\n",
    "    rental_system.add_vehicle(vehicle1)\n",
    "    rental_system.add_vehicle(vehicle2)\n",
    "\n",
    "    # Renting a vehicle\n",
    "    print(rental_system.rent_vehicle(\"Satish\", \"SUV\"))\n",
    "\n",
    "    # Returning a vehicle\n",
    "    print(rental_system.return_vehicle(\"Satish\", \"SUV\"))\n",
    "\n",
    "    # Display available vehicles\n",
    "    print(rental_system.display_available_vehicles())\n"
   ]
  },
  {
   "cell_type": "markdown",
   "id": "b115c401",
   "metadata": {},
   "source": [
    "# Problem 4: Library Catalog Create classes representing a library and a book. Implement methods to add books to the library, borrow books, and display available books."
   ]
  },
  {
   "cell_type": "code",
   "execution_count": 33,
   "id": "96d2e6b2",
   "metadata": {},
   "outputs": [],
   "source": [
    "class Book:\n",
    "    def __init__(self, title, author, book_id):\n",
    "        self.title = title\n",
    "        self.author = author\n",
    "        self.book_id = book_id\n",
    "        self.is_borrowed = False\n",
    "\n",
    "    def borrow(self):\n",
    "        if not self.is_borrowed:\n",
    "            self.is_borrowed = True\n",
    "            return f\"Book '{self.title}' by {self.author} has been borrowed.\"\n",
    "        else:\n",
    "            return f\"Book '{self.title}' is already borrowed.\"\n",
    "\n",
    "    def return_book(self):\n",
    "        if self.is_borrowed:\n",
    "            self.is_borrowed = False\n",
    "            return f\"Book '{self.title}' has been returned.\"\n",
    "        else:\n",
    "            return f\"Book '{self.title}' is not currently borrowed.\"\n",
    "\n",
    "    def __str__(self):\n",
    "        return f\"Book Title: {self.title}\\nAuthor: {self.author}\\nBook ID: {self.book_id}\\nStatus: {'Borrowed' if self.is_borrowed else 'Available'}\"\n",
    "\n",
    "\n",
    "class Library:\n",
    "    def __init__(self):\n",
    "        self.books = []\n",
    "\n",
    "    def add_book(self, book):\n",
    "        self.books.append(book)\n",
    "\n",
    "    def borrow_book(self, book_id):\n",
    "        for book in self.books:\n",
    "            if book.book_id == book_id:\n",
    "                return book.borrow()\n",
    "        return \"Book not found.\"\n",
    "\n",
    "    def return_book(self, book_id):\n",
    "        for book in self.books:\n",
    "            if book.book_id == book_id:\n",
    "                return book.return_book()\n",
    "        return \"Book not found.\"\n",
    "\n",
    "    def display_available_books(self):\n",
    "        available_books = [book for book in self.books if not book.is_borrowed]\n",
    "        if available_books:\n",
    "            return \"\\n\\n\".join([str(book) for book in available_books])\n",
    "        else:\n",
    "            return \"No available books in the library.\""
   ]
  },
  {
   "cell_type": "code",
   "execution_count": 34,
   "id": "997b1b7f",
   "metadata": {},
   "outputs": [
    {
     "name": "stdout",
     "output_type": "stream",
     "text": [
      "Book 'To Kill a Mockingbird' by Harper Lee has been borrowed.\n",
      "Book 'The Great Gatsby' by F. Scott Fitzgerald has been borrowed.\n",
      "Book 'To Kill a Mockingbird' has been returned.\n",
      "Book Title: To Kill a Mockingbird\n",
      "Author: Harper Lee\n",
      "Book ID: 2\n",
      "Status: Available\n",
      "\n",
      "Book Title: 1984\n",
      "Author: George Orwell\n",
      "Book ID: 3\n",
      "Status: Available\n"
     ]
    }
   ],
   "source": [
    "# Example usage:\n",
    "if __name__ == \"__main__\":\n",
    "    library = Library()\n",
    "\n",
    "    book1 = Book(\"The Great Gatsby\", \"F. Scott Fitzgerald\", 1)\n",
    "    book2 = Book(\"To Kill a Mockingbird\", \"Harper Lee\", 2)\n",
    "    book3 = Book(\"1984\", \"George Orwell\", 3)\n",
    "\n",
    "    library.add_book(book1)\n",
    "    library.add_book(book2)\n",
    "    library.add_book(book3)\n",
    "\n",
    "    print(library.borrow_book(2))\n",
    "    print(library.borrow_book(1))\n",
    "    print(library.return_book(2))\n",
    "\n",
    "    print(library.display_available_books())\n"
   ]
  },
  {
   "cell_type": "markdown",
   "id": "a5795dc7",
   "metadata": {},
   "source": [
    "# Problem 5: Product Inventory Create classes representing a product and an inventory system. Implement methods to add products to the inventory, update product quantity, and display available products."
   ]
  },
  {
   "cell_type": "code",
   "execution_count": 37,
   "id": "5910f124",
   "metadata": {},
   "outputs": [],
   "source": [
    "class Product:\n",
    "    def __init__(self, product_id, name, price, quantity):\n",
    "        self.product_id = product_id\n",
    "        self.name = name\n",
    "        self.price = price\n",
    "        self.quantity = quantity\n",
    "\n",
    "    def update_quantity(self, new_quantity):\n",
    "        if new_quantity >= 0:\n",
    "            self.quantity = new_quantity\n",
    "        else:\n",
    "            print(\"Invalid quantity. Please enter a non-negative value.\")\n",
    "\n",
    "    def __str__(self):\n",
    "        return f\"Product ID: {self.product_id}\\nName: {self.name}\\nPrice: INR{self.price:.2f}\\nQuantity: {self.quantity}\"\n",
    "\n",
    "\n",
    "class Inventory:\n",
    "    def __init__(self):\n",
    "        self.products = []\n",
    "\n",
    "    def add_product(self, product):\n",
    "        self.products.append(product)\n",
    "\n",
    "    def update_product_quantity(self, product_id, new_quantity):\n",
    "        for product in self.products:\n",
    "            if product.product_id == product_id:\n",
    "                product.update_quantity(new_quantity)\n",
    "                return f\"Quantity for product '{product.name}' updated to {new_quantity}.\"\n",
    "        return \"Product not found.\"\n",
    "\n",
    "    def display_available_products(self):\n",
    "        available_products = [product for product in self.products if product.quantity > 0]\n",
    "        if available_products:\n",
    "            return \"\\n\\n\".join([str(product) for product in available_products])\n",
    "        else:\n",
    "            return \"No available products in the inventory.\""
   ]
  },
  {
   "cell_type": "code",
   "execution_count": 38,
   "id": "1465817e",
   "metadata": {},
   "outputs": [
    {
     "name": "stdout",
     "output_type": "stream",
     "text": [
      "Quantity for product 'Phone' updated to 8.\n",
      "Invalid quantity. Please enter a non-negative value.\n",
      "Quantity for product 'Laptop' updated to -1.\n",
      "Product ID: 1\n",
      "Name: Laptop\n",
      "Price: INR799.99\n",
      "Quantity: 5\n",
      "\n",
      "Product ID: 2\n",
      "Name: Phone\n",
      "Price: INR399.99\n",
      "Quantity: 8\n",
      "\n",
      "Product ID: 3\n",
      "Name: Tablet\n",
      "Price: INR299.99\n",
      "Quantity: 3\n"
     ]
    }
   ],
   "source": [
    "# Example usage:\n",
    "if __name__ == \"__main__\":\n",
    "    inventory_system = Inventory()\n",
    "\n",
    "    product1 = Product(1, \"Laptop\", 799.99, 5)\n",
    "    product2 = Product(2, \"Phone\", 399.99, 10)\n",
    "    product3 = Product(3, \"Tablet\", 299.99, 3)\n",
    "\n",
    "    inventory_system.add_product(product1)\n",
    "    inventory_system.add_product(product2)\n",
    "    inventory_system.add_product(product3)\n",
    "\n",
    "    print(inventory_system.update_product_quantity(2, 8))\n",
    "    print(inventory_system.update_product_quantity(1, -1))\n",
    "\n",
    "    print(inventory_system.display_available_products())"
   ]
  },
  {
   "cell_type": "markdown",
   "id": "5b08e3fd",
   "metadata": {},
   "source": [
    "# Problem 6: Shape Calculation Create a class representing a shape with attributes like length, width, and height. Implement methods to calculate the area and perimeter of the shape."
   ]
  },
  {
   "cell_type": "code",
   "execution_count": 39,
   "id": "1e4f3302",
   "metadata": {},
   "outputs": [],
   "source": [
    "class Shape:\n",
    "    def __init__(self, length=0, width=0, height=0):\n",
    "        self.length = length\n",
    "        self.width = width\n",
    "        self.height = height\n",
    "\n",
    "    def calculate_area(self):\n",
    "        return 0  # Base class method; overridden by specific shapes\n",
    "\n",
    "    def calculate_perimeter(self):\n",
    "        return 0  # Base class method; overridden by specific shapes\n",
    "\n",
    "    def calculate_volume(self):\n",
    "        return 0  # Base class method; overridden by specific 3D shapes\n",
    "\n",
    "class Rectangle(Shape):\n",
    "    def calculate_area(self):\n",
    "        return self.length * self.width\n",
    "\n",
    "    def calculate_perimeter(self):\n",
    "        return 2 * (self.length + self.width)\n",
    "\n",
    "class Circle(Shape):\n",
    "    def calculate_area(self):\n",
    "        return 3.14159265359 * (self.length ** 2)  # Using π (pi) for area calculation\n",
    "\n",
    "class Triangle(Shape):\n",
    "    def calculate_area(self):\n",
    "        return 0.5 * self.length * self.height"
   ]
  },
  {
   "cell_type": "code",
   "execution_count": 41,
   "id": "f862642a",
   "metadata": {},
   "outputs": [
    {
     "name": "stdout",
     "output_type": "stream",
     "text": [
      "Rectangle Area: 24\n",
      "Rectangle Perimeter: 20\n",
      "Circle Area: 78.53981633975\n",
      "Circle Perimeter: N/A (Circles do not have a perimeter)\n",
      "Triangle Area: 0.0\n"
     ]
    }
   ],
   "source": [
    "# Example usage:\n",
    "if __name__ == \"__main__\":\n",
    "    rectangle = Rectangle(4, 6)\n",
    "    circle = Circle(5)\n",
    "    triangle = Triangle(3, 4)\n",
    "\n",
    "    print(f\"Rectangle Area: {rectangle.calculate_area()}\")\n",
    "    print(f\"Rectangle Perimeter: {rectangle.calculate_perimeter()}\")\n",
    "\n",
    "    print(f\"Circle Area: {circle.calculate_area()}\")\n",
    "    print(f\"Circle Perimeter: N/A (Circles do not have a perimeter)\")\n",
    "\n",
    "    print(f\"Triangle Area: {triangle.calculate_area()}\")\n"
   ]
  },
  {
   "cell_type": "markdown",
   "id": "8534c234",
   "metadata": {},
   "source": [
    "# Problem 7: Student Management Create a class representing a student with attributes like student ID, name, and grades. Implement methods to calculate the average grade and display student details."
   ]
  },
  {
   "cell_type": "code",
   "execution_count": 42,
   "id": "e49d369e",
   "metadata": {},
   "outputs": [],
   "source": [
    "class Student:\n",
    "    def __init__(self, student_id, name):\n",
    "        self.student_id = student_id\n",
    "        self.name = name\n",
    "        self.grades = []\n",
    "\n",
    "    def add_grade(self, grade):\n",
    "        if 0 <= grade <= 100:\n",
    "            self.grades.append(grade)\n",
    "        else:\n",
    "            print(\"Invalid grade. Please enter a value between 0 and 100.\")\n",
    "\n",
    "    def calculate_average_grade(self):\n",
    "        if len(self.grades) > 0:\n",
    "            return sum(self.grades) / len(self.grades)\n",
    "        else:\n",
    "            return 0\n",
    "\n",
    "    def display_student_details(self):\n",
    "        print(f\"Student ID: {self.student_id}\")\n",
    "        print(f\"Name: {self.name}\")\n",
    "        if len(self.grades) > 0:\n",
    "            print(f\"Grades: {', '.join(map(str, self.grades))}\")\n",
    "            print(f\"Average Grade: {self.calculate_average_grade()}\")\n",
    "        else:\n",
    "            print(\"No grades recorded for this student.\")\n"
   ]
  },
  {
   "cell_type": "code",
   "execution_count": 43,
   "id": "a2aab866",
   "metadata": {},
   "outputs": [
    {
     "name": "stdout",
     "output_type": "stream",
     "text": [
      "Student ID: S001\n",
      "Name: John Doe\n",
      "Grades: 85, 92, 78\n",
      "Average Grade: 85.0\n",
      "\n",
      "\n",
      "Student ID: S002\n",
      "Name: Jane Smith\n",
      "Grades: 90, 88\n",
      "Average Grade: 89.0\n"
     ]
    }
   ],
   "source": [
    "\n",
    "# Example usage:\n",
    "if __name__ == \"__main__\":\n",
    "    student1 = Student(\"S001\", \"John Doe\")\n",
    "    student1.add_grade(85)\n",
    "    student1.add_grade(92)\n",
    "    student1.add_grade(78)\n",
    "\n",
    "    student2 = Student(\"S002\", \"Jane Smith\")\n",
    "    student2.add_grade(90)\n",
    "    student2.add_grade(88)\n",
    "\n",
    "    student1.display_student_details()\n",
    "    print(\"\\n\")\n",
    "    student2.display_student_details()"
   ]
  },
  {
   "cell_type": "markdown",
   "id": "c33727b0",
   "metadata": {},
   "source": [
    "# Problem 8: Email Management Create a class representing an email with attributes like sender, recipient, and subject. Implement methods to send an email and display email details."
   ]
  },
  {
   "cell_type": "code",
   "execution_count": 44,
   "id": "5f470cc0",
   "metadata": {},
   "outputs": [],
   "source": [
    "class Email:\n",
    "    def __init__(self, sender, recipient, subject):\n",
    "        self.sender = sender\n",
    "        self.recipient = recipient\n",
    "        self.subject = subject\n",
    "        self.message = None  # Initialize the message as None\n",
    "\n",
    "    def send_email(self, message):\n",
    "        self.message = message\n",
    "        print(\"Email sent.\")\n",
    "\n",
    "    def display_email_details(self):\n",
    "        print(f\"Sender: {self.sender}\")\n",
    "        print(f\"Recipient: {self.recipient}\")\n",
    "        print(f\"Subject: {self.subject}\")\n",
    "        if self.message is not None:\n",
    "            print(\"Message:\")\n",
    "            print(self.message)\n",
    "        else:\n",
    "            print(\"No message has been sent yet.\")"
   ]
  },
  {
   "cell_type": "code",
   "execution_count": 45,
   "id": "5d07277c",
   "metadata": {},
   "outputs": [
    {
     "name": "stdout",
     "output_type": "stream",
     "text": [
      "Email sent.\n",
      "Sender: user@example.com\n",
      "Recipient: recipient@example.com\n",
      "Subject: Important Update\n",
      "Message:\n",
      "Hello, this is an important update regarding our project.\n"
     ]
    }
   ],
   "source": [
    "\n",
    "# Example usage:\n",
    "if __name__ == \"__main__\":\n",
    "    email = Email(\"user@example.com\", \"recipient@example.com\", \"Important Update\")\n",
    "\n",
    "    email.send_email(\"Hello, this is an important update regarding our project.\")\n",
    "\n",
    "    email.display_email_details()"
   ]
  },
  {
   "cell_type": "markdown",
   "id": "171f66ee",
   "metadata": {},
   "source": [
    "# Problem 9: Social Media Profile Create a class representing a social media profile with attributes like username and posts. Implement methods to add posts, display posts, and search for posts by keyword."
   ]
  },
  {
   "cell_type": "code",
   "execution_count": 46,
   "id": "53cf3d50",
   "metadata": {},
   "outputs": [],
   "source": [
    "class SocialMediaProfile:\n",
    "    def __init__(self, username):\n",
    "        self.username = username\n",
    "        self.posts = []\n",
    "\n",
    "    def add_post(self, post_content):\n",
    "        self.posts.append(post_content)\n",
    "        print(f\"New post added by {self.username}.\")\n",
    "\n",
    "    def display_posts(self):\n",
    "        if self.posts:\n",
    "            print(f\"Posts by {self.username}:\")\n",
    "            for i, post in enumerate(self.posts, start=1):\n",
    "                print(f\"{i}. {post}\")\n",
    "        else:\n",
    "            print(f\"{self.username} has no posts yet.\")\n",
    "\n",
    "    def search_posts(self, keyword):\n",
    "        matching_posts = [post for post in self.posts if keyword in post]\n",
    "        if matching_posts:\n",
    "            print(f\"Posts by {self.username} containing '{keyword}':\")\n",
    "            for i, post in enumerate(matching_posts, start=1):\n",
    "                print(f\"{i}. {post}\")\n",
    "        else:\n",
    "            print(f\"No posts by {self.username} contain '{keyword}'.\")"
   ]
  },
  {
   "cell_type": "code",
   "execution_count": 47,
   "id": "3b8fb05f",
   "metadata": {},
   "outputs": [
    {
     "name": "stdout",
     "output_type": "stream",
     "text": [
      "New post added by john_doe.\n",
      "New post added by john_doe.\n",
      "New post added by john_doe.\n",
      "Posts by john_doe:\n",
      "1. Hello, this is my first post.\n",
      "2. Enjoying a sunny day at the beach.\n",
      "3. Exploring new hiking trails.\n",
      "Posts by john_doe containing 'hiking':\n",
      "1. Exploring new hiking trails.\n"
     ]
    }
   ],
   "source": [
    "\n",
    "# Example usage:\n",
    "if __name__ == \"__main__\":\n",
    "    profile = SocialMediaProfile(\"john_doe\")\n",
    "\n",
    "    profile.add_post(\"Hello, this is my first post.\")\n",
    "    profile.add_post(\"Enjoying a sunny day at the beach.\")\n",
    "    profile.add_post(\"Exploring new hiking trails.\")\n",
    "\n",
    "    profile.display_posts()\n",
    "\n",
    "    profile.search_posts(\"hiking\")\n"
   ]
  },
  {
   "cell_type": "markdown",
   "id": "fe9c9d7c",
   "metadata": {},
   "source": [
    "# Problem 10: ToDo List Create a class representing a ToDo list with attributes like tasks and due dates. Implement methods to add tasks, mark tasks as completed, and display pending tasks."
   ]
  },
  {
   "cell_type": "code",
   "execution_count": 48,
   "id": "53f844a3",
   "metadata": {},
   "outputs": [],
   "source": [
    "class ToDoList:\n",
    "    def __init__(self):\n",
    "        self.tasks = []\n",
    "\n",
    "    def add_task(self, task, due_date):\n",
    "        self.tasks.append({\"task\": task, \"due_date\": due_date, \"completed\": False})\n",
    "        print(f\"Task added: {task}\")\n",
    "\n",
    "    def mark_task_as_completed(self, task):\n",
    "        for t in self.tasks:\n",
    "            if t[\"task\"] == task:\n",
    "                t[\"completed\"] = True\n",
    "                print(f\"Task '{task}' marked as completed.\")\n",
    "                return\n",
    "        print(f\"Task '{task}' not found in the list.\")\n",
    "\n",
    "    def display_pending_tasks(self):\n",
    "        pending_tasks = [t for t in self.tasks if not t[\"completed\"]]\n",
    "        if pending_tasks:\n",
    "            print(\"Pending Tasks:\")\n",
    "            for i, t in enumerate(pending_tasks, start=1):\n",
    "                print(f\"{i}. Task: {t['task']}, Due Date: {t['due_date']}\")\n",
    "        else:\n",
    "            print(\"No pending tasks in the list.\")"
   ]
  },
  {
   "cell_type": "code",
   "execution_count": 49,
   "id": "0b594847",
   "metadata": {},
   "outputs": [
    {
     "name": "stdout",
     "output_type": "stream",
     "text": [
      "Task added: Buy groceries\n",
      "Task added: Finish report\n",
      "Task added: Go for a run\n",
      "Task 'Finish report' marked as completed.\n",
      "Pending Tasks:\n",
      "1. Task: Buy groceries, Due Date: 2023-10-20\n",
      "2. Task: Go for a run, Due Date: 2023-10-18\n"
     ]
    }
   ],
   "source": [
    "\n",
    "# Example usage:\n",
    "if __name__ == \"__main__\":\n",
    "    to_do_list = ToDoList()\n",
    "\n",
    "    to_do_list.add_task(\"Buy groceries\", \"2023-10-20\")\n",
    "    to_do_list.add_task(\"Finish report\", \"2023-10-15\")\n",
    "    to_do_list.add_task(\"Go for a run\", \"2023-10-18\")\n",
    "\n",
    "    to_do_list.mark_task_as_completed(\"Finish report\")\n",
    "\n",
    "    to_do_list.display_pending_tasks()\n"
   ]
  },
  {
   "cell_type": "code",
   "execution_count": null,
   "id": "b5402374",
   "metadata": {},
   "outputs": [],
   "source": []
  }
 ],
 "metadata": {
  "kernelspec": {
   "display_name": "Python 3 (ipykernel)",
   "language": "python",
   "name": "python3"
  },
  "language_info": {
   "codemirror_mode": {
    "name": "ipython",
    "version": 3
   },
   "file_extension": ".py",
   "mimetype": "text/x-python",
   "name": "python",
   "nbconvert_exporter": "python",
   "pygments_lexer": "ipython3",
   "version": "3.9.12"
  }
 },
 "nbformat": 4,
 "nbformat_minor": 5
}
