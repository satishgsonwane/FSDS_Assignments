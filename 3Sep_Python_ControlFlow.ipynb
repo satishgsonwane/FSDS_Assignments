{
 "cells": [
  {
   "cell_type": "code",
   "execution_count": 1,
   "id": "cf4f8642",
   "metadata": {},
   "outputs": [
    {
     "name": "stdout",
     "output_type": "stream",
     "text": [
      "Enter a number: 12\n",
      "The number is positive.\n"
     ]
    }
   ],
   "source": [
    "#1. Check if a number is positive or negative:\n",
    "num = float(input(\"Enter a number: \"))\n",
    "\n",
    "if num > 0:\n",
    "    print(\"The number is positive.\")\n",
    "elif num < 0:\n",
    "    print(\"The number is negative.\")\n",
    "else:\n",
    "    print(\"The number is zero.\")"
   ]
  },
  {
   "cell_type": "code",
   "execution_count": 3,
   "id": "2b7e21c3",
   "metadata": {},
   "outputs": [
    {
     "name": "stdout",
     "output_type": "stream",
     "text": [
      "Enter your age: 35\n",
      "You are eligible to vote.\n"
     ]
    }
   ],
   "source": [
    "#2. Determine if a person is eligible to vote based on their age:\n",
    "\n",
    "age = int(input(\"Enter your age: \"))\n",
    "\n",
    "if age >= 18:\n",
    "    print(\"You are eligible to vote.\")\n",
    "else:\n",
    "    print(\"You are not eligible to vote yet.\")\n"
   ]
  },
  {
   "cell_type": "code",
   "execution_count": 5,
   "id": "0e293c26",
   "metadata": {},
   "outputs": [
    {
     "name": "stdout",
     "output_type": "stream",
     "text": [
      "Enter the first number: 1\n",
      "Enter the second number: 2\n",
      "The maximum number is: 2.0\n"
     ]
    }
   ],
   "source": [
    "3#. Find the maximum of two numbers:\n",
    "\n",
    "\n",
    "num1 = float(input(\"Enter the first number: \"))\n",
    "num2 = float(input(\"Enter the second number: \"))\n",
    "\n",
    "if num1 > num2:\n",
    "    print(\"The maximum number is:\", num1)\n",
    "else:\n",
    "    print(\"The maximum number is:\", num2)\n"
   ]
  },
  {
   "cell_type": "code",
   "execution_count": 6,
   "id": "88c37d5e",
   "metadata": {},
   "outputs": [
    {
     "name": "stdout",
     "output_type": "stream",
     "text": [
      "Enter a year: 1988\n",
      "1988 is a leap year.\n"
     ]
    }
   ],
   "source": [
    "#4. Classify a year as a leap year or not:\n",
    "\n",
    "\n",
    "year = int(input(\"Enter a year: \"))\n",
    "\n",
    "if (year % 4 == 0 and year % 100 != 0) or (year % 400 == 0):\n",
    "    print(year, \"is a leap year.\")\n",
    "else:\n",
    "    print(year, \"is not a leap year.\")\n"
   ]
  },
  {
   "cell_type": "code",
   "execution_count": 8,
   "id": "197b4723",
   "metadata": {},
   "outputs": [
    {
     "name": "stdout",
     "output_type": "stream",
     "text": [
      "Enter a character: k\n",
      "k is a consonant.\n"
     ]
    }
   ],
   "source": [
    "#5. Check if a character is a vowel or a consonant:\n",
    "\n",
    "\n",
    "char = input(\"Enter a character: \").lower()\n",
    "\n",
    "if char in 'aeiou':\n",
    "    print(char, \"is a vowel.\")\n",
    "else:\n",
    "    print(char, \"is a consonant.\")\n"
   ]
  },
  {
   "cell_type": "code",
   "execution_count": 9,
   "id": "958f86b7",
   "metadata": {},
   "outputs": [
    {
     "name": "stdout",
     "output_type": "stream",
     "text": [
      "Enter a number: 12\n",
      "12 is even.\n"
     ]
    }
   ],
   "source": [
    "#6. Determine if a number is even or odd:\n",
    "\n",
    "\n",
    "num = int(input(\"Enter a number: \"))\n",
    "\n",
    "if num % 2 == 0:\n",
    "    print(num, \"is even.\")\n",
    "else:\n",
    "    print(num, \"is odd.\")\n"
   ]
  },
  {
   "cell_type": "code",
   "execution_count": 10,
   "id": "c541330d",
   "metadata": {},
   "outputs": [
    {
     "name": "stdout",
     "output_type": "stream",
     "text": [
      "Enter a number: 12\n",
      "The absolute value of the number is: 12.0\n"
     ]
    }
   ],
   "source": [
    "#7. Calculate the absolute value of a number without using `abs()` function:\n",
    "\n",
    "\n",
    "num = float(input(\"Enter a number: \"))\n",
    "\n",
    "if num < 0:\n",
    "    abs_num = -num\n",
    "else:\n",
    "    abs_num = num\n",
    "\n",
    "print(\"The absolute value of the number is:\", abs_num)\n"
   ]
  },
  {
   "cell_type": "code",
   "execution_count": 11,
   "id": "3cdfbcd2",
   "metadata": {},
   "outputs": [
    {
     "name": "stdout",
     "output_type": "stream",
     "text": [
      "Enter the first number: 1\n",
      "Enter the second number: 4\n",
      "Enter the third number: 3\n",
      "The largest number is: 4.0\n"
     ]
    }
   ],
   "source": [
    "#8. Determine the largest of three numbers:\n",
    "\n",
    "\n",
    "num1 = float(input(\"Enter the first number: \"))\n",
    "num2 = float(input(\"Enter the second number: \"))\n",
    "num3 = float(input(\"Enter the third number: \"))\n",
    "\n",
    "if num1 >= num2 and num1 >= num3:\n",
    "    print(\"The largest number is:\", num1)\n",
    "elif num2 >= num1 and num2 >= num3:\n",
    "    print(\"The largest number is:\", num2)\n",
    "else:\n",
    "    print(\"The largest number is:\", num3)\n"
   ]
  },
  {
   "cell_type": "code",
   "execution_count": 12,
   "id": "7660dd0b",
   "metadata": {},
   "outputs": [
    {
     "name": "stdout",
     "output_type": "stream",
     "text": [
      "Enter a string: hi\n",
      "The string is not a palindrome.\n"
     ]
    }
   ],
   "source": [
    "#9. Check if a given string is a palindrome:\n",
    "\n",
    "string = input(\"Enter a string: \")\n",
    "\n",
    "if string == string[::-1]:\n",
    "    print(\"The string is a palindrome.\")\n",
    "else:\n",
    "    print(\"The string is not a palindrome.\")\n"
   ]
  },
  {
   "cell_type": "code",
   "execution_count": 13,
   "id": "1bc694cc",
   "metadata": {},
   "outputs": [
    {
     "name": "stdout",
     "output_type": "stream",
     "text": [
      "Enter the student's score: 75\n",
      "The student's grade is: C\n"
     ]
    }
   ],
   "source": [
    "#10. Calculate the grade based on a student's score:\n",
    "\n",
    "\n",
    "score = float(input(\"Enter the student's score: \"))\n",
    "\n",
    "if 90 <= score <= 100:\n",
    "    grade = 'A'\n",
    "elif 80 <= score < 90:\n",
    "    grade = 'B'\n",
    "elif 70 <= score < 80:\n",
    "    grade = 'C'\n",
    "elif 60 <= score < 70:\n",
    "    grade = 'D'\n",
    "else:\n",
    "    grade = 'F'\n",
    "\n",
    "print(\"The student's grade is:\", grade)\n"
   ]
  },
  {
   "cell_type": "code",
   "execution_count": 14,
   "id": "89567fe1",
   "metadata": {},
   "outputs": [
    {
     "name": "stdout",
     "output_type": "stream",
     "text": [
      "Enter the first number: 1\n",
      "Enter the second number: 3\n",
      "Enter the third number: 5\n",
      "The largest number among 1.0, 3.0, and 5.0 is 5.0.\n"
     ]
    }
   ],
   "source": [
    "#11. Find the largest among three numbers using nested if-else statements:**\n",
    "# Get three numbers from the user\n",
    "num1 = float(input(\"Enter the first number: \"))\n",
    "num2 = float(input(\"Enter the second number: \"))\n",
    "num3 = float(input(\"Enter the third number: \"))\n",
    "\n",
    "# Check which number is the largest\n",
    "if num1 >= num2:\n",
    "    if num1 >= num3:\n",
    "        largest = num1\n",
    "    else:\n",
    "        largest = num3\n",
    "else:\n",
    "    if num2 >= num3:\n",
    "        largest = num2\n",
    "    else:\n",
    "        largest = num3\n",
    "\n",
    "print(f\"The largest number among {num1}, {num2}, and {num3} is {largest}.\")"
   ]
  },
  {
   "cell_type": "code",
   "execution_count": 15,
   "id": "39665425",
   "metadata": {},
   "outputs": [
    {
     "name": "stdout",
     "output_type": "stream",
     "text": [
      "Enter the length of the first side: 12\n",
      "Enter the length of the second side: 12\n",
      "Enter the length of the third side: 153\n",
      "The triangle with sides 12.0, 12.0, and 153.0 is a isosceles triangle.\n"
     ]
    }
   ],
   "source": [
    "#12. Determine if a triangle is equilateral, isosceles, or scalene:\n",
    "# Get the lengths of three sides of the triangle from the user\n",
    "side1 = float(input(\"Enter the length of the first side: \"))\n",
    "side2 = float(input(\"Enter the length of the second side: \"))\n",
    "side3 = float(input(\"Enter the length of the third side: \"))\n",
    "\n",
    "# Check the type of triangle\n",
    "if side1 == side2 == side3:\n",
    "    triangle_type = \"equilateral\"\n",
    "elif side1 == side2 or side1 == side3 or side2 == side3:\n",
    "    triangle_type = \"isosceles\"\n",
    "else:\n",
    "    triangle_type = \"scalene\"\n",
    "\n",
    "print(f\"The triangle with sides {side1}, {side2}, and {side3} is a {triangle_type} triangle.\")\n"
   ]
  },
  {
   "cell_type": "code",
   "execution_count": 16,
   "id": "f906c0b4",
   "metadata": {},
   "outputs": [
    {
     "name": "stdout",
     "output_type": "stream",
     "text": [
      "Enter a year: 1698\n",
      "1698 is not a leap year.\n",
      "1698 is not a century year.\n"
     ]
    }
   ],
   "source": [
    "#13. Check if a year is a leap year and also if it is a century year:\n",
    "# Get a year from the user\n",
    "year = int(input(\"Enter a year: \"))\n",
    "\n",
    "# Check if it's a leap year\n",
    "is_leap_year = (year % 4 == 0 and year % 100 != 0) or (year % 400 == 0)\n",
    "\n",
    "# Check if it's a century year\n",
    "is_century_year = year % 100 == 0\n",
    "\n",
    "if is_leap_year:\n",
    "    print(f\"{year} is a leap year.\")\n",
    "else:\n",
    "    print(f\"{year} is not a leap year.\")\n",
    "\n",
    "if is_century_year:\n",
    "    print(f\"{year} is a century year.\")\n",
    "else:\n",
    "    print(f\"{year} is not a century year.\")"
   ]
  },
  {
   "cell_type": "code",
   "execution_count": 17,
   "id": "789738b5",
   "metadata": {},
   "outputs": [
    {
     "name": "stdout",
     "output_type": "stream",
     "text": [
      "Enter a number: 12\n",
      "The number is positive.\n"
     ]
    }
   ],
   "source": [
    "#14. Determine if a number is positive, negative, or zero:\n",
    "# Get a number from the user\n",
    "number = float(input(\"Enter a number: \"))\n",
    "\n",
    "if number > 0:\n",
    "    print(\"The number is positive.\")\n",
    "elif number < 0:\n",
    "    print(\"The number is negative.\")\n",
    "else:\n",
    "    print(\"The number is zero.\")\n"
   ]
  },
  {
   "cell_type": "code",
   "execution_count": 18,
   "id": "a1a24bca",
   "metadata": {},
   "outputs": [
    {
     "name": "stdout",
     "output_type": "stream",
     "text": [
      "Enter the age: 58\n",
      "The person is not a teenager.\n"
     ]
    }
   ],
   "source": [
    "#15. Check if a person is a teenager (between 13 and 19 years old):\n",
    "# Get the age of a person from the user\n",
    "age = int(input(\"Enter the age: \"))\n",
    "\n",
    "if 13 <= age <= 19:\n",
    "    print(\"The person is a teenager.\")\n",
    "else:\n",
    "    print(\"The person is not a teenager.\")"
   ]
  },
  {
   "cell_type": "code",
   "execution_count": 19,
   "id": "df84e520",
   "metadata": {},
   "outputs": [
    {
     "name": "stdout",
     "output_type": "stream",
     "text": [
      "Enter the measure of the angle (in degrees): 90\n",
      "The angle with a measure of 90.0 degrees is an right angle.\n"
     ]
    }
   ],
   "source": [
    "#16. Determine the type of angle based on its measure (acute, obtuse, or right):\n",
    "\n",
    "\n",
    "# Get the measure of an angle from the user\n",
    "angle = float(input(\"Enter the measure of the angle (in degrees): \"))\n",
    "\n",
    "if angle < 90:\n",
    "    angle_type = \"acute\"\n",
    "elif angle == 90:\n",
    "    angle_type = \"right\"\n",
    "else:\n",
    "    angle_type = \"obtuse\"\n",
    "\n",
    "print(f\"The angle with a measure of {angle} degrees is an {angle_type} angle.\")"
   ]
  },
  {
   "cell_type": "code",
   "execution_count": 20,
   "id": "cb44b27d",
   "metadata": {},
   "outputs": [
    {
     "name": "stdout",
     "output_type": "stream",
     "text": [
      "Enter the coefficient 'a': 2\n",
      "Enter the coefficient 'b': 2\n",
      "Enter the coefficient 'c': 2\n",
      "The roots of the quadratic equation are complex: -0.5 + 0.8660254037844386i and -0.5 - 0.8660254037844386i\n"
     ]
    }
   ],
   "source": [
    "#17. Calculate the roots of a quadratic equation:\n",
    "\n",
    "# Get the coefficients of the quadratic equation from the user\n",
    "a = float(input(\"Enter the coefficient 'a': \"))\n",
    "b = float(input(\"Enter the coefficient 'b': \"))\n",
    "c = float(input(\"Enter the coefficient 'c': \"))\n",
    "\n",
    "# Calculate the discriminant\n",
    "discriminant = b**2 - 4*a*c\n",
    "\n",
    "if discriminant > 0:\n",
    "    root1 = (-b + (discriminant)**0.5) / (2*a)\n",
    "    root2 = (-b - (discriminant)**0.5) / (2*a)\n",
    "    print(f\"The roots of the quadratic equation are real and different: {root1} and {root2}\")\n",
    "elif discriminant == 0:\n",
    "    root1 = -b / (2*a)\n",
    "    print(f\"The root of the quadratic equation is real and equal: {root1}\")\n",
    "else:\n",
    "    real_part = -b / (2*a)\n",
    "    imaginary_part = (abs(discriminant)**0.5) / (2*a)\n",
    "    print(f\"The roots of the quadratic equation are complex: {real_part} + {imaginary_part}i and {real_part} - {imaginary_part}i\")\n"
   ]
  },
  {
   "cell_type": "code",
   "execution_count": 22,
   "id": "51a70be5",
   "metadata": {},
   "outputs": [
    {
     "name": "stdout",
     "output_type": "stream",
     "text": [
      "Enter a number (1 for Monday, 2 for Tuesday, etc.): 3\n",
      "The day corresponding to number 3 is Wednesday.\n"
     ]
    }
   ],
   "source": [
    "#18. Determine the day of the week based on a user-provided number (1 for Monday, 2 for Tuesday, etc.):\n",
    "# Get a number representing a day of the week from the user\n",
    "day_number = int(input(\"Enter a number (1 for Monday, 2 for Tuesday, etc.): \"))\n",
    "\n",
    "# Define a list of day names\n",
    "days_of_week = [\"Monday\", \"Tuesday\", \"Wednesday\", \"Thursday\", \"Friday\", \"Saturday\", \"Sunday\"]\n",
    "\n",
    "if 1 <= day_number <= 7:\n",
    "    day_name = days_of_week[day_number - 1]\n",
    "    print(f\"The day corresponding to number {day_number} is {day_name}.\")\n",
    "else:\n",
    "    print(\"Invalid input. Please enter a number between 1 and 7.\")"
   ]
  },
  {
   "cell_type": "code",
   "execution_count": 24,
   "id": "2423c0f9",
   "metadata": {},
   "outputs": [
    {
     "name": "stdout",
     "output_type": "stream",
     "text": [
      "Enter a year: 1987\n",
      "1987 is not a leap year.\n"
     ]
    }
   ],
   "source": [
    "#19. Check if a year is a leap year and also if it is evenly divisible by 400:\n",
    "# Get a year from the user\n",
    "year = int(input(\"Enter a year: \"))\n",
    "\n",
    "is_leap_year = (year % 4 == 0 and year % 100 != 0) or (year % 400 == 0)\n",
    "\n",
    "if is_leap_year:\n",
    "    print(f\"{year} is a leap year.\")\n",
    "else:\n",
    "    print(f\"{year} is not a leap year.\")\n"
   ]
  },
  {
   "cell_type": "code",
   "execution_count": 25,
   "id": "a8ac29cd",
   "metadata": {},
   "outputs": [
    {
     "name": "stdout",
     "output_type": "stream",
     "text": [
      "Enter a number: 12\n",
      "12 is not a prime number.\n"
     ]
    }
   ],
   "source": [
    "#20. Check if a given number is prime or not using nested if-else statements:\n",
    "\n",
    "# Get a number from the user\n",
    "number = int(input(\"Enter a number: \"))\n",
    "\n",
    "if number <= 1:\n",
    "    print(f\"{number} is not a prime number.\")\n",
    "else:\n",
    "    is_prime = True\n",
    "    for i in range(2, int(number**0.5) + 1):\n",
    "        if number % i == 0:\n",
    "            is_prime = False\n",
    "            break\n",
    "    if is_prime:\n",
    "        print(f\"{number} is a prime number.\")\n",
    "    else:\n",
    "        print(f\"{number} is not a prime number.\")\n"
   ]
  },
  {
   "cell_type": "code",
   "execution_count": 26,
   "id": "e64e623f",
   "metadata": {},
   "outputs": [
    {
     "name": "stdout",
     "output_type": "stream",
     "text": [
      "Enter a score: 80\n",
      "The grade for the score 80.0 is B.\n"
     ]
    }
   ],
   "source": [
    "#21. Assign grades based on different ranges of scores using elif statements:\n",
    "\n",
    "# Get a score from the user\n",
    "score = float(input(\"Enter a score: \"))\n",
    "\n",
    "# Assign grades based on the score range\n",
    "if score >= 90:\n",
    "    grade = \"A\"\n",
    "elif score >= 80:\n",
    "    grade = \"B\"\n",
    "elif score >= 70:\n",
    "    grade = \"C\"\n",
    "elif score >= 60:\n",
    "    grade = \"D\"\n",
    "else:\n",
    "    grade = \"F\"\n",
    "\n",
    "print(f\"The grade for the score {score} is {grade}.\")\n"
   ]
  },
  {
   "cell_type": "code",
   "execution_count": 27,
   "id": "5baa1f24",
   "metadata": {},
   "outputs": [
    {
     "name": "stdout",
     "output_type": "stream",
     "text": [
      "Enter the measure of the first angle: 15\n",
      "Enter the measure of the second angle: 30\n",
      "Enter the measure of the third angle: 45\n",
      "The triangle with angles 15.0, 30.0, and 45.0 is not a valid triangle.\n"
     ]
    }
   ],
   "source": [
    "#22. Determine the type of a triangle based on its angles:\n",
    "# Get the measures of three angles from the user\n",
    "angle1 = float(input(\"Enter the measure of the first angle: \"))\n",
    "angle2 = float(input(\"Enter the measure of the second angle: \"))\n",
    "angle3 = float(input(\"Enter the measure of the third angle: \"))\n",
    "\n",
    "# Determine the type of triangle based on angles\n",
    "if angle1 + angle2 + angle3 == 180:\n",
    "    if angle1 == angle2 == angle3:\n",
    "        triangle_type = \"equilateral\"\n",
    "    elif angle1 == angle2 or angle1 == angle3 or angle2 == angle3:\n",
    "        triangle_type = \"isosceles\"\n",
    "    else:\n",
    "        triangle_type = \"scalene\"\n",
    "else:\n",
    "    triangle_type = \"not a valid triangle\"\n",
    "\n",
    "print(f\"The triangle with angles {angle1}, {angle2}, and {angle3} is {triangle_type}.\")"
   ]
  },
  {
   "cell_type": "code",
   "execution_count": 28,
   "id": "ad5f13a2",
   "metadata": {},
   "outputs": [
    {
     "name": "stdout",
     "output_type": "stream",
     "text": [
      "Enter weight (in kilograms): 80\n",
      "Enter height (in meters): 1.6\n",
      "Your BMI is 31.25, and you are categorized as obese.\n"
     ]
    }
   ],
   "source": [
    "#23. Categorize a persons BMI into underweight, normal, overweight, or obese using elif statements:\n",
    "# Get weight (in kilograms) and height (in meters) from the user\n",
    "weight = float(input(\"Enter weight (in kilograms): \"))\n",
    "height = float(input(\"Enter height (in meters): \"))\n",
    "\n",
    "# Calculate BMI\n",
    "bmi = weight / (height ** 2)\n",
    "\n",
    "# Categorize BMI\n",
    "if bmi < 18.5:\n",
    "    category = \"underweight\"\n",
    "elif 18.5 <= bmi < 24.9:\n",
    "    category = \"normal weight\"\n",
    "elif 24.9 <= bmi < 29.9:\n",
    "    category = \"overweight\"\n",
    "else:\n",
    "    category = \"obese\"\n",
    "\n",
    "print(f\"Your BMI is {bmi:.2f}, and you are categorized as {category}.\")\n"
   ]
  },
  {
   "cell_type": "code",
   "execution_count": 29,
   "id": "43df26e8",
   "metadata": {},
   "outputs": [
    {
     "name": "stdout",
     "output_type": "stream",
     "text": [
      "Enter a number: 12\n",
      "The number 12.0 is positive.\n"
     ]
    }
   ],
   "source": [
    "#24. Determine whether a given number is positive, negative, or zero using elif statements:\n",
    "# Get a number from the user\n",
    "number = float(input(\"Enter a number: \"))\n",
    "\n",
    "if number > 0:\n",
    "    result = \"positive\"\n",
    "elif number < 0:\n",
    "    result = \"negative\"\n",
    "else:\n",
    "    result = \"zero\"\n",
    "\n",
    "print(f\"The number {number} is {result}.\")\n"
   ]
  },
  {
   "cell_type": "code",
   "execution_count": 30,
   "id": "3cce643b",
   "metadata": {},
   "outputs": [
    {
     "name": "stdout",
     "output_type": "stream",
     "text": [
      "Enter a character: k\n",
      "The character 'k' is a lowercase character.\n"
     ]
    }
   ],
   "source": [
    "#25. Determine the type of a character (uppercase, lowercase, or special) using elif statements:\n",
    "# Get a character from the user\n",
    "character = input(\"Enter a character: \")\n",
    "\n",
    "if character.isalpha():\n",
    "    if character.islower():\n",
    "        char_type = \"lowercase\"\n",
    "    else:\n",
    "        char_type = \"uppercase\"\n",
    "else:\n",
    "    char_type = \"special character\"\n",
    "\n",
    "print(f\"The character '{character}' is a {char_type} character.\")\n"
   ]
  },
  {
   "cell_type": "code",
   "execution_count": 31,
   "id": "e2178d20",
   "metadata": {},
   "outputs": [
    {
     "name": "stdout",
     "output_type": "stream",
     "text": [
      "Enter the purchase amount: 120\n",
      "The discounted price is $120.00.\n"
     ]
    }
   ],
   "source": [
    "#26. Calculate the discounted price based on different purchase amounts using elif statements:\n",
    "\n",
    "# Get the purchase amount from the user\n",
    "purchase_amount = float(input(\"Enter the purchase amount: \"))\n",
    "\n",
    "# Calculate the discounted price based on purchase amount\n",
    "if purchase_amount >= 1000:\n",
    "    discount = 0.1  # 10% discount\n",
    "elif purchase_amount >= 500:\n",
    "    discount = 0.05  # 5% discount\n",
    "else:\n",
    "    discount = 0  # No discount\n",
    "\n",
    "discounted_price = purchase_amount - (purchase_amount * discount)\n",
    "\n",
    "print(f\"The discounted price is ${discounted_price:.2f}.\")\n"
   ]
  },
  {
   "cell_type": "code",
   "execution_count": 32,
   "id": "92e9ca8d",
   "metadata": {},
   "outputs": [
    {
     "name": "stdout",
     "output_type": "stream",
     "text": [
      "Enter the electricity consumption in kilowatt-hours: 555\n",
      "The electricity bill is $96.00.\n"
     ]
    }
   ],
   "source": [
    "#27. Calculate the electricity bill based on different consumption slabs using elif statements:\n",
    "# Get the electricity consumption from the user\n",
    "consumption = float(input(\"Enter the electricity consumption in kilowatt-hours: \"))\n",
    "\n",
    "# Calculate the electricity bill based on consumption slabs\n",
    "if consumption <= 100:\n",
    "    bill = consumption * 0.1\n",
    "elif consumption <= 200:\n",
    "    bill = 100 * 0.1 + (consumption - 100) * 0.15\n",
    "else:\n",
    "    bill = 100 * 0.1 + 100 * 0.15 + (consumption - 200) * 0.2\n",
    "\n",
    "print(f\"The electricity bill is ${bill:.2f}.\")"
   ]
  },
  {
   "cell_type": "code",
   "execution_count": 39,
   "id": "c92dded5",
   "metadata": {},
   "outputs": [
    {
     "name": "stdout",
     "output_type": "stream",
     "text": [
      "Enter the measure of the first angle: 10\n",
      "Enter the measure of the second angle: 20\n",
      "Enter the measure of the third angle: 30\n",
      "Enter the measure of the fourth angle: 40\n",
      "The quadrilateral with angles 10.0, 20.0, 30.0, and 40.0 is a not a valid quadrilateral.\n"
     ]
    }
   ],
   "source": [
    "#28. Determine the type of quadrilateral based on its angles and sides using elif statements:\n",
    "# Get the measures of four angles from the user\n",
    "angle1 = float(input(\"Enter the measure of the first angle: \"))\n",
    "angle2 = float(input(\"Enter the measure of the second angle: \"))\n",
    "angle3 = float(input(\"Enter the measure of the third angle: \"))\n",
    "angle4 = float(input(\"Enter the measure of the fourth angle: \"))\n",
    "\n",
    "# Determine the type of quadrilateral based on angles and sides\n",
    "if angle1 == angle2 == angle3 == angle4 == 90:\n",
    "    quadrilateral_type = \"square\"\n",
    "elif (angle1 == angle3 and angle2 == angle4) or (angle1 == angle2 and angle3 == angle4):\n",
    "    quadrilateral_type = \"rectangle\"\n",
    "elif (angle1 == angle3 and angle2 == angle4) or (angle1 == angle2 and angle3 == angle4):\n",
    "    quadrilateral_type = \"rectangle\"\n",
    "elif (angle1 == angle3 and angle2 == angle4) or (angle1 == angle2 and angle3 == angle4):\n",
    "    quadrilateral_type = \"rectangle\"\n",
    "elif angle1 + angle2 + angle3 + angle4 == 360:\n",
    "    quadrilateral_type = \"quadrilateral\"\n",
    "else:\n",
    "    quadrilateral_type = \"not a valid quadrilateral\"\n",
    "\n",
    "print(f\"The quadrilateral with angles {angle1}, {angle2}, {angle3}, and {angle4} is a {quadrilateral_type}.\")\n",
    "\n"
   ]
  },
  {
   "cell_type": "code",
   "execution_count": 37,
   "id": "620e0936",
   "metadata": {},
   "outputs": [
    {
     "name": "stdout",
     "output_type": "stream",
     "text": [
      "Enter a month (1-12): 5\n",
      "The season for month 5 is spring.\n"
     ]
    }
   ],
   "source": [
    "#29. Determine the season based on a user-provided month using elif statements:\n",
    "# Get a month from the user\n",
    "month = int(input(\"Enter a month (1-12): \"))\n",
    "\n",
    "# Determine the season based on the month\n",
    "if 3 <= month <= 5:\n",
    "    season = \"spring\"\n",
    "elif 6 <= month <= 8:\n",
    "    season = \"summer\"\n",
    "elif 9 <= month <= 11:\n",
    "    season = \"autumn\"\n",
    "else:\n",
    "    season = \"winter\"\n",
    "\n",
    "print(f\"The season for month {month} is {season}.\")\n"
   ]
  },
  {
   "cell_type": "code",
   "execution_count": 38,
   "id": "31a102e3",
   "metadata": {},
   "outputs": [
    {
     "name": "stdout",
     "output_type": "stream",
     "text": [
      "Enter a year: 1697\n",
      "Enter a month (1-12): 6\n",
      "The year 1697 is common, and the month 6 has 30 days.\n"
     ]
    }
   ],
   "source": [
    "#30. Determine the type of a year (leap or common) and month (30 or 31 days) using elif statements:\n",
    "# Get a year and a month from the user\n",
    "year = int(input(\"Enter a year: \"))\n",
    "month = int(input(\"Enter a month (1-12): \"))\n",
    "\n",
    "# Determine if it's a leap year\n",
    "is_leap_year = (year % 4 == 0 and year % 100 != 0) or (year % 400 == 0)\n",
    "\n",
    "# Determine the number of days in the month\n",
    "if month in [4, 6, 9, 11]:\n",
    "    days = 30\n",
    "elif month == 2:\n",
    "    days = 29 if is_leap_year else 28\n",
    "else:\n",
    "    days = 31\n",
    "\n",
    "print(f\"The year {year} is {'leap' if is_leap_year else 'common'}, and the month {month} has {days} days.\")\n"
   ]
  },
  {
   "cell_type": "markdown",
   "id": "137628b9",
   "metadata": {},
   "source": [
    "BASIC LEVEL:"
   ]
  },
  {
   "cell_type": "code",
   "execution_count": 40,
   "id": "0702804b",
   "metadata": {},
   "outputs": [
    {
     "name": "stdout",
     "output_type": "stream",
     "text": [
      "Enter a number: 12\n",
      "The number is positive.\n"
     ]
    }
   ],
   "source": [
    "#1. Check if a given number is positive, negative, or zero:\n",
    "\n",
    "# Get a number from the user\n",
    "number = float(input(\"Enter a number: \"))\n",
    "\n",
    "if number > 0:\n",
    "    print(\"The number is positive.\")\n",
    "elif number < 0:\n",
    "    print(\"The number is negative.\")\n",
    "else:\n",
    "    print(\"The number is zero.\")"
   ]
  },
  {
   "cell_type": "code",
   "execution_count": 41,
   "id": "8b39cb04",
   "metadata": {},
   "outputs": [
    {
     "name": "stdout",
     "output_type": "stream",
     "text": [
      "Enter your age: 56\n",
      "You are eligible to vote.\n"
     ]
    }
   ],
   "source": [
    "#2. Determine if a person is eligible to vote based on their age:\n",
    "\n",
    "# Get the age of a person from the user\n",
    "age = int(input(\"Enter your age: \"))\n",
    "\n",
    "if age >= 18:\n",
    "    print(\"You are eligible to vote.\")\n",
    "else:\n",
    "    print(\"You are not eligible to vote.\")"
   ]
  },
  {
   "cell_type": "code",
   "execution_count": 42,
   "id": "54660281",
   "metadata": {},
   "outputs": [
    {
     "name": "stdout",
     "output_type": "stream",
     "text": [
      "Enter the first number: 1\n",
      "Enter the second number: 2\n",
      "The maximum of 1.0 and 2.0 is 2.0.\n"
     ]
    }
   ],
   "source": [
    "#3. Find the maximum of two given numbers using conditional statements:\n",
    "# Get two numbers from the user\n",
    "num1 = float(input(\"Enter the first number: \"))\n",
    "num2 = float(input(\"Enter the second number: \"))\n",
    "\n",
    "if num1 > num2:\n",
    "    maximum = num1\n",
    "else:\n",
    "    maximum = num2\n",
    "\n",
    "print(f\"The maximum of {num1} and {num2} is {maximum}.\")\n"
   ]
  },
  {
   "cell_type": "code",
   "execution_count": 43,
   "id": "7ed9e0bf",
   "metadata": {},
   "outputs": [
    {
     "name": "stdout",
     "output_type": "stream",
     "text": [
      "Enter your exam score: 99\n",
      "Your grade is A.\n"
     ]
    }
   ],
   "source": [
    "#4. Calculate the grade of a student based on their exam score:\n",
    "\n",
    "# Get the exam score from the user\n",
    "score = float(input(\"Enter your exam score: \"))\n",
    "\n",
    "if score >= 90:\n",
    "    grade = \"A\"\n",
    "elif score >= 80:\n",
    "    grade = \"B\"\n",
    "elif score >= 70:\n",
    "    grade = \"C\"\n",
    "elif score >= 60:\n",
    "    grade = \"D\"\n",
    "else:\n",
    "    grade = \"F\"\n",
    "\n",
    "print(f\"Your grade is {grade}.\")\n"
   ]
  },
  {
   "cell_type": "code",
   "execution_count": 44,
   "id": "ca951377",
   "metadata": {},
   "outputs": [
    {
     "name": "stdout",
     "output_type": "stream",
     "text": [
      "Enter a year: 1987\n",
      "1987 is not a leap year.\n"
     ]
    }
   ],
   "source": [
    "#5. Check if a year is a leap year or not:\n",
    "\n",
    "# Get a year from the user\n",
    "year = int(input(\"Enter a year: \"))\n",
    "\n",
    "if (year % 4 == 0 and year % 100 != 0) or (year % 400 == 0):\n",
    "    print(f\"{year} is a leap year.\")\n",
    "else:\n",
    "    print(f\"{year} is not a leap year.\")\n"
   ]
  },
  {
   "cell_type": "code",
   "execution_count": 45,
   "id": "7fd63c0f",
   "metadata": {},
   "outputs": [
    {
     "name": "stdout",
     "output_type": "stream",
     "text": [
      "Enter the length of the first side: 12\n",
      "Enter the length of the second side: 12\n",
      "Enter the length of the third side: 12\n",
      "The triangle with sides 12.0, 12.0, and 12.0 is equilateral.\n"
     ]
    }
   ],
   "source": [
    "#6. Classify a triangle based on its sides' lengths:\n",
    "\n",
    "# Get the lengths of three sides of the triangle from the user\n",
    "side1 = float(input(\"Enter the length of the first side: \"))\n",
    "side2 = float(input(\"Enter the length of the second side: \"))\n",
    "side3 = float(input(\"Enter the length of the third side: \"))\n",
    "\n",
    "if side1 == side2 == side3:\n",
    "    triangle_type = \"equilateral\"\n",
    "elif side1 == side2 or side1 == side3 or side2 == side3:\n",
    "    triangle_type = \"isosceles\"\n",
    "else:\n",
    "    triangle_type = \"scalene\"\n",
    "\n",
    "print(f\"The triangle with sides {side1}, {side2}, and {side3} is {triangle_type}.\")"
   ]
  },
  {
   "cell_type": "code",
   "execution_count": 46,
   "id": "ce849c46",
   "metadata": {},
   "outputs": [
    {
     "name": "stdout",
     "output_type": "stream",
     "text": [
      "Enter the first number: 12\n",
      "Enter the second number: 12\n",
      "Enter the third number: 12\n",
      "The largest of 12.0, 12.0, and 12.0 is 12.0.\n"
     ]
    }
   ],
   "source": [
    "#7. Determine the largest of three given numbers:\n",
    "\n",
    "# Get three numbers from the user\n",
    "num1 = float(input(\"Enter the first number: \"))\n",
    "num2 = float(input(\"Enter the second number: \"))\n",
    "num3 = float(input(\"Enter the third number: \"))\n",
    "\n",
    "maximum = max(num1, num2, num3)\n",
    "\n",
    "print(f\"The largest of {num1}, {num2}, and {num3} is {maximum}.\")\n"
   ]
  },
  {
   "cell_type": "code",
   "execution_count": 47,
   "id": "222016b4",
   "metadata": {},
   "outputs": [
    {
     "name": "stdout",
     "output_type": "stream",
     "text": [
      "Enter a character: k\n",
      "The character is a consonant or not a valid alphabet character.\n"
     ]
    }
   ],
   "source": [
    "#8. Check whether a character is a vowel or a consonant:\n",
    "\n",
    "# Get a character from the user\n",
    "character = input(\"Enter a character: \").lower()\n",
    "\n",
    "if character.isalpha() and character in \"aeiou\":\n",
    "    print(\"The character is a vowel.\")\n",
    "else:\n",
    "    print(\"The character is a consonant or not a valid alphabet character.\")"
   ]
  },
  {
   "cell_type": "code",
   "execution_count": 48,
   "id": "50e44790",
   "metadata": {},
   "outputs": [
    {
     "name": "stdout",
     "output_type": "stream",
     "text": [
      "Enter the total cost of items: 1000\n",
      "The total cost after discount is $900.00.\n"
     ]
    }
   ],
   "source": [
    "#9. Calculate the total cost of a shopping cart based on discounts:\n",
    "# Get the total cost of items in the shopping cart from the user\n",
    "total_cost = float(input(\"Enter the total cost of items: \"))\n",
    "\n",
    "if total_cost >= 100:\n",
    "    discount = 0.1  # 10% discount for total cost >= 100\n",
    "else:\n",
    "    discount = 0\n",
    "\n",
    "discounted_price = total_cost - (total_cost * discount)\n",
    "\n",
    "print(f\"The total cost after discount is ${discounted_price:.2f}.\")\n"
   ]
  },
  {
   "cell_type": "code",
   "execution_count": 49,
   "id": "04502880",
   "metadata": {},
   "outputs": [
    {
     "name": "stdout",
     "output_type": "stream",
     "text": [
      "Enter a number: 12\n",
      "The number is even.\n"
     ]
    }
   ],
   "source": [
    "#10. Check if a given number is even or odd:**\n",
    "\n",
    "# Get a number from the user\n",
    "number = int(input(\"Enter a number: \"))\n",
    "\n",
    "if number % 2 == 0:\n",
    "    print(\"The number is even.\")\n",
    "else:\n",
    "    print(\"The number is odd.\")\n"
   ]
  },
  {
   "cell_type": "markdown",
   "id": "2cbcced4",
   "metadata": {},
   "source": [
    "Intermediate LEVEL:"
   ]
  },
  {
   "cell_type": "code",
   "execution_count": 50,
   "id": "84629d8b",
   "metadata": {},
   "outputs": [
    {
     "name": "stdout",
     "output_type": "stream",
     "text": [
      "Enter the coefficient 'a': 2\n",
      "Enter the coefficient 'b': 3\n",
      "Enter the coefficient 'c': 4\n",
      "The roots of the quadratic equation are complex: -0.75 + 1.1989578808281798i and -0.75 - 1.1989578808281798i\n"
     ]
    }
   ],
   "source": [
    "#11. Calculate the roots of a quadratic equation:\n",
    "\n",
    "import math\n",
    "\n",
    "# Get the coefficients of the quadratic equation from the user\n",
    "a = float(input(\"Enter the coefficient 'a': \"))\n",
    "b = float(input(\"Enter the coefficient 'b': \"))\n",
    "c = float(input(\"Enter the coefficient 'c': \"))\n",
    "\n",
    "# Calculate the discriminant\n",
    "discriminant = b**2 - 4*a*c\n",
    "\n",
    "# Check the nature of roots\n",
    "if discriminant > 0:\n",
    "    root1 = (-b + math.sqrt(discriminant)) / (2*a)\n",
    "    root2 = (-b - math.sqrt(discriminant)) / (2*a)\n",
    "    print(f\"The roots of the quadratic equation are real and different: {root1} and {root2}\")\n",
    "elif discriminant == 0:\n",
    "    root1 = -b / (2*a)\n",
    "    print(f\"The root of the quadratic equation is real and equal: {root1}\")\n",
    "else:\n",
    "    real_part = -b / (2*a)\n",
    "    imaginary_part = math.sqrt(abs(discriminant)) / (2*a)\n",
    "    print(f\"The roots of the quadratic equation are complex: {real_part} + {imaginary_part}i and {real_part} - {imaginary_part}i\")\n"
   ]
  },
  {
   "cell_type": "code",
   "execution_count": 51,
   "id": "ba816535",
   "metadata": {},
   "outputs": [
    {
     "name": "stdout",
     "output_type": "stream",
     "text": [
      "Enter a number (1 for Monday, 2 for Tuesday, etc.): 5\n",
      "The day corresponding to number 5 is Friday.\n"
     ]
    }
   ],
   "source": [
    "#12. Determine the day of the week based on the day number (1-7):\n",
    "# Get a number representing a day of the week from the user (1 for Monday, 2 for Tuesday, etc.)\n",
    "day_number = int(input(\"Enter a number (1 for Monday, 2 for Tuesday, etc.): \"))\n",
    "\n",
    "# Define a list of day names\n",
    "days_of_week = [\"Monday\", \"Tuesday\", \"Wednesday\", \"Thursday\", \"Friday\", \"Saturday\", \"Sunday\"]\n",
    "\n",
    "if 1 <= day_number <= 7:\n",
    "    day_name = days_of_week[day_number - 1]\n",
    "    print(f\"The day corresponding to number {day_number} is {day_name}.\")\n",
    "else:\n",
    "    print(\"Invalid input. Please enter a number between 1 and 7.\")\n"
   ]
  },
  {
   "cell_type": "code",
   "execution_count": 52,
   "id": "ae975264",
   "metadata": {},
   "outputs": [
    {
     "name": "stdout",
     "output_type": "stream",
     "text": [
      "Enter a number: 45\n",
      "The factorial of 45 is 119622220865480194561963161495657715064383733760000000000.\n"
     ]
    }
   ],
   "source": [
    "#13. Calculate the factorial of a given number using recursion:\n",
    "\n",
    "# Function to calculate factorial recursively\n",
    "def factorial(n):\n",
    "    if n == 0:\n",
    "        return 1\n",
    "    else:\n",
    "        return n * factorial(n - 1)\n",
    "\n",
    "# Get a number from the user\n",
    "num = int(input(\"Enter a number: \"))\n",
    "\n",
    "if num < 0:\n",
    "    print(\"Factorial is not defined for negative numbers.\")\n",
    "else:\n",
    "    result = factorial(num)\n",
    "    print(f\"The factorial of {num} is {result}.\")\n"
   ]
  },
  {
   "cell_type": "code",
   "execution_count": 53,
   "id": "0916f7ea",
   "metadata": {},
   "outputs": [
    {
     "name": "stdout",
     "output_type": "stream",
     "text": [
      "Enter the first number: 2\n",
      "Enter the second number: 3\n",
      "Enter the third number: 4\n",
      "The largest number among 2.0, 3.0, and 4.0 is 4.0.\n"
     ]
    }
   ],
   "source": [
    "#14. Find the largest among three numbers without using the `max()` function:\n",
    "# Get three numbers from the user\n",
    "num1 = float(input(\"Enter the first number: \"))\n",
    "num2 = float(input(\"Enter the second number: \"))\n",
    "num3 = float(input(\"Enter the third number: \"))\n",
    "\n",
    "if num1 >= num2:\n",
    "    if num1 >= num3:\n",
    "        largest = num1\n",
    "    else:\n",
    "        largest = num3\n",
    "else:\n",
    "    if num2 >= num3:\n",
    "        largest = num2\n",
    "    else:\n",
    "        largest = num3\n",
    "\n",
    "print(f\"The largest number among {num1}, {num2}, and {num3} is {largest}.\")\n"
   ]
  },
  {
   "cell_type": "code",
   "execution_count": 54,
   "id": "ba1a7aae",
   "metadata": {},
   "outputs": [
    {
     "name": "stdout",
     "output_type": "stream",
     "text": [
      "ATM Menu:\n",
      "1. Check Balance\n",
      "2. Deposit\n",
      "3. Withdraw\n",
      "4. Quit\n",
      "Enter your choice (1/2/3/4): 2\n",
      "Enter the deposit amount: $123\n",
      "Deposit of $123.00 is successful. Your new balance is: $1123.00\n",
      "ATM Menu:\n",
      "1. Check Balance\n",
      "2. Deposit\n",
      "3. Withdraw\n",
      "4. Quit\n",
      "Enter your choice (1/2/3/4): 4\n",
      "Thank you for using the ATM. Have a nice day!\n"
     ]
    }
   ],
   "source": [
    "#15. Simulate a basic ATM transaction menu:\n",
    "\n",
    "# Simulated account balance\n",
    "balance = 1000.0\n",
    "\n",
    "while True:\n",
    "    print(\"ATM Menu:\")\n",
    "    print(\"1. Check Balance\")\n",
    "    print(\"2. Deposit\")\n",
    "    print(\"3. Withdraw\")\n",
    "    print(\"4. Quit\")\n",
    "    \n",
    "    choice = input(\"Enter your choice (1/2/3/4): \")\n",
    "\n",
    "    if choice == '1':\n",
    "        print(f\"Your balance is: ${balance:.2f}\")\n",
    "    elif choice == '2':\n",
    "        deposit_amount = float(input(\"Enter the deposit amount: $\"))\n",
    "        balance += deposit_amount\n",
    "        print(f\"Deposit of ${deposit_amount:.2f} is successful. Your new balance is: ${balance:.2f}\")\n",
    "    elif choice == '3':\n",
    "        withdraw_amount = float(input(\"Enter the withdrawal amount: $\"))\n",
    "        if withdraw_amount <= balance:\n",
    "            balance -= withdraw_amount\n",
    "            print(f\"Withdrawal of ${withdraw_amount:.2f} is successful. Your new balance is: ${balance:.2f}\")\n",
    "        else:\n",
    "            print(\"Insufficient funds.\")\n",
    "    elif choice == '4':\n",
    "        print(\"Thank you for using the ATM. Have a nice day!\")\n",
    "        break\n",
    "    else:\n",
    "        print(\"Invalid choice. Please select a valid option.\")\n"
   ]
  },
  {
   "cell_type": "code",
   "execution_count": 55,
   "id": "0c9a4200",
   "metadata": {},
   "outputs": [
    {
     "name": "stdout",
     "output_type": "stream",
     "text": [
      "Enter a string: Hello\n",
      "The string is not a palindrome.\n"
     ]
    }
   ],
   "source": [
    "#16. Check if a given string is a palindrome or not:\n",
    "\n",
    "# Get a string from the user\n",
    "input_string = input(\"Enter a string: \")\n",
    "\n",
    "# Remove spaces and convert to lowercase for case-insensitive comparison\n",
    "input_string = input_string.replace(\" \", \"\").lower()\n",
    "\n",
    "if input_string == input_string[::-1]:\n",
    "    print(\"The string is a palindrome.\")\n",
    "else:\n",
    "    print(\"The string is not a palindrome.\")\n"
   ]
  },
  {
   "cell_type": "code",
   "execution_count": 56,
   "id": "94794525",
   "metadata": {},
   "outputs": [
    {
     "name": "stdout",
     "output_type": "stream",
     "text": [
      "Enter a list of numbers separated by spaces: 1 2 3 4 5 6 7 8 9 \n",
      "The average of the numbers (excluding the smallest and largest) is 5.00\n"
     ]
    }
   ],
   "source": [
    "#17. Calculate the average of a list of numbers, excluding the smallest and largest values:\n",
    "\n",
    "# Get a list of numbers from the user\n",
    "num_list = [float(x) for x in input(\"Enter a list of numbers separated by spaces: \").split()]\n",
    "\n",
    "if len(num_list) >= 3:\n",
    "    num_list.remove(max(num_list))\n",
    "    num_list.remove(min(num_list))\n",
    "    average = sum(num_list) / len(num_list)\n",
    "    print(f\"The average of the numbers (excluding the smallest and largest) is {average:.2f}\")\n",
    "else:\n",
    "    print(\"Please enter at least three numbers.\")\n"
   ]
  },
  {
   "cell_type": "code",
   "execution_count": 58,
   "id": "353eb7cd",
   "metadata": {},
   "outputs": [
    {
     "name": "stdout",
     "output_type": "stream",
     "text": [
      "Enter temperature in Celsius: 45\n",
      "45.0°C is equal to 113.0°F.\n"
     ]
    }
   ],
   "source": [
    "#18. Convert a given temperature from Celsius to Fahrenheit\"\n",
    "\n",
    "# Get temperature in Celsius from the user\n",
    "celsius = float(input(\"Enter temperature in Celsius: \"))\n",
    "\n",
    "# Convert Celsius to Fahrenheit\n",
    "fahrenheit = (celsius * 9/5) + 32\n",
    "\n",
    "print(f\"{celsius}°C is equal to {fahrenheit}°F.\")\n"
   ]
  },
  {
   "cell_type": "code",
   "execution_count": 62,
   "id": "523c9930",
   "metadata": {},
   "outputs": [
    {
     "name": "stdout",
     "output_type": "stream",
     "text": [
      "Options:\n",
      "Enter 'add' for addition\n",
      "Enter 'subtract' for subtraction\n",
      "Enter 'multiply' for multiplication\n",
      "Enter 'divide' for division\n",
      "Enter 'quit' to end the program\n",
      ": add\n",
      "Enter first number: 1\n",
      "Enter second number: 2\n",
      "Result: 3.0\n",
      "Options:\n",
      "Enter 'add' for addition\n",
      "Enter 'subtract' for subtraction\n",
      "Enter 'multiply' for multiplication\n",
      "Enter 'divide' for division\n",
      "Enter 'quit' to end the program\n",
      ": quit\n"
     ]
    }
   ],
   "source": [
    "#19. Simulate a basic calculator for addition, subtraction, multiplication, and division:\n",
    "# Function to add two numbers\n",
    "def add(x, y):\n",
    "    return x + y\n",
    "\n",
    "# Function to subtract two numbers\n",
    "def subtract(x, y):\n",
    "    return x - y\n",
    "\n",
    "# Function to multiply two numbers\n",
    "def multiply(x, y):\n",
    "    return x * y\n",
    "\n",
    "# Function to divide two numbers\n",
    "def divide(x, y):\n",
    "    if y == 0:\n",
    "        return \"Division by zero is not allowed.\"\n",
    "    return x / y\n",
    "\n",
    "while True:\n",
    "    # Display the menu\n",
    "    print(\"Options:\")\n",
    "    print(\"Enter 'add' for addition\")\n",
    "    print(\"Enter 'subtract' for subtraction\")\n",
    "    print(\"Enter 'multiply' for multiplication\")\n",
    "    print(\"Enter 'divide' for division\")\n",
    "    print(\"Enter 'quit' to end the program\")\n",
    "\n",
    "    # Get the user's choice\n",
    "    user_input = input(\": \")\n",
    "\n",
    "    if user_input == \"quit\":\n",
    "        break\n",
    "    elif user_input in (\"add\", \"subtract\", \"multiply\", \"divide\"):\n",
    "        num1 = float(input(\"Enter first number: \"))\n",
    "        num2 = float(input(\"Enter second number: \"))\n",
    "\n",
    "        if user_input == \"add\":\n",
    "            print(\"Result:\", add(num1, num2))\n",
    "        elif user_input == \"subtract\":\n",
    "            print(\"Result:\", subtract(num1, num2))\n",
    "        elif user_input == \"multiply\":\n",
    "            print(\"Result:\", multiply(num1, num2))\n",
    "        elif user_input == \"divide\":\n",
    "            print(\"Result:\", divide(num1, num2))\n",
    "    else:\n",
    "        print(\"Invalid input. Please enter a valid operation.\")\n"
   ]
  },
  {
   "cell_type": "code",
   "execution_count": 61,
   "id": "246b3c77",
   "metadata": {},
   "outputs": [
    {
     "name": "stdout",
     "output_type": "stream",
     "text": [
      "Enter the coefficient 'a': 2\n",
      "Enter the coefficient 'b': 3\n",
      "Enter the coefficient 'c': 4\n",
      "Enter the coefficient 'd': 5\n",
      "The roots are real and different: 0.17-0.30j\n"
     ]
    }
   ],
   "source": [
    "#20. Determine the roots of a cubic equation using the Cardano formula:\n",
    "\n",
    "\n",
    "# Get the coefficients of the cubic equation from the user\n",
    "a = float(input(\"Enter the coefficient 'a': \"))\n",
    "b = float(input(\"Enter the coefficient 'b': \"))\n",
    "c = float(input(\"Enter the coefficient 'c': \"))\n",
    "d = float(input(\"Enter the coefficient 'd': \"))\n",
    "\n",
    "# Calculate intermediate variables\n",
    "p = c / a - (b**2) / (3 * (a**2))\n",
    "q = (2 * (b**3)) / (27 * (a**3)) - (b * c) / (3 * (a**2)) + d / a\n",
    "\n",
    "# Calculate discriminant\n",
    "discriminant = (q**2) / 4 + (p**3) / 27\n",
    "\n",
    "if discriminant > 0:\n",
    "    # Three real roots\n",
    "    root1 = (-q / 2 + discriminant**0.5)**(1 / 3) - (q / 2 - discriminant**0.5)**(1 / 3)\n",
    "    print(f\"The roots are real and different: {root1:.2f}\")\n",
    "elif discriminant == 0:\n",
    "    # One real root and two complex roots\n",
    "    root1 = -2 * (q / 2)**(1 / 3)\n",
    "    real_part = root1\n",
    "    imaginary_part = (3**0.5) * (q / 2)**(1 / 3)\n",
    "    print(f\"One real root: {real_part:.2f}\")\n",
    "    print(f\"Two complex roots: {real_part:.2f} + {imaginary_part:.2f}i and {real_part:.2f} - {imaginary_part:.2f}i\")\n",
    "else:\n",
    "    # Three real roots (one real and two complex)\n",
    "    r = ((-(q / 2)**2 + (discriminant**0.5)**2)**0.5)**(1 / 3)\n",
    "    theta = math.acos(-(q / 2) / (discriminant**0.5)) / 3\n",
    "    root1 = 2 * r * math.cos(theta) - b / (3 * a)\n",
    "    root2 = 2 * r * math.cos(theta + (2 * math.pi / 3)) - b / (3 * a)\n",
    "    root3 = 2 * r * math.cos(theta + (4 * math.pi / 3)) - b / (3 * a)\n",
    "    print(f\"One real root: {root1:.2f}\")\n",
    "    print(f\"Two complex roots: {root2:.2f} + {root3:.2f}i and {root2:.2f} - {root3:.2f}i\")"
   ]
  },
  {
   "cell_type": "markdown",
   "id": "8d0a510a",
   "metadata": {},
   "source": [
    "ADVANCE LEVEL:"
   ]
  },
  {
   "cell_type": "code",
   "execution_count": 63,
   "id": "3799eef5",
   "metadata": {},
   "outputs": [
    {
     "name": "stdout",
     "output_type": "stream",
     "text": [
      "Enter your income: 5000\n",
      "Your income tax is: $500.00\n"
     ]
    }
   ],
   "source": [
    "#21. Calculate income tax based on user's income and tax brackets:\n",
    "\n",
    "# Define tax brackets and rates\n",
    "tax_brackets = [(10000, 0.1), (30000, 0.2), (70000, 0.3)]\n",
    "\n",
    "# Get user's income\n",
    "income = float(input(\"Enter your income: \"))\n",
    "\n",
    "# Calculate income tax\n",
    "tax = 0\n",
    "for bracket, rate in tax_brackets:\n",
    "    if income > bracket:\n",
    "        tax += bracket * rate\n",
    "        income -= bracket\n",
    "    else:\n",
    "        tax += income * rate\n",
    "        break\n",
    "\n",
    "print(f\"Your income tax is: ${tax:.2f}\")"
   ]
  },
  {
   "cell_type": "code",
   "execution_count": 64,
   "id": "a86f0d28",
   "metadata": {},
   "outputs": [
    {
     "name": "stdout",
     "output_type": "stream",
     "text": [
      "Enter your choice (rock, paper, or scissors): rock\n",
      "Computer chooses paper\n",
      "Computer wins!\n"
     ]
    }
   ],
   "source": [
    "#22. Simulate a rock-paper-scissors game against the computer\n",
    "import random\n",
    "\n",
    "# Get user's choice\n",
    "user_choice = input(\"Enter your choice (rock, paper, or scissors): \").lower()\n",
    "\n",
    "# Generate a random choice for the computer\n",
    "choices = [\"rock\", \"paper\", \"scissors\"]\n",
    "computer_choice = random.choice(choices)\n",
    "\n",
    "print(f\"Computer chooses {computer_choice}\")\n",
    "\n",
    "# Determine the winner\n",
    "if user_choice == computer_choice:\n",
    "    print(\"It's a tie!\")\n",
    "elif (\n",
    "    (user_choice == \"rock\" and computer_choice == \"scissors\") or\n",
    "    (user_choice == \"scissors\" and computer_choice == \"paper\") or\n",
    "    (user_choice == \"paper\" and computer_choice == \"rock\")\n",
    "):\n",
    "    print(\"You win!\")\n",
    "else:\n",
    "    print(\"Computer wins!\")\n"
   ]
  },
  {
   "cell_type": "code",
   "execution_count": 65,
   "id": "c129621b",
   "metadata": {},
   "outputs": [
    {
     "name": "stdout",
     "output_type": "stream",
     "text": [
      "Enter the password length: 6\n",
      "Include digits? (yes/no): yes\n",
      "Include special characters? (yes/no): no\n",
      "Generated password: jCcFlC\n"
     ]
    }
   ],
   "source": [
    "#23. Generate a random password based on user preferences (length, complexity):\n",
    "\n",
    "import random\n",
    "import string\n",
    "\n",
    "# Get user's preferences\n",
    "length = int(input(\"Enter the password length: \"))\n",
    "include_digits = input(\"Include digits? (yes/no): \").lower() == \"yes\"\n",
    "include_special_chars = input(\"Include special characters? (yes/no): \").lower() == \"yes\"\n",
    "\n",
    "# Define character sets\n",
    "letters = string.ascii_letters\n",
    "digits = string.digits if include_digits else \"\"\n",
    "special_chars = string.punctuation if include_special_chars else \"\"\n",
    "\n",
    "# Combine character sets\n",
    "all_chars = letters + digits + special_chars\n",
    "\n",
    "# Generate the password\n",
    "password = \"\".join(random.choice(all_chars) for _ in range(length))\n",
    "\n",
    "print(f\"Generated password: {password}\")\n"
   ]
  },
  {
   "cell_type": "code",
   "execution_count": 66,
   "id": "a7fd2e48",
   "metadata": {},
   "outputs": [
    {
     "name": "stdout",
     "output_type": "stream",
     "text": [
      "Welcome to the Adventure Game!\n",
      "\n",
      "Choose your path:\n",
      "1. Enter the cave\n",
      "2. Cross the bridge\n",
      "3. Climb the mountain\n",
      "4. Quit\n",
      "Enter your choice (1/2/3/4): 3\n",
      "You start climbing the mountain but encounter a snowstorm.\n",
      "\n",
      "Choose your path:\n",
      "1. Enter the cave\n",
      "2. Cross the bridge\n",
      "3. Climb the mountain\n",
      "4. Quit\n",
      "Enter your choice (1/2/3/4): 2\n",
      "You cross the bridge safely.\n",
      "\n",
      "Choose your path:\n",
      "1. Enter the cave\n",
      "2. Cross the bridge\n",
      "3. Climb the mountain\n",
      "4. Quit\n",
      "Enter your choice (1/2/3/4): 2\n",
      "You cross the bridge safely.\n",
      "\n",
      "Choose your path:\n",
      "1. Enter the cave\n",
      "2. Cross the bridge\n",
      "3. Climb the mountain\n",
      "4. Quit\n",
      "Enter your choice (1/2/3/4): 2\n",
      "You cross the bridge safely.\n",
      "\n",
      "Choose your path:\n",
      "1. Enter the cave\n",
      "2. Cross the bridge\n",
      "3. Climb the mountain\n",
      "4. Quit\n",
      "Enter your choice (1/2/3/4): 4\n",
      "Thanks for playing! Goodbye!\n"
     ]
    }
   ],
   "source": [
    "#24. Implement a simple text-based adventure game with branching scenarios:\n",
    "\n",
    "print(\"Welcome to the Adventure Game!\")\n",
    "\n",
    "while True:\n",
    "    print(\"\\nChoose your path:\")\n",
    "    print(\"1. Enter the cave\")\n",
    "    print(\"2. Cross the bridge\")\n",
    "    print(\"3. Climb the mountain\")\n",
    "    print(\"4. Quit\")\n",
    "\n",
    "    choice = input(\"Enter your choice (1/2/3/4): \")\n",
    "\n",
    "    if choice == \"1\":\n",
    "        print(\"You enter the dark cave and find a treasure chest!\")\n",
    "    elif choice == \"2\":\n",
    "        print(\"You cross the bridge safely.\")\n",
    "    elif choice == \"3\":\n",
    "        print(\"You start climbing the mountain but encounter a snowstorm.\")\n",
    "    elif choice == \"4\":\n",
    "        print(\"Thanks for playing! Goodbye!\")\n",
    "        break\n",
    "    else:\n",
    "        print(\"Invalid choice. Please select a valid option.\")\n"
   ]
  },
  {
   "cell_type": "code",
   "execution_count": 68,
   "id": "582616dc",
   "metadata": {},
   "outputs": [
    {
     "name": "stdout",
     "output_type": "stream",
     "text": [
      "Enter the coefficient 'a': 2\n",
      "Enter the coefficient 'b': 2\n",
      "The solution for x is: -1.0\n"
     ]
    }
   ],
   "source": [
    "#25. Solve a linear equation for x, considering different cases:\n",
    "\n",
    "# Get coefficients from the user\n",
    "a = float(input(\"Enter the coefficient 'a': \"))\n",
    "b = float(input(\"Enter the coefficient 'b': \"))\n",
    "\n",
    "if a == 0:\n",
    "    if b == 0:\n",
    "        print(\"Infinite solutions (any x)\")\n",
    "    else:\n",
    "        print(\"No solution\")\n",
    "else:\n",
    "    x = -b / a\n",
    "    print(f\"The solution for x is: {x}\")\n"
   ]
  },
  {
   "cell_type": "code",
   "execution_count": 69,
   "id": "030ee4aa",
   "metadata": {},
   "outputs": [
    {
     "name": "stdout",
     "output_type": "stream",
     "text": [
      "What is the capital of France?\n",
      "1. London\n",
      "2. Paris\n",
      "3. Berlin\n",
      "4. Madrid\n",
      "Your answer (1/2/3/4): 2\n",
      "Which planet is known as the Red Planet?\n",
      "1. Mars\n",
      "2. Jupiter\n",
      "3. Venus\n",
      "4. Saturn\n",
      "Your answer (1/2/3/4): 1\n",
      "What is the largest mammal in the world?\n",
      "1. Elephant\n",
      "2. Giraffe\n",
      "3. Blue Whale\n",
      "4. Lion\n",
      "Your answer (1/2/3/4): 3\n",
      "Your score: 3/3\n"
     ]
    }
   ],
   "source": [
    "#26. Simulate a basic quiz game with multiple-choice questions and scoring:\n",
    "\n",
    "questions = [\n",
    "    {\n",
    "        \"question\": \"What is the capital of France?\",\n",
    "        \"options\": [\"London\", \"Paris\", \"Berlin\", \"Madrid\"],\n",
    "        \"correct_answer\": \"Paris\"\n",
    "    },\n",
    "    {\n",
    "        \"question\": \"Which planet is known as the Red Planet?\",\n",
    "        \"options\": [\"Mars\", \"Jupiter\", \"Venus\", \"Saturn\"],\n",
    "        \"correct_answer\": \"Mars\"\n",
    "    },\n",
    "    {\n",
    "        \"question\": \"What is the largest mammal in the world?\",\n",
    "        \"options\": [\"Elephant\", \"Giraffe\", \"Blue Whale\", \"Lion\"],\n",
    "        \"correct_answer\": \"Blue Whale\"\n",
    "    }\n",
    "]\n",
    "\n",
    "score = 0\n",
    "\n",
    "for question in questions:\n",
    "    print(question[\"question\"])\n",
    "    for i, option in enumerate(question[\"options\"], start=1):\n",
    "        print(f\"{i}. {option}\")\n",
    "    \n",
    "    user_answer = input(\"Your answer (1/2/3/4): \")\n",
    "    if user_answer.isdigit():\n",
    "        user_answer = int(user_answer)\n",
    "        if 1 <= user_answer <= len(question[\"options\"]) and question[\"options\"][user_answer - 1] == question[\"correct_answer\"]:\n",
    "            score += 1\n",
    "\n",
    "print(f\"Your score: {score}/{len(questions)}\")\n"
   ]
  },
  {
   "cell_type": "code",
   "execution_count": 70,
   "id": "8404fe95",
   "metadata": {},
   "outputs": [
    {
     "name": "stdout",
     "output_type": "stream",
     "text": [
      "Enter a year: 1965\n",
      "1965 is not a prime number.\n"
     ]
    }
   ],
   "source": [
    "#27. Determine whether a given year is a prime number or not:\n",
    "# Get a year from the user\n",
    "year = int(input(\"Enter a year: \"))\n",
    "\n",
    "if year > 1:\n",
    "    for i in range(2, int(year ** 0.5) + 1):\n",
    "        if year % i == 0:\n",
    "            print(f\"{year} is not a prime number.\")\n",
    "            break\n",
    "    else:\n",
    "        print(f\"{year} is a prime number.\")\n",
    "else:\n",
    "    print(f\"{year} is not a prime number.\")\n"
   ]
  },
  {
   "cell_type": "code",
   "execution_count": 72,
   "id": "8ee662c9",
   "metadata": {},
   "outputs": [
    {
     "name": "stdout",
     "output_type": "stream",
     "text": [
      "Enter the first number: 56\n",
      "Enter the second number: 58\n",
      "Enter the third number: 59\n",
      "Sorted order: 56.0, 58.0, 59.0\n"
     ]
    }
   ],
   "source": [
    "#28. Sort three numbers in ascending order using conditional statements:\n",
    "# Get three numbers from the user\n",
    "num1 = float(input(\"Enter the first number: \"))\n",
    "num2 = float(input(\"Enter the second number: \"))\n",
    "num3 = float(input(\"Enter the third number: \"))\n",
    "\n",
    "if num1 <= num2 <= num3:\n",
    "    print(f\"Sorted order: {num1}, {num2}, {num3}\")\n",
    "elif num1 <= num3 <= num2:\n",
    "    print(f\"Sorted order: {num1}, {num3}, {num2}\")\n",
    "elif num2 <= num1 <= num3:\n",
    "    print(f\"Sorted order: {num2}, {num1}, {num3}\")\n",
    "elif num2 <= num3 <= num1:\n",
    "    print(f\"Sorted order: {num2}, {num3}, {num1}\")\n",
    "elif num3 <= num1 <= num2:\n",
    "    print(f\"Sorted order: {num3}, {num1}, {num2}\")\n",
    "else:\n",
    "    print(f\"Sorted order: {num3}, {num2}, {num1}\")\n"
   ]
  },
  {
   "cell_type": "code",
   "execution_count": 73,
   "id": "3a1407f1",
   "metadata": {},
   "outputs": [
    {
     "name": "stdout",
     "output_type": "stream",
     "text": [
      "Enter coefficient 'a': 2\n",
      "Enter coefficient 'b': 2\n",
      "Enter coefficient 'c': 2\n",
      "Enter coefficient 'd': 2\n",
      "Enter coefficient 'e': 2\n"
     ]
    },
    {
     "ename": "KeyboardInterrupt",
     "evalue": "",
     "output_type": "error",
     "traceback": [
      "\u001b[1;31m---------------------------------------------------------------------------\u001b[0m",
      "\u001b[1;31mKeyboardInterrupt\u001b[0m                         Traceback (most recent call last)",
      "Input \u001b[1;32mIn [73]\u001b[0m, in \u001b[0;36m<cell line: 17>\u001b[1;34m()\u001b[0m\n\u001b[0;32m     16\u001b[0m \u001b[38;5;28;01mwhile\u001b[39;00m \u001b[38;5;28;01mTrue\u001b[39;00m:\n\u001b[0;32m     17\u001b[0m     f_x \u001b[38;5;241m=\u001b[39m a\u001b[38;5;241m*\u001b[39mx\u001b[38;5;241m*\u001b[39m\u001b[38;5;241m*\u001b[39m\u001b[38;5;241m4\u001b[39m \u001b[38;5;241m+\u001b[39m b\u001b[38;5;241m*\u001b[39mx\u001b[38;5;241m*\u001b[39m\u001b[38;5;241m*\u001b[39m\u001b[38;5;241m3\u001b[39m \u001b[38;5;241m+\u001b[39m c\u001b[38;5;241m*\u001b[39mx\u001b[38;5;241m*\u001b[39m\u001b[38;5;241m*\u001b[39m\u001b[38;5;241m2\u001b[39m \u001b[38;5;241m+\u001b[39m d\u001b[38;5;241m*\u001b[39mx \u001b[38;5;241m+\u001b[39m e\n\u001b[1;32m---> 18\u001b[0m     f_prime_x \u001b[38;5;241m=\u001b[39m \u001b[38;5;241;43m4\u001b[39;49m\u001b[38;5;241;43m*\u001b[39;49m\u001b[43ma\u001b[49m\u001b[38;5;241;43m*\u001b[39;49m\u001b[43mx\u001b[49m\u001b[38;5;241;43m*\u001b[39;49m\u001b[38;5;241;43m*\u001b[39;49m\u001b[38;5;241;43m3\u001b[39;49m \u001b[38;5;241m+\u001b[39m \u001b[38;5;241m3\u001b[39m\u001b[38;5;241m*\u001b[39mb\u001b[38;5;241m*\u001b[39mx\u001b[38;5;241m*\u001b[39m\u001b[38;5;241m*\u001b[39m\u001b[38;5;241m2\u001b[39m \u001b[38;5;241m+\u001b[39m \u001b[38;5;241m2\u001b[39m\u001b[38;5;241m*\u001b[39mc\u001b[38;5;241m*\u001b[39mx \u001b[38;5;241m+\u001b[39m d\n\u001b[0;32m     19\u001b[0m     delta_x \u001b[38;5;241m=\u001b[39m \u001b[38;5;241m-\u001b[39mf_x \u001b[38;5;241m/\u001b[39m f_prime_x\n\u001b[0;32m     20\u001b[0m     x \u001b[38;5;241m+\u001b[39m\u001b[38;5;241m=\u001b[39m delta_x\n",
      "\u001b[1;31mKeyboardInterrupt\u001b[0m: "
     ]
    }
   ],
   "source": [
    "#29. Determine the roots of a quartic equation using numerical methods:\n",
    "# Define the quartic equation coefficients: ax^4 + bx^3 + cx^2 + dx + e = 0\n",
    "a =float(input(\"Enter coefficient 'a': \"))\n",
    "b = float(input(\"Enter coefficient 'b': \"))\n",
    "c = float(input(\"Enter coefficient 'c': \"))\n",
    "d = float(input(\"Enter coefficient 'd': \"))\n",
    "e = float(input(\"Enter coefficient 'e': \"))\n",
    "\n",
    "# Define the tolerance for convergence\n",
    "tolerance = 1e-6\n",
    "\n",
    "# Define an initial guess for the root\n",
    "x = 1.0\n",
    "\n",
    "# Implement an iterative algorithm to find the root\n",
    "while True:\n",
    "    f_x = a*x**4 + b*x**3 + c*x**2 + d*x + e\n",
    "    f_prime_x = 4*a*x**3 + 3*b*x**2 + 2*c*x + d\n",
    "    delta_x = -f_x / f_prime_x\n",
    "    x += delta_x\n",
    "    \n",
    "    if abs(delta_x) < tolerance:\n",
    "        break\n",
    "\n",
    "print(f\"One root of the quartic equation is approximately {x:.6f}\")\n"
   ]
  },
  {
   "cell_type": "code",
   "execution_count": 74,
   "id": "6fe2fedd",
   "metadata": {},
   "outputs": [
    {
     "name": "stdout",
     "output_type": "stream",
     "text": [
      "Enter your weight (kg): 78\n",
      "Enter your height (m): 2.3\n",
      "Your BMI is 14.74, which falls into the category of 'Underweight'. You should consider gaining some weight.\n"
     ]
    }
   ],
   "source": [
    "#30. Calculate the BMI (Body Mass Index) and provide health recommendations based on the user's input:\n",
    "# Get user's weight (in kilograms) and height (in meters)\n",
    "weight = float(input(\"Enter your weight (kg): \"))\n",
    "height = float(input(\"Enter your height (m): \"))\n",
    "\n",
    "# Calculate BMI\n",
    "bmi = weight / (height ** 2)\n",
    "\n",
    "# Determine the BMI category and provide health recommendations\n",
    "if bmi < 18.5:\n",
    "    category = \"Underweight\"\n",
    "    recommendation = \"You should consider gaining some weight.\"\n",
    "elif 18.5 <= bmi < 24.9:\n",
    "    category = \"Normal weight\"\n",
    "    recommendation = \"Your weight is in a healthy range.\"\n",
    "elif 25 <= bmi < 29.9:\n",
    "    category = \"Overweight\"\n",
    "    recommendation = \"You should consider losing some weight.\"\n",
    "else:\n",
    "    category = \"Obese\"\n",
    "    recommendation = \"You should consult a doctor for weight management.\"\n",
    "\n",
    "print(f\"Your BMI is {bmi:.2f}, which falls into the category of '{category}'. {recommendation}\")"
   ]
  },
  {
   "cell_type": "markdown",
   "id": "593931c3",
   "metadata": {},
   "source": [
    "Challenge Level:"
   ]
  },
  {
   "cell_type": "code",
   "execution_count": 75,
   "id": "74d66edf",
   "metadata": {},
   "outputs": [
    {
     "name": "stdout",
     "output_type": "stream",
     "text": [
      "Enter a password: HelloFDSD$%1234\n",
      "Password is valid.\n"
     ]
    }
   ],
   "source": [
    "#31. Validate a password based on complexity rules (length, characters, etc.):\n",
    "import re\n",
    "\n",
    "# Get a password from the user\n",
    "password = input(\"Enter a password: \")\n",
    "\n",
    "# Define complexity rules\n",
    "# Rule 1: Password length should be at least 8 characters\n",
    "# Rule 2: Password should contain at least one uppercase letter\n",
    "# Rule 3: Password should contain at least one lowercase letter\n",
    "# Rule 4: Password should contain at least one digit\n",
    "# Rule 5: Password should contain at least one special character (!@#$%^&*)\n",
    "rules = [\n",
    "    lambda s: len(s) >= 8,\n",
    "    lambda s: any(c.isupper() for c in s),\n",
    "    lambda s: any(c.islower() for c in s),\n",
    "    lambda s: any(c.isdigit() for c in s),\n",
    "    lambda s: re.search(\"[!@#$%^&*]\", s) is not None\n",
    "]\n",
    "\n",
    "# Check if the password meets all rules\n",
    "if all(rule(password) for rule in rules):\n",
    "    print(\"Password is valid.\")\n",
    "else:\n",
    "    print(\"Password is invalid. Please follow the complexity rules.\")"
   ]
  },
  {
   "cell_type": "code",
   "execution_count": 77,
   "id": "e8826797",
   "metadata": {},
   "outputs": [
    {
     "name": "stdout",
     "output_type": "stream",
     "text": [
      "Enter the number of rows: 3\n",
      "Enter the number of columns: 3\n",
      "Enter elements of the first matrix:\n",
      "Enter element at row 1, column 1: 1\n",
      "Enter element at row 1, column 2: 2\n",
      "Enter element at row 1, column 3: 3\n",
      "Enter element at row 2, column 1: 4\n",
      "Enter element at row 2, column 2: 5\n",
      "Enter element at row 2, column 3: 6\n",
      "Enter element at row 3, column 1: 7\n",
      "Enter element at row 3, column 2: 8\n",
      "Enter element at row 3, column 3: 9\n",
      "Enter elements of the second matrix:\n",
      "Enter element at row 1, column 1: 1\n",
      "Enter element at row 1, column 2: 2\n",
      "Enter element at row 1, column 3: 3\n",
      "Enter element at row 2, column 1: 4\n",
      "Enter element at row 2, column 2: 5\n",
      "Enter element at row 2, column 3: 6\n",
      "Enter element at row 3, column 1: 7\n",
      "Enter element at row 3, column 2: 8\n",
      "Enter element at row 3, column 3: 9\n",
      "Matrix Addition Result:\n",
      "[2.0, 4.0, 6.0]\n",
      "[8.0, 10.0, 12.0]\n",
      "[14.0, 16.0, 18.0]\n",
      "Matrix Subtraction Result:\n",
      "[0.0, 0.0, 0.0]\n",
      "[0.0, 0.0, 0.0]\n",
      "[0.0, 0.0, 0.0]\n"
     ]
    }
   ],
   "source": [
    "#32. Perform matrix addition and subtraction based on user input:\n",
    "# Function to add two matrices\n",
    "def matrix_addition(matrix1, matrix2):\n",
    "    result = []\n",
    "    for i in range(len(matrix1)):\n",
    "        row = []\n",
    "        for j in range(len(matrix1[0])):\n",
    "            row.append(matrix1[i][j] + matrix2[i][j])\n",
    "        result.append(row)\n",
    "    return result\n",
    "\n",
    "# Function to subtract two matrices\n",
    "def matrix_subtraction(matrix1, matrix2):\n",
    "    result = []\n",
    "    for i in range(len(matrix1)):\n",
    "        row = []\n",
    "        for j in range(len(matrix1[0])):\n",
    "            row.append(matrix1[i][j] - matrix2[i][j])\n",
    "        result.append(row)\n",
    "    return result\n",
    "\n",
    "# Get matrix dimensions from the user\n",
    "rows = int(input(\"Enter the number of rows: \"))\n",
    "cols = int(input(\"Enter the number of columns: \"))\n",
    "\n",
    "# Get the elements of the first matrix from the user\n",
    "matrix1 = []\n",
    "print(\"Enter elements of the first matrix:\")\n",
    "for i in range(rows):\n",
    "    row = []\n",
    "    for j in range(cols):\n",
    "        element = float(input(f\"Enter element at row {i+1}, column {j+1}: \"))\n",
    "        row.append(element)\n",
    "    matrix1.append(row)\n",
    "\n",
    "# Get the elements of the second matrix from the user\n",
    "matrix2 = []\n",
    "print(\"Enter elements of the second matrix:\")\n",
    "for i in range(rows):\n",
    "    row = []\n",
    "    for j in range(cols):\n",
    "        element = float(input(f\"Enter element at row {i+1}, column {j+1}: \"))\n",
    "        row.append(element)\n",
    "    matrix2.append(row)\n",
    "\n",
    "# Perform matrix addition and subtraction\n",
    "result_addition = matrix_addition(matrix1, matrix2)\n",
    "result_subtraction = matrix_subtraction(matrix1, matrix2)\n",
    "\n",
    "# Display the results\n",
    "print(\"Matrix Addition Result:\")\n",
    "for row in result_addition:\n",
    "    print(row)\n",
    "\n",
    "print(\"Matrix Subtraction Result:\")\n",
    "for row in result_subtraction:\n",
    "    print(row)"
   ]
  },
  {
   "cell_type": "code",
   "execution_count": 78,
   "id": "fcc8bf98",
   "metadata": {},
   "outputs": [
    {
     "name": "stdout",
     "output_type": "stream",
     "text": [
      "Enter the first number: 1\n",
      "Enter the second number: 2\n",
      "The GCD of 1 and 2 is 1.\n"
     ]
    }
   ],
   "source": [
    "#33. Calculate the greatest common divisor (GCD) of two numbers using the Euclidean algorithm:\n",
    "# Function to calculate the GCD using the Euclidean algorithm\n",
    "def gcd(a, b):\n",
    "    while b:\n",
    "        a, b = b, a % b\n",
    "    return a\n",
    "\n",
    "# Get two numbers from the user\n",
    "num1 = int(input(\"Enter the first number: \"))\n",
    "num2 = int(input(\"Enter the second number: \"))\n",
    "\n",
    "# Calculate and display the GCD\n",
    "result = gcd(num1, num2)\n",
    "print(f\"The GCD of {num1} and {num2} is {result}.\")"
   ]
  },
  {
   "cell_type": "code",
   "execution_count": 79,
   "id": "8dc341ae",
   "metadata": {},
   "outputs": [
    {
     "name": "stdout",
     "output_type": "stream",
     "text": [
      "Enter the number of rows for matrix 1: 2\n",
      "Enter the number of columns for matrix 1: 2\n",
      "Enter the number of rows for matrix 2: 2\n",
      "Enter the number of columns for matrix 2: 2\n",
      "Enter elements of matrix 1:\n",
      "Enter element at row 1, column 1: 1\n",
      "Enter element at row 1, column 2: 1\n",
      "Enter element at row 2, column 1: 1\n",
      "Enter element at row 2, column 2: 1\n",
      "Enter elements of matrix 2:\n",
      "Enter element at row 1, column 1: 1\n",
      "Enter element at row 1, column 2: 1\n",
      "Enter element at row 2, column 1: 1\n",
      "Enter element at row 2, column 2: 1\n",
      "Matrix Multiplication Result:\n",
      "[2.0, 2.0]\n",
      "[2.0, 2.0]\n"
     ]
    }
   ],
   "source": [
    "#34. Perform matrix multiplication using nested loops and conditional statements:\n",
    "\n",
    "# Function to multiply two matrices\n",
    "def matrix_multiplication(matrix1, matrix2):\n",
    "    if len(matrix1[0]) != len(matrix2):\n",
    "        return None  # Invalid multiplication\n",
    "    result = []\n",
    "    for i in range(len(matrix1)):\n",
    "        row = []\n",
    "        for j in range(len(matrix2[0])):\n",
    "            total = 0\n",
    "            for k in range(len(matrix2)):\n",
    "                total += matrix1[i][k] * matrix2[k][j]\n",
    "            row.append(total)\n",
    "        result.append(row)\n",
    "    return result\n",
    "\n",
    "# Get dimensions of the first matrix\n",
    "rows1 = int(input(\"Enter the number of rows for matrix 1: \"))\n",
    "cols1 = int(input(\"Enter the number of columns for matrix 1: \"))\n",
    "\n",
    "# Get dimensions of the second matrix\n",
    "rows2 = int(input(\"Enter the number of rows for matrix 2: \"))\n",
    "cols2 = int(input(\"Enter the number of columns for matrix 2: \"))\n",
    "\n",
    "# Check if multiplication is possible\n",
    "if cols1 != rows2:\n",
    "    print(\"Matrix multiplication is not possible.\")\n",
    "else:\n",
    "    # Get elements of the first matrix\n",
    "    matrix1 = []\n",
    "    print(\"Enter elements of matrix 1:\")\n",
    "    for i in range(rows1):\n",
    "        row = []\n",
    "        for j in range(cols1):\n",
    "            element = float(input(f\"Enter element at row {i+1}, column {j+1}: \"))\n",
    "            row.append(element)\n",
    "        matrix1.append(row)\n",
    "\n",
    "    # Get elements of the second matrix\n",
    "    matrix2 = []\n",
    "    print(\"Enter elements of matrix 2:\")\n",
    "    for i in range(rows2):\n",
    "        row = []\n",
    "        for j in range(cols2):\n",
    "            element = float(input(f\"Enter element at row {i+1}, column {j+1}: \"))\n",
    "            row.append(element)\n",
    "        matrix2.append(row)\n",
    "\n",
    "    # Perform matrix multiplication\n",
    "    result = matrix_multiplication(matrix1, matrix2)\n",
    "\n",
    "    if result:\n",
    "        # Display the result\n",
    "        print(\"Matrix Multiplication Result:\")\n",
    "        for row in result:\n",
    "            print(row)\n",
    "    else:\n",
    "        print(\"Matrix multiplication is not possible due to incompatible dimensions.\")\n",
    " "
   ]
  },
  {
   "cell_type": "code",
   "execution_count": 81,
   "id": "b0690239",
   "metadata": {},
   "outputs": [
    {
     "name": "stdout",
     "output_type": "stream",
     "text": [
      "  |   |  \n",
      "---------\n",
      "  |   |  \n",
      "---------\n",
      "  |   |  \n",
      "Player X's turn\n",
      "Enter your move (1-9): 2\n",
      "  | X |  \n",
      "---------\n",
      "  |   |  \n",
      "---------\n",
      "  |   |  \n",
      "Player O's turn\n",
      "Enter your move (1-9): 2\n",
      "Invalid move. Try again.\n",
      "Enter your move (1-9): 3\n",
      "  | X | O\n",
      "---------\n",
      "  |   |  \n",
      "---------\n",
      "  |   |  \n",
      "Player X's turn\n",
      "Enter your move (1-9): 5\n",
      "  | X | O\n",
      "---------\n",
      "  | X |  \n",
      "---------\n",
      "  |   |  \n",
      "Player O's turn\n",
      "Enter your move (1-9): 8\n",
      "  | X | O\n",
      "---------\n",
      "  | X |  \n",
      "---------\n",
      "  | O |  \n",
      "Player X's turn\n",
      "Enter your move (1-9): 9\n",
      "  | X | O\n",
      "---------\n",
      "  | X |  \n",
      "---------\n",
      "  | O | X\n",
      "Player O's turn\n",
      "Enter your move (1-9): 3\n",
      "Invalid move. Try again.\n",
      "Enter your move (1-9): 2\n",
      "Invalid move. Try again.\n",
      "Enter your move (1-9): 1\n",
      "O | X | O\n",
      "---------\n",
      "  | X |  \n",
      "---------\n",
      "  | O | X\n",
      "Player X's turn\n",
      "Enter your move (1-9): 3\n",
      "Invalid move. Try again.\n",
      "Enter your move (1-9): 4\n",
      "O | X | O\n",
      "---------\n",
      "X | X |  \n",
      "---------\n",
      "  | O | X\n",
      "Player O's turn\n",
      "Enter your move (1-9): 6\n",
      "O | X | O\n",
      "---------\n",
      "X | X | O\n",
      "---------\n",
      "  | O | X\n",
      "Player X's turn\n",
      "Enter your move (1-9): 7\n",
      "O | X | O\n",
      "---------\n",
      "X | X | O\n",
      "---------\n",
      "X | O | X\n",
      "It's a draw!\n"
     ]
    }
   ],
   "source": [
    "#35\n",
    "#Create a program that simulates a basic text-based tic-tac-toe game against the computer.\n",
    "# Initialize the tic-tac-toe board\n",
    "board = [\" \" for _ in range(9)]\n",
    "\n",
    "# Function to print the board\n",
    "def print_board(board):\n",
    "    for i in range(0, 9, 3):\n",
    "        print(f\"{board[i]} | {board[i+1]} | {board[i+2]}\")\n",
    "        if i < 6:\n",
    "            print(\"-\" * 9)\n",
    "\n",
    "# Function to check for a win\n",
    "def check_win(board, player):\n",
    "    win_combinations = [(0, 1, 2), (3, 4, 5), (6, 7, 8), (0, 3, 6), (1, 4, 7), (2, 5, 8), (0, 4, 8), (2, 4, 6)]\n",
    "    for combo in win_combinations:\n",
    "        if all(board[i] == player for i in combo):\n",
    "            return True\n",
    "    return False\n",
    "\n",
    "# Main game loop\n",
    "current_player = \"X\"\n",
    "while True:\n",
    "    print_board(board)\n",
    "    print(f\"Player {current_player}'s turn\")\n",
    "    \n",
    "    # Get the player's move\n",
    "    while True:\n",
    "        move = int(input(\"Enter your move (1-9): \")) - 1\n",
    "        if 0 <= move < 9 and board[move] == \" \":\n",
    "            break\n",
    "        else:\n",
    "            print(\"Invalid move. Try again.\")\n",
    "    \n",
    "    board[move] = current_player\n",
    "    \n",
    "    # Check for a win\n",
    "    if check_win(board, current_player):\n",
    "        print_board(board)\n",
    "        print(f\"Player {current_player} wins!\")\n",
    "        break\n",
    "    \n",
    "    # Check for a draw\n",
    "    if \" \" not in board:\n",
    "        print_board(board)\n",
    "        print(\"It's a draw!\")\n",
    "        break\n",
    "    \n",
    "    # Switch to the other player\n",
    "    current_player = \"O\" if current_player == \"X\" else \"X\"\n"
   ]
  },
  {
   "cell_type": "code",
   "execution_count": 82,
   "id": "75c98dea",
   "metadata": {},
   "outputs": [
    {
     "name": "stdout",
     "output_type": "stream",
     "text": [
      "Enter the number of Fibonacci terms: 3\n",
      "Fibonacci sequence:\n",
      "[0, 1, 1]\n"
     ]
    }
   ],
   "source": [
    "#36\n",
    "# Get the number of Fibonacci terms from the user\n",
    "n = int(input(\"Enter the number of Fibonacci terms: \"))\n",
    "\n",
    "# Initialize the first two Fibonacci numbers\n",
    "fibonacci = [0, 1]\n",
    "\n",
    "# Generate Fibonacci numbers up to the specified term\n",
    "while len(fibonacci) < n:\n",
    "    next_term = fibonacci[-1] + fibonacci[-2]\n",
    "    fibonacci.append(next_term)\n",
    "\n",
    "# Print the Fibonacci sequence\n",
    "print(\"Fibonacci sequence:\")\n",
    "print(fibonacci)\n"
   ]
  },
  {
   "cell_type": "code",
   "execution_count": 83,
   "id": "fd85f109",
   "metadata": {},
   "outputs": [
    {
     "name": "stdout",
     "output_type": "stream",
     "text": [
      "Enter the term number: 34\n",
      "The 34th Fibonacci term is 5702887.\n"
     ]
    }
   ],
   "source": [
    "#37\n",
    "# Function to calculate the nth Fibonacci term using memoization\n",
    "def fibonacci(n, memo={}):\n",
    "    if n in memo:\n",
    "        return memo[n]\n",
    "    if n <= 1:\n",
    "        return n\n",
    "    result = fibonacci(n - 1, memo) + fibonacci(n - 2, memo)\n",
    "    memo[n] = result\n",
    "    return result\n",
    "\n",
    "# Get the term number from the user\n",
    "n = int(input(\"Enter the term number: \"))\n",
    "\n",
    "# Calculate and print the nth Fibonacci term\n",
    "result = fibonacci(n)\n",
    "print(f\"The {n}th Fibonacci term is {result}.\")\n"
   ]
  },
  {
   "cell_type": "code",
   "execution_count": 84,
   "id": "c2750238",
   "metadata": {},
   "outputs": [
    {
     "name": "stdout",
     "output_type": "stream",
     "text": [
      "Enter the year (e.g., 2023): 2023\n",
      "Enter the month (1-12): 5\n",
      "      May 2023\n",
      "Mo Tu We Th Fr Sa Su\n",
      " 1  2  3  4  5  6  7\n",
      " 8  9 10 11 12 13 14\n",
      "15 16 17 18 19 20 21\n",
      "22 23 24 25 26 27 28\n",
      "29 30 31\n",
      "\n"
     ]
    }
   ],
   "source": [
    "#38\n",
    "import calendar\n",
    "\n",
    "# Get the year and month from the user\n",
    "year = int(input(\"Enter the year (e.g., 2023): \"))\n",
    "month = int(input(\"Enter the month (1-12): \"))\n",
    "\n",
    "# Create a calendar for the specified month and year\n",
    "cal = calendar.month(year, month)\n",
    "\n",
    "# Print the calendar\n",
    "print(cal)\n"
   ]
  },
  {
   "cell_type": "code",
   "execution_count": 85,
   "id": "1c04bcd6",
   "metadata": {},
   "outputs": [
    {
     "name": "stdout",
     "output_type": "stream",
     "text": [
      "Player's hand:\n",
      "9 of Hearts\n",
      "3 of Clubs\n",
      "\n",
      "Dealer's hand:\n",
      "Ace of Spades\n",
      "One card face down\n",
      "Do you want to 'hit' or 'stand'? hit\n",
      "Player's hand:\n",
      "9 of Hearts\n",
      "3 of Clubs\n",
      "10 of Hearts\n",
      "\n",
      "Dealer's hand:\n",
      "Ace of Spades\n",
      "Jack of Diamonds\n",
      "Player busts. Dealer wins.\n"
     ]
    }
   ],
   "source": [
    "#39\n",
    "import random\n",
    "\n",
    "# Initialize the deck of cards\n",
    "suits = [\"Hearts\", \"Diamonds\", \"Clubs\", \"Spades\"]\n",
    "ranks = [\"2\", \"3\", \"4\", \"5\", \"6\", \"7\", \"8\", \"9\", \"10\", \"Jack\", \"Queen\", \"King\", \"Ace\"]\n",
    "deck = [{\"rank\": rank, \"suit\": suit} for rank in ranks for suit in suits]\n",
    "\n",
    "# Function to calculate the total value of a hand\n",
    "def hand_value(hand):\n",
    "    values = {\"2\": 2, \"3\": 3, \"4\": 4, \"5\": 5, \"6\": 6, \"7\": 7, \"8\": 8, \"9\": 9, \"10\": 10, \"Jack\": 10, \"Queen\": 10, \"King\": 10, \"Ace\": 11}\n",
    "    value = sum(values[card[\"rank\"]] for card in hand)\n",
    "    aces = sum(1 for card in hand if card[\"rank\"] == \"Ace\")\n",
    "    while value > 21 and aces:\n",
    "        value -= 10\n",
    "        aces -= 1\n",
    "    return value\n",
    "\n",
    "# Deal two initial cards to the player and the dealer\n",
    "player_hand = [random.choice(deck), random.choice(deck)]\n",
    "dealer_hand = [random.choice(deck), random.choice(deck)]\n",
    "\n",
    "print(\"Player's hand:\")\n",
    "for card in player_hand:\n",
    "    print(f\"{card['rank']} of {card['suit']}\")\n",
    "\n",
    "print(\"\\nDealer's hand:\")\n",
    "print(f\"{dealer_hand[0]['rank']} of {dealer_hand[0]['suit']}\")\n",
    "print(\"One card face down\")\n",
    "\n",
    "# Player's turn\n",
    "while hand_value(player_hand) < 21:\n",
    "    action = input(\"Do you want to 'hit' or 'stand'? \").lower()\n",
    "    if action == \"hit\":\n",
    "        player_hand.append(random.choice(deck))\n",
    "        print(\"Player's hand:\")\n",
    "        for card in player_hand:\n",
    "            print(f\"{card['rank']} of {card['suit']}\")\n",
    "    elif action == \"stand\":\n",
    "        break\n",
    "\n",
    "# Dealer's turn\n",
    "while hand_value(dealer_hand) < 17:\n",
    "    dealer_hand.append(random.choice(deck))\n",
    "\n",
    "print(\"\\nDealer's hand:\")\n",
    "for card in dealer_hand:\n",
    "    print(f\"{card['rank']} of {card['suit']}\")\n",
    "\n",
    "# Determine the winner\n",
    "player_value = hand_value(player_hand)\n",
    "dealer_value = hand_value(dealer_hand)\n",
    "\n",
    "if player_value > 21:\n",
    "    print(\"Player busts. Dealer wins.\")\n",
    "elif dealer_value > 21:\n",
    "    print(\"Dealer busts. Player wins.\")\n",
    "elif player_value > dealer_value:\n",
    "    print(\"Player wins.\")\n",
    "elif dealer_value > player_value:\n",
    "    print(\"Dealer wins.\")\n",
    "else:\n",
    "    print(\"It's a tie.\")\n"
   ]
  },
  {
   "cell_type": "code",
   "execution_count": 86,
   "id": "27ba8d70",
   "metadata": {},
   "outputs": [
    {
     "name": "stdout",
     "output_type": "stream",
     "text": [
      "Enter a number: 12\n",
      "Prime factors of 12: [2, 2, 3]\n"
     ]
    }
   ],
   "source": [
    "#40\n",
    "# Function to find prime factors of a number\n",
    "def prime_factors(n):\n",
    "    factors = []\n",
    "    divisor = 2\n",
    "\n",
    "    while n > 1:\n",
    "        while n % divisor == 0:\n",
    "            factors.append(divisor)\n",
    "            n //= divisor\n",
    "        divisor += 1\n",
    "\n",
    "    return factors\n",
    "\n",
    "# Get a number from the user\n",
    "number = int(input(\"Enter a number: \"))\n",
    "\n",
    "# Calculate and print the prime factors\n",
    "factors = prime_factors(number)\n",
    "print(f\"Prime factors of {number}: {factors}\")\n"
   ]
  },
  {
   "cell_type": "code",
   "execution_count": null,
   "id": "682831a7",
   "metadata": {},
   "outputs": [],
   "source": []
  }
 ],
 "metadata": {
  "kernelspec": {
   "display_name": "Python 3 (ipykernel)",
   "language": "python",
   "name": "python3"
  },
  "language_info": {
   "codemirror_mode": {
    "name": "ipython",
    "version": 3
   },
   "file_extension": ".py",
   "mimetype": "text/x-python",
   "name": "python",
   "nbconvert_exporter": "python",
   "pygments_lexer": "ipython3",
   "version": "3.9.12"
  }
 },
 "nbformat": 4,
 "nbformat_minor": 5
}
