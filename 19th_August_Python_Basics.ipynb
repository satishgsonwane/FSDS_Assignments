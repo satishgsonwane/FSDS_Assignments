{
 "cells": [
  {
   "cell_type": "code",
   "execution_count": 7,
   "id": "90ad515d",
   "metadata": {},
   "outputs": [
    {
     "name": "stdout",
     "output_type": "stream",
     "text": [
      "After swapping:\n",
      "x = 210\n",
      "y = 35\n"
     ]
    }
   ],
   "source": [
    "\"\"\"1. Declare two variables, x and y, and assign them integer values. \n",
    "Swap the values of these variables without using any temporary variable.\"\"\"\n",
    "\n",
    "# Step 1: Declare variables\n",
    "\n",
    "x = 35\n",
    "y = 210\n",
    "\n",
    "x, y = y, x\n",
    "\n",
    "print(\"After swapping:\")\n",
    "print(\"x =\", x)\n",
    "print(\"y =\", y)\n"
   ]
  },
  {
   "cell_type": "code",
   "execution_count": 8,
   "id": "c676aa54",
   "metadata": {},
   "outputs": [
    {
     "name": "stdout",
     "output_type": "stream",
     "text": [
      "Enter the length of the rectangle: 10\n",
      "Enter the width of the rectangle: 10\n",
      "The area of the rectangle is: 100.0\n"
     ]
    }
   ],
   "source": [
    "\"\"\"2. Create a program that calculates the area of a rectangle. \n",
    "Take the length and width as inputs from the user and store them in variables. \n",
    "Calculate and display the area.\"\"\"\n",
    "\n",
    "# Get the length and width from the user\n",
    "length = float(input(\"Enter the length of the rectangle: \"))\n",
    "width = float(input(\"Enter the width of the rectangle: \"))\n",
    "\n",
    "# Calculate the area of the rectangle\n",
    "area = length * width\n",
    "\n",
    "# Display the result\n",
    "print(\"The area of the rectangle is:\", area)"
   ]
  },
  {
   "cell_type": "code",
   "execution_count": 10,
   "id": "4c82d3f4",
   "metadata": {},
   "outputs": [
    {
     "name": "stdout",
     "output_type": "stream",
     "text": [
      "Enter temperature in Celsius: 37\n",
      "Temperature in Fahrenheit: 98.6\n"
     ]
    }
   ],
   "source": [
    "\"\"\"\"3. Write a Python program that converts temperatures from Celsius to Fahrenheit. \n",
    "Take the temperature in Celsius as input, store it in a variable, convert it to Fahrenheit, and display the result.\"\"\"\n",
    "\n",
    "# Get the temperature in Celsius from the user\n",
    "celsius = float(input(\"Enter temperature in Celsius: \"))\n",
    "\n",
    "# Convert Celsius to Fahrenheit using the formula (°F = °C × 9/5 + 32)\n",
    "fahrenheit = (celsius * 9/5) + 32\n",
    "\n",
    "# Display the result\n",
    "print(\"Temperature in Fahrenheit:\", fahrenheit)\n",
    "\n"
   ]
  },
  {
   "cell_type": "code",
   "execution_count": 11,
   "id": "09f71f59",
   "metadata": {},
   "outputs": [
    {
     "name": "stdout",
     "output_type": "stream",
     "text": [
      "Enter a string: prabhas\n",
      "The length of the string is: 7\n"
     ]
    }
   ],
   "source": [
    "\"\"\"String based questions\"\"\"\n",
    "\"\"\"1. Write a Python program that takes a string as input and prints the length of the string\"\"\"\n",
    "# Get a string input from the user\n",
    "input_string = input(\"Enter a string: \")\n",
    "\n",
    "# Calculate and print the length of the string\n",
    "string_length = len(input_string)\n",
    "print(\"The length of the string is:\", string_length)\n"
   ]
  },
  {
   "cell_type": "code",
   "execution_count": 12,
   "id": "4aa8194f",
   "metadata": {},
   "outputs": [
    {
     "name": "stdout",
     "output_type": "stream",
     "text": [
      "Enter a sentence: prabhas\n",
      "Number of vowels in the sentence: 2\n"
     ]
    }
   ],
   "source": [
    "\"\"\"2. Create a program that takes a sentence from the user and counts the number of vowels (a, e, i, o, u) in the string.\"\"\"\n",
    "# Get a sentence input from the user\n",
    "sentence = input(\"Enter a sentence: \")\n",
    "\n",
    "# Initialize a variable to store the count of vowels\n",
    "vowel_count = 0\n",
    "\n",
    "# Define a set of vowels\n",
    "vowels = set(\"aeiouAEIOU\")\n",
    "\n",
    "# Iterate through each character in the sentence\n",
    "for char in sentence:\n",
    "    if char in vowels:\n",
    "        vowel_count += 1\n",
    "\n",
    "# Display the vowel count\n",
    "print(\"Number of vowels in the sentence:\", vowel_count)\n"
   ]
  },
  {
   "cell_type": "code",
   "execution_count": 13,
   "id": "b5df10ff",
   "metadata": {},
   "outputs": [
    {
     "name": "stdout",
     "output_type": "stream",
     "text": [
      "Enter a string: prabhas\n",
      "Reversed string: sahbarp\n"
     ]
    }
   ],
   "source": [
    "\"\"\"3. Given a string, reverse the order of characters using string slicing and print the reversed string.\"\"\"\n",
    "# Get a string input from the user\n",
    "input_string = input(\"Enter a string: \")\n",
    "\n",
    "# Reverse the string using string slicing\n",
    "reversed_string = input_string[::-1]\n",
    "\n",
    "# Display the reversed string\n",
    "print(\"Reversed string:\", reversed_string)\n"
   ]
  },
  {
   "cell_type": "code",
   "execution_count": 15,
   "id": "4eadb8e8",
   "metadata": {},
   "outputs": [
    {
     "name": "stdout",
     "output_type": "stream",
     "text": [
      "Enter a string: abccba\n",
      "The string is a palindrome.\n"
     ]
    }
   ],
   "source": [
    "\"\"\"4. Write a program that takes a string as input and checks if it is a palindrome (reads the same forwards and backwards).\"\"\"\n",
    "# Get a string input from the user\n",
    "input_string = input(\"Enter a string: \")\n",
    "\n",
    "# Remove spaces and convert the input to lowercase for case-insensitive comparison\n",
    "cleaned_string = input_string.replace(\" \", \"\").lower()\n",
    "\n",
    "# Reverse the cleaned string\n",
    "reversed_string = cleaned_string[::-1]\n",
    "\n",
    "# Check if the original and reversed strings are the same\n",
    "if cleaned_string == reversed_string:\n",
    "    print(\"The string is a palindrome.\")\n",
    "else:\n",
    "    print(\"The string is not a palindrome.\")\n"
   ]
  },
  {
   "cell_type": "code",
   "execution_count": 17,
   "id": "d45f79b1",
   "metadata": {},
   "outputs": [
    {
     "name": "stdout",
     "output_type": "stream",
     "text": [
      "Enter a string: prab has\n",
      "Modified string without spaces: prabhas\n"
     ]
    }
   ],
   "source": [
    "\"\"\"5. Create a program that takes a string as input and removes all the spaces from it. \n",
    "Print the modified string without spaces.\"\"\"\n",
    "\n",
    "# Get a string input from the user\n",
    "input_string = input(\"Enter a string: \")\n",
    "\n",
    "# Remove spaces from the input string\n",
    "modified_string = input_string.replace(\" \", \"\")\n",
    "\n",
    "# Display the modified string without spaces\n",
    "print(\"Modified string without spaces:\", modified_string)\n"
   ]
  }
 ],
 "metadata": {
  "kernelspec": {
   "display_name": "Python 3 (ipykernel)",
   "language": "python",
   "name": "python3"
  },
  "language_info": {
   "codemirror_mode": {
    "name": "ipython",
    "version": 3
   },
   "file_extension": ".py",
   "mimetype": "text/x-python",
   "name": "python",
   "nbconvert_exporter": "python",
   "pygments_lexer": "ipython3",
   "version": "3.11.4"
  }
 },
 "nbformat": 4,
 "nbformat_minor": 5
}
