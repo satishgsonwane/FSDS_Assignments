{
 "cells": [
  {
   "cell_type": "markdown",
   "id": "6c5cb11f-d333-4b04-b53b-469f47262ee2",
   "metadata": {},
   "source": [
    "Constructor : \n",
    "1. What is a constructor in Python? Explain its purpose and usage.\n",
    "- In Python, a constructor is a special method that is automatically called when an object of a class is created. Its purpose is to initialize the attributes or properties of the object. \n",
    "Constructors are used to set up the initial state of an object, ensuring that it is in a valid and usable state."
   ]
  },
  {
   "cell_type": "markdown",
   "id": "3a4ae415-c3db-4cf8-9769-6de2d98f7f3b",
   "metadata": {},
   "source": [
    "2. Differentiate between a parameterless constructor and a parameterized constructor in Python.\n",
    "- Parameterless constructor: A parameterless constructor is a constructor that takes no parameters.\n",
    "It initializes the object's attributes with default values or performs some default setup. \n",
    "Parameterized constructor: A parameterized constructor is a constructor that takes one or more \n",
    "parameters. It allows you to pass specific values when creating an object, enabling customization\n",
    "of the object's initial state."
   ]
  },
  {
   "cell_type": "code",
   "execution_count": 1,
   "id": "a1ec3a9c-384e-43a3-bf68-1aa2331e5f8a",
   "metadata": {},
   "outputs": [],
   "source": [
    "# 3. How do you define a constructor in a Python class? Provide an example\n",
    "class MyClass:\n",
    "    def __init__(self, parameter1, parameter2):\n",
    "        # Constructor code here\n",
    "        self.attribute1 = parameter1\n",
    "        self.attribute2 = parameter2"
   ]
  },
  {
   "cell_type": "markdown",
   "id": "146f71e1-cce1-4f38-a216-22cef4b93acf",
   "metadata": {},
   "source": [
    "4. Explain the `__init__` method in Python and its role in constructors.\n",
    "- The __init__ method in Python is a special method used as a constructor. \n",
    "It is automatically called when an object is created from a class. \n",
    "The role of the __init__ method is to initialize the object's attributes or properties."
   ]
  },
  {
   "cell_type": "code",
   "execution_count": 2,
   "id": "b74d48b7-ecb9-44ba-80c5-1cb964f5d32a",
   "metadata": {},
   "outputs": [],
   "source": [
    "#5. In a class named `Person`, create a constructor that initializes the `name` and `age` attributes. Provide an example of creating an object of this class.\n",
    "class Person:\n",
    "    def __init__(self, name, age):\n",
    "        self.name = name\n",
    "        self.age = age\n",
    "\n",
    "# Creating an object of the Person class\n",
    "person1 = Person(\"Alice\", 25)\n"
   ]
  },
  {
   "cell_type": "code",
   "execution_count": 3,
   "id": "b727938e-7f2d-46f5-99d6-6c7868ba4d31",
   "metadata": {},
   "outputs": [],
   "source": [
    "#6. How can you call a constructor explicitly in Python? Give an example\n",
    "person2 = Person.__init__(person1, \"Bob\", 30)"
   ]
  },
  {
   "cell_type": "code",
   "execution_count": 4,
   "id": "01416456-73d4-4e97-a6c7-530893f5c798",
   "metadata": {},
   "outputs": [],
   "source": [
    "#7. What is the significance of the `self` parameter in Python constructors? Explain with an example.\n",
    "\"\"\"The self parameter in Python constructors refers to the instance of the object being created. \n",
    "It is used to access and set the attributes of the object. The self parameter is a convention in \n",
    "Python, and you don't have to name it \"self,\" but it's recommended for readability.\"\"\"\n",
    "class Person:\n",
    "    def __init__(custom_name, name, age):\n",
    "        custom_name.name = name\n",
    "        custom_name.age = age"
   ]
  },
  {
   "cell_type": "markdown",
   "id": "cac0d301-22f7-457f-a9c0-a7bf4d52b619",
   "metadata": {},
   "source": [
    "8. Discuss the concept of default constructors in Python. When are they used?\n",
    "- In Python, there are no default constructors in the sense of some other programming languages. \n",
    "If you don't define a constructor in your class, Python provides a default constructor that \n",
    "doesn't do anything special. You can define your own constructor to initialize the object's\n",
    "attributes."
   ]
  },
  {
   "cell_type": "code",
   "execution_count": 5,
   "id": "913a7569-8f2e-4a91-a8e1-dc16d55d443a",
   "metadata": {},
   "outputs": [
    {
     "name": "stdout",
     "output_type": "stream",
     "text": [
      "15\n"
     ]
    }
   ],
   "source": [
    "#9. Create a Python class called `Rectangle` with a constructor that initializes the `width` and `height` attributes. Provide a method to calculate the area of the rectangle.\n",
    "class Rectangle:\n",
    "    def __init__(self, width, height):\n",
    "        self.width = width\n",
    "        self.height = height\n",
    "\n",
    "    def calculate_area(self):\n",
    "        return self.width * self.height\n",
    "\n",
    "# Creating a Rectangle object\n",
    "rect = Rectangle(5, 3)\n",
    "print(rect.calculate_area())  # Output: 15"
   ]
  },
  {
   "cell_type": "code",
   "execution_count": 6,
   "id": "5a03ecb1-3b17-413e-8c00-8881e18fe31c",
   "metadata": {},
   "outputs": [],
   "source": [
    "#10. How can you have multiple constructors in a Python class? Explain with an example.\n",
    "class MyClass:\n",
    "    def __init__(self, param1, param2=\"default\"):\n",
    "        self.param1 = param1\n",
    "        self.param2 = param2\n",
    "\n",
    "obj1 = MyClass(\"value1\")\n",
    "obj2 = MyClass(\"value1\", \"value2\")"
   ]
  },
  {
   "cell_type": "markdown",
   "id": "d529f5dd-c6a3-4012-bc42-991e124a835e",
   "metadata": {},
   "source": [
    "11. What is method overloading, and how is it related to constructors in Python?\n",
    "- Method overloading is the ability to define multiple methods in a class with the same\n",
    "name but different parameter lists. In Python, you can't achieve method overloading based \n",
    "on the number or types of parameters alone, but you can use default parameter values or \n",
    "variable-length argument lists to mimic overloading."
   ]
  },
  {
   "cell_type": "code",
   "execution_count": 7,
   "id": "a7ad4e05-f9d4-4168-a4f3-e5a33d28a781",
   "metadata": {},
   "outputs": [],
   "source": [
    "#12. Explain the use of the `super()` function in Python constructors. Provide an example.\n",
    "class ParentClass:\n",
    "    def __init__(self, value):\n",
    "        self.value = value\n",
    "\n",
    "class ChildClass(ParentClass):\n",
    "    def __init__(self, value, child_value):\n",
    "        super().__init__(value)  # Call the constructor of the parent class\n",
    "        self.child_value = child_value\n",
    "\n",
    "child_obj = ChildClass(\"parent_value\", \"child_value\")"
   ]
  },
  {
   "cell_type": "code",
   "execution_count": 8,
   "id": "21fe6c4b-ad25-4b42-a227-cd4319393e01",
   "metadata": {},
   "outputs": [
    {
     "name": "stdout",
     "output_type": "stream",
     "text": [
      "Title: Python for Beginners\n",
      "Author: John Smith\n",
      "Published Year: 2023\n"
     ]
    }
   ],
   "source": [
    "#13. Create a class called `Book` with a constructor that initializes the `title`, `author`, and `published_year` attributes. Provide a method to display book details.\n",
    "class Book:\n",
    "    def __init__(self, title, author, published_year):\n",
    "        self.title = title\n",
    "        self.author = author\n",
    "        self.published_year = published_year\n",
    "\n",
    "    def display_details(self):\n",
    "        print(f\"Title: {self.title}\")\n",
    "        print(f\"Author: {self.author}\")\n",
    "        print(f\"Published Year: {self.published_year}\")\n",
    "\n",
    "book = Book(\"Python for Beginners\", \"John Smith\", 2023)\n",
    "book.display_details()\n"
   ]
  },
  {
   "cell_type": "markdown",
   "id": "5a9d013f-b8dd-4566-83d4-b0e938240c53",
   "metadata": {},
   "source": [
    "14. Discuss the differences between constructors and regular methods in Python classes.\n",
    "- Differences between constructors and regular methods in Python classes:\n",
    "•\tConstructors are special methods with a reserved name __init__ used for initializing object attributes. Regular methods are defined by the user to perform specific actions or operations on objects.\n",
    "•\tConstructors are automatically called when an object is created, while regular methods are called explicitly using object.method().\n",
    "•\tConstructors don't return a value explicitly, whereas regular methods can return values.\n",
    "•\tConstructors typically take the self parameter to access and set object attributes, while regular methods can have any parameters you define."
   ]
  },
  {
   "cell_type": "markdown",
   "id": "a4022317-2370-4977-959b-eda65ae9fb0c",
   "metadata": {},
   "source": [
    "15. Explain the role of the `self` parameter in instance variable initialization within \n",
    "a constructor.\n",
    "- The self parameter in a constructor is used to refer to the instance being created, \n",
    "allowing you to initialize its attributes. It provides a reference to the object itself, \n",
    "so you can access and modify its attributes within the constructor."
   ]
  },
  {
   "cell_type": "code",
   "execution_count": 9,
   "id": "407b5af0-35a8-43d4-b551-5d417f5f2ac5",
   "metadata": {},
   "outputs": [
    {
     "name": "stdout",
     "output_type": "stream",
     "text": [
      "True\n"
     ]
    }
   ],
   "source": [
    "#16. How do you prevent a class from having multiple instances by using constructors in Python? Provide an example.\n",
    "\"\"\"To prevent a class from having multiple instances, you can use a Singleton design pattern. \n",
    "In Python, you can achieve this by controlling instance creation within the constructor and \n",
    "returning the existing instance if it already exists. \"\"\"\n",
    "\n",
    "class Singleton:\n",
    "    _instance = None\n",
    "\n",
    "    def __new__(cls):\n",
    "        if cls._instance is None:\n",
    "            cls._instance = super(Singleton, cls).__new__(cls)\n",
    "        return cls._instance\n",
    "\n",
    "singleton1 = Singleton()\n",
    "singleton2 = Singleton()\n",
    "\n",
    "print(singleton1 is singleton2)  # Output: True (Both variables reference the same instance)\n"
   ]
  },
  {
   "cell_type": "code",
   "execution_count": 12,
   "id": "e97e5997-7e60-44d1-bc7a-c947c89369f6",
   "metadata": {},
   "outputs": [],
   "source": [
    "#17. Create a Python class called `Student` with a constructor that takes a list of \n",
    "#subjects as a parameter and initializes the `subjects` attribute.\n",
    "class Student:\n",
    "    def __init__(self, subjects):\n",
    "        self.subjects = subjects\n",
    "\n",
    "# Creating a Student object\n",
    "student = Student([\"Math\", \"Science\", \"History\"])"
   ]
  },
  {
   "cell_type": "markdown",
   "id": "726ea85b-b5ce-47b0-9062-dabaf48294af",
   "metadata": {},
   "source": [
    "#18. What is the purpose of the `__del__` method in Python classes, and how does it relate to constructors?\n",
    "The __del__ method in Python classes is used to define the cleanup operations that should be \n",
    "performed before an object is destroyed (deallocated). It is related to constructors in the \n",
    "sense that while constructors set up an object, __del__ can be used to perform any necessary\n",
    "cleanup when the object is no longer needed."
   ]
  },
  {
   "cell_type": "code",
   "execution_count": 13,
   "id": "3e5b4c2d-1775-4e10-abf7-f51d3108ca99",
   "metadata": {},
   "outputs": [],
   "source": [
    "#19. Explain the use of constructor chaining in Python. Provide a practical example.\n",
    "class Parent:\n",
    "    def __init__(self, value):\n",
    "        self.value = value\n",
    "\n",
    "class Child(Parent):\n",
    "    def __init__(self, value, child_value):\n",
    "        super().__init__(value)\n",
    "        self.child_value = child_value\n",
    "\n",
    "child_obj = Child(\"parent_value\", \"child_value\")\n"
   ]
  },
  {
   "cell_type": "code",
   "execution_count": 14,
   "id": "3f739a69-09e8-43e9-b5a2-d032a87ab79a",
   "metadata": {},
   "outputs": [
    {
     "name": "stdout",
     "output_type": "stream",
     "text": [
      "Make: Toyota\n",
      "Model: Camry\n"
     ]
    }
   ],
   "source": [
    "#20. Create a Python class called `Car` with a default constructor that initializes the `make` and `model` attributes. Provide a method to display car information.\n",
    "class Car:\n",
    "    def __init__(self, make=\"Unknown\", model=\"Unknown\"):\n",
    "        self.make = make\n",
    "        self.model = model\n",
    "\n",
    "    def display_info(self):\n",
    "        print(f\"Make: {self.make}\")\n",
    "        print(f\"Model: {self.model}\")\n",
    "\n",
    "# Creating a Car object\n",
    "car = Car(\"Toyota\", \"Camry\")\n",
    "car.display_info()\n"
   ]
  },
  {
   "cell_type": "markdown",
   "id": "db65088a-04cb-48ff-87f4-5890e84618a2",
   "metadata": {},
   "source": [
    "Inheritance "
   ]
  },
  {
   "cell_type": "markdown",
   "id": "e68de3d4-07de-4725-9e38-b0157b1ee0d7",
   "metadata": {},
   "source": [
    "#1. What is inheritance in Python? Explain its significance in object-oriented programming.\n",
    "-Inheritance in Python is a fundamental concept in object-oriented programming (OOP). It allows a class to inherit attributes and methods from another class, creating a parent-child relationship between classes. The significance of inheritance in OOP includes code reusability, the ability to create hierarchies of classes, and the organization of code into logical and structured groups."
   ]
  },
  {
   "cell_type": "code",
   "execution_count": 15,
   "id": "fd9e0f1c-5391-4c8b-8e30-68f7fd278b4d",
   "metadata": {},
   "outputs": [
    {
     "name": "stdout",
     "output_type": "stream",
     "text": [
      "Parent method\n",
      "Child method\n"
     ]
    }
   ],
   "source": [
    "#2. Differentiate between single inheritance and multiple inheritance in Python. Provide examples for each.\n",
    "#Single Inheritance\n",
    "class Parent:\n",
    "    def parent_method(self):\n",
    "        print(\"Parent method\")\n",
    "\n",
    "class Child(Parent):\n",
    "    def child_method(self):\n",
    "        print(\"Child method\")\n",
    "\n",
    "child_obj = Child()\n",
    "child_obj.parent_method()\n",
    "child_obj.child_method()\n"
   ]
  },
  {
   "cell_type": "code",
   "execution_count": 16,
   "id": "9c9f4bce-7f68-4d4c-a839-e1eaa959d717",
   "metadata": {},
   "outputs": [
    {
     "name": "stdout",
     "output_type": "stream",
     "text": [
      "Method 1 from Parent1\n",
      "Method 2 from Parent2\n",
      "Child method\n"
     ]
    }
   ],
   "source": [
    "#Multiple Inheritance\n",
    "class Parent1:\n",
    "    def method1(self):\n",
    "        print(\"Method 1 from Parent1\")\n",
    "\n",
    "class Parent2:\n",
    "    def method2(self):\n",
    "        print(\"Method 2 from Parent2\")\n",
    "\n",
    "class Child(Parent1, Parent2):\n",
    "    def child_method(self):\n",
    "        print(\"Child method\")\n",
    "\n",
    "child_obj = Child()\n",
    "child_obj.method1()\n",
    "child_obj.method2()\n",
    "child_obj.child_method()\n"
   ]
  },
  {
   "cell_type": "code",
   "execution_count": 18,
   "id": "85f868e8-d57d-4d73-8514-e0aa5f7e61ba",
   "metadata": {},
   "outputs": [],
   "source": [
    "#3. Create a Python class called `Vehicle` with attributes `color` and `speed`. Then, create a child class called `Car` that inherits from `Vehicle` and adds a `brand` attribute. \n",
    "#Provide an example of creating a `Car` object.\n",
    "class Vehicle:\n",
    "    def __init__(self, color, speed):\n",
    "        self.color = color\n",
    "        self.speed = speed\n",
    "\n",
    "class Car(Vehicle):\n",
    "    def __init__(self, color, speed, brand):\n",
    "        super().__init__(color, speed)\n",
    "        self.brand = brand\n",
    "\n",
    "# Creating a Car object\n",
    "car = Car(\"Red\", 120, \"Toyota\")"
   ]
  },
  {
   "cell_type": "code",
   "execution_count": 19,
   "id": "b0425fdc-a743-4069-bb79-3763367d2d25",
   "metadata": {},
   "outputs": [
    {
     "name": "stdout",
     "output_type": "stream",
     "text": [
      "This is the child method, overriding the parent method\n"
     ]
    }
   ],
   "source": [
    "#4. Explain the concept of method overriding in inheritance. Provide a practical example.\n",
    "class Parent:\n",
    "    def method(self):\n",
    "        print(\"This is the parent method\")\n",
    "\n",
    "class Child(Parent):\n",
    "    def method(self):\n",
    "        print(\"This is the child method, overriding the parent method\")\n",
    "\n",
    "child_obj = Child()\n",
    "child_obj.method()  # Output: \"This is the child method, overriding the parent method\"\n"
   ]
  },
  {
   "cell_type": "code",
   "execution_count": 20,
   "id": "cc61e7cb-68f9-4561-a1ba-9b8ea0e9d80a",
   "metadata": {},
   "outputs": [
    {
     "name": "stdout",
     "output_type": "stream",
     "text": [
      "Parent method\n",
      "Child method\n"
     ]
    }
   ],
   "source": [
    "#5. How can you access the methods and attributes of a parent class from a child class in Python? Give an example\n",
    "class Parent:\n",
    "    def method(self):\n",
    "        print(\"Parent method\")\n",
    "\n",
    "class Child(Parent):\n",
    "    def method(self):\n",
    "        super().method()  # Access the parent class method\n",
    "        print(\"Child method\")\n",
    "\n",
    "child_obj = Child()\n",
    "child_obj.method()\n"
   ]
  },
  {
   "cell_type": "code",
   "execution_count": 22,
   "id": "914df08b-2e15-42bb-b14a-05c5af0f6ac0",
   "metadata": {},
   "outputs": [],
   "source": [
    "#6. Discuss the use of the `super()` function in Python inheritance. When and why is it used? Provide an example.\n",
    "\"\"\"The super() function in Python is used to call the methods of the parent class in an inherited class. It is typically used in the constructor (__init__) of the child class \n",
    "to initialize the attributes inherited from the parent class. It ensures that the parent class's constructor is also executed.\"\"\"\n",
    "class Parent:\n",
    "    def __init__(self, value):\n",
    "        self.value = value\n",
    "\n",
    "class Child(Parent):\n",
    "    def __init__(self, value, child_value):\n",
    "        super().__init__(value)  # Call the parent class constructor\n",
    "        self.child_value = child_value\n"
   ]
  },
  {
   "cell_type": "code",
   "execution_count": 23,
   "id": "e9c1d8f6-08e6-4f9f-bd89-21c4a3e5fc6a",
   "metadata": {},
   "outputs": [
    {
     "name": "stdout",
     "output_type": "stream",
     "text": [
      "Woof!\n",
      "Meow!\n"
     ]
    }
   ],
   "source": [
    "#7. Create a Python class called `Animal` with a method `speak()`. Then, create child classes `Dog` and `Cat` that inherit from `Animal` and override the `speak()` method. \n",
    "#Provide an example of using these classes.\n",
    "class Animal:\n",
    "    def speak(self):\n",
    "        pass\n",
    "\n",
    "class Dog(Animal):\n",
    "    def speak(self):\n",
    "        return \"Woof!\"\n",
    "\n",
    "class Cat(Animal):\n",
    "    def speak(self):\n",
    "        return \"Meow!\"\n",
    "\n",
    "dog = Dog()\n",
    "cat = Cat()\n",
    "print(dog.speak())  # Output: \"Woof!\"\n",
    "print(cat.speak())  # Output: \"Meow!\"\n"
   ]
  },
  {
   "cell_type": "code",
   "execution_count": 24,
   "id": "12ae8a97-6931-44b1-ac5d-523ad03e0342",
   "metadata": {},
   "outputs": [
    {
     "data": {
      "text/plain": [
       "'The isinstance() function is used to check if an object belongs to a particular class or its subclass. It helps in determining the type of an object. '"
      ]
     },
     "execution_count": 24,
     "metadata": {},
     "output_type": "execute_result"
    }
   ],
   "source": [
    "#8. Explain the role of the `isinstance()` function in Python and how it relates to inheritance.\n",
    "\"\"\"The isinstance() function is used to check if an object belongs to a particular class or its subclass. It helps in determining the type of an object. \"\"\""
   ]
  },
  {
   "cell_type": "code",
   "execution_count": 25,
   "id": "2ab28ee7-90c4-4f8d-8477-7467f8e1b1b5",
   "metadata": {},
   "outputs": [
    {
     "name": "stdout",
     "output_type": "stream",
     "text": [
      "True\n"
     ]
    }
   ],
   "source": [
    "#9. What is the purpose of the `issubclass()` function in Python? Provide an example.\n",
    "#The issubclass() function is used to check if a class is a subclass of another class. It verifies the inheritance relationship between classes.\n",
    "class Child(Parent):\n",
    "    pass\n",
    "\n",
    "print(issubclass(Child, Parent))  # True\n"
   ]
  },
  {
   "cell_type": "code",
   "execution_count": 26,
   "id": "cf21ab53-dcc9-4506-be96-f4f9d23e5ee3",
   "metadata": {},
   "outputs": [
    {
     "data": {
      "text/plain": [
       "\"Constructors are inherited in child classes in Python. When you create an instance of a child class, the constructor of the parent class is called automatically,\\nprovided that you don't define a constructor in the child class. If you do define a constructor in the child class, you can use the super().__init__() method to explicitly \\ncall the parent class constructor.\""
      ]
     },
     "execution_count": 26,
     "metadata": {},
     "output_type": "execute_result"
    }
   ],
   "source": [
    "#10. Discuss the concept of constructor inheritance in Python. How are constructors inherited in child classes?\n",
    "\"\"\"Constructors are inherited in child classes in Python. When you create an instance of a child class, the constructor of the parent class is called automatically,\n",
    "provided that you don't define a constructor in the child class. If you do define a constructor in the child class, you can use the super().__init__() method to explicitly \n",
    "call the parent class constructor.\"\"\""
   ]
  },
  {
   "cell_type": "code",
   "execution_count": 28,
   "id": "9324ca6f-ab0f-4f0e-9a4b-1a28a9daa703",
   "metadata": {},
   "outputs": [],
   "source": [
    "#11. Create a Python class called `Shape` with a method `area()` that calculates the area of a shape. Then, create child classes `Circle` and `Rectangle` that inherit from `Shape` and implement \n",
    "#the `area()` method accordingly.  Provide an example.\n",
    "class Shape:\n",
    "    def area(self):\n",
    "        pass\n",
    "\n",
    "class Circle(Shape):\n",
    "    def __init__(self, radius):\n",
    "        self.radius = radius\n",
    "\n",
    "    def area(self):\n",
    "        return 3.14 * self.radius ** 2\n",
    "\n",
    "class Rectangle(Shape):\n",
    "    def __init__(self, width, height):\n",
    "        self.width = width\n",
    "        self.height = height\n",
    "\n",
    "    def area(self):\n",
    "        return self.width * self.height\n"
   ]
  },
  {
   "cell_type": "code",
   "execution_count": 31,
   "id": "3797e240-7fc6-4851-a5dc-4545b259df61",
   "metadata": {},
   "outputs": [
    {
     "name": "stdout",
     "output_type": "stream",
     "text": [
      "Circle Area: 78.5\n",
      "Circle Perimeter: 31.400000000000002\n",
      "Rectangle Area: 24\n",
      "Rectangle Perimeter: 20\n"
     ]
    }
   ],
   "source": [
    "#12. Explain the use of abstract base classes (ABCs) in Python and how they relate to inheritance. Provide an example using the `abc` module.\n",
    "\"\"\"Abstract base classes (ABCs) in Python are classes that cannot be instantiated and are meant to be subclassed. \n",
    "They define a common interface for subclasses. The abc module is used to create abstract base classes. \n",
    "from abc import ABC, abstractmethod\"\"\"\n",
    "\n",
    "from abc import ABC, abstractmethod\n",
    "\n",
    "# Define an abstract base class\n",
    "class Shape(ABC):\n",
    "    @abstractmethod\n",
    "    def area(self):\n",
    "        pass\n",
    "\n",
    "    @abstractmethod\n",
    "    def perimeter(self):\n",
    "        pass\n",
    "\n",
    "# Create concrete subclasses that inherit from Shape\n",
    "class Circle(Shape):\n",
    "    def __init__(self, radius):\n",
    "        self.radius = radius\n",
    "\n",
    "    def area(self):\n",
    "        return 3.14 * self.radius ** 2\n",
    "\n",
    "    def perimeter(self):\n",
    "        return 2 * 3.14 * self.radius\n",
    "\n",
    "class Rectangle(Shape):\n",
    "    def __init__(self, width, height):\n",
    "        self.width = width\n",
    "        self.height = height\n",
    "\n",
    "    def area(self):\n",
    "        return self.width * self.height\n",
    "\n",
    "    def perimeter(self):\n",
    "        return 2 * (self.width + self.height)\n",
    "\n",
    "# Attempting to create an instance of the abstract base class will raise a TypeError\n",
    "# shape = Shape()  # This will raise a TypeError\n",
    "\n",
    "# Creating instances of concrete subclasses\n",
    "circle = Circle(5)\n",
    "rectangle = Rectangle(4, 6)\n",
    "\n",
    "# Calling methods on concrete subclasses\n",
    "print(\"Circle Area:\", circle.area())\n",
    "print(\"Circle Perimeter:\", circle.perimeter())\n",
    "print(\"Rectangle Area:\", rectangle.area())\n",
    "print(\"Rectangle Perimeter:\", rectangle.perimeter())"
   ]
  },
  {
   "cell_type": "code",
   "execution_count": 33,
   "id": "1b9a4609-5d4a-4504-b1f2-5331b9556985",
   "metadata": {},
   "outputs": [
    {
     "data": {
      "text/plain": [
       "'To prevent a child class from modifying certain attributes or methods inherited from a parent class, you can use encapsulation by marking the attributes or methods\\nas private using a single underscore (e.g., _attribute) to indicate they should not be accessed or modified outside the class.\\nHowever, this is a convention and not enforced by Python.'"
      ]
     },
     "execution_count": 33,
     "metadata": {},
     "output_type": "execute_result"
    }
   ],
   "source": [
    "#13. How can you prevent a child class from modifying certain attributes or methods inherited from a parent class in Python?\n",
    "\"\"\"To prevent a child class from modifying certain attributes or methods inherited from a parent class, you can use encapsulation by marking the attributes or methods\n",
    "as private using a single underscore (e.g., _attribute) to indicate they should not be accessed or modified outside the class.\n",
    "However, this is a convention and not enforced by Python.\"\"\""
   ]
  },
  {
   "cell_type": "code",
   "execution_count": 34,
   "id": "e2dc8624-1c85-42b4-a0ae-6fe82d37340f",
   "metadata": {},
   "outputs": [],
   "source": [
    "#14. Create a Python class called `Employee` with attributes `name` and `salary`. Then, create a child class `Manager` that inherits from `Employee` and adds an attribute `department`. \n",
    "#Provide an example.\n",
    "class Employee:\n",
    "    def __init__(self, name, salary):\n",
    "        self.name = name\n",
    "        self.salary = salary\n",
    "\n",
    "class Manager(Employee):\n",
    "    def __init__(self, name, salary, department):\n",
    "        super().__init__(name, salary)\n",
    "        self.department = department\n"
   ]
  },
  {
   "cell_type": "code",
   "execution_count": 36,
   "id": "c7ed1f93-6b8e-4aa9-a818-f94135ba85bb",
   "metadata": {},
   "outputs": [
    {
     "data": {
      "text/plain": [
       "'Method overloading in Python is the ability to define multiple methods in a class with the same name but different parameter lists. This is different from method overriding, \\nwhere a child class provides a specific implementation of a method from its parent class.'"
      ]
     },
     "execution_count": 36,
     "metadata": {},
     "output_type": "execute_result"
    }
   ],
   "source": [
    "#15. Discuss the concept of method overloading in Python inheritance. How does it differ from method overriding?\n",
    "\"\"\"Method overloading in Python is the ability to define multiple methods in a class with the same name but different parameter lists. This is different from method overriding, \n",
    "where a child class provides a specific implementation of a method from its parent class.\"\"\""
   ]
  },
  {
   "cell_type": "code",
   "execution_count": 43,
   "id": "97f19d86-4807-437e-9e7a-61d1853dbd77",
   "metadata": {},
   "outputs": [],
   "source": [
    "#16. Explain the purpose of the `__init__()` method in Python inheritance and how it is utilized in child classes.\n",
    "\"\"\"The __init__() method in Python is a special method known as the constructor. It plays a crucial role in inheritance as it is used to initialize the attributes or properties\n",
    "of objects when they are created. In the context of inheritance, the __init__() method is used both in the base (parent) class and in the child (subclass) classes.\"\"\"\n",
    "class Animal:\n",
    "    def __init__(self, name, species):\n",
    "        self.name = name\n",
    "        self.species = species\n",
    "\n",
    "    def speak(self):\n",
    "        print(f\"{self.name} is a {self.species}.\")\n",
    "\n",
    "# Child classes can inherit the __init__() method and may override it.\n",
    "\n",
    "class Dog(Animal):\n",
    "    def __init__(self, name, breed):\n",
    "        super().__init__(name, \"Dog\")  # Call the parent class's constructor\n",
    "        self.breed = breed\n",
    "\n",
    "    def speak(self):\n",
    "        print(f\"{self.name} is a {self.breed} dog.\")\n",
    "\n",
    "# Creating a Dog object and initializing its attributes\n",
    "dog = Dog(\"Buddy\", \"Golden Retriever\")\n"
   ]
  },
  {
   "cell_type": "code",
   "execution_count": 37,
   "id": "551a03e3-131a-437b-9ad6-b68cd5648f7a",
   "metadata": {},
   "outputs": [
    {
     "name": "stdout",
     "output_type": "stream",
     "text": [
      "Eagles can soar at high altitudes.\n",
      "Sparrows flap their wings rapidly while flying.\n"
     ]
    }
   ],
   "source": [
    "#17. Create a Python class called `Bird` with a method `fly()`. Then, create child classes `Eagle` and `Sparrow` that inherit from `Bird` and implement the `fly()` method differently.\n",
    "#Provide an example of using these classes\n",
    "class Bird:\n",
    "    def fly(self):\n",
    "        return \"Birds can fly, but their flying styles vary.\"\n",
    "\n",
    "class Eagle(Bird):\n",
    "    def fly(self):\n",
    "        return \"Eagles can soar at high altitudes.\"\n",
    "\n",
    "class Sparrow(Bird):\n",
    "    def fly(self):\n",
    "        return \"Sparrows flap their wings rapidly while flying.\"\n",
    "\n",
    "# Using the classes\n",
    "eagle = Eagle()\n",
    "sparrow = Sparrow()\n",
    "\n",
    "print(eagle.fly())  # Output: \"Eagles can soar at high altitudes.\"\n",
    "print(sparrow.fly())  # Output: \"Sparrows flap their wings rapidly while flying.\"\n"
   ]
  },
  {
   "cell_type": "code",
   "execution_count": 38,
   "id": "bab60f05-89b4-4393-aa2c-7d679930c032",
   "metadata": {},
   "outputs": [
    {
     "data": {
      "text/plain": [
       "'The \"diamond problem\" is a common issue in multiple inheritance when a class inherits from two or more classes that have a common base class. \\nIt can lead to ambiguity when trying to access methods or attributes from the common base class. In Python, this problem is addressed by the Method Resolution Order (MRO)\\nand the C3 Linearization algorithm. Python uses the C3 algorithm to determine the order in which base classes are searched when resolving methods. This ensures a consistent and predictable \\norder for method resolution, preventing ambiguity.'"
      ]
     },
     "execution_count": 38,
     "metadata": {},
     "output_type": "execute_result"
    }
   ],
   "source": [
    "#18. What is the \"diamond problem\" in multiple inheritance, and how does Python address it?\n",
    "\"\"\"The \"diamond problem\" is a common issue in multiple inheritance when a class inherits from two or more classes that have a common base class. \n",
    "It can lead to ambiguity when trying to access methods or attributes from the common base class. In Python, this problem is addressed by the Method Resolution Order (MRO)\n",
    "and the C3 Linearization algorithm. Python uses the C3 algorithm to determine the order in which base classes are searched when resolving methods. This ensures a consistent and predictable \n",
    "order for method resolution, preventing ambiguity.\"\"\""
   ]
  },
  {
   "cell_type": "code",
   "execution_count": 39,
   "id": "42631f84-2493-4747-bca2-f691e350ea59",
   "metadata": {},
   "outputs": [],
   "source": [
    "#19. Discuss the concept of \"is-a\" and \"has-a\" relationships in inheritance, and provide examples of each.\n",
    "#\"is-a\" relationship: This represents inheritance where a subclass is a specific type of the superclass. It implies a specialization relationship\n",
    "class Vehicle:\n",
    "    def start_engine(self):\n",
    "        pass\n",
    "\n",
    "class Car(Vehicle):\n",
    "    def drive(self):\n",
    "        pass\n"
   ]
  },
  {
   "cell_type": "code",
   "execution_count": 40,
   "id": "cfbc3294-57b1-458d-b4ff-24ae91de09e9",
   "metadata": {},
   "outputs": [],
   "source": [
    "#\"has-a\" relationship: This represents composition or containment, where one class contains an instance of another class as an attribute. It implies a part-whole relationship.\n",
    "class Engine:\n",
    "    def start(self):\n",
    "        pass\n",
    "\n",
    "class Car:\n",
    "    def __init__(self):\n",
    "        self.engine = Engine()\n",
    "\n",
    "    def drive(self):\n",
    "        self.engine.start()\n"
   ]
  },
  {
   "cell_type": "code",
   "execution_count": 41,
   "id": "a17597eb-f8cf-4b86-896c-01ed495226bb",
   "metadata": {},
   "outputs": [
    {
     "name": "stdout",
     "output_type": "stream",
     "text": [
      "Name: Alice, Age: 20, Student ID: S12345\n",
      "Name: Dr. Smith, Age: 45, Employee ID: P9876\n"
     ]
    }
   ],
   "source": [
    "#20. Create a Python class hierarchy for a university system. Start with a base class `Person` and create child classes `Student` and `Professor`, \n",
    "#each with their own attributes and methods. Provide an example of using these classes in a university context.\n",
    "class Person:\n",
    "    def __init__(self, name, age):\n",
    "        self.name = name\n",
    "        self.age = age\n",
    "\n",
    "    def get_details(self):\n",
    "        return f\"Name: {self.name}, Age: {self.age}\"\n",
    "\n",
    "class Student(Person):\n",
    "    def __init__(self, name, age, student_id):\n",
    "        super().__init__(name, age)\n",
    "        self.student_id = student_id\n",
    "\n",
    "    def get_details(self):\n",
    "        return super().get_details() + f\", Student ID: {self.student_id}\"\n",
    "\n",
    "class Professor(Person):\n",
    "    def __init__(self, name, age, employee_id):\n",
    "        super().__init__(name, age)\n",
    "        self.employee_id = employee_id\n",
    "\n",
    "    def get_details(self):\n",
    "        return super().get_details() + f\", Employee ID: {self.employee_id}\"\n",
    "\n",
    "# Using the classes\n",
    "student = Student(\"Alice\", 20, \"S12345\")\n",
    "professor = Professor(\"Dr. Smith\", 45, \"P9876\")\n",
    "\n",
    "print(student.get_details())\n",
    "print(professor.get_details())\n"
   ]
  },
  {
   "cell_type": "markdown",
   "id": "e39b25df-ef96-4112-aa7d-d75fcaf938bf",
   "metadata": {},
   "source": [
    "Encapsulation"
   ]
  },
  {
   "cell_type": "code",
   "execution_count": 44,
   "id": "dfa29ffa-2526-474b-8fa5-e8c679e9c553",
   "metadata": {},
   "outputs": [
    {
     "data": {
      "text/plain": [
       "\"Encapsulation is one of the four fundamental principles of object-oriented programming (OOP) and is used to bundle the data (attributes) and methods (functions) that \\noperate on the data into a single unit called a class. It restricts direct access to some of an object's components and prevents unintended interference and misuse. \\nEncapsulation helps in achieving data hiding and abstraction, making it a fundamental concept in OOP.\""
      ]
     },
     "execution_count": 44,
     "metadata": {},
     "output_type": "execute_result"
    }
   ],
   "source": [
    "#1. Explain the concept of encapsulation in Python. What is its role in object-oriented programming?\n",
    "\"\"\"Encapsulation is one of the four fundamental principles of object-oriented programming (OOP) and is used to bundle the data (attributes) and methods (functions) that \n",
    "operate on the data into a single unit called a class. It restricts direct access to some of an object's components and prevents unintended interference and misuse. \n",
    "Encapsulation helps in achieving data hiding and abstraction, making it a fundamental concept in OOP.\"\"\""
   ]
  },
  {
   "cell_type": "code",
   "execution_count": 45,
   "id": "74553252-4ac8-4503-a0ce-0033b0ad8bf0",
   "metadata": {},
   "outputs": [
    {
     "data": {
      "text/plain": [
       "\"The key principles of encapsulation include:\\n\\nAccess Control: Encapsulation allows you to control the access to the internal state (attributes) of an object. You can define which parts of the data and behavior should be accessible \\nfrom outside the class and which should be hidden.\\nData Hiding: Data hiding involves making the internal details of an object private and providing controlled access through methods. \\nThis prevents unauthorized modification or misuse of the object's attributes.\""
      ]
     },
     "execution_count": 45,
     "metadata": {},
     "output_type": "execute_result"
    }
   ],
   "source": [
    "#2. Describe the key principles of encapsulation, including access control and data hiding.\n",
    "\"\"\"The key principles of encapsulation include:\n",
    "\n",
    "Access Control: Encapsulation allows you to control the access to the internal state (attributes) of an object. You can define which parts of the data and behavior should be accessible \n",
    "from outside the class and which should be hidden.\n",
    "Data Hiding: Data hiding involves making the internal details of an object private and providing controlled access through methods. \n",
    "This prevents unauthorized modification or misuse of the object's attributes.\"\"\""
   ]
  },
  {
   "cell_type": "code",
   "execution_count": 47,
   "id": "5638a84d-8f8e-4e29-a77b-e413d6e11ee1",
   "metadata": {},
   "outputs": [
    {
     "name": "stdout",
     "output_type": "stream",
     "text": [
      "Alice\n"
     ]
    }
   ],
   "source": [
    "#3. How can you achieve encapsulation in Python classes? Provide an example.\n",
    "\"\"\"To achieve encapsulation in Python classes, you can use access control modifiers and define attributes as private, which means they should not be directly accessed from outside the class. \n",
    "Instead, provide getter and setter methods to interact with the attributes.\"\"\"\n",
    "class Person:\n",
    "    def __init__(self, name):\n",
    "        self.__name = name  # Private attribute\n",
    "\n",
    "    def get_name(self):\n",
    "        return self.__name  # Getter method\n",
    "\n",
    "    def set_name(self, name):\n",
    "        self.__name = name  # Setter method\n",
    "\n",
    "# Using the Person class\n",
    "person = Person(\"Alice\")\n",
    "print(person.get_name())  # Accessing the private attribute via the getter\n",
    "person.set_name(\"Bob\")  # Modifying the private attribute via the setter\n"
   ]
  },
  {
   "cell_type": "code",
   "execution_count": 50,
   "id": "f20b386c-c319-4ebc-af01-e9eb134a36c7",
   "metadata": {},
   "outputs": [
    {
     "data": {
      "text/plain": [
       "\"In Python, there are three levels of access control: Public: Attributes and methods are accessible from anywhere. There is no special syntax for declaring them; they are accessible by default.\\nPrivate: Attributes and methods are prefixed with a double underscore (e.g., __attribute). They are not accessible directly from outside the class but can be accessed using name mangling (discussed later).\\nProtected: Attributes and methods are prefixed with a single underscore (e.g., _attribute). They are considered non-public but can be accessed from outside the class if necessary. It's a convention to indicate that they are intended for internal use but not enforced by the language\""
      ]
     },
     "execution_count": 50,
     "metadata": {},
     "output_type": "execute_result"
    }
   ],
   "source": [
    "#4. Discuss the difference between public, private, and protected access modifiers in Python.\n",
    "\"\"\"In Python, there are three levels of access control: Public: Attributes and methods are accessible from anywhere. There is no special syntax for declaring them; they are accessible by default.\n",
    "Private: Attributes and methods are prefixed with a double underscore (e.g., __attribute). They are not accessible directly from outside the class but can be accessed using name mangling (discussed later).\n",
    "Protected: Attributes and methods are prefixed with a single underscore (e.g., _attribute). They are considered non-public but can be accessed from outside the class if necessary. It's a convention to indicate that they are intended for internal use but not enforced by the language\"\"\""
   ]
  },
  {
   "cell_type": "code",
   "execution_count": 49,
   "id": "e70fbef5-a3bf-4f6f-b359-5ab6f468d362",
   "metadata": {},
   "outputs": [],
   "source": [
    "#5. Create a Python class called `Person` with a private attribute `__name`. Provide methods to get and set the name attribute.\n",
    "class Person:\n",
    "    def __init__(self, name):\n",
    "        self.__name = name  # Private attribute\n",
    "\n",
    "    def get_name(self):\n",
    "        return self.__name  # Getter method\n",
    "\n",
    "    def set_name(self, name):\n",
    "        self.__name = name  # Setter method\n"
   ]
  },
  {
   "cell_type": "code",
   "execution_count": 51,
   "id": "bbd736d7-7e7b-4726-8edc-dcf3acdc966c",
   "metadata": {},
   "outputs": [],
   "source": [
    "#6. Explain the purpose of getter and setter methods in encapsulation. Provide examples.\n",
    "\"\"\"Getter and Setter Methods in encapsulation serve the following purposes:\n",
    "\n",
    "Getter Methods: Provide controlled access to the private attributes, allowing you to retrieve their values. They are used to enforce read-only access.\n",
    "Setter Methods: Allow controlled modification of the private attributes. They can include validation and logic to ensure the attribute's integrity.\n",
    "\n",
    "\"\"\"\n",
    "person = Person(\"Alice\")\n",
    "name = person.get_name()  # Using the getter to retrieve the name\n",
    "person.set_name(\"Bob\")    # Using the setter to modify the name\n"
   ]
  },
  {
   "cell_type": "code",
   "execution_count": 52,
   "id": "b9c88a7d-9a08-4115-a66b-73c141c2d65a",
   "metadata": {},
   "outputs": [
    {
     "data": {
      "text/plain": [
       "'Name Mangling in Python is a mechanism for making the attributes of a class more private by adding a prefix to their names. When an attribute is prefixed with a double underscore (e.g., __attribute), \\nPython internally renames it to _classname__attribute. This helps in avoiding naming conflicts and allows limited access to the attribute from outside the class.'"
      ]
     },
     "execution_count": 52,
     "metadata": {},
     "output_type": "execute_result"
    }
   ],
   "source": [
    "#7. What is name mangling in Python, and how does it affect encapsulation?\n",
    "\"\"\"Name Mangling in Python is a mechanism for making the attributes of a class more private by adding a prefix to their names. When an attribute is prefixed with a double underscore (e.g., __attribute), \n",
    "Python internally renames it to _classname__attribute. This helps in avoiding naming conflicts and allows limited access to the attribute from outside the class.\"\"\""
   ]
  },
  {
   "cell_type": "code",
   "execution_count": 53,
   "id": "bac4327e-c258-4343-88bc-41513b48b239",
   "metadata": {},
   "outputs": [],
   "source": [
    "#8. Create a Python class called `BankAccount` with private attributes for the account balance (`__balance`) and account number (`__account_number`). Provide methods for depositing and withdrawing money.\n",
    "class BankAccount:\n",
    "    def __init__(self, account_number, initial_balance):\n",
    "        self.__account_number = account_number  # Private attribute\n",
    "        self.__balance = initial_balance        # Private attribute\n",
    "\n",
    "    def deposit(self, amount):\n",
    "        self.__balance += amount\n",
    "\n",
    "    def withdraw(self, amount):\n",
    "        if amount <= self.__balance:\n",
    "            self.__balance -= amount\n",
    "        else:\n",
    "            print(\"Insufficient funds.\")\n",
    "\n",
    "    def get_balance(self):\n",
    "        return self.__balance\n"
   ]
  },
  {
   "cell_type": "code",
   "execution_count": 54,
   "id": "4a7e2857-dde0-4b5d-8cb1-24de855afe4b",
   "metadata": {},
   "outputs": [
    {
     "data": {
      "text/plain": [
       "'The advantages of encapsulation in terms of code maintainability and security include:\\n\\nCode Maintainability: Encapsulation helps in managing the complexity of a class by encapsulating its internal details. It makes the code easier to understand and maintain.\\n\\nData Integrity: Encapsulation ensures that data remains in a consistent and valid state. By controlling access through methods, you can enforce rules and validations.\\n\\nSecurity: Private attributes are not directly accessible from outside the class, which protects sensitive data and prevents unintended modifications.'"
      ]
     },
     "execution_count": 54,
     "metadata": {},
     "output_type": "execute_result"
    }
   ],
   "source": [
    "#9. Discuss the advantages of encapsulation in terms of code maintainability and security.\n",
    "\"\"\"The advantages of encapsulation in terms of code maintainability and security include:\n",
    "\n",
    "Code Maintainability: Encapsulation helps in managing the complexity of a class by encapsulating its internal details. It makes the code easier to understand and maintain.\n",
    "\n",
    "Data Integrity: Encapsulation ensures that data remains in a consistent and valid state. By controlling access through methods, you can enforce rules and validations.\n",
    "\n",
    "Security: Private attributes are not directly accessible from outside the class, which protects sensitive data and prevents unintended modifications.\"\"\""
   ]
  },
  {
   "cell_type": "code",
   "execution_count": 55,
   "id": "66ebcda9-08fd-4c05-8bf0-ec6d2021cb53",
   "metadata": {},
   "outputs": [],
   "source": [
    "#10. How can you access private attributes in Python? Provide an example demonstrating the use of name mangling.\n",
    "class BankAccount:\n",
    "    def __init__(self, account_number, initial_balance):\n",
    "        self.__account_number = account_number\n",
    "        self.__balance = initial_balance\n",
    "\n",
    "    def get_balance(self):\n",
    "        return self.__balance\n",
    "\n",
    "# Accessing a private attribute using name mangling\n",
    "account = BankAccount(\"12345\", 1000)\n",
    "balance = account._BankAccount__balance\n"
   ]
  },
  {
   "cell_type": "code",
   "execution_count": 56,
   "id": "f1ad4816-a2fd-497a-ba34-348fa71c4738",
   "metadata": {},
   "outputs": [],
   "source": [
    "#11. Create a Python class hierarchy for a school system, including classes for students, teachers, and courses, and implement encapsulation principles to protect sensitive information.\n",
    "class Person:\n",
    "    def __init__(self, name, age):\n",
    "        self.__name = name  # Private attribute\n",
    "        self.__age = age    # Private attribute\n",
    "\n",
    "    def get_name(self):\n",
    "        return self.__name\n",
    "\n",
    "    def get_age(self):\n",
    "        return self.__age\n",
    "\n",
    "class Student(Person):\n",
    "    def __init__(self, name, age, student_id):\n",
    "        super().__init__(name, age)\n",
    "        self.__student_id = student_id  # Private attribute\n",
    "\n",
    "    def get_student_id(self):\n",
    "        return self.__student_id\n",
    "\n",
    "class Teacher(Person):\n",
    "    def __init__(self, name, age, employee_id):\n",
    "        super().__init__(name, age)\n",
    "        self.__employee_id = employee_id  # Private attribute\n",
    "\n",
    "    def get_employee_id(self):\n",
    "        return self.__employee_id\n"
   ]
  },
  {
   "cell_type": "code",
   "execution_count": 57,
   "id": "b2270e1f-304e-48e4-a717-7bdafe962abc",
   "metadata": {
    "tags": []
   },
   "outputs": [
    {
     "data": {
      "text/plain": [
       "'Property Decorators in Python are used to define getter, setter, and deleter methods for class attributes in a more concise and Pythonic way. \\nProperty decorators allow you to maintain encapsulation principles while simplifying the syntax. They provide a way to access and modify private attributes as if they were public, using methods. \\nProperty decorators include @property, @attribute.setter, and @attribute.deleter.'"
      ]
     },
     "execution_count": 57,
     "metadata": {},
     "output_type": "execute_result"
    }
   ],
   "source": [
    "#12. Explain the concept of property decorators in Python and how they relate to encapsulation.\n",
    "\"\"\"Property Decorators in Python are used to define getter, setter, and deleter methods for class attributes in a more concise and Pythonic way. \n",
    "Property decorators allow you to maintain encapsulation principles while simplifying the syntax. They provide a way to access and modify private attributes as if they were public, using methods. \n",
    "Property decorators include @property, @attribute.setter, and @attribute.deleter.\"\"\""
   ]
  },
  {
   "cell_type": "code",
   "execution_count": 58,
   "id": "a6e04110-b587-472a-b398-c7f0e1e5295f",
   "metadata": {},
   "outputs": [],
   "source": [
    "#13. What is data hiding, and why is it important in encapsulation? Provide examples.\n",
    "\"\"\"Data Hiding in encapsulation is important to protect the integrity of an object's data. It involves making attributes private (e.g., with double underscores) and providing controlled \n",
    "access through getter and setter methods. Data hiding helps prevent unauthorized modifications, enforces validation, and ensures that data remains in a consistent state.\"\"\"\n",
    "class Employee:\n",
    "    def __init__(self, name, salary):\n",
    "        self.__name = name        # Private attribute\n",
    "        self.__salary = salary    # Private attribute\n",
    "\n",
    "    def calculate_yearly_bonus(self):\n",
    "        return 0.1 * self.__salary"
   ]
  },
  {
   "cell_type": "code",
   "execution_count": 59,
   "id": "4cbdd929-e6fb-4fe6-bc2a-6f4b1dcfad45",
   "metadata": {},
   "outputs": [],
   "source": [
    "#14. Create a Python class called `Employee` with private attributes for salary (`__salary`) and employee ID (`__employee_id`). Provide a method to calculate yearly bonuses.\n",
    "class Employee:\n",
    "    def __init__(self, name, employee_id, salary):\n",
    "        self.__name = name        # Private attribute\n",
    "        self.__employee_id = employee_id  # Private attribute\n",
    "        self.__salary = salary    # Private attribute\n",
    "\n",
    "    def calculate_yearly_bonus(self):\n",
    "        return 0.1 * self.__salary"
   ]
  },
  {
   "cell_type": "code",
   "execution_count": 60,
   "id": "60aada83-2a8f-4fb7-a2f0-3a0d356d8643",
   "metadata": {},
   "outputs": [
    {
     "data": {
      "text/plain": [
       "\"Accessors and Mutators in encapsulation help maintain control over attribute access:\\nAccessors (getter methods) provide controlled read-only access to private attributes. They allow you to retrieve the attribute's value.\\n\\nMutators (setter methods) provide controlled write access to private attributes. They allow you to modify the attribute's value and can include validation and logic to ensure data integrity.\""
      ]
     },
     "execution_count": 60,
     "metadata": {},
     "output_type": "execute_result"
    }
   ],
   "source": [
    "#15. Discuss the use of accessors and mutators in encapsulation. How do they help maintain control over attribute access?\n",
    "\"\"\"Accessors and Mutators in encapsulation help maintain control over attribute access:\n",
    "Accessors (getter methods) provide controlled read-only access to private attributes. They allow you to retrieve the attribute's value.\n",
    "\n",
    "Mutators (setter methods) provide controlled write access to private attributes. They allow you to modify the attribute's value and can include validation and logic to ensure data integrity.\"\"\""
   ]
  },
  {
   "cell_type": "code",
   "execution_count": 61,
   "id": "4ff19bb0-e198-4541-ae84-9c04561fef06",
   "metadata": {},
   "outputs": [
    {
     "data": {
      "text/plain": [
       "'Potential drawbacks or disadvantages of using encapsulation in Python include:\\nComplexity: Encapsulation can introduce additional complexity to the code, especially when multiple getter and setter methods are used.\\n\\nPerformance Overhead: Accessing attributes via methods may introduce a slight performance overhead compared to direct attribute access.\\n\\nLimitation of Direct Access: In some cases, you might need direct access to attributes for performance or simplicity, which encapsulation restricts.'"
      ]
     },
     "execution_count": 61,
     "metadata": {},
     "output_type": "execute_result"
    }
   ],
   "source": [
    "#16. What are the potential drawbacks or disadvantages of using encapsulation in Python?\n",
    "\"\"\"Potential drawbacks or disadvantages of using encapsulation in Python include:\n",
    "Complexity: Encapsulation can introduce additional complexity to the code, especially when multiple getter and setter methods are used.\n",
    "\n",
    "Performance Overhead: Accessing attributes via methods may introduce a slight performance overhead compared to direct attribute access.\n",
    "\n",
    "Limitation of Direct Access: In some cases, you might need direct access to attributes for performance or simplicity, which encapsulation restricts.\"\"\""
   ]
  },
  {
   "cell_type": "code",
   "execution_count": 62,
   "id": "db43475f-ae0b-4ec9-9255-7a5aeffa68a8",
   "metadata": {},
   "outputs": [],
   "source": [
    "#17. Create a Python class for a library system that encapsulates book information, including titles, authors, and availability status.\n",
    "class Book:\n",
    "    def __init__(self, title, author, availability=True):\n",
    "        self.__title = title\n",
    "        self.__author = author\n",
    "        self.__availability = availability\n",
    "\n",
    "    def get_title(self):\n",
    "        return self.__title\n",
    "\n",
    "    def get_author(self):\n",
    "        return self.__author\n",
    "\n",
    "    def is_available(self):\n",
    "        return self.__availability\n",
    "\n",
    "    def checkout(self):\n",
    "        if self.__availability:\n",
    "            self.__availability = False\n",
    "        else:\n",
    "            print(\"This book is currently unavailable.\")\n",
    "\n",
    "    def return_book(self):\n",
    "        self.__availability = True"
   ]
  },
  {
   "cell_type": "code",
   "execution_count": null,
   "id": "06fd6fde-46af-40d6-abb3-24e9e35c4446",
   "metadata": {},
   "outputs": [],
   "source": [
    "#18. Explain how encapsulation enhances code reusability and modularity in Python programs.\n",
    "\"\"\"Encapsulation enhances code reusability and modularity in Python programs by providing a clear interface for classes. \n",
    "This allows you to change the internal implementation of a class without affecting the code that uses it. It promotes the separation of concerns and makes it easier to maintain and update code.\"\"\""
   ]
  },
  {
   "cell_type": "code",
   "execution_count": 63,
   "id": "e72b50ad-0ef7-41e6-b9bc-0bc4896f7a34",
   "metadata": {},
   "outputs": [
    {
     "data": {
      "text/plain": [
       "'Information Hiding is the concept in encapsulation where you hide the internal details of a class and provide a well-defined interface for interaction.\\nThis is essential in software development because it limits the exposure of the implementation details and protects sensitive information. \\nIt allows for easier code maintenance and modification without impacting the external users of the class.'"
      ]
     },
     "execution_count": 63,
     "metadata": {},
     "output_type": "execute_result"
    }
   ],
   "source": [
    "#19. Describe the concept of information hiding in encapsulation. Why is it essential in software development?\n",
    "\"\"\"Information Hiding is the concept in encapsulation where you hide the internal details of a class and provide a well-defined interface for interaction.\n",
    "This is essential in software development because it limits the exposure of the implementation details and protects sensitive information. \n",
    "It allows for easier code maintenance and modification without impacting the external users of the class.\"\"\""
   ]
  },
  {
   "cell_type": "code",
   "execution_count": 64,
   "id": "54058947-7178-454f-8619-483ba3a9e277",
   "metadata": {},
   "outputs": [],
   "source": [
    "#20. Create a Python class called `Customer` with private attributes for customer details like name, address, and contact information. Implement encapsulation to ensure data integrity and security.\n",
    "class Customer:\n",
    "    def __init__(self, name, address, contact_info):\n",
    "        self.__name = name        # Private attribute\n",
    "        self.__address = address  # Private attribute\n",
    "        self.__contact_info = contact_info  # Private attribute\n",
    "\n",
    "    def get_name(self):\n",
    "        return self.__name\n",
    "\n",
    "    def get_address(self):\n",
    "        return self.__address\n",
    "\n",
    "    def get_contact_info(self):\n",
    "        return self.__contact_info\n",
    "\n",
    "    def update_contact_info(self, new_info):\n",
    "        self.__contact_info = new_info\n"
   ]
  },
  {
   "cell_type": "markdown",
   "id": "030d1537-1227-401a-9f21-0002143e42c7",
   "metadata": {},
   "source": [
    "Polymorphism"
   ]
  },
  {
   "cell_type": "code",
   "execution_count": 1,
   "id": "c6d5d57d-b48f-445d-82a5-02e5a690e562",
   "metadata": {},
   "outputs": [
    {
     "data": {
      "text/plain": [
       "'Polymorphism in Python is one of the fundamental principles of object-oriented programming. It allows objects of different classes to be treated as objects of a common superclass. \\nPolymorphism enables you to perform a single action in different ways by having different classes implement the same method or behavior.'"
      ]
     },
     "execution_count": 1,
     "metadata": {},
     "output_type": "execute_result"
    }
   ],
   "source": [
    "#1. What is polymorphism in Python? Explain how it is related to object-oriented programming.\n",
    "\"\"\"Polymorphism in Python is one of the fundamental principles of object-oriented programming. It allows objects of different classes to be treated as objects of a common superclass. \n",
    "Polymorphism enables you to perform a single action in different ways by having different classes implement the same method or behavior.\"\"\""
   ]
  },
  {
   "cell_type": "code",
   "execution_count": 2,
   "id": "6d168e7b-6df4-412f-8a1c-44345d5dba18",
   "metadata": {},
   "outputs": [
    {
     "data": {
      "text/plain": [
       "\"Compile-time polymorphism (also known as method overloading) occurs when multiple methods in a class have the same name but differ in the number or types of their parameters. \\nThe compiler determines which method to call based on the method signature.\\n\\nRuntime polymorphism (also known as method overriding) occurs when a subclass provides a specific implementation of a method that is already defined in its parent class. \\nThe decision of which method to call is made during runtime, based on the actual object's type.\""
      ]
     },
     "execution_count": 2,
     "metadata": {},
     "output_type": "execute_result"
    }
   ],
   "source": [
    "#2. Describe the difference between compile-time polymorphism and runtime polymorphism in Python.\n",
    "\"\"\"Compile-time polymorphism (also known as method overloading) occurs when multiple methods in a class have the same name but differ in the number or types of their parameters. \n",
    "The compiler determines which method to call based on the method signature.\n",
    "\n",
    "Runtime polymorphism (also known as method overriding) occurs when a subclass provides a specific implementation of a method that is already defined in its parent class. \n",
    "The decision of which method to call is made during runtime, based on the actual object's type.\"\"\""
   ]
  },
  {
   "cell_type": "code",
   "execution_count": 3,
   "id": "e0c8a7a0-cfc6-48c1-83c2-f67982cb9323",
   "metadata": {},
   "outputs": [
    {
     "name": "stdout",
     "output_type": "stream",
     "text": [
      "Area: 78.5\n",
      "Area: 16\n",
      "Area: 24.0\n"
     ]
    }
   ],
   "source": [
    "#3. Create a Python class hierarchy for shapes (e.g., circle, square, triangle) and demonstrate polymorphism through a common method, such as `calculate_area()`.\n",
    "class Shape:\n",
    "    def calculate_area(self):\n",
    "        pass  # This is a placeholder for subclasses to implement\n",
    "\n",
    "class Circle(Shape):\n",
    "    def __init__(self, radius):\n",
    "        self.radius = radius\n",
    "\n",
    "    def calculate_area(self):\n",
    "        return 3.14 * self.radius * self.radius\n",
    "\n",
    "class Square(Shape):\n",
    "    def __init__(self, side_length):\n",
    "        self.side_length = side_length\n",
    "\n",
    "    def calculate_area(self):\n",
    "        return self.side_length * self.side_length\n",
    "\n",
    "class Triangle(Shape):\n",
    "    def __init__(self, base, height):\n",
    "        self.base = base\n",
    "        self.height = height\n",
    "\n",
    "    def calculate_area(self):\n",
    "        return 0.5 * self.base * self.height\n",
    "\n",
    "# Demonstrating polymorphism\n",
    "shapes = [Circle(5), Square(4), Triangle(6, 8)]\n",
    "for shape in shapes:\n",
    "    print(f\"Area: {shape.calculate_area()}\")\n"
   ]
  },
  {
   "cell_type": "code",
   "execution_count": 4,
   "id": "cc8ea1e7-0f66-4224-8272-182aad8e15b0",
   "metadata": {},
   "outputs": [
    {
     "name": "stdout",
     "output_type": "stream",
     "text": [
      "Woof!\n",
      "Meow!\n"
     ]
    }
   ],
   "source": [
    "#4. Explain the concept of method overriding in polymorphism. Provide an example.\n",
    "\"\"\"Method overriding in polymorphism occurs when a subclass provides a specific implementation of a method that is already defined in its parent class. \n",
    "It allows you to customize the behavior of a method in the subclass while keeping the method name and signature the same.\"\"\"\n",
    "\n",
    "class Animal:\n",
    "    def speak(self):\n",
    "        pass\n",
    "\n",
    "class Dog(Animal):\n",
    "    def speak(self):\n",
    "        return \"Woof!\"\n",
    "\n",
    "class Cat(Animal):\n",
    "    def speak(self):\n",
    "        return \"Meow!\"\n",
    "\n",
    "# Demonstrating method overriding and polymorphism\n",
    "dog = Dog()\n",
    "cat = Cat()\n",
    "print(dog.speak())  # Output: \"Woof!\"\n",
    "print(cat.speak())  # Output: \"Meow!\"\n"
   ]
  },
  {
   "cell_type": "code",
   "execution_count": 5,
   "id": "130ce834-f3b7-4c63-93c1-595082cb91a5",
   "metadata": {},
   "outputs": [],
   "source": [
    "#5. How is polymorphism different from method overloading in Python? Provide examples for both.\n",
    "\"\"\"Polymorphism refers to the ability of different objects to respond to the same method call, even if their internal implementation differs. \n",
    "It's based on the idea that different classes can implement the same method name in their own way. In Python, it's typically achieved through method overriding.\n",
    "\n",
    "Method overloading, on the other hand, is a compile-time concept where multiple methods in a class have the same name but differ in the number or types of their parameters. \n",
    "Python doesn't support traditional method overloading directly.\"\"\"\n",
    "class Shape:\n",
    "    def calculate_area(self):\n",
    "        pass\n",
    "\n",
    "class Circle(Shape):\n",
    "    def calculate_area(self):\n",
    "        # Specific implementation for circles\n",
    "        pass\n",
    "\n",
    "class Square(Shape):\n",
    "    def calculate_area(self):\n",
    "        # Specific implementation for squares\n",
    "        pass\n"
   ]
  },
  {
   "cell_type": "code",
   "execution_count": 6,
   "id": "c4be533a-c6c5-4169-867c-2caf694b7ac3",
   "metadata": {},
   "outputs": [],
   "source": [
    "class MyClass:\n",
    "    def example_method(self, arg1):\n",
    "        pass\n",
    "\n",
    "    def example_method(self, arg1, arg2):\n",
    "        pass\n"
   ]
  },
  {
   "cell_type": "code",
   "execution_count": 7,
   "id": "0256cd89-2d07-4d7f-832b-0ccba2966e0e",
   "metadata": {},
   "outputs": [
    {
     "name": "stdout",
     "output_type": "stream",
     "text": [
      "Woof!\n",
      "Meow!\n",
      "Chirp!\n"
     ]
    }
   ],
   "source": [
    "#6. Create a Python class called `Animal` with a method `speak()`. Then, create child classes like `Dog`, `Cat`, and `Bird`, each with their own `speak()` method. \n",
    "# Demonstrate polymorphism by calling the `speak()` method on objects of different subclasses.\n",
    "\n",
    "class Animal:\n",
    "    def speak(self):\n",
    "        return \"Some generic animal sound.\"\n",
    "\n",
    "class Dog(Animal):\n",
    "    def speak(self):\n",
    "        return \"Woof!\"\n",
    "\n",
    "class Cat(Animal):\n",
    "    def speak(self):\n",
    "        return \"Meow!\"\n",
    "\n",
    "class Bird(Animal):\n",
    "    def speak(self):\n",
    "        return \"Chirp!\"\n",
    "\n",
    "# Demonstrating polymorphism\n",
    "animals = [Dog(), Cat(), Bird()]\n",
    "for animal in animals:\n",
    "    print(animal.speak())\n"
   ]
  },
  {
   "cell_type": "code",
   "execution_count": 9,
   "id": "374dca9a-469f-4db3-87cd-e6836a8b496d",
   "metadata": {},
   "outputs": [],
   "source": [
    "#7. Discuss the use of abstract methods and classes in achieving polymorphism in Python. Provide an example using the `abc` module.\n",
    "\"\"\"Abstract methods and classes can be used to achieve polymorphism in Python. The abc module provides a way to define abstract methods and classes. \n",
    "Abstract methods are methods that have no implementation in the abstract class and must be implemented by concrete subclasses.\"\"\"\n",
    "from abc import ABC, abstractmethod\n",
    "\n",
    "class Shape(ABC):\n",
    "    @abstractmethod\n",
    "    def calculate_area(self):\n",
    "        pass\n",
    "\n",
    "class Circle(Shape):\n",
    "    def __init__(self, radius):\n",
    "        self.radius = radius\n",
    "\n",
    "    def calculate_area(self):\n",
    "        return 3.14 * self.radius * self.radius\n",
    "\n",
    "class Square(Shape):\n",
    "    def __init__(self, side_length):\n",
    "        self.side_length = side_length\n",
    "\n",
    "    def calculate_area(self):\n",
    "        return self.side_length * self.side_length"
   ]
  },
  {
   "cell_type": "code",
   "execution_count": 10,
   "id": "3199e295-8fed-48fd-b592-d88a9d113f49",
   "metadata": {},
   "outputs": [
    {
     "name": "stdout",
     "output_type": "stream",
     "text": [
      "Car engine started.\n",
      "Pedaling the bicycle.\n",
      "Boat engine started.\n"
     ]
    }
   ],
   "source": [
    "#8. Create a Python class hierarchy for a vehicle system (e.g., car, bicycle, boat) and implement a polymorphic `start()` method that prints a message specific to each vehicle type.\n",
    "class Vehicle:\n",
    "    def start(self):\n",
    "        pass\n",
    "\n",
    "class Car(Vehicle):\n",
    "    def start(self):\n",
    "        return \"Car engine started.\"\n",
    "\n",
    "class Bicycle(Vehicle):\n",
    "    def start(self):\n",
    "        return \"Pedaling the bicycle.\"\n",
    "\n",
    "class Boat(Vehicle):\n",
    "    def start(self):\n",
    "        return \"Boat engine started.\"\n",
    "\n",
    "# Demonstrating polymorphism\n",
    "vehicles = [Car(), Bicycle(), Boat()]\n",
    "for vehicle in vehicles:\n",
    "    print(vehicle.start())\n"
   ]
  },
  {
   "cell_type": "code",
   "execution_count": 11,
   "id": "c70cfde6-d71c-48a1-98b7-b0001e527ba7",
   "metadata": {},
   "outputs": [
    {
     "data": {
      "text/plain": [
       "'The isinstance() function is used to check if an object is an instance of a particular class or a subclass. The issubclass() function checks if a class is a subclass of a specified class. \\nThese functions are essential in polymorphism to determine the type of objects and classes to apply polymorphism effectively.'"
      ]
     },
     "execution_count": 11,
     "metadata": {},
     "output_type": "execute_result"
    }
   ],
   "source": [
    "#9. Explain the significance of the `isinstance()` and `issubclass()` functions in Python polymorphism.\n",
    "\"\"\"The isinstance() function is used to check if an object is an instance of a particular class or a subclass. The issubclass() function checks if a class is a subclass of a specified class. \n",
    "These functions are essential in polymorphism to determine the type of objects and classes to apply polymorphism effectively.\"\"\""
   ]
  },
  {
   "cell_type": "code",
   "execution_count": 12,
   "id": "c320d033-774b-435d-9ac0-0fea7791588b",
   "metadata": {},
   "outputs": [],
   "source": [
    "#10. What is the role of the `@abstractmethod` decorator in achieving polymorphism in Python? Provide an example.\n",
    "\"\"\"The @abstractmethod decorator is used to declare an abstract method in Python. It enforces that concrete subclasses must implement the abstract method. \n",
    "It plays a crucial role in achieving polymorphism by ensuring that specific implementations are provided in subclasses.\"\"\"\n",
    "from abc import ABC, abstractmethod\n",
    "\n",
    "class Shape(ABC):\n",
    "    @abstractmethod\n",
    "    def calculate_area(self):\n",
    "        pass\n"
   ]
  },
  {
   "cell_type": "code",
   "execution_count": 14,
   "id": "8d54ce34-f55c-4e0f-8030-5750be9a2cbd",
   "metadata": {},
   "outputs": [],
   "source": [
    "#11. Create a Python class called `Shape` with a polymorphic method `area()` that calculates the area of different shapes (e.g., circle, rectangle, triangle).\n",
    "class Shape:\n",
    "    def area(self):\n",
    "        pass\n",
    "\n",
    "class Circle(Shape):\n",
    "    def __init__(self, radius):\n",
    "        self.radius = radius\n",
    "\n",
    "    def area(self):\n",
    "        return 3.14 * self.radius * self.radius\n",
    "\n",
    "class Rectangle(Shape):\n",
    "    def __init__(self, length, width):\n",
    "        self.length = length\n",
    "        self.width = width\n",
    "\n",
    "    def area(self):\n",
    "        return self.length * self.width"
   ]
  },
  {
   "cell_type": "code",
   "execution_count": 15,
   "id": "d73402ed-7191-40a0-a15c-2e836a73c1c8",
   "metadata": {},
   "outputs": [
    {
     "data": {
      "text/plain": [
       "'The benefits of polymorphism in Python, in terms of code reusability and flexibility, include:\\nCode Reusability: Polymorphism allows you to create classes and methods that can be reused across different objects and scenarios. This reduces code duplication and promotes modular design.\\n\\nFlexibility: Polymorphism enables the addition of new classes or subclasses without modifying existing code. It allows you to extend the behavior of a program in a modular and scalable way.'"
      ]
     },
     "execution_count": 15,
     "metadata": {},
     "output_type": "execute_result"
    }
   ],
   "source": [
    "#12. Discuss the benefits of polymorphism in terms of code reusability and flexibility in Python programs.\n",
    "\"\"\"The benefits of polymorphism in Python, in terms of code reusability and flexibility, include:\n",
    "Code Reusability: Polymorphism allows you to create classes and methods that can be reused across different objects and scenarios. This reduces code duplication and promotes modular design.\n",
    "\n",
    "Flexibility: Polymorphism enables the addition of new classes or subclasses without modifying existing code. It allows you to extend the behavior of a program in a modular and scalable way.\"\"\""
   ]
  },
  {
   "cell_type": "code",
   "execution_count": 16,
   "id": "54f859ba-7d05-4e36-865b-d12f033b4aec",
   "metadata": {},
   "outputs": [
    {
     "data": {
      "text/plain": [
       "'The super() function in Python polymorphism is used to call methods of parent classes. It allows a subclass to invoke methods from its superclass, enabling you to access and reuse the\\nfunctionality of the parent class while customizing or extending it in the subclass.'"
      ]
     },
     "execution_count": 16,
     "metadata": {},
     "output_type": "execute_result"
    }
   ],
   "source": [
    "#13. Explain the use of the `super()` function in Python polymorphism. How does it help call methods of parent classes?\n",
    "\"\"\"The super() function in Python polymorphism is used to call methods of parent classes. It allows a subclass to invoke methods from its superclass, enabling you to access and reuse the\n",
    "functionality of the parent class while customizing or extending it in the subclass.\"\"\""
   ]
  },
  {
   "cell_type": "code",
   "execution_count": 17,
   "id": "daa1522b-4c41-441c-8de4-c6a61008335b",
   "metadata": {},
   "outputs": [],
   "source": [
    "#14. Create a Python class hierarchy for a banking system with various account types (e.g., savings, checking, credit card) and demonstrate polymorphism by implementing a common `withdraw()` method.\n",
    "class BankAccount:\n",
    "    def withdraw(self, amount):\n",
    "        pass\n",
    "\n",
    "class SavingsAccount(BankAccount):\n",
    "    def withdraw(self, amount):\n",
    "        return f\"Withdrew {amount} from savings account.\"\n",
    "\n",
    "class CheckingAccount(BankAccount):\n",
    "    def withdraw(self, amount):\n",
    "        return f\"Withdrew {amount} from checking account.\"\n",
    "\n",
    "class CreditCardAccount(BankAccount):\n",
    "    def withdraw(self, amount):\n",
    "        return f\"Withdrew {amount} from credit card account.\"\n"
   ]
  },
  {
   "cell_type": "code",
   "execution_count": 18,
   "id": "22dc292f-e88d-4f72-9f59-595cd560122a",
   "metadata": {},
   "outputs": [],
   "source": [
    "#15. Describe the concept of operator overloading in Python and how it relates to polymorphism. Provide examples using operators like `+` and `*`.\n",
    "\"\"\"Operator overloading in Python is a form of polymorphism where operators like +, -, *, etc., are redefined for specific data types or classes. \n",
    "Operator overloading allows you to perform custom operations when these operators are used on objects of your class.\"\"\"\n",
    "class ComplexNumber:\n",
    "    def __init__(self, real, imaginary):\n",
    "        self.real = real\n",
    "        self.imaginary = imaginary\n",
    "\n",
    "    def __add__(self, other):\n",
    "        real_sum = self.real + other.real\n",
    "        imag_sum = self.imaginary + other.imaginary\n",
    "        return ComplexNumber(real_sum, imag_sum)\n",
    "\n",
    "# Demonstrating operator overloading\n",
    "c1 = ComplexNumber(1, 2)\n",
    "c2 = ComplexNumber(3, 4)\n",
    "c3 = c1 + c2\n"
   ]
  },
  {
   "cell_type": "code",
   "execution_count": 19,
   "id": "5004c789-bef3-45c7-ae98-5b5802a64ef4",
   "metadata": {},
   "outputs": [
    {
     "data": {
      "text/plain": [
       "'Dynamic polymorphism is a type of polymorphism that is determined at runtime. It allows you to use objects of different classes interchangeably. In Python, dynamic polymorphism is achieved \\nthrough method overriding and the use of objects with different class types to invoke the same method name.'"
      ]
     },
     "execution_count": 19,
     "metadata": {},
     "output_type": "execute_result"
    }
   ],
   "source": [
    "#16. What is dynamic polymorphism, and how is it achieved in Python?\n",
    "\"\"\"Dynamic polymorphism is a type of polymorphism that is determined at runtime. It allows you to use objects of different classes interchangeably. In Python, dynamic polymorphism is achieved \n",
    "through method overriding and the use of objects with different class types to invoke the same method name.\"\"\""
   ]
  },
  {
   "cell_type": "code",
   "execution_count": 20,
   "id": "301d1b47-3b96-42be-af07-599a156b896f",
   "metadata": {},
   "outputs": [],
   "source": [
    "#17. Create a Python class hierarchy for employees in a company (e.g., manager, developer, designer) and implement polymorphism through a common `calculate_salary()` method.\n",
    "class Employee:\n",
    "    def calculate_salary(self):\n",
    "        pass\n",
    "\n",
    "class Manager(Employee):\n",
    "    def calculate_salary(self):\n",
    "        return \"Salary of a manager is calculated based on managerial responsibilities.\"\n",
    "\n",
    "class Developer(Employee):\n",
    "    def calculate_salary(self):\n",
    "        return \"Salary of a developer is calculated based on coding skills.\"\n",
    "\n",
    "class Designer(Employee):\n",
    "    def calculate_salary(self):\n",
    "        return \"Salary of a designer is calculated based on design skills.\""
   ]
  },
  {
   "cell_type": "code",
   "execution_count": 21,
   "id": "f8ca850f-9008-4e2c-aa25-2cf9b7516070",
   "metadata": {},
   "outputs": [
    {
     "data": {
      "text/plain": [
       "'Function pointers are a concept from other programming languages, but they are not directly used in Python. Instead, Python relies on the dynamic nature of the language to achieve polymorphism. \\nIn Python, functions and methods can be treated as objects, allowing you to pass them as arguments and invoke them dynamically.'"
      ]
     },
     "execution_count": 21,
     "metadata": {},
     "output_type": "execute_result"
    }
   ],
   "source": [
    "#18. Discuss the concept of function pointers and how they can be used to achieve polymorphism in Python.\n",
    "\"\"\"Function pointers are a concept from other programming languages, but they are not directly used in Python. Instead, Python relies on the dynamic nature of the language to achieve polymorphism. \n",
    "In Python, functions and methods can be treated as objects, allowing you to pass them as arguments and invoke them dynamically.\"\"\""
   ]
  },
  {
   "cell_type": "code",
   "execution_count": 22,
   "id": "91927d2f-2f40-4d6d-a68e-b6faf6e97a2b",
   "metadata": {},
   "outputs": [
    {
     "data": {
      "text/plain": [
       "\"Interfaces and abstract classes are both used to define a contract for classes that implement them. While abstract classes in Python can contain both abstract and concrete methods,\\ninterfaces only contain method signatures, and a class can implement multiple interfaces. Python doesn't have native support for interfaces, but you can use abstract classes to achieve similar behavior.\""
      ]
     },
     "execution_count": 22,
     "metadata": {},
     "output_type": "execute_result"
    }
   ],
   "source": [
    "#19. Explain the role of interfaces and abstract classes in polymorphism, drawing comparisons between them.\n",
    "\"\"\"Interfaces and abstract classes are both used to define a contract for classes that implement them. While abstract classes in Python can contain both abstract and concrete methods,\n",
    "interfaces only contain method signatures, and a class can implement multiple interfaces. Python doesn't have native support for interfaces, but you can use abstract classes to achieve similar behavior.\"\"\""
   ]
  },
  {
   "cell_type": "code",
   "execution_count": 23,
   "id": "eadae6e6-4bf7-454f-ae9b-f4dee598e843",
   "metadata": {},
   "outputs": [
    {
     "name": "stdout",
     "output_type": "stream",
     "text": [
      "Mammal is eating.\n",
      "Bird is flying.\n",
      "Reptile is sunbathing.\n"
     ]
    }
   ],
   "source": [
    "#20. Create a Python class for a zoo simulation, demonstrating polymorphism with different animal types (e.g., mammals, birds, reptiles) and their behavior (e.g., eating, sleeping, making sounds).\n",
    "class Animal:\n",
    "    def behavior(self):\n",
    "        pass\n",
    "\n",
    "class Mammal(Animal):\n",
    "    def behavior(self):\n",
    "        return \"Mammal is eating.\"\n",
    "\n",
    "class Bird(Animal):\n",
    "    def behavior(self):\n",
    "        return \"Bird is flying.\"\n",
    "\n",
    "class Reptile(Animal):\n",
    "    def behavior(self):\n",
    "        return \"Reptile is sunbathing.\"\n",
    "\n",
    "# Demonstrating polymorphism\n",
    "zoo = [Mammal(), Bird(), Reptile()]\n",
    "for animal in zoo:\n",
    "    print(animal.behavior())\n"
   ]
  },
  {
   "cell_type": "markdown",
   "id": "df131081-fc01-4412-b4e9-8973ce86a1fb",
   "metadata": {},
   "source": [
    "Abstraction"
   ]
  },
  {
   "cell_type": "code",
   "execution_count": 24,
   "id": "1afc905e-6b80-4a76-bbac-e31ee1d2927a",
   "metadata": {},
   "outputs": [
    {
     "data": {
      "text/plain": [
       "'\\nThe benefits of abstraction in terms of code organization and complexity reduction include:\\n\\nSimplification: Abstraction allows you to represent complex systems or objects in a simplified manner by focusing on the essential aspects while hiding unnecessary details.\\n\\nModularity: Abstract classes provide a structured framework for organizing related methods and properties, promoting modularity in code design.\\n\\nReusability: Abstract classes and methods can be reused across different concrete classes, reducing code duplication and promoting a more efficient and maintainable codebase.\\n\\nEncapsulation: Abstraction is often used in combination with encapsulation to hide internal complexities, making code more maintainable and secure.'"
      ]
     },
     "execution_count": 24,
     "metadata": {},
     "output_type": "execute_result"
    }
   ],
   "source": [
    "#1. What is abstraction in Python, and how does it relate to object-oriented programming?\n",
    "\"\"\"\n",
    "Abstraction in Python is a fundamental concept in object-oriented programming that involves simplifying complex reality by modeling classes based on the essential features and properties. \n",
    "It allows you to focus on what an object does rather than how it does it. Abstraction is the process of creating abstract classes and methods that serve as blueprints for concrete classes \n",
    "and their specific implementations.\"\"\"\n",
    "\n",
    "#2. Describe the benefits of abstraction in terms of code organization and complexity reduction.\n",
    "\"\"\"\n",
    "The benefits of abstraction in terms of code organization and complexity reduction include:\n",
    "\n",
    "Simplification: Abstraction allows you to represent complex systems or objects in a simplified manner by focusing on the essential aspects while hiding unnecessary details.\n",
    "\n",
    "Modularity: Abstract classes provide a structured framework for organizing related methods and properties, promoting modularity in code design.\n",
    "\n",
    "Reusability: Abstract classes and methods can be reused across different concrete classes, reducing code duplication and promoting a more efficient and maintainable codebase.\n",
    "\n",
    "Encapsulation: Abstraction is often used in combination with encapsulation to hide internal complexities, making code more maintainable and secure.\"\"\""
   ]
  },
  {
   "cell_type": "code",
   "execution_count": 25,
   "id": "624ca30d-b6a7-42b2-adb8-4c97e523a53f",
   "metadata": {},
   "outputs": [
    {
     "name": "stdout",
     "output_type": "stream",
     "text": [
      "Area of the circle: 78.5\n",
      "Area of the rectangle: 24\n"
     ]
    }
   ],
   "source": [
    "#3. Create a Python class called `Shape` with an abstract method `calculate_area()`. Then, create child classes (e.g., `Circle`, `Rectangle`) that implement the `calculate_area()` method. \n",
    "#Provide an example of using these classes.\n",
    "from abc import ABC, abstractmethod\n",
    "\n",
    "class Shape(ABC):\n",
    "    @abstractmethod\n",
    "    def calculate_area(self):\n",
    "        pass\n",
    "\n",
    "class Circle(Shape):\n",
    "    def __init__(self, radius):\n",
    "        self.radius = radius\n",
    "\n",
    "    def calculate_area(self):\n",
    "        return 3.14 * self.radius * self.radius\n",
    "\n",
    "class Rectangle(Shape):\n",
    "    def __init__(self, length, width):\n",
    "        self.length = length\n",
    "        self.width = width\n",
    "\n",
    "    def calculate_area(self):\n",
    "        return self.length * self.width\n",
    "\n",
    "# Using the Shape and its child classes\n",
    "circle = Circle(5)\n",
    "rectangle = Rectangle(4, 6)\n",
    "\n",
    "print(\"Area of the circle:\", circle.calculate_area())\n",
    "print(\"Area of the rectangle:\", rectangle.calculate_area())"
   ]
  },
  {
   "cell_type": "code",
   "execution_count": 26,
   "id": "deae3772-c908-480e-8826-f00040a13542",
   "metadata": {},
   "outputs": [],
   "source": [
    "#4. Explain the concept of abstract classes in Python and how they are defined using the `abc` module. Provide an example.\n",
    "\"\"\"Abstract classes in Python are classes that cannot be instantiated on their own but serve as blueprints for other classes. \n",
    "They are defined using the abc (Abstract Base Classes) module, which provides the ABC class and the @abstractmethod decorator. \n",
    "An abstract class contains abstract methods that must be implemented by its concrete subclasses.\"\"\"\n",
    "from abc import ABC, abstractmethod\n",
    "\n",
    "class MyAbstractClass(ABC):\n",
    "    @abstractmethod\n",
    "    def my_abstract_method(self):\n",
    "        pass\n",
    "\n",
    "class ConcreteClass(MyAbstractClass):\n",
    "    def my_abstract_method(self):\n",
    "        return \"Implementation of my_abstract_method in ConcreteClass.\""
   ]
  },
  {
   "cell_type": "code",
   "execution_count": 27,
   "id": "50260c1b-9342-4f6f-b986-faf610af6abd",
   "metadata": {},
   "outputs": [
    {
     "data": {
      "text/plain": [
       "\"Abstract classes in Python differ from regular classes in that they cannot be instantiated. They serve as templates or blueprints for other classes to inherit and provide\\n\\na structure for method implementation. Abstract classes define abstract methods that must be implemented by concrete subclasses, enforcing a contract for those subclasses.\\n\\nRegular classes can be instantiated and used directly. They can also include both abstract and concrete methods, and they don't enforce the implementation of abstract methods.\\n\\nUse cases for abstract classes include defining common behavior or methods for a group of related classes, while regular classes are used to create objects with specific properties and behaviors.\""
      ]
     },
     "execution_count": 27,
     "metadata": {},
     "output_type": "execute_result"
    }
   ],
   "source": [
    "#5. How do abstract classes differ from regular classes in Python? Discuss their use cases.\n",
    "\"\"\"Abstract classes in Python differ from regular classes in that they cannot be instantiated. They serve as templates or blueprints for other classes to inherit and provide\n",
    "\n",
    "a structure for method implementation. Abstract classes define abstract methods that must be implemented by concrete subclasses, enforcing a contract for those subclasses.\n",
    "\n",
    "Regular classes can be instantiated and used directly. They can also include both abstract and concrete methods, and they don't enforce the implementation of abstract methods.\n",
    "\n",
    "Use cases for abstract classes include defining common behavior or methods for a group of related classes, while regular classes are used to create objects with specific properties and behaviors.\"\"\""
   ]
  },
  {
   "cell_type": "code",
   "execution_count": 29,
   "id": "f4e7c904-b983-4f9f-948f-6534b22263c9",
   "metadata": {},
   "outputs": [],
   "source": [
    "#6. Create a Python class for a bank account and demonstrate abstraction by hiding the account balance and providing methods to deposit and withdraw funds.\n",
    "from abc import ABC, abstractmethod\n",
    "\n",
    "class BankAccount(ABC):\n",
    "    def __init__(self, account_number, initial_balance):\n",
    "        self.account_number = account_number\n",
    "        self.balance = initial_balance\n",
    "\n",
    "    @abstractmethod\n",
    "    def deposit(self, amount):\n",
    "        pass\n",
    "\n",
    "    @abstractmethod\n",
    "    def withdraw(self, amount):\n",
    "        pass\n",
    "\n",
    "class SavingsAccount(BankAccount):\n",
    "    def deposit(self, amount):\n",
    "        self.balance += amount\n",
    "\n",
    "    def withdraw(self, amount):\n",
    "        if amount <= self.balance:\n",
    "            self.balance -= amount\n",
    "        else:\n",
    "            print(\"Insufficient funds.\")\n",
    "\n",
    "class CheckingAccount(BankAccount):\n",
    "    def deposit(self, amount):\n",
    "        self.balance += amount\n",
    "\n",
    "    def withdraw(self, amount):\n",
    "        if amount <= self.balance:\n",
    "            self.balance -= amount\n",
    "        else:\n",
    "            print(\"Insufficient funds.\")"
   ]
  },
  {
   "cell_type": "code",
   "execution_count": 31,
   "id": "d8e8e7d5-cbd0-429c-9f36-0157704bd57c",
   "metadata": {},
   "outputs": [
    {
     "data": {
      "text/plain": [
       "'Interface classes in Python are not native to the language, but the concept can be emulated by using abstract classes with only abstract methods. \\nIn other words, interface classes define a contract that concrete classes must adhere to by implementing the required methods.'"
      ]
     },
     "execution_count": 31,
     "metadata": {},
     "output_type": "execute_result"
    }
   ],
   "source": [
    "#7. Discuss the concept of interface classes in Python and their role in achieving abstraction.\n",
    "\"\"\"Interface classes in Python are not native to the language, but the concept can be emulated by using abstract classes with only abstract methods. \n",
    "In other words, interface classes define a contract that concrete classes must adhere to by implementing the required methods.\"\"\""
   ]
  },
  {
   "cell_type": "code",
   "execution_count": 32,
   "id": "3b9d90cc-3783-4a12-bf7c-19449ac94699",
   "metadata": {},
   "outputs": [],
   "source": [
    "#8. Create a Python class hierarchy for animals and implement abstraction by defining common methods (e.g., `eat()`, `sleep()`) in an abstract base class.\n",
    "from abc import ABC, abstractmethod\n",
    "\n",
    "class BankAccount(ABC):\n",
    "    def __init__(self, account_number, initial_balance):\n",
    "        self.account_number = account_number\n",
    "        self.balance = initial_balance\n",
    "\n",
    "    @abstractmethod\n",
    "    def deposit(self, amount):\n",
    "        pass\n",
    "\n",
    "    @abstractmethod\n",
    "    def withdraw(self, amount):\n",
    "        pass\n",
    "\n",
    "class SavingsAccount(BankAccount):\n",
    "    def deposit(self, amount):\n",
    "        self.balance += amount\n",
    "\n",
    "    def withdraw(self, amount):\n",
    "        if amount <= self.balance:\n",
    "            self.balance -= amount\n",
    "        else:\n",
    "            print(\"Insufficient funds.\")\n",
    "\n",
    "class CheckingAccount(BankAccount):\n",
    "    def deposit(self, amount):\n",
    "        self.balance += amount\n",
    "\n",
    "    def withdraw(self, amount):\n",
    "        if amount <= self.balance:\n",
    "            self.balance -= amount\n",
    "        else:\n",
    "            print(\"Insufficient funds.\")"
   ]
  },
  {
   "cell_type": "code",
   "execution_count": 33,
   "id": "efdb35b7-aefa-4110-8aa1-696caea7b081",
   "metadata": {},
   "outputs": [],
   "source": [
    "from abc import ABC, abstractmethod\n",
    "\n",
    "class Animal(ABC):\n",
    "    @abstractmethod\n",
    "    def eat(self):\n",
    "        pass\n",
    "\n",
    "    @abstractmethod\n",
    "    def sleep(self):\n",
    "        pass\n",
    "\n",
    "class Dog(Animal):\n",
    "    def eat(self):\n",
    "        return \"Dog is eating.\"\n",
    "\n",
    "    def sleep(self):\n",
    "        return \"Dog is sleeping.\"\n",
    "\n",
    "class Cat(Animal):\n",
    "    def eat(self):\n",
    "        return \"Cat is eating.\"\n",
    "\n",
    "    def sleep(self):\n",
    "        return \"Cat is sleeping.\"\n"
   ]
  },
  {
   "cell_type": "code",
   "execution_count": 34,
   "id": "83fa0f79-4f08-4e63-b0aa-727534db6c8c",
   "metadata": {},
   "outputs": [
    {
     "data": {
      "text/plain": [
       "'Encapsulation plays a significant role in achieving abstraction. Encapsulation is the practice of hiding the internal details of a class and providing controlled access to its attributes and methods.\\nIt ensures that the implementation details are hidden, making it easier to work with the abstract, high-level behavior of objects. For example, in the bank account class, the balance is encapsulated as \\na private attribute, and access is provided through methods like deposit() and withdraw().'"
      ]
     },
     "execution_count": 34,
     "metadata": {},
     "output_type": "execute_result"
    }
   ],
   "source": [
    "#9. Explain the significance of encapsulation in achieving abstraction. Provide examples.\n",
    "\"\"\"Encapsulation plays a significant role in achieving abstraction. Encapsulation is the practice of hiding the internal details of a class and providing controlled access to its attributes and methods.\n",
    "It ensures that the implementation details are hidden, making it easier to work with the abstract, high-level behavior of objects. For example, in the bank account class, the balance is encapsulated as \n",
    "a private attribute, and access is provided through methods like deposit() and withdraw().\"\"\""
   ]
  },
  {
   "cell_type": "code",
   "execution_count": 35,
   "id": "5abce304-9c3b-45d8-8557-aa6fc6a900de",
   "metadata": {},
   "outputs": [
    {
     "data": {
      "text/plain": [
       "'Abstract methods in Python serve to enforce abstraction. They are methods defined in an abstract class with the @abstractmethod decorator, but they have no implementation in the abstract class itself. \\nConcrete subclasses that inherit from the abstract class must provide specific implementations for these abstract methods, ensuring that they adhere to the expected behavior.'"
      ]
     },
     "execution_count": 35,
     "metadata": {},
     "output_type": "execute_result"
    }
   ],
   "source": [
    "#10. What is the purpose of abstract methods, and how do they enforce abstraction in Python classes?\n",
    "\"\"\"Abstract methods in Python serve to enforce abstraction. They are methods defined in an abstract class with the @abstractmethod decorator, but they have no implementation in the abstract class itself. \n",
    "Concrete subclasses that inherit from the abstract class must provide specific implementations for these abstract methods, ensuring that they adhere to the expected behavior.\"\"\""
   ]
  },
  {
   "cell_type": "code",
   "execution_count": 36,
   "id": "a4298223-b33d-44b7-bf40-249983360b15",
   "metadata": {},
   "outputs": [],
   "source": [
    "#11. Create a Python class for a vehicle system and demonstrate abstraction by defining common methods (e.g., `start()`, `stop()`) in an abstract base class.\n",
    "from abc import ABC, abstractmethod\n",
    "\n",
    "class Vehicle(ABC):\n",
    "    @abstractmethod\n",
    "    def start(self):\n",
    "        pass\n",
    "\n",
    "    @abstractmethod\n",
    "    def stop(self):\n",
    "        pass\n",
    "\n",
    "class Car(Vehicle):\n",
    "    def start(self):\n",
    "        return \"Car engine started.\"\n",
    "\n",
    "    def stop(self):\n",
    "        return \"Car engine stopped.\"\n",
    "\n",
    "class Bicycle(Vehicle):\n",
    "    def start(self):\n",
    "        return \"Pedaling the bicycle.\"\n",
    "\n",
    "    def stop(self):\n",
    "        return \"Bicycle stopped.\"\n",
    "\n",
    "class Boat(Vehicle):\n",
    "    def start(self):\n",
    "        return \"Boat engine started.\"\n",
    "\n",
    "    def stop(self):\n",
    "        return \"Boat engine stopped.\""
   ]
  },
  {
   "cell_type": "code",
   "execution_count": 37,
   "id": "adbb3679-dd45-4397-b6cd-2f8c9aca2c1e",
   "metadata": {},
   "outputs": [
    {
     "data": {
      "text/plain": [
       "'Abstract properties in Python can be used in abstract classes to define properties (attributes) that must be implemented by concrete subclasses. \\nAbstract properties are declared using the @property decorator and provide a contract for the presence and behavior of attributes.'"
      ]
     },
     "execution_count": 37,
     "metadata": {},
     "output_type": "execute_result"
    }
   ],
   "source": [
    "#12. Describe the use of abstract properties in Python and how they can be employed in abstract classes.\n",
    "\"\"\"Abstract properties in Python can be used in abstract classes to define properties (attributes) that must be implemented by concrete subclasses. \n",
    "Abstract properties are declared using the @property decorator and provide a contract for the presence and behavior of attributes.\"\"\""
   ]
  },
  {
   "cell_type": "code",
   "execution_count": 38,
   "id": "a7f02529-a6d9-48ae-b141-905338d518a7",
   "metadata": {},
   "outputs": [],
   "source": [
    "#13. Create a Python class hierarchy for employees in a company (e.g., manager, developer, designer) and implement abstraction by defining a common `get_salary()` method.\n",
    "from abc import ABC, abstractmethod\n",
    "\n",
    "class Employee(ABC):\n",
    "    def __init__(self, name):\n",
    "        self.name = name\n",
    "\n",
    "    @abstractmethod\n",
    "    def get_salary(self):\n",
    "        pass\n",
    "\n",
    "class Manager(Employee):\n",
    "    def get_salary(self):\n",
    "        return \"Salary of a manager is calculated based on managerial responsibilities.\"\n",
    "\n",
    "class Developer(Employee):\n",
    "    def get_salary(self):\n",
    "        return \"Salary of a developer is calculated based on coding skills.\"\n",
    "\n",
    "class Designer(Employee):\n",
    "    def get_salary(self):\n",
    "        return \"Salary of a designer is calculated based on design skills.\""
   ]
  },
  {
   "cell_type": "code",
   "execution_count": 39,
   "id": "8c5f6515-ada0-4942-9165-89250ad6cca4",
   "metadata": {},
   "outputs": [
    {
     "data": {
      "text/plain": [
       "'Abstract classes cannot be instantiated on their own and serve as blueprints for other classes. They define abstract methods that must be implemented by concrete subclasses. \\nConcrete classes, on the other hand, are regular classes that can be instantiated directly and may include both abstract and concrete methods. Abstract classes enforce a contract, \\nwhile concrete classes are meant for instantiation.'"
      ]
     },
     "execution_count": 39,
     "metadata": {},
     "output_type": "execute_result"
    }
   ],
   "source": [
    "#14. Discuss the differences between abstract classes and concrete classes in Python, including their instantiation.\n",
    "\"\"\"Abstract classes cannot be instantiated on their own and serve as blueprints for other classes. They define abstract methods that must be implemented by concrete subclasses. \n",
    "Concrete classes, on the other hand, are regular classes that can be instantiated directly and may include both abstract and concrete methods. Abstract classes enforce a contract, \n",
    "while concrete classes are meant for instantiation.\"\"\""
   ]
  },
  {
   "cell_type": "code",
   "execution_count": 40,
   "id": "01b5cdf5-5e1f-452f-9488-4938572f1e04",
   "metadata": {},
   "outputs": [
    {
     "data": {
      "text/plain": [
       "\"Abstract data types (ADTs) are high-level data structures that provide a clear interface for interacting with data while hiding the internal details of the data's representation and manipulation. \\nThey play a role in achieving abstraction by focusing on what operations can be performed on data rather than how those operations are implemented.\\nExamples of ADTs in Python include lists, sets, and dictionaries.\""
      ]
     },
     "execution_count": 40,
     "metadata": {},
     "output_type": "execute_result"
    }
   ],
   "source": [
    "# 15. Explain the concept of abstract data types (ADTs) and their role in achieving abstraction in Python.\n",
    "\"\"\"Abstract data types (ADTs) are high-level data structures that provide a clear interface for interacting with data while hiding the internal details of the data's representation and manipulation. \n",
    "They play a role in achieving abstraction by focusing on what operations can be performed on data rather than how those operations are implemented.\n",
    "Examples of ADTs in Python include lists, sets, and dictionaries.\"\"\""
   ]
  },
  {
   "cell_type": "code",
   "execution_count": 41,
   "id": "79bf41a6-47d2-461b-a190-00d600e567ef",
   "metadata": {},
   "outputs": [],
   "source": [
    "#16. Create a Python class for a computer system, demonstrating abstraction by defining common methods (e.g., `power_on()`, `shutdown()`) in an abstract base class.\n",
    "from abc import ABC, abstractmethod\n",
    "\n",
    "class ComputerSystem(ABC):\n",
    "    @abstractmethod\n",
    "    def power_on(self):\n",
    "        pass\n",
    "\n",
    "    @abstractmethod\n",
    "    def shutdown(self):\n",
    "        pass\n",
    "\n",
    "class DesktopComputer(ComputerSystem):\n",
    "    def power_on(self):\n",
    "        return \"Desktop computer powered on.\"\n",
    "\n",
    "    def shutdown(self):\n",
    "        return \"Desktop computer shutdown.\"\n",
    "\n",
    "class LaptopComputer(ComputerSystem):\n",
    "    def power_on(self):\n",
    "        return \"Laptop computer powered on.\"\n",
    "\n",
    "    def shutdown(self):\n",
    "        return \"Laptop computer shutdown.\"\n",
    "\n",
    "class Server(ComputerSystem):\n",
    "    def power_on(self):\n",
    "        return \"Server powered on.\"\n",
    "\n",
    "    def shutdown(self):\n",
    "        return \"Server shutdown.\"\n",
    "\n"
   ]
  },
  {
   "cell_type": "code",
   "execution_count": 42,
   "id": "ca767b71-4654-476d-90ce-d4ef1888f14f",
   "metadata": {},
   "outputs": [
    {
     "data": {
      "text/plain": [
       "'The benefits of using abstraction in large-scale software development projects include:\\nSimplification: Abstraction simplifies complex systems by focusing on high-level behavior, making it easier to understand and manage large codebases.\\n\\nModularity: Abstraction encourages modular design, allowing teams to work on specific components independently, leading to better code organization and maintenance.\\n\\nReusability: Abstract classes and methods promote reusability, reducing code duplication and enhancing productivity.\\n\\nConsistency: Abstraction enforces a contract for methods and properties, ensuring consistency and adherence to a defined structure across the codebase.\\n\\nScalability: Abstraction facilitates the addition of new features or components without affecting existing code, making projects more scalable.\\n\\nCollaboration: Abstraction provides clear interfaces and contracts, making it easier for different teams or developers to collaborate on a project.\\n\\nMaintenance: Abstraction simplifies maintenance by isolating changes to specific components, reducing the risk of introducing bugs in unrelated parts of the code.'"
      ]
     },
     "execution_count": 42,
     "metadata": {},
     "output_type": "execute_result"
    }
   ],
   "source": [
    "#17. Discuss the benefits of using abstraction in large-scale software development projects.\n",
    "\"\"\"The benefits of using abstraction in large-scale software development projects include:\n",
    "Simplification: Abstraction simplifies complex systems by focusing on high-level behavior, making it easier to understand and manage large codebases.\n",
    "\n",
    "Modularity: Abstraction encourages modular design, allowing teams to work on specific components independently, leading to better code organization and maintenance.\n",
    "\n",
    "Reusability: Abstract classes and methods promote reusability, reducing code duplication and enhancing productivity.\n",
    "\n",
    "Consistency: Abstraction enforces a contract for methods and properties, ensuring consistency and adherence to a defined structure across the codebase.\n",
    "\n",
    "Scalability: Abstraction facilitates the addition of new features or components without affecting existing code, making projects more scalable.\n",
    "\n",
    "Collaboration: Abstraction provides clear interfaces and contracts, making it easier for different teams or developers to collaborate on a project.\n",
    "\n",
    "Maintenance: Abstraction simplifies maintenance by isolating changes to specific components, reducing the risk of introducing bugs in unrelated parts of the code.\"\"\""
   ]
  },
  {
   "cell_type": "code",
   "execution_count": 43,
   "id": "3b502cda-4fc0-4ce9-af59-d323a36a2a17",
   "metadata": {},
   "outputs": [
    {
     "data": {
      "text/plain": [
       "'Abstraction enhances code reusability and modularity in Python programs by:\\nProviding a blueprint: Abstract classes define a common structure for related classes, promoting code reusability.\\n\\nHiding implementation details: Abstraction hides the internal complexities of classes, making it easier to work with high-level behavior.\\n\\nPromoting a consistent interface: Abstract methods enforce a contract, ensuring that concrete subclasses adhere to a specific interface, leading to modularity and code consistency.\\n\\nEncouraging separation of concerns: Abstraction encourages separating the high-level behavior from the low-level implementation, promoting modularity and maintainability.'"
      ]
     },
     "execution_count": 43,
     "metadata": {},
     "output_type": "execute_result"
    }
   ],
   "source": [
    "# 18. Explain how abstraction enhances code reusability and modularity in Python programs.\n",
    "\"\"\"Abstraction enhances code reusability and modularity in Python programs by:\n",
    "Providing a blueprint: Abstract classes define a common structure for related classes, promoting code reusability.\n",
    "\n",
    "Hiding implementation details: Abstraction hides the internal complexities of classes, making it easier to work with high-level behavior.\n",
    "\n",
    "Promoting a consistent interface: Abstract methods enforce a contract, ensuring that concrete subclasses adhere to a specific interface, leading to modularity and code consistency.\n",
    "\n",
    "Encouraging separation of concerns: Abstraction encourages separating the high-level behavior from the low-level implementation, promoting modularity and maintainability.\"\"\""
   ]
  },
  {
   "cell_type": "code",
   "execution_count": 44,
   "id": "19c77918-8039-4a70-b7cf-c0895c413367",
   "metadata": {},
   "outputs": [],
   "source": [
    "#19. Create a Python class for a library system, implementing abstraction by defining common methods (e.g., `add_book()`, `borrow_book()`) in an abstract base class.\n",
    "from abc import ABC, abstractmethod\n",
    "\n",
    "class LibrarySystem(ABC):\n",
    "    @abstractmethod\n",
    "    def add_book(self, book):\n",
    "        pass\n",
    "\n",
    "    @abstractmethod\n",
    "    def borrow_book(self, book, user):\n",
    "        pass\n",
    "\n",
    "class PublicLibrary(LibrarySystem):\n",
    "    def __init__(self):\n",
    "        self.books = []\n",
    "\n",
    "    def add_book(self, book):\n",
    "        self.books.append(book)\n",
    "        return f\"Added {book} to the library.\"\n",
    "\n",
    "    def borrow_book(self, book, user):\n",
    "        if book in self.books:\n",
    "            self.books.remove(book)\n",
    "            return f\"{user} borrowed {book}.\"\n",
    "        else:\n",
    "            return f\"{book} is not available for borrowing.\"\n",
    "\n",
    "class UniversityLibrary(LibrarySystem):\n",
    "    def __init__(self):\n",
    "        self.books = []\n",
    "\n",
    "    def add_book(self, book):\n",
    "        self.books.append(book)\n",
    "        return f\"Added {book} to the university library.\"\n",
    "\n",
    "    def borrow_book(self, book, user):\n",
    "        if book in self.books:\n",
    "            self.books.remove(book)\n",
    "            return f\"{user} borrowed {book} from the university library.\"\n",
    "        else:\n",
    "            return f\"{book} is not available for borrowing in the university library.\""
   ]
  },
  {
   "cell_type": "code",
   "execution_count": 45,
   "id": "32b64d66-da90-4d0a-93b2-26da06e47bba",
   "metadata": {},
   "outputs": [
    {
     "data": {
      "text/plain": [
       "\"Method abstraction in Python is a concept that's closely related to polymorphism. Method abstraction involves defining methods in abstract base classes without providing specific implementations. \\nInstead, the method names and required parameters are declared, but the actual code is left to concrete subclasses to implement. This abstraction enforces a contract for the method names and behaviors, \\nensuring that all subclasses that inherit from the abstract class provide specific implementations for these methods.\\nMethod abstraction is essential in achieving polymorphism because it allows multiple classes to share the same method name but provide different behaviors, creating a polymorphic interface that can be\\nused interchangeably.\\n\\nIn Python, method abstraction is often used with the @abstractmethod decorator from the abc module, which marks a method as abstract and enforces that concrete subclasses must implement it. \\nThis ensures that the same method name is used across different classes while allowing custom behavior for each class, achieving polymorphism.\""
      ]
     },
     "execution_count": 45,
     "metadata": {},
     "output_type": "execute_result"
    }
   ],
   "source": [
    "# 20. Describe the concept of method abstraction in Python and how it relates to polymorphism.\n",
    "\"\"\"Method abstraction in Python is a concept that's closely related to polymorphism. Method abstraction involves defining methods in abstract base classes without providing specific implementations. \n",
    "Instead, the method names and required parameters are declared, but the actual code is left to concrete subclasses to implement. This abstraction enforces a contract for the method names and behaviors, \n",
    "ensuring that all subclasses that inherit from the abstract class provide specific implementations for these methods.\n",
    "Method abstraction is essential in achieving polymorphism because it allows multiple classes to share the same method name but provide different behaviors, creating a polymorphic interface that can be\n",
    "used interchangeably.\n",
    "\n",
    "In Python, method abstraction is often used with the @abstractmethod decorator from the abc module, which marks a method as abstract and enforces that concrete subclasses must implement it. \n",
    "This ensures that the same method name is used across different classes while allowing custom behavior for each class, achieving polymorphism.\"\"\""
   ]
  },
  {
   "cell_type": "markdown",
   "id": "7c276ec1-d6f2-45d4-ae3b-7c00987d185a",
   "metadata": {},
   "source": [
    "Composition"
   ]
  },
  {
   "cell_type": "code",
   "execution_count": 46,
   "id": "fdca12c1-74ca-441f-b2b5-2e926ab81031",
   "metadata": {},
   "outputs": [
    {
     "data": {
      "text/plain": [
       "'Composition in Python is a design principle used to build complex objects by combining simpler objects or components. It involves creating relationships between objects where one object is \\ncomposed of or contains another object. Composition allows for the creation of more flexible and modular systems by breaking down complex functionality into smaller, reusable components.'"
      ]
     },
     "execution_count": 46,
     "metadata": {},
     "output_type": "execute_result"
    }
   ],
   "source": [
    "#1. Explain the concept of composition in Python and how it is used to build complex objects from simpler ones.\n",
    "\"\"\"Composition in Python is a design principle used to build complex objects by combining simpler objects or components. It involves creating relationships between objects where one object is \n",
    "composed of or contains another object. Composition allows for the creation of more flexible and modular systems by breaking down complex functionality into smaller, reusable components.\"\"\""
   ]
  },
  {
   "cell_type": "code",
   "execution_count": 47,
   "id": "58006577-8216-421b-81f0-66d86ee46648",
   "metadata": {},
   "outputs": [
    {
     "data": {
      "text/plain": [
       "'Composition and inheritance are two different ways to achieve code reuse in object-oriented programming:\\n\\nComposition: In composition, objects are combined by including instances of other classes as attributes within a class. This approach is based on the \"has-a\" relationship, where an object has \\n\\nanother object as a part of its structure. Composition promotes flexibility and modular design, as it allows objects to be constructed from various components.\\n\\nInheritance: Inheritance involves creating a new class that inherits properties and methods from an existing class. It establishes an \"is-a\" relationship between classes, where a subclass is a \\n\\nspecialized version of its superclass. Inheritance promotes code reuse through hierarchy but can lead to tight coupling and rigid class structures.'"
      ]
     },
     "execution_count": 47,
     "metadata": {},
     "output_type": "execute_result"
    }
   ],
   "source": [
    "#2. Describe the difference between composition and inheritance in object-oriented programming.\n",
    "\"\"\"Composition and inheritance are two different ways to achieve code reuse in object-oriented programming:\n",
    "\n",
    "Composition: In composition, objects are combined by including instances of other classes as attributes within a class. This approach is based on the \"has-a\" relationship, where an object has \n",
    "\n",
    "another object as a part of its structure. Composition promotes flexibility and modular design, as it allows objects to be constructed from various components.\n",
    "\n",
    "Inheritance: Inheritance involves creating a new class that inherits properties and methods from an existing class. It establishes an \"is-a\" relationship between classes, where a subclass is a \n",
    "\n",
    "specialized version of its superclass. Inheritance promotes code reuse through hierarchy but can lead to tight coupling and rigid class structures.\"\"\"\n"
   ]
  },
  {
   "cell_type": "code",
   "execution_count": 48,
   "id": "5d92b760-1188-4f1d-a8f4-277156cad199",
   "metadata": {},
   "outputs": [],
   "source": [
    "#3. Create a Python class called `Author` with attributes for name and birthdate. Then, create a `Book` class that contains an instance of `Author` as a composition. \n",
    "#Provide an example of creating a `Book` object.\n",
    "class Author:\n",
    "    def __init__(self, name, birthdate):\n",
    "        self.name = name\n",
    "        self.birthdate = birthdate\n",
    "\n",
    "class Book:\n",
    "    def __init__(self, title, author):\n",
    "        self.title = title\n",
    "        self.author = author\n",
    "\n",
    "# Creating a Book object with an Author as a composition\n",
    "author1 = Author(\"J.K. Rowling\", \"July 31, 1965\")\n",
    "book1 = Book(\"Harry Potter and the Philosopher's Stone\", author1)"
   ]
  },
  {
   "cell_type": "code",
   "execution_count": 49,
   "id": "250439e1-23a7-47d4-9bcf-d8690de7ac40",
   "metadata": {},
   "outputs": [
    {
     "data": {
      "text/plain": [
       "'The benefits of using composition over inheritance in Python include:\\n\\nFlexibility: Composition allows for dynamic construction of objects from various components, promoting flexibility in design.\\n\\nModularity: Objects are composed of smaller, reusable components, making the code more modular and easier to manage.\\n\\nReduced Coupling: Composition reduces tight coupling between classes, making it easier to change or replace components without affecting the entire system.\\n\\nReusability: Composed components can be reused in different contexts, improving code reusability.\\n\\nAvoiding Inheritance Pitfalls: Composition avoids some of the pitfalls associated with deep class hierarchies and the fragile base class problem often seen in inheritance-based designs.'"
      ]
     },
     "execution_count": 49,
     "metadata": {},
     "output_type": "execute_result"
    }
   ],
   "source": [
    "#4. Discuss the benefits of using composition over inheritance in Python, especially in terms of code flexibility and reusability.\n",
    "\"\"\"The benefits of using composition over inheritance in Python include:\n",
    "\n",
    "Flexibility: Composition allows for dynamic construction of objects from various components, promoting flexibility in design.\n",
    "\n",
    "Modularity: Objects are composed of smaller, reusable components, making the code more modular and easier to manage.\n",
    "\n",
    "Reduced Coupling: Composition reduces tight coupling between classes, making it easier to change or replace components without affecting the entire system.\n",
    "\n",
    "Reusability: Composed components can be reused in different contexts, improving code reusability.\n",
    "\n",
    "Avoiding Inheritance Pitfalls: Composition avoids some of the pitfalls associated with deep class hierarchies and the fragile base class problem often seen in inheritance-based designs.\"\"\"\n"
   ]
  },
  {
   "cell_type": "code",
   "execution_count": 50,
   "id": "edf3d45c-3bc8-45ee-8e10-14b102e8df8d",
   "metadata": {},
   "outputs": [
    {
     "name": "stdout",
     "output_type": "stream",
     "text": [
      "Car is running. Engine started.\n"
     ]
    }
   ],
   "source": [
    "#5. How can you implement composition in Python classes? Provide examples of using composition to create complex objects.\n",
    "\"\"\"Composition in Python is implemented by including instances of other classes as attributes within a class. This creates a \"has-a\" relationship between the containing class and the component class. \"\"\"\n",
    "class Engine:\n",
    "    def start(self):\n",
    "        return \"Engine started.\"\n",
    "\n",
    "class Car:\n",
    "    def __init__(self):\n",
    "        self.engine = Engine()\n",
    "\n",
    "    def start(self):\n",
    "        return f\"Car is running. {self.engine.start()}\"\n",
    "\n",
    "my_car = Car()\n",
    "print(my_car.start())"
   ]
  },
  {
   "cell_type": "code",
   "execution_count": 51,
   "id": "956238c4-b562-4649-8768-10ed6dc413d4",
   "metadata": {},
   "outputs": [],
   "source": [
    "#6. Create a Python class hierarchy for a music player system, using composition to represent playlists and songs.\n",
    "class Song:\n",
    "    def __init__(self, title, artist):\n",
    "        self.title = title\n",
    "        self.artist = artist\n",
    "\n",
    "class Playlist:\n",
    "    def __init__(self, name):\n",
    "        self.name = name\n",
    "        self.songs = []\n",
    "\n",
    "    def add_song(self, song):\n",
    "        self.songs.append(song)\n",
    "\n",
    "class MusicPlayer:\n",
    "    def __init__(self):\n",
    "        self.playlists = []\n",
    "\n",
    "    def create_playlist(self, name):\n",
    "        playlist = Playlist(name)\n",
    "        self.playlists.append(playlist)\n",
    "\n",
    "    def add_song_to_playlist(self, playlist, song):\n",
    "        for p in self.playlists:\n",
    "            if p.name == playlist:\n",
    "                p.add_song(song)\n",
    "                break"
   ]
  },
  {
   "cell_type": "code",
   "execution_count": 52,
   "id": "b3a503d7-46aa-4aa7-bb10-e2b27e1059e5",
   "metadata": {},
   "outputs": [
    {
     "data": {
      "text/plain": [
       "'\"Has-a\" relationships in composition refer to how one object contains or is composed of other objects. This concept helps design software systems by allowing you to model real-world \\n\\nrelationships and dependencies more accurately. It leads to more modular, maintainable, and flexible code by breaking down complex objects into smaller, reusable components.'"
      ]
     },
     "execution_count": 52,
     "metadata": {},
     "output_type": "execute_result"
    }
   ],
   "source": [
    "#7. Explain the concept of \"has-a\" relationships in composition and how it helps design software systems.\n",
    "\"\"\"\"Has-a\" relationships in composition refer to how one object contains or is composed of other objects. This concept helps design software systems by allowing you to model real-world \n",
    "\n",
    "relationships and dependencies more accurately. It leads to more modular, maintainable, and flexible code by breaking down complex objects into smaller, reusable components.\"\"\""
   ]
  },
  {
   "cell_type": "code",
   "execution_count": 53,
   "id": "3d7a78d8-8e08-464c-ab25-a363f18799a4",
   "metadata": {},
   "outputs": [],
   "source": [
    "#8. Create a Python class for a computer system, using composition to represent components like CPU, RAM, and storage devices.\n",
    "class CPU:\n",
    "    def __init__(self, model, speed):\n",
    "        self.model = model\n",
    "        self.speed = speed\n",
    "\n",
    "class RAM:\n",
    "    def __init__(self, capacity):\n",
    "        self.capacity = capacity\n",
    "\n",
    "class Storage:\n",
    "    def __init__(self, size):\n",
    "        self.size = size\n",
    "\n",
    "class ComputerSystem:\n",
    "    def __init__(self, cpu, ram, storage):\n",
    "        self.cpu = cpu\n",
    "        self.ram = ram\n",
    "        self.storage = storage"
   ]
  },
  {
   "cell_type": "code",
   "execution_count": 54,
   "id": "800609a6-93f3-4293-85c4-963459fc3434",
   "metadata": {},
   "outputs": [
    {
     "data": {
      "text/plain": [
       "'Delegation in composition is the practice of forwarding or delegating responsibilities to composed objects. It simplifies the design of complex systems by breaking down tasks and\\n\\nresponsibilities into smaller, more specialized components. Delegation allows you to leverage the capabilities of individual components without adding unnecessary complexity to the main object.'"
      ]
     },
     "execution_count": 54,
     "metadata": {},
     "output_type": "execute_result"
    }
   ],
   "source": [
    "#9. Describe the concept of \"delegation\" in composition and how it simplifies the design of complex systems.\n",
    "\"\"\"Delegation in composition is the practice of forwarding or delegating responsibilities to composed objects. It simplifies the design of complex systems by breaking down tasks and\n",
    "\n",
    "responsibilities into smaller, more specialized components. Delegation allows you to leverage the capabilities of individual components without adding unnecessary complexity to the main object.\"\"\""
   ]
  },
  {
   "cell_type": "code",
   "execution_count": 55,
   "id": "27e2b995-d098-4f03-90c9-5451021a5530",
   "metadata": {},
   "outputs": [],
   "source": [
    "# 10. Create a Python class for a car, using composition to represent components like the engine, wheels, and transmission.\n",
    "class Engine:\n",
    "    def start(self):\n",
    "        return \"Engine started.\"\n",
    "\n",
    "    def stop(self):\n",
    "        return \"Engine stopped.\"\n",
    "\n",
    "class Wheels:\n",
    "    def rotate(self):\n",
    "        return \"Wheels are rotating.\"\n",
    "\n",
    "class Transmission:\n",
    "    def shift_gear(self, gear):\n",
    "        return f\"Gear shifted to {gear}.\"\n",
    "\n",
    "class Car:\n",
    "    def __init__(self):\n",
    "        self.engine = Engine()\n",
    "        self.wheels = Wheels()\n",
    "        self.transmission = Transmission()"
   ]
  },
  {
   "cell_type": "code",
   "execution_count": 56,
   "id": "ae0e7c4b-1225-4684-8b82-3d74f2877a37",
   "metadata": {},
   "outputs": [
    {
     "data": {
      "text/plain": [
       "'To encapsulate and hide the details of composed objects in Python classes, you can make the attributes that represent the composed objects private (by using names with a leading underscore) \\n\\nand provide methods to interact with those objects. This way, the internal structure of the composed object remains hidden, and you can maintain abstraction. For example, you can use methods \\n\\nlike start_engine() and shift_gear() in the Car class to access the Engine and Transmission objects.'"
      ]
     },
     "execution_count": 56,
     "metadata": {},
     "output_type": "execute_result"
    }
   ],
   "source": [
    "#11. How can you encapsulate and hide the details of composed objects in Python classes to maintain abstraction?\n",
    "\"\"\"To encapsulate and hide the details of composed objects in Python classes, you can make the attributes that represent the composed objects private (by using names with a leading underscore) \n",
    "\n",
    "and provide methods to interact with those objects. This way, the internal structure of the composed object remains hidden, and you can maintain abstraction. For example, you can use methods \n",
    "\n",
    "like start_engine() and shift_gear() in the Car class to access the Engine and Transmission objects.\"\"\""
   ]
  },
  {
   "cell_type": "code",
   "execution_count": 57,
   "id": "ac6c357b-2663-4fd5-a6e8-65e533f1c29f",
   "metadata": {},
   "outputs": [],
   "source": [
    "# 12. Create a Python class for a university course, using composition to represent students, instructors, and course materials.\n",
    "class Student:\n",
    "    def __init__(self, name, student_id):\n",
    "        self.name = name\n",
    "        self.student_id = student_id\n",
    "\n",
    "class Instructor:\n",
    "    def __init__(self, name, employee_id):\n",
    "        self.name = name\n",
    "        self.employee_id = employee_id\n",
    "\n",
    "class Course:\n",
    "    def __init__(self, course_name, instructor, students):\n",
    "        self.course_name = course_name\n",
    "        self.instructor = instructor\n",
    "        self.students = students\n",
    "\n"
   ]
  },
  {
   "cell_type": "code",
   "execution_count": 58,
   "id": "e8ad34fe-8ad6-4a77-93f3-90518defeccd",
   "metadata": {},
   "outputs": [
    {
     "data": {
      "text/plain": [
       "'Challenges and drawbacks of composition include:\\nComplexity: As the number of composed objects increases, the overall complexity of the system can become challenging to manage.\\n\\nTight Coupling: Poorly designed composition can lead to tight coupling between objects, making it difficult to change or replace components.\\n\\nIncreased Maintenance: More objects in a composition may require more maintenance effort, especially when changes are made to the system.\\n\\nDesign Decision: Deciding how to compose objects and managing dependencies requires careful design and may lead to suboptimal solutions if not done well.'"
      ]
     },
     "execution_count": 58,
     "metadata": {},
     "output_type": "execute_result"
    }
   ],
   "source": [
    "#13. Discuss the challenges and drawbacks of composition, such as increased complexity and potential for tight coupling between objects.\n",
    "\"\"\"Challenges and drawbacks of composition include:\n",
    "Complexity: As the number of composed objects increases, the overall complexity of the system can become challenging to manage.\n",
    "\n",
    "Tight Coupling: Poorly designed composition can lead to tight coupling between objects, making it difficult to change or replace components.\n",
    "\n",
    "Increased Maintenance: More objects in a composition may require more maintenance effort, especially when changes are made to the system.\n",
    "\n",
    "Design Decision: Deciding how to compose objects and managing dependencies requires careful design and may lead to suboptimal solutions if not done well.\"\"\"\n",
    "\n"
   ]
  },
  {
   "cell_type": "code",
   "execution_count": 59,
   "id": "288442ab-3803-49a4-8125-d7dfc3b7c464",
   "metadata": {},
   "outputs": [],
   "source": [
    "#14. Create a Python class hierarchy for a restaurant system, using composition to represent menus, dishes, and ingredients.\n",
    "class Ingredient:\n",
    "    def __init__(self, name, quantity):\n",
    "        self.name = name\n",
    "        self.quantity = quantity\n",
    "\n",
    "class Dish:\n",
    "    def __init__(self, name, ingredients):\n",
    "        self.name = name\n",
    "        self.ingredients = ingredients\n",
    "\n",
    "class Menu:\n",
    "    def __init__(self, name, dishes):\n",
    "        self.name = name\n",
    "        self.dishes = dishes\n",
    "\n",
    "class Restaurant:\n",
    "    def __init__(self, name, menus):\n",
    "        self.name = name\n",
    "        self.menus = menus"
   ]
  },
  {
   "cell_type": "code",
   "execution_count": 60,
   "id": "3135d108-0a13-42ee-87fc-f104a6a8c3fc",
   "metadata": {},
   "outputs": [
    {
     "data": {
      "text/plain": [
       "'Composition enhances code maintainability and modularity in Python programs by:\\n\\nPromoting modular design: Breaking down complex systems into smaller, reusable components.\\nEncouraging the encapsulation of responsibilities within individual objects.\\nSimplifying testing and debugging by isolating components for examination.\\nAllowing for flexible changes or replacements of components without affecting the entire system.'"
      ]
     },
     "execution_count": 60,
     "metadata": {},
     "output_type": "execute_result"
    }
   ],
   "source": [
    "#15. Explain how composition enhances code maintainability and modularity in Python programs.\n",
    "\"\"\"Composition enhances code maintainability and modularity in Python programs by:\n",
    "\n",
    "Promoting modular design: Breaking down complex systems into smaller, reusable components.\n",
    "Encouraging the encapsulation of responsibilities within individual objects.\n",
    "Simplifying testing and debugging by isolating components for examination.\n",
    "Allowing for flexible changes or replacements of components without affecting the entire system.\"\"\""
   ]
  },
  {
   "cell_type": "code",
   "execution_count": 61,
   "id": "a10ad46c-f290-4fc9-9272-2cd34ed1f727",
   "metadata": {},
   "outputs": [],
   "source": [
    "#16. Create a Python class for a computer game character, using composition to represent attributes like weapons, armor, and inventory.\n",
    "class Weapon:\n",
    "    def __init__(self, name, damage):\n",
    "        self.name = name\n",
    "        self.damage = damage\n",
    "\n",
    "class Armor:\n",
    "    def __init__(self, name, defense):\n",
    "        self.name = name\n",
    "        self.defense = defense\n",
    "\n",
    "class Inventory:\n",
    "    def __init__(self):\n",
    "        self.items = []\n",
    "\n",
    "    def add_item(self, item):\n",
    "        self.items.append(item)\n",
    "\n",
    "class GameCharacter:\n",
    "    def __init__(self, name):\n",
    "        self.name = name\n",
    "        self.weapon = None\n",
    "        self.armor = None\n",
    "        self.inventory = Inventory()"
   ]
  },
  {
   "cell_type": "code",
   "execution_count": 62,
   "id": "3dee7530-73d6-4e71-b186-cfb32d8ca887",
   "metadata": {},
   "outputs": [
    {
     "data": {
      "text/plain": [
       "'Aggregation in composition represents a \"whole-part\" relationship where one object (the whole) is composed of several other objects (the parts). The key difference from simple composition \\n\\nis that the parts can exist independently of the whole. In contrast, in simple composition, the parts typically have a strong association with the whole object and may not exist independently.'"
      ]
     },
     "execution_count": 62,
     "metadata": {},
     "output_type": "execute_result"
    }
   ],
   "source": [
    "#17. Describe the concept of \"aggregation\" in composition and how it differs from simple composition.\n",
    "\"\"\"Aggregation in composition represents a \"whole-part\" relationship where one object (the whole) is composed of several other objects (the parts). The key difference from simple composition \n",
    "\n",
    "is that the parts can exist independently of the whole. In contrast, in simple composition, the parts typically have a strong association with the whole object and may not exist independently.\"\"\""
   ]
  },
  {
   "cell_type": "code",
   "execution_count": 63,
   "id": "bcfca500-5bdb-4524-9dfb-4b69405ea016",
   "metadata": {},
   "outputs": [],
   "source": [
    "#18. Create a Python class for a house, using composition to represent rooms, furniture, and appliances.\n",
    "class Room:\n",
    "    def __init__(self, name, area):\n",
    "        self.name = name\n",
    "        self.area = area\n",
    "\n",
    "class Furniture:\n",
    "    def __init__(self, name):\n",
    "        self.name = name\n",
    "\n",
    "class Appliance:\n",
    "    def __init__(self, name):\n",
    "        self.name = name\n",
    "\n",
    "class House:\n",
    "    def __init__(self, rooms, furniture, appliances):\n",
    "        self.rooms = rooms\n",
    "        self.furniture = furniture\n",
    "        self.appliances = appliances"
   ]
  },
  {
   "cell_type": "code",
   "execution_count": 64,
   "id": "3cf59aef-c68e-4f71-93aa-5339ff801b8c",
   "metadata": {},
   "outputs": [
    {
     "data": {
      "text/plain": [
       "'Achieving flexibility in composed objects by allowing them to be replaced or modified dynamically at runtime can be accomplished by providing methods to update or replace the \\n\\ncomponents within the composed object. For example, you can have methods to change the current weapon of a game character or add new items to an inventory in a game.'"
      ]
     },
     "execution_count": 64,
     "metadata": {},
     "output_type": "execute_result"
    }
   ],
   "source": [
    "#19. How can you achieve flexibility in composed objects by allowing them to be replaced or modified dynamically at runtime?\n",
    "\"\"\"Achieving flexibility in composed objects by allowing them to be replaced or modified dynamically at runtime can be accomplished by providing methods to update or replace the \n",
    "\n",
    "components within the composed object. For example, you can have methods to change the current weapon of a game character or add new items to an inventory in a game.\"\"\""
   ]
  },
  {
   "cell_type": "code",
   "execution_count": null,
   "id": "0f2577fb-1fc8-46d0-8ae1-c03a697e1596",
   "metadata": {},
   "outputs": [],
   "source": [
    "#20. Create a Python class for a social media application, using composition to represent users, posts, and comments.\n",
    "class User:\n",
    "    def __init__(self, username):\n",
    "        self.username = username\n",
    "\n",
    "class Post:\n",
    "    def __init__(self, content, user):\n",
    "        self.content = content\n",
    "        self.user = user\n",
    "\n",
    "class Comment:\n",
    "    def __init__(self, text, user):\n",
    "        self.text = text\n",
    "        self.user = user\n",
    "\n",
    "class SocialMediaApp:\n",
    "    def __init__(self, users, posts, comments):\n",
    "        self.users = users\n",
    "        self.posts = posts\n",
    "        self.comments = comments\n"
   ]
  }
 ],
 "metadata": {
  "kernelspec": {
   "display_name": "Python 3 (ipykernel)",
   "language": "python",
   "name": "python3"
  },
  "language_info": {
   "codemirror_mode": {
    "name": "ipython",
    "version": 3
   },
   "file_extension": ".py",
   "mimetype": "text/x-python",
   "name": "python",
   "nbconvert_exporter": "python",
   "pygments_lexer": "ipython3",
   "version": "3.10.8"
  }
 },
 "nbformat": 4,
 "nbformat_minor": 5
}
