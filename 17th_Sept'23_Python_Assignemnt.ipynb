{
 "cells": [
  {
   "cell_type": "markdown",
   "id": "091e3128",
   "metadata": {},
   "source": [
    "# For Loop"
   ]
  },
  {
   "cell_type": "code",
   "execution_count": 16,
   "id": "338229d0",
   "metadata": {},
   "outputs": [
    {
     "name": "stdout",
     "output_type": "stream",
     "text": [
      "1\n",
      "2\n",
      "3\n",
      "4\n",
      "5\n",
      "6\n",
      "7\n",
      "8\n",
      "9\n",
      "10\n"
     ]
    }
   ],
   "source": [
    "#1. Write a Python program to print numbers from 1 to 10 using a for loop.\n",
    "n=10\n",
    "for i in range(1,n+1):\n",
    "    print(i)"
   ]
  },
  {
   "cell_type": "code",
   "execution_count": null,
   "id": "3e495c7c",
   "metadata": {},
   "outputs": [],
   "source": [
    "#2. Explain the difference between a for loop and a while loop in Python.\n",
    "\"\"\"A for loop is used when you know the number of iterations in advance and want to iterate over a sequence \n",
    "(e.g., a list or range) or an iterable (e.g., string characters).\n",
    "\n",
    "A while loop is used when you want to repeatedly execute a block of code as long as a specified condition is True, \n",
    "and you may not know the exact number of iterations in advance. The loop continues until the condition becomes False.\"\"\""
   ]
  },
  {
   "cell_type": "code",
   "execution_count": 3,
   "id": "34c08b4f",
   "metadata": {},
   "outputs": [
    {
     "name": "stdout",
     "output_type": "stream",
     "text": [
      "5050\n"
     ]
    }
   ],
   "source": [
    "#3.Write a Python program to calculate the sum of all numbers from 1 to 100 using a for loop.\n",
    "n=100\n",
    "sum_100 = 0\n",
    "for i in range(1,n+1):\n",
    "    sum_100 = sum_100+i\n",
    "print(sum_100)"
   ]
  },
  {
   "cell_type": "code",
   "execution_count": 23,
   "id": "e20d6b30",
   "metadata": {},
   "outputs": [
    {
     "name": "stdout",
     "output_type": "stream",
     "text": [
      "1\n",
      "2\n",
      "3\n",
      "4\n",
      "5\n"
     ]
    }
   ],
   "source": [
    "#4. How do you iterate through a list using a for loop in Python in short?\n",
    "\n",
    "my_list = [1, 2, 3, 4, 5]\n",
    "\n",
    "for item in my_list:\n",
    "    # Your code here\n",
    "    print(item)  # Example: Print each item in the list\n"
   ]
  },
  {
   "cell_type": "code",
   "execution_count": 5,
   "id": "4e64958f",
   "metadata": {},
   "outputs": [
    {
     "name": "stdout",
     "output_type": "stream",
     "text": [
      "362880\n"
     ]
    }
   ],
   "source": [
    "#5.Write a Python program to find the product of all elements in a list using a for loop.\n",
    "l = [1,2,3,4,5,6,7,8,9]\n",
    "prod = 1\n",
    "for i in l:\n",
    "    prod = prod*i\n",
    "print(prod)    "
   ]
  },
  {
   "cell_type": "code",
   "execution_count": 8,
   "id": "6aa7ff17",
   "metadata": {},
   "outputs": [
    {
     "name": "stdout",
     "output_type": "stream",
     "text": [
      "[2, 4, 6, 8, 10, 12, 14, 16, 18, 20]\n"
     ]
    }
   ],
   "source": [
    "#6. Create a Python program that prints all even numbers from 1 to 20 using a for loop.\n",
    "n=20\n",
    "even_list = []\n",
    "for i in range(1,n+1):\n",
    "    if i%2==0:\n",
    "        even_list.append(i)\n",
    "print(even_list)"
   ]
  },
  {
   "cell_type": "code",
   "execution_count": 12,
   "id": "903c9ef5",
   "metadata": {},
   "outputs": [
    {
     "name": "stdout",
     "output_type": "stream",
     "text": [
      "Enter a positive number for factorial calculation: -2\n",
      "1\n"
     ]
    }
   ],
   "source": [
    "#7.Write a Python program that calculates the factorial of a number using a for loop.\n",
    "n = int(input(\"Enter a positive number for factorial calculation: \"))\n",
    "facto = 1\n",
    "for i in range(1,n+1):\n",
    "    facto = facto*i\n",
    "print(facto)"
   ]
  },
  {
   "cell_type": "code",
   "execution_count": 24,
   "id": "7b07cd54",
   "metadata": {},
   "outputs": [
    {
     "name": "stdout",
     "output_type": "stream",
     "text": [
      "H\n",
      "e\n",
      "l\n",
      "l\n",
      "o\n",
      ",\n",
      " \n",
      "W\n",
      "o\n",
      "r\n",
      "l\n",
      "d\n",
      "!\n"
     ]
    }
   ],
   "source": [
    "#8.How can you iterate through the characters of a string using a for loop in Python?\n",
    "my_string = \"Hello, World!\"\n",
    "\n",
    "for char in my_string:\n",
    "    # Your code here\n",
    "    print(char)  # Example: Print each character in the string\n"
   ]
  },
  {
   "cell_type": "code",
   "execution_count": 16,
   "id": "44abbc0a",
   "metadata": {},
   "outputs": [
    {
     "name": "stdout",
     "output_type": "stream",
     "text": [
      "90\n"
     ]
    }
   ],
   "source": [
    "#9. Write a Python program to find the largest number in a list using a for loop.\n",
    "l = [1,2,3,4,5,6,-7,8,90]\n",
    "Largest = []\n",
    "for i in l:\n",
    "    if i > 0:\n",
    "        Largest = i\n",
    "print(Largest)\n",
    "    "
   ]
  },
  {
   "cell_type": "code",
   "execution_count": 1,
   "id": "2ebbccb8",
   "metadata": {},
   "outputs": [
    {
     "name": "stdout",
     "output_type": "stream",
     "text": [
      "Enter the value of n: 10\n",
      "Fibonacci sequence up to the 10 term: [0, 1, 1, 2, 3, 5, 8, 13, 21, 34]\n"
     ]
    }
   ],
   "source": [
    "#10. Create a Python program that prints the Fibonacci sequence up to a specified limit using a for loop.\n",
    "\n",
    "def fibonacci(n):\n",
    "    \n",
    "    # Initialize the first two terms of the Fibonacci sequence\n",
    "    a, b = 0, 1\n",
    "\n",
    "    # Create a list to store the Fibonacci sequence\n",
    "    fibonacci_sequence = []\n",
    "\n",
    "    # Use a for loop to generate the sequence up to the nth term\n",
    "    for _ in range(n):\n",
    "        # Append the current term (a) to the sequence\n",
    "        fibonacci_sequence.append(a)\n",
    "\n",
    "        # Calculate the next term (a + b) and update variables\n",
    "        a, b = b, a + b\n",
    "\n",
    "    return fibonacci_sequence\n",
    "\n",
    "# Input the value of n\n",
    "n = int(input(\"Enter the value of n: \"))\n",
    "\n",
    "# Call the function to generate the Fibonacci sequence up to the nth term\n",
    "fib_sequence = fibonacci(n)\n",
    "\n",
    "# Print the Fibonacci sequence\n",
    "print(\"Fibonacci sequence up to the\", n, \"term:\", fib_sequence)\n"
   ]
  },
  {
   "cell_type": "code",
   "execution_count": 2,
   "id": "60e358c8",
   "metadata": {},
   "outputs": [
    {
     "name": "stdout",
     "output_type": "stream",
     "text": [
      "Enter a string: Bachna ae hasino, lo mai aa gaya\n",
      "Number of vowels in the string: 14\n"
     ]
    }
   ],
   "source": [
    "#11. Write a Python program to count the number of vowels in a given string using a for loop.\n",
    "\n",
    "def count_vowels(input_string):\n",
    "    # Define a set of vowels\n",
    "    vowels = set(\"aeiouAEIOU\")\n",
    "\n",
    "    # Initialize a variable to count the vowels\n",
    "    vowel_count = 0\n",
    "\n",
    "    # Iterate through each character in the input string\n",
    "    for char in input_string:\n",
    "        # Check if the character is in the set of vowels\n",
    "        if char in vowels:\n",
    "            vowel_count += 1\n",
    "\n",
    "    return vowel_count\n",
    "\n",
    "# Input a string from the user\n",
    "input_string = input(\"Enter a string: \")\n",
    "\n",
    "# Call the function to count vowels in the string\n",
    "vowel_count = count_vowels(input_string)\n",
    "\n",
    "# Print the result\n",
    "print(\"Number of vowels in the string:\", vowel_count)\n"
   ]
  },
  {
   "cell_type": "code",
   "execution_count": 5,
   "id": "ae4b3690",
   "metadata": {},
   "outputs": [
    {
     "name": "stdout",
     "output_type": "stream",
     "text": [
      "Enter number for table:  10\n",
      "[10, 20, 30, 40, 50, 60, 70, 80, 90, 100]\n"
     ]
    }
   ],
   "source": [
    "#12. 12. Create a Python program that generates a multiplication table for a given number using a for loop.\n",
    "n =int(input(\"Enter number for table:  \"))\n",
    "table = []\n",
    "for i in range (1,11):\n",
    "    x = i*n\n",
    "    table.append(x)\n",
    "print(table)"
   ]
  },
  {
   "cell_type": "code",
   "execution_count": 19,
   "id": "ebfe5b11",
   "metadata": {},
   "outputs": [
    {
     "name": "stdout",
     "output_type": "stream",
     "text": [
      "Original List: [1, 2, 3, 4, 'Satish']\n",
      "Reversed List: ['Satish', 4, 3, 2, 1]\n"
     ]
    }
   ],
   "source": [
    "#13. Write a Python program to reverse a list using a for loop.\n",
    "\n",
    "def reverse_list(input_list):\n",
    "    # Initialize an empty list to store the reversed elements\n",
    "    reversed_list = []\n",
    "\n",
    "    # Iterate through the input_list in reverse order\n",
    "    for i in range(len(input_list) - 1, -1, -1):   #range(start, stop, step)\n",
    "        # Append each element to the reversed_list\n",
    "        reversed_list.append(input_list[i])\n",
    "\n",
    "    return reversed_list\n",
    "\n",
    "# Example list\n",
    "my_list = [1, 2, 3, 4, 'Satish']\n",
    "\n",
    "# Call the function to reverse the list\n",
    "reversed_result = reverse_list(my_list)\n",
    "\n",
    "# Print the reversed list\n",
    "print(\"Original List:\", my_list)\n",
    "print(\"Reversed List:\", reversed_result)\n"
   ]
  },
  {
   "cell_type": "code",
   "execution_count": 24,
   "id": "9a883dde",
   "metadata": {},
   "outputs": [
    {
     "name": "stdout",
     "output_type": "stream",
     "text": [
      "[2, 4, 6, 8]\n"
     ]
    }
   ],
   "source": [
    "#14. Write a Python program to find the common elements between two lists using a for loop.\n",
    "\n",
    "l1 =[1,2,3,4,5,6,7,8,9]\n",
    "l2 = [2,4,6,8,10,12]\n",
    "\n",
    "common = []\n",
    "\n",
    "for i in l1:\n",
    "    if i in l2:\n",
    "        common.append(i)\n",
    "print(common)"
   ]
  },
  {
   "cell_type": "code",
   "execution_count": 25,
   "id": "17eac4e0",
   "metadata": {},
   "outputs": [
    {
     "name": "stdout",
     "output_type": "stream",
     "text": [
      "Key: name, Value: Alice\n",
      "Key: age, Value: 30\n",
      "Key: city, Value: New York\n"
     ]
    }
   ],
   "source": [
    "#15.Explain how to use a for loop to iterate through the keys and values of a dictionary in Python.\n",
    "my_dict = {'name': 'Alice', 'age': 30, 'city': 'New York'}\n",
    "\n",
    "for key, value in my_dict.items():\n",
    "    # Your code here\n",
    "    print(f\"Key: {key}, Value: {value}\")\n"
   ]
  },
  {
   "cell_type": "code",
   "execution_count": 6,
   "id": "f87a8819",
   "metadata": {},
   "outputs": [
    {
     "name": "stdout",
     "output_type": "stream",
     "text": [
      "Enter the first number: 12\n",
      "Enter the second number: 3\n",
      "GCD of 12 and 3 is 3\n"
     ]
    }
   ],
   "source": [
    "#16. Write a Python program to find the GCD (Greatest Common Divisor) of two numbers using a for loop.\n",
    "\n",
    "def find_gcd(a, b):\n",
    "    # Ensure that a is greater than or equal to b\n",
    "    if a < b:\n",
    "        a, b = b, a\n",
    "\n",
    "    while b != 0:\n",
    "        remainder = a % b\n",
    "        a = b\n",
    "        b = remainder\n",
    "\n",
    "    return a\n",
    "\n",
    "# Input the two numbers from the user\n",
    "num1 = int(input(\"Enter the first number: \"))\n",
    "num2 = int(input(\"Enter the second number: \"))\n",
    "\n",
    "# Call the function to find the GCD\n",
    "gcd = find_gcd(num1, num2)\n",
    "\n",
    "# Print the GCD\n",
    "print(\"GCD of\", num1, \"and\", num2, \"is\", gcd)\n"
   ]
  },
  {
   "cell_type": "code",
   "execution_count": 43,
   "id": "3027e01f",
   "metadata": {},
   "outputs": [
    {
     "name": "stdout",
     "output_type": "stream",
     "text": [
      "Input a string to check for palindrome:Go hang a salami, I’m a lasagna hog\n",
      "gohangasalamiimalasagnahog\n",
      "The string is a palindrome\n"
     ]
    }
   ],
   "source": [
    "#17. Create a Python program that checks if a string is a palindrome using a for loop.\n",
    "check_pali = input ('Input a string to check for palindrome:')\n",
    "\n",
    "check_pali = check_pali.lower()\n",
    "\n",
    "test_str = ''.join(letter for letter in check_pali if letter.isalnum()) \"\"\"It removes all non-alphanumeric characters and \n",
    "spaces from the original string,leaving only letters and digits. The join() method is used to concatenate all the \n",
    "selected alphanumeric characters into a single string. ''.join(...) ensures that there are no spaces or \n",
    "separators between the characters.\"\"\"\n",
    "\n",
    "check_pali1 = test_str[::-1]\n",
    "\n",
    "print(check_pali1)\n",
    "\n",
    "if test_str == check_pali1:\n",
    "    \n",
    "    print('The string is a palindrome')\n",
    "else:\n",
    "    print('The string is not a palindrome')\n",
    "\n",
    "    "
   ]
  },
  {
   "cell_type": "code",
   "execution_count": 45,
   "id": "e10ddd24",
   "metadata": {},
   "outputs": [
    {
     "name": "stdout",
     "output_type": "stream",
     "text": [
      "[1, 2, 3, 4, 5, 6, 7, 8, 9]\n"
     ]
    }
   ],
   "source": [
    "#18. Write a Python program to remove duplicates from a list using a for loop.\n",
    "\n",
    "l = [1,2,3,4,5,6,7,8,9,1,2,3,4,5,6,7,8,9]\n",
    "\n",
    "l_unique = []\n",
    "\n",
    "for i in l:\n",
    "    if i not in l_unique:\n",
    "        l_unique.append(i)\n",
    "print(l_unique)        "
   ]
  },
  {
   "cell_type": "code",
   "execution_count": 48,
   "id": "6ce8f99e",
   "metadata": {},
   "outputs": [
    {
     "name": "stdout",
     "output_type": "stream",
     "text": [
      "Enter a sentence: Mai jatt yamla pagla diwana\n",
      "['Mai', 'jatt', 'yamla', 'pagla', 'diwana']\n",
      "Number words in the input sentence are:5\n"
     ]
    }
   ],
   "source": [
    "#19. Create a Python program that counts the number of words in a sentence using a for loop.\n",
    "sent = input('Enter a sentence: ')\n",
    "\n",
    "sent = sent.split()\n",
    "\n",
    "print(sent)\n",
    "\n",
    "count = 0\n",
    "\n",
    "for _ in sent:\n",
    "    count+=1\n",
    "    \n",
    "print(f\"Number words in the input sentence are: {count}\")"
   ]
  },
  {
   "cell_type": "code",
   "execution_count": 4,
   "id": "c003f5f4",
   "metadata": {},
   "outputs": [
    {
     "name": "stdout",
     "output_type": "stream",
     "text": [
      "The sum is: 625\n"
     ]
    }
   ],
   "source": [
    "#20. Write a Python program to find the sum of all odd numbers from 1 to 50 using a for loop.\n",
    "\n",
    "sum_odd = 0\n",
    "for i in range (1,51):\n",
    "    if i%2!=0:\n",
    "        sum_odd += i\n",
    "\n",
    "print(f\"The sum is: {sum_odd}\")"
   ]
  },
  {
   "cell_type": "code",
   "execution_count": 1,
   "id": "5e1a0e2a",
   "metadata": {},
   "outputs": [
    {
     "name": "stdout",
     "output_type": "stream",
     "text": [
      "Enter a year to check if its leap Year: 2000\n",
      "2000 is a leap year.\n"
     ]
    }
   ],
   "source": [
    "#21. Write a Python program that checks if a given year is a leap year using a for loop.\n",
    "\n",
    "year = int(input(\"Enter a year to check if its leap Year: \"))\n",
    "\n",
    "if (year % 4 == 0 and year % 100 != 0) or (year % 400 == 0):\n",
    "    print(year, \"is a leap year.\")\n",
    "else:\n",
    "    print(year, \"is not a leap year.\")"
   ]
  },
  {
   "cell_type": "code",
   "execution_count": 2,
   "id": "43344d3c",
   "metadata": {},
   "outputs": [
    {
     "name": "stdout",
     "output_type": "stream",
     "text": [
      "Enter a year: 2000\n",
      "2000 is a leap year.\n"
     ]
    }
   ],
   "source": [
    "#21. Write a Python program that checks if a given year is a leap year using a for loop.\n",
    "\n",
    "# Input a year from the user\n",
    "year = int(input(\"Enter a year: \"))\n",
    "\n",
    "# Initialize a flag to check if it's a leap year\n",
    "is_leap_year = False\n",
    "\n",
    "# Check if it's a leap year using a for loop\n",
    "for _ in range(4):\n",
    "    if year % 4 == 0:\n",
    "        is_leap_year = True\n",
    "        break\n",
    "    year += 1\n",
    "\n",
    "# Additional check for not divisible by 100, except when divisible by 400\n",
    "if year % 100 == 0 and year % 400 != 0:\n",
    "    is_leap_year = False\n",
    "\n",
    "# Print the result\n",
    "if is_leap_year:\n",
    "    print(year, \"is a leap year.\")\n",
    "else:\n",
    "    print(year, \"is not a leap year.\")\n"
   ]
  },
  {
   "cell_type": "code",
   "execution_count": 4,
   "id": "bfe64876",
   "metadata": {},
   "outputs": [
    {
     "name": "stdout",
     "output_type": "stream",
     "text": [
      "Enter a number: 4\n",
      "The square root of 4.0 is approximately: 2.0\n"
     ]
    }
   ],
   "source": [
    "#22. Create a Python program that calculates the square root of a number using a for loop.\n",
    "\n",
    "# Input a number from the user\n",
    "num = float(input(\"Enter a number: \"))\n",
    "\n",
    "# Initial guess for the square root (can be any reasonable value)\n",
    "sqrt_guess = num / 2\n",
    "\n",
    "# Define the tolerance level for the calculation\n",
    "tol = 1e-6  # You can adjust this value for accuracy\n",
    "\n",
    "# Use a for loop for iterative approximation\n",
    "for _ in range(100):  # Maximum 100 iterations (adjust as needed)\n",
    "    # Calculate a better approximation of the square root\n",
    "    sqrt_guess = 0.5 * (sqrt_guess + num / sqrt_guess)\n",
    "\n",
    "    # Check if the difference between consecutive approximations is within tolerance\n",
    "    if abs(sqrt_guess * sqrt_guess - num) < tol:\n",
    "        break\n",
    "\n",
    "# Print the approximate square root\n",
    "print(\"The square root of\", num, \"is approximately:\", sqrt_guess)"
   ]
  },
  {
   "cell_type": "code",
   "execution_count": 18,
   "id": "57c975c8",
   "metadata": {},
   "outputs": [
    {
     "name": "stdout",
     "output_type": "stream",
     "text": [
      "Enter the first number: 4\n",
      "Enter the second number: 4\n",
      "The LCM of 4 and 4 is 4\n"
     ]
    }
   ],
   "source": [
    "# 23.Write a Python program to find the LCM (Least Common Multiple) of two numbers using a for loop.\n",
    "import math\n",
    "\n",
    "# Input two numbers from the user\n",
    "a = int(input(\"Enter the first number: \"))\n",
    "b = int(input(\"Enter the second number: \"))\n",
    "\n",
    "# Calculate the LCM using the GCD\n",
    "lcm = abs(a * b) // math.gcd(a, b)\n",
    "\n",
    "# Print the LCM\n",
    "print(f\"The LCM of {a} and {b} is {lcm}\")\n"
   ]
  },
  {
   "cell_type": "markdown",
   "id": "ad1847a0",
   "metadata": {},
   "source": [
    "# if Else"
   ]
  },
  {
   "cell_type": "code",
   "execution_count": 17,
   "id": "69b51dbc",
   "metadata": {},
   "outputs": [
    {
     "name": "stdout",
     "output_type": "stream",
     "text": [
      "Enter a number: 5\n",
      "You have entered a positive number\n"
     ]
    }
   ],
   "source": [
    "#1. Write a Python program to check if a number is positive, negative, or zero using an if-else statement.\n",
    "no = int(input('Enter a number: '))\n",
    "\n",
    "if no == 0:\n",
    "    print('You have entered Zero number')\n",
    "elif no > 0:\n",
    "    print('You have entered a positive number')\n",
    "else:\n",
    "    print('You have entered a negative number')"
   ]
  },
  {
   "cell_type": "code",
   "execution_count": 7,
   "id": "c54bf5f5",
   "metadata": {},
   "outputs": [
    {
     "name": "stdout",
     "output_type": "stream",
     "text": [
      "Enter a number: 11\n",
      "The number is odd\n"
     ]
    }
   ],
   "source": [
    "#2. Create a Python program that checks if a given number is even or odd using an if-else statement.\n",
    "no = int(input('Enter a number: '))\n",
    "if no == 0:\n",
    "    print('The number neither even nor odd')\n",
    "elif no%2==0:\n",
    "    print('The number is even')\n",
    "else:\n",
    "    print('The number is odd')\n"
   ]
  },
  {
   "cell_type": "code",
   "execution_count": 8,
   "id": "4c83028e",
   "metadata": {},
   "outputs": [
    {
     "name": "stdout",
     "output_type": "stream",
     "text": [
      "Enter the exam score: 90\n",
      "The student's grade is A\n"
     ]
    }
   ],
   "source": [
    "#3. How can you use nested if-else statements in Python, and provide an example?\n",
    "\n",
    "# Input the exam score from the user\n",
    "score = int(input(\"Enter the exam score: \"))\n",
    "\n",
    "# Nested if-else statements to determine the grade\n",
    "if score >= 90:\n",
    "    grade = 'A'\n",
    "else:\n",
    "    if score >= 80:\n",
    "        grade = 'B'\n",
    "    else:\n",
    "        if score >= 70:\n",
    "            grade = 'C'\n",
    "        else:\n",
    "            if score >= 60:\n",
    "                grade = 'D'\n",
    "            else:\n",
    "                grade = 'F'\n",
    "\n",
    "# Display the grade\n",
    "print(f\"The student's grade is {grade}\")"
   ]
  },
  {
   "cell_type": "code",
   "execution_count": 10,
   "id": "91065174",
   "metadata": {},
   "outputs": [
    {
     "name": "stdout",
     "output_type": "stream",
     "text": [
      "inpurth first number: 3\n",
      "inpurth second number: 2\n",
      "inpurth third number: 1\n",
      "the largest number is 3 \n"
     ]
    }
   ],
   "source": [
    "#4. Write a Python program to determine the largest of three numbers using if-else.\n",
    "a = int(input('inpurth first number: ')) \n",
    "b = int(input('inpurth second number: '))\n",
    "c = int(input('inpurth third number: '))\n",
    "\n",
    "if a > b and a > c:\n",
    "    print(f'the largest number is {a} ')\n",
    "elif b > a and b > c:\n",
    "    print(f'the largest number is {b} ')\n",
    "else:\n",
    "    print(f'the largest number is {c} ')"
   ]
  },
  {
   "cell_type": "code",
   "execution_count": 15,
   "id": "98380f9c",
   "metadata": {},
   "outputs": [
    {
     "name": "stdout",
     "output_type": "stream",
     "text": [
      "input a number: -9\n",
      "Absolute value of the number is: 9\n"
     ]
    }
   ],
   "source": [
    "#5. Write a Python program that calculates the absolute value of a number using if-else.\n",
    "a = int(input('input a number: ')) \n",
    "\n",
    "if a < 0:\n",
    "    abso = -a\n",
    "elif a > 0:\n",
    "    abso = a\n",
    "else:\n",
    "    abso = 0\n",
    "    \n",
    "print(f\"Absolute value of the number is: {abso}\")"
   ]
  },
  {
   "cell_type": "code",
   "execution_count": 18,
   "id": "5c48a6d9",
   "metadata": {},
   "outputs": [
    {
     "name": "stdout",
     "output_type": "stream",
     "text": [
      "enter a charactera\n",
      "Its a Vowel\n"
     ]
    }
   ],
   "source": [
    "#6. Create a Python program that checks if a given character is a vowel or consonant using if-else.\n",
    "chara = input(\"enter a character\")\n",
    "\n",
    "vowels = set('ariouAEIOU')\n",
    "\n",
    "if chara in vowels:\n",
    "    print(\"Its a Vowel\")\n",
    "else:\n",
    "    print(\"It's a Consonant\")"
   ]
  },
  {
   "cell_type": "code",
   "execution_count": 21,
   "id": "253ecfc5",
   "metadata": {},
   "outputs": [
    {
     "name": "stdout",
     "output_type": "stream",
     "text": [
      "Input your age: 17\n",
      "you are not eligible to vote\n"
     ]
    }
   ],
   "source": [
    "#7. Write a Python program to determine if a user is eligible to vote based on their age using if-else.\n",
    "age = int(input('Input your age: '))\n",
    "\n",
    "if age >=18:\n",
    "    print(\"you are eligible to vote\")\n",
    "else:\n",
    "    print(\"you are not eligible to vote\")"
   ]
  },
  {
   "cell_type": "code",
   "execution_count": 25,
   "id": "975f6531",
   "metadata": {},
   "outputs": [
    {
     "name": "stdout",
     "output_type": "stream",
     "text": [
      "Enter the Purchase amount: 810\n",
      "Your Discount is 10 %. Discounted amount is: 729.0\n"
     ]
    }
   ],
   "source": [
    "#8. Create a Python program that calculates the discount amount based on the purchase amount using if-else.\n",
    "\n",
    "# Input the exam score from the user\n",
    "pur_value = int(input(\"Enter the Purchase amount: \"))\n",
    "\n",
    "# Nested if-else statements to determine the grade\n",
    "if pur_value >= 1000:\n",
    "    Discount = pur_value*0.7\n",
    "    print(f\"Your Discount is 30 %. Discounted amount is: {Discount}\")\n",
    "elif pur_value >= 900:\n",
    "    Discount = pur_value*0.\n",
    "    print(f\"Your Discount is 20 %.Discounted amount is: {Discount}\")\n",
    "elif pur_value >= 800:\n",
    "    Discount = pur_value*0.9\n",
    "    print(f\"Your Discount is 10 %. Discounted amount is: {Discount}\")\n",
    "else:\n",
    "    print(\"You get no discount:\")"
   ]
  },
  {
   "cell_type": "code",
   "execution_count": 1,
   "id": "5267ac71",
   "metadata": {},
   "outputs": [
    {
     "name": "stdout",
     "output_type": "stream",
     "text": [
      "Input Lower value of the range:-1\n",
      "Input Upper value of the range:1\n",
      "[-1, 0, 1]\n",
      "Enter the number to check:0\n",
      "The number lies in the range\n"
     ]
    }
   ],
   "source": [
    "#9. Write a Python program to check if a number is within a specified range using if-else.\n",
    "setrange_low = int(input('Input Lower value of the range:'))\n",
    "setrange_up = int(input('Input Upper value of the range:'))\n",
    "\n",
    "l = list(range(setrange_low,setrange_up+1))\n",
    "\n",
    "print(l)\n",
    "\n",
    "n = int(input('Enter the number to check:'))\n",
    "\n",
    "if n in l:\n",
    "    print('The number lies in the range')\n",
    "else:\n",
    "    print('The number doesnt lie in the range')"
   ]
  },
  {
   "cell_type": "code",
   "execution_count": 2,
   "id": "fe7035ee",
   "metadata": {},
   "outputs": [
    {
     "name": "stdout",
     "output_type": "stream",
     "text": [
      "Enter the exam score: 99\n",
      "The student's grade is A\n"
     ]
    }
   ],
   "source": [
    "#10. Create a Python program that determines the grade of a student based on their score using if-else.\n",
    "# Input the exam score from the user\n",
    "score = int(input(\"Enter the exam score: \"))\n",
    "\n",
    "# Nested if-else statements to determine the grade\n",
    "if score >= 90:\n",
    "    grade = 'A'\n",
    "else:\n",
    "    if score >= 80:\n",
    "        grade = 'B'\n",
    "    else:\n",
    "        if score >= 70:\n",
    "            grade = 'C'\n",
    "        else:\n",
    "            if score >= 60:\n",
    "                grade = 'D'\n",
    "            else:\n",
    "                grade = 'F'\n",
    "\n",
    "# Display the grade\n",
    "print(f\"The student's grade is {grade}\")"
   ]
  },
  {
   "cell_type": "code",
   "execution_count": 6,
   "id": "03a5472c",
   "metadata": {},
   "outputs": [
    {
     "name": "stdout",
     "output_type": "stream",
     "text": [
      "Enter a string: \n",
      "The string is empty\n"
     ]
    }
   ],
   "source": [
    "#11. Write a Python program to check if a string is empty or not using if-else.\n",
    "l = input(\"Enter a string: \")\n",
    "\n",
    "if len(l) == 0:\n",
    "    print('The string is empty')\n",
    "else:\n",
    "    print('The string is not empty')\n",
    "    "
   ]
  },
  {
   "cell_type": "code",
   "execution_count": 13,
   "id": "63046b89",
   "metadata": {},
   "outputs": [
    {
     "name": "stdout",
     "output_type": "stream",
     "text": [
      "Enter the length of side a: 4\n",
      "Enter the length of side b: 5\n",
      "Enter the length of side c: 6\n",
      "It is a scalene triangle.\n"
     ]
    }
   ],
   "source": [
    "\"\"\"#12. Create a Python program that identifies the type of a triangle (e.g., equilateral, isosceles, or scalene) \n",
    "based on input values using if-else.\"\"\"\n",
    "\n",
    "# Input the lengths of the sides from the user\n",
    "a = float(input(\"Enter the length of side a: \"))\n",
    "b = float(input(\"Enter the length of side b: \"))\n",
    "c = float(input(\"Enter the length of side c: \"))\n",
    "\n",
    "# Check the type of triangle based on the sides\n",
    "if a == b == c:\n",
    "    print(\"It is an equilateral triangle.\")\n",
    "elif a == b or b == c or a == c:\n",
    "    print(\"It is an isosceles triangle.\")\n",
    "else:\n",
    "    print(\"It is a scalene triangle.\")"
   ]
  },
  {
   "cell_type": "code",
   "execution_count": 14,
   "id": "e529bdad",
   "metadata": {},
   "outputs": [
    {
     "name": "stdout",
     "output_type": "stream",
     "text": [
      "Enter a number (1-7) to determine the day of the week: 5\n",
      "The day corresponding to 5 is Friday.\n"
     ]
    }
   ],
   "source": [
    "#13. Write a Python program to determine the day of the week based on a user-provided number using if-else.\n",
    "# Input a number from the user\n",
    "day_number = int(input(\"Enter a number (1-7) to determine the day of the week: \"))\n",
    "\n",
    "# Check the value of the input and determine the corresponding day\n",
    "if day_number == 1:\n",
    "    day_name = \"Monday\"\n",
    "elif day_number == 2:\n",
    "    day_name = \"Tuesday\"\n",
    "elif day_number == 3:\n",
    "    day_name = \"Wednesday\"\n",
    "elif day_number == 4:\n",
    "    day_name = \"Thursday\"\n",
    "elif day_number == 5:\n",
    "    day_name = \"Friday\"\n",
    "elif day_number == 6:\n",
    "    day_name = \"Saturday\"\n",
    "elif day_number == 7:\n",
    "    day_name = \"Sunday\"\n",
    "else:\n",
    "    day_name = \"Invalid input (out of range)\"\n",
    "\n",
    "# Display the determined day of the week\n",
    "print(f\"The day corresponding to {day_number} is {day_name}.\")"
   ]
  },
  {
   "cell_type": "code",
   "execution_count": 15,
   "id": "3f8b6b4a",
   "metadata": {},
   "outputs": [
    {
     "name": "stdout",
     "output_type": "stream",
     "text": [
      "Enter a year: 2000\n",
      "2000 is a leap year.\n"
     ]
    }
   ],
   "source": [
    "#14. Create a Python program that checks if a given year is a leap year using both if-else and a function.\n",
    "\n",
    "# Function to check if a year is a leap year\n",
    "def is_leap_year(year):\n",
    "    if (year % 4 == 0 and year % 100 != 0) or (year % 400 == 0):\n",
    "        return True\n",
    "    else:\n",
    "        return False\n",
    "\n",
    "# Input a year from the user\n",
    "year = int(input(\"Enter a year: \"))\n",
    "\n",
    "# Check if the year is a leap year using the function\n",
    "if is_leap_year(year):\n",
    "    print(f\"{year} is a leap year.\")\n",
    "else:\n",
    "    print(f\"{year} is not a leap year.\")"
   ]
  },
  {
   "cell_type": "code",
   "execution_count": null,
   "id": "1d611f06",
   "metadata": {},
   "outputs": [],
   "source": [
    "#15. How do you use the \"assert\" statement in Python to add debugging checks within if-else blocks?\n",
    "\"\"\"In Python, the assert statement is used to add debugging checks within if-else blocks. \n",
    "It is typically used to test whether a given condition is True and raise an AssertionError if the condition is False. \"\"\""
   ]
  },
  {
   "cell_type": "code",
   "execution_count": 18,
   "id": "bd02f730",
   "metadata": {},
   "outputs": [
    {
     "name": "stdout",
     "output_type": "stream",
     "text": [
      "Enter your age: 18\n",
      "You are NOT eligible for Senior citize discount\n"
     ]
    }
   ],
   "source": [
    "#16. Create a Python program that determines the eligibility of a person for a senior citizen discount based on \n",
    "# age using if-else.\n",
    "\n",
    "age = int(input('Enter your age: '))\n",
    "\n",
    "if age >=60:\n",
    "    print('You are eligible for Senior citize discount')\n",
    "else:\n",
    "    print('You are NOT eligible for Senior citize discount')"
   ]
  },
  {
   "cell_type": "code",
   "execution_count": 21,
   "id": "1fc4a87f",
   "metadata": {},
   "outputs": [
    {
     "name": "stdout",
     "output_type": "stream",
     "text": [
      "Enter a character: L\n",
      "'L' is an uppercase character.\n"
     ]
    }
   ],
   "source": [
    "#17. Write a Python program to categorize a given character as uppercase, lowercase, or neither using if-else.\n",
    "\n",
    "\n",
    "chara = input(\"Enter a character: \")\n",
    "\n",
    "# Check if the character is uppercase, lowercase, or neither\n",
    "if chara.isupper():\n",
    "    print(f\"'{chara}' is an uppercase character.\")\n",
    "elif chara.islower():\n",
    "    print(f\"'{chara}' is a lowercase character.\")\n",
    "else:\n",
    "    print(f\"'{chara}' is neither uppercase nor lowercase.\")\n"
   ]
  },
  {
   "cell_type": "code",
   "execution_count": 23,
   "id": "27e760b4",
   "metadata": {},
   "outputs": [
    {
     "name": "stdout",
     "output_type": "stream",
     "text": [
      "Enter the coefficient a: 1\n",
      "Enter the coefficient b: -1\n",
      "Enter the coefficient c: -6\n",
      "The roots are real and distinct: 3.0 and -2.0\n"
     ]
    }
   ],
   "source": [
    "#18. Write a Python program to determine the roots of a quadratic equation using if-else.\n",
    "\n",
    "# Input coefficients of the quadratic equation: ax^2 + bx + c = 0\n",
    "a = float(input(\"Enter the coefficient a: \"))\n",
    "b = float(input(\"Enter the coefficient b: \"))\n",
    "c = float(input(\"Enter the coefficient c: \"))\n",
    "\n",
    "# Calculate the discriminant (D)\n",
    "D = b**2 - 4*a*c\n",
    "\n",
    "# Check the nature of the roots\n",
    "if D > 0:\n",
    "    # Two real and distinct roots\n",
    "    root1 = (-b + (D**0.5)) / (2*a)\n",
    "    root2 = (-b - (D**0.5)) / (2*a)\n",
    "    print(f\"The roots are real and distinct: {root1} and {root2}\")\n",
    "elif D == 0:\n",
    "    # One real root (repeated)\n",
    "    root = -b / (2*a)\n",
    "    print(f\"The root is real and repeated: {root}\")\n",
    "else:\n",
    "    # Complex roots\n",
    "    real_part = -b / (2*a)\n",
    "    imaginary_part = (abs(D)**0.5) / (2*a)\n",
    "    print(f\"The roots are complex: {real_part} + {imaginary_part}i and {real_part} - {imaginary_part}i\")\n"
   ]
  },
  {
   "cell_type": "code",
   "execution_count": 25,
   "id": "d1e6d971",
   "metadata": {},
   "outputs": [
    {
     "name": "stdout",
     "output_type": "stream",
     "text": [
      "Enter a year: 2020\n",
      "2020 is not a century year.\n"
     ]
    }
   ],
   "source": [
    "#19. Create a Python program that checks if a given year is a century year or not using if-else.\n",
    "\n",
    "# Input a year from the user\n",
    "year = int(input(\"Enter a year: \"))\n",
    "\n",
    "# Check if the year is a century\n",
    "if year % 100 == 0:\n",
    "    print(f\"{year} is a century year.\")\n",
    "else:\n",
    "    print(f\"{year} is not a century year.\")\n"
   ]
  },
  {
   "cell_type": "code",
   "execution_count": 32,
   "id": "ff42a47c",
   "metadata": {},
   "outputs": [
    {
     "name": "stdout",
     "output_type": "stream",
     "text": [
      "Enter a number: 12\n",
      "12 is not a perfect square.\n"
     ]
    }
   ],
   "source": [
    "#20. Write a Python program to determine if a given number is a perfect square using if-else.\n",
    "\n",
    "# Input a number from the user\n",
    "number = int(input(\"Enter a number: \"))\n",
    "\n",
    "# Initialize a variable to track if it's a perfect square\n",
    "is_perfect_square = False\n",
    "\n",
    "# Check if the number is non-negative\n",
    "if number >= 0:\n",
    "    # Calculate the square root of the number\n",
    "    square_root = int(number**0.5)\n",
    "\n",
    "    # Check if the square of the square_root equals the original number\n",
    "    if square_root**2 == number:\n",
    "        is_perfect_square = True\n",
    "\n",
    "# Determine and print the result\n",
    "if is_perfect_square:\n",
    "    print(f\"{number} is a perfect square.\")\n",
    "else:\n",
    "    print(f\"{number} is not a perfect square.\")\n"
   ]
  },
  {
   "cell_type": "code",
   "execution_count": null,
   "id": "885c207a",
   "metadata": {},
   "outputs": [],
   "source": [
    "#21. 21. Explain the purpose of the \"continue\" and \"break\" statements within if-else loops.\n",
    "\"\"\"Continue Statement:\n",
    "\n",
    "The \"continue\" statement is used to skip the current iteration of a loop and move to the next iteration.\n",
    "When encountered, \"continue\" immediately stops the current iteration of the loop and jumps to the next iteration.\n",
    "It is often used to skip certain elements or conditions within a loop while continuing with the remaining iterations.\"\"\"\n",
    "\n",
    "\"\"\"Break Statement:\n",
    "\n",
    "The \"break\" statement is used to exit a loop prematurely, even if the loop's condition is not met.\n",
    "When encountered, \"break\" immediately terminates the loop, and control is transferred to the code following the loop.\n",
    "It is often used to exit a loop early based on a certain condition.\"\"\""
   ]
  },
  {
   "cell_type": "code",
   "execution_count": 33,
   "id": "ee87eaa6",
   "metadata": {},
   "outputs": [
    {
     "name": "stdout",
     "output_type": "stream",
     "text": [
      "Enter your weight in kilograms: 78\n",
      "Enter your height in meters: 1.56\n",
      "Your BMI is: 32.05128205128205\n"
     ]
    }
   ],
   "source": [
    "#22. Create a Python program that calculates the BMI (Body Mass Index) of a person based on their\n",
    "# weight and height using if-else.\n",
    "\n",
    "# Input weight in kilograms and height in meters from the user\n",
    "weight_kg = float(input(\"Enter your weight in kilograms: \"))\n",
    "height_m = float(input(\"Enter your height in meters: \"))\n",
    "\n",
    "# Calculate BMI\n",
    "bmi = weight_kg / (height_m ** 2)\n",
    "\n",
    "# Print the calculated BMI\n",
    "print(\"Your BMI is:\", bmi)"
   ]
  },
  {
   "cell_type": "code",
   "execution_count": null,
   "id": "6ea4157a",
   "metadata": {},
   "outputs": [],
   "source": [
    "#23. How can you use the \"filter()\" function with if-else statements to filter elements from a list?\n",
    "\"\"\"Using a Lambda Function:\n",
    "You can provide a lambda function as the filtering condition to filter(). \n",
    "Inside the lambda function, you can use if-else statements to determine whether to include an element in the result.\"\"\"\n",
    "\n",
    "\"\"\"Using a Custom Function:\n",
    "Instead of a lambda function, you can define a custom function that takes an element as input and returns True or False\n",
    "based on your if-else conditions. Then, you can use this custom function with filter().\"\"\""
   ]
  },
  {
   "cell_type": "code",
   "execution_count": 34,
   "id": "3513df2c",
   "metadata": {},
   "outputs": [
    {
     "name": "stdout",
     "output_type": "stream",
     "text": [
      "Enter a number: 5\n",
      "5 is a prime number.\n"
     ]
    }
   ],
   "source": [
    "#24. Write a Python program to determine if a given number is prime or not using if-else.\n",
    "\n",
    "# Input a number from the user\n",
    "num = int(input(\"Enter a number: \"))\n",
    "\n",
    "# Check if the number is less than 2 (not a prime number)\n",
    "if num < 2:\n",
    "    is_prime = False\n",
    "else:\n",
    "    is_prime = True\n",
    "    # Check for divisors from 2 to the square root of the number\n",
    "    for i in range(2, int(num**0.5) + 1):\n",
    "        if num % i == 0:\n",
    "            is_prime = False\n",
    "            break\n",
    "\n",
    "# Determine and print the result\n",
    "if is_prime:\n",
    "    print(f\"{num} is a prime number.\")\n",
    "else:\n",
    "    print(f\"{num} is not a prime number.\")\n"
   ]
  },
  {
   "cell_type": "markdown",
   "id": "2ffb11cf",
   "metadata": {},
   "source": [
    "# Mapping"
   ]
  },
  {
   "cell_type": "code",
   "execution_count": 19,
   "id": "7fd34ff0",
   "metadata": {},
   "outputs": [
    {
     "name": "stdout",
     "output_type": "stream",
     "text": [
      "[1, 4, 9, 16, 25]\n"
     ]
    }
   ],
   "source": [
    "\"\"\"1.Explain the purpose of the `map()` function in Python and provide an example of how it can be\n",
    "used to apply a function to each element of an iterable.\"\"\"\n",
    "\n",
    "# Define a function to square a number\n",
    "def square(x):\n",
    "    return x ** 2\n",
    "\n",
    "# Create a list of numbers\n",
    "numbers = [1, 2, 3, 4, 5]\n",
    "\n",
    "# Use map() to apply the square function to each element in the list\n",
    "squared_numbers = map(square, numbers)\n",
    "\n",
    "# Convert the result to a list (optional)\n",
    "squared_numbers_list = list(squared_numbers)\n",
    "\n",
    "# Print the squared numbers\n",
    "print(squared_numbers_list)"
   ]
  },
  {
   "cell_type": "code",
   "execution_count": 36,
   "id": "23ed1246",
   "metadata": {},
   "outputs": [
    {
     "name": "stdout",
     "output_type": "stream",
     "text": [
      "[1, 4, 9, 16, 25]\n"
     ]
    }
   ],
   "source": [
    "#2. Write a Python program that uses the `map()` function to square each element of a list of numbers.\n",
    "# Define a function to square a number\n",
    "def square(x):\n",
    "    return x ** 2\n",
    "\n",
    "# Create a list of numbers\n",
    "numbers = [1, 2, 3, 4, 5]\n",
    "\n",
    "# Use map() to apply the square function to each element in the list\n",
    "squared_numbers = map(square, numbers)\n",
    "\n",
    "# Convert the result to a list (optional)\n",
    "squared_numbers_list = list(squared_numbers)\n",
    "\n",
    "# Print the squared numbers\n",
    "print(squared_numbers_list)"
   ]
  },
  {
   "cell_type": "code",
   "execution_count": 38,
   "id": "b273fae4",
   "metadata": {},
   "outputs": [
    {
     "name": "stdout",
     "output_type": "stream",
     "text": [
      "['SATISH', 'SANDIP', 'TUSHAR']\n"
     ]
    }
   ],
   "source": [
    "#4. Create a Python program that uses the `map()` function to convert a list of names to uppercase.\n",
    "def upper(x):\n",
    "    return x.upper()\n",
    "\n",
    "# Create a list of numbers\n",
    "names = ['satish', 'SaNdIp', 'TUSHAR']\n",
    "\n",
    "# Use map() to apply the square function to each element in the list\n",
    "upper_names = map(upper, names)\n",
    "\n",
    "# Convert the result to a list (optional)\n",
    "upper_names_list = list(upper_names)\n",
    "\n",
    "# Print the squared numbers\n",
    "print(upper_names_list)"
   ]
  },
  {
   "cell_type": "code",
   "execution_count": 10,
   "id": "7d0b6679",
   "metadata": {},
   "outputs": [
    {
     "name": "stdout",
     "output_type": "stream",
     "text": [
      "Enter a string: Hi this is Satish\n",
      "Lengths of words: [2, 4, 2, 6]\n"
     ]
    }
   ],
   "source": [
    "#5. Write a Python program that uses the `map()` function to calculate the length of each word in a list of strings.\n",
    "\n",
    "\n",
    "words = input('Enter a string: ')\n",
    "\n",
    "words = words.split()\n",
    "\n",
    "\n",
    "# Use map() to calculate the length of each word\n",
    "word_lengths = list(map(len, words))\n",
    "\n",
    "# Print the lengths of the words\n",
    "print(\"Lengths of words:\", word_lengths)"
   ]
  },
  {
   "cell_type": "code",
   "execution_count": 13,
   "id": "541508d2",
   "metadata": {},
   "outputs": [
    {
     "name": "stdout",
     "output_type": "stream",
     "text": [
      "Result of addition: [6, 8, 10, 12]\n"
     ]
    }
   ],
   "source": [
    "#6. How can you use the `map()` function to apply a custom function to elements of multiple lists simultaneously in Python?\n",
    "\n",
    "def add(x, y):\n",
    "    return x + y\n",
    "\n",
    "# Two lists of numbers\n",
    "list1 = [1, 2, 3, 4]\n",
    "list2 = [5, 6, 7, 8]\n",
    "\n",
    "# Use map() to apply the custom function to corresponding elements of both lists\n",
    "result = list(map(add, list1, list2))\n",
    "\n",
    "# Print the result\n",
    "print(\"Result of addition:\", result)\n"
   ]
  },
  {
   "cell_type": "code",
   "execution_count": 16,
   "id": "fb07c59f",
   "metadata": {},
   "outputs": [
    {
     "name": "stdout",
     "output_type": "stream",
     "text": [
      "[50.0, 68.0, 86.0, 104.0, 122.0, 140.0]\n"
     ]
    }
   ],
   "source": [
    "#7. Create a Python program that uses `map()` to convert a list of temperatures from Celsius to Fahrenheit.\n",
    "\n",
    "def cel_to_fah(n):\n",
    "    return (n * 9/5) + 32\n",
    "\n",
    "cel = [10,20,30,40,50,60]\n",
    "\n",
    "result = list(map(cel_to_fah, cel))\n",
    "\n",
    "print(result)\n",
    "    \n"
   ]
  },
  {
   "cell_type": "code",
   "execution_count": 1,
   "id": "a6e209b8",
   "metadata": {},
   "outputs": [
    {
     "name": "stdout",
     "output_type": "stream",
     "text": [
      "[0, 1, 1, 1, 2, 2, 2]\n"
     ]
    }
   ],
   "source": [
    "#8. Write a Python program that uses the `map()` function to round each element of a list \n",
    "#floating-point numbers to the nearest integer.\n",
    "\n",
    "def rounded(n):\n",
    "    return round(n)\n",
    "\n",
    "list1 = [0.5,0.7,0.8,1.1,1.5,1.9,2.0]\n",
    "\n",
    "result = list(map(rounded,list1))\n",
    "\n",
    "print(result)\n"
   ]
  },
  {
   "cell_type": "markdown",
   "id": "86768cb3",
   "metadata": {},
   "source": [
    "# Reduce"
   ]
  },
  {
   "cell_type": "code",
   "execution_count": 20,
   "id": "8c232f92",
   "metadata": {},
   "outputs": [
    {
     "name": "stdout",
     "output_type": "stream",
     "text": [
      "Product: 120\n"
     ]
    }
   ],
   "source": [
    "#1. What is the `reduce()` function in Python, and what module should you import to use it? \n",
    "# Provide an example of its basic usage.\n",
    "\n",
    "from functools import reduce\n",
    "\n",
    "# List of numbers\n",
    "numbers = [1, 2, 3, 4, 5]\n",
    "\n",
    "# Define a function to multiply two numbers\n",
    "def multiply(x, y):\n",
    "    return x * y\n",
    "\n",
    "# Use reduce() to find the product of all numbers\n",
    "product = reduce(multiply, numbers)\n",
    "\n",
    "# Print the result\n",
    "print(\"Product:\", product)"
   ]
  },
  {
   "cell_type": "code",
   "execution_count": 2,
   "id": "ce77d35e",
   "metadata": {},
   "outputs": [
    {
     "name": "stdout",
     "output_type": "stream",
     "text": [
      "Product: 120\n"
     ]
    }
   ],
   "source": [
    "#2. Write a Python program that uses the `reduce()` function to find the product of all elements in a list.\n",
    "from functools import reduce\n",
    "# List of numbers\n",
    "numbers = [1, 2, 3, 4, 5]\n",
    "\n",
    "# Define a function to multiply two numbers\n",
    "def multiply(x, y):\n",
    "    return x * y\n",
    "\n",
    "# Use reduce() to find the product of all numbers\n",
    "product = reduce(multiply, numbers)\n",
    "\n",
    "# Print the result\n",
    "print(\"Product:\", product)"
   ]
  },
  {
   "cell_type": "code",
   "execution_count": 5,
   "id": "233be640",
   "metadata": {},
   "outputs": [
    {
     "name": "stdout",
     "output_type": "stream",
     "text": [
      "Max: 5\n"
     ]
    }
   ],
   "source": [
    "#3. Create a Python program that uses `reduce()` to find the maximum element in a list of numbers.\n",
    "\n",
    "from functools import reduce\n",
    "\n",
    "# List of numbers\n",
    "numbers = [1, 2, 3, 4, 5]\n",
    "\n",
    "# Define a function to multiply two numbers\n",
    "def compare(x, y):\n",
    "    if x > y:\n",
    "        return x\n",
    "    else:\n",
    "        return y\n",
    "\n",
    "# Use reduce() to find the product of all numbers\n",
    "max = reduce(compare, numbers)\n",
    "\n",
    "# Print the result\n",
    "print(\"Max:\", max)"
   ]
  },
  {
   "cell_type": "code",
   "execution_count": 7,
   "id": "1794d689",
   "metadata": {},
   "outputs": [
    {
     "name": "stdout",
     "output_type": "stream",
     "text": [
      "Full strinf: Hi My name is Satish\n"
     ]
    }
   ],
   "source": [
    "#4. How can you use the `reduce()` function to concatenate a list of strings into a single string?\n",
    "\n",
    "from functools import reduce\n",
    "\n",
    "# List of numbers\n",
    "numbers = ['Hi', 'My', 'name', 'is', 'Satish']\n",
    "\n",
    "# Define a function to multiply two numbers\n",
    "def joinit(x, y):\n",
    "    return x+\" \"+y\n",
    "\n",
    "# Use reduce() to find the product of all numbers\n",
    "joinstr = reduce(joinit, numbers)\n",
    "\n",
    "# Print the result\n",
    "print(\"Full strinf:\", joinstr)"
   ]
  },
  {
   "cell_type": "code",
   "execution_count": 9,
   "id": "d4d7e7e8",
   "metadata": {},
   "outputs": [
    {
     "name": "stdout",
     "output_type": "stream",
     "text": [
      "enter a number to find its factorial: 5\n",
      "Factorial: 120\n"
     ]
    }
   ],
   "source": [
    "# 5. Write a Python program that calculates the factorial of a number using the `reduce()` function.\n",
    "from functools import reduce\n",
    "\n",
    "# List of numbers\n",
    "number = int(input('enter a number to find its factorial: '))\n",
    "\n",
    "number = list(range(1,number+1))\n",
    "\n",
    "# Define a function to multiply two numbers\n",
    "def facto(x, y):\n",
    "    return x*y\n",
    "\n",
    "# Use reduce() to find the product of all numbers\n",
    "factorial = reduce(facto, number)\n",
    "\n",
    "# Print the result\n",
    "print(\"Factorial:\", factorial)"
   ]
  },
  {
   "cell_type": "code",
   "execution_count": 10,
   "id": "f0b86cf0",
   "metadata": {},
   "outputs": [
    {
     "name": "stdout",
     "output_type": "stream",
     "text": [
      "GCD of the numbers: 6\n"
     ]
    }
   ],
   "source": [
    "# 6. Create a Python program that uses `reduce()` to find the GCD (Greatest Common Divisor) of a list of numbers.\n",
    "\n",
    "from functools import reduce\n",
    "import math\n",
    "\n",
    "# List of numbers for which you want to find the GCD\n",
    "numbers = [12, 18, 24, 36]\n",
    "\n",
    "# Define a custom function to find the GCD of two numbers\n",
    "def find_gcd(x, y):\n",
    "    return math.gcd(x, y)\n",
    "\n",
    "# Use reduce() to find the GCD of all numbers in the list\n",
    "gcd_result = reduce(find_gcd, numbers)\n",
    "\n",
    "# Print the GCD\n",
    "print(\"GCD of the numbers:\", gcd_result)\n"
   ]
  },
  {
   "cell_type": "code",
   "execution_count": 11,
   "id": "4c9858b4",
   "metadata": {},
   "outputs": [
    {
     "name": "stdout",
     "output_type": "stream",
     "text": [
      "Enter a number: 12345\n",
      "Sum of the digits: 15\n"
     ]
    }
   ],
   "source": [
    "# 7. Write a Python program that uses the `reduce()` function to find the sum of the digits of a given number.\n",
    "\n",
    "from functools import reduce\n",
    "\n",
    "# Function to sum two numbers\n",
    "def sum_digits(x, y):\n",
    "    return int(x) + int(y)\n",
    "\n",
    "# Input a number as a string\n",
    "number_str = input(\"Enter a number: \")\n",
    "\n",
    "# Use reduce() to find the sum of the digits\n",
    "digit_sum = reduce(sum_digits, number_str)\n",
    "\n",
    "# Print the sum of the digits\n",
    "print(\"Sum of the digits:\", digit_sum)\n"
   ]
  },
  {
   "cell_type": "markdown",
   "id": "0ed964f7",
   "metadata": {},
   "source": [
    "# Filter"
   ]
  },
  {
   "cell_type": "code",
   "execution_count": 21,
   "id": "e6bb9dbe",
   "metadata": {},
   "outputs": [
    {
     "name": "stdout",
     "output_type": "stream",
     "text": [
      "Even numbers: [2, 4, 6, 8, 10]\n"
     ]
    }
   ],
   "source": [
    "#1. Explain the purpose of the `filter()` function in Python and provide an example of how it can be \n",
    "# used to filter elements from an iterable.\n",
    "\n",
    "# List of numbers\n",
    "numbers = [1, 2, 3, 4, 5, 6, 7, 8, 9, 10]\n",
    "\n",
    "# Define a filtering function to check if a number is even\n",
    "def is_even(x):\n",
    "    return x % 2 == 0\n",
    "\n",
    "# Use filter() to filter even numbers from the list\n",
    "even_numbers = list(filter(is_even, numbers))\n",
    "\n",
    "# Print the filtered even numbers\n",
    "print(\"Even numbers:\", even_numbers)"
   ]
  },
  {
   "cell_type": "code",
   "execution_count": 1,
   "id": "42022ff2",
   "metadata": {},
   "outputs": [
    {
     "name": "stdout",
     "output_type": "stream",
     "text": [
      "Even numbers: [2, 4, 6, 8, 10]\n"
     ]
    }
   ],
   "source": [
    "#2. Write a Python program that uses the `filter()` function to select even numbers from a list of integers.\n",
    "\n",
    "# List of numbers\n",
    "numbers = [1, 2, 3, 4, 5, 6, 7, 8, 9, 10]\n",
    "\n",
    "# Define a filtering function to check if a number is even\n",
    "def is_even(x):\n",
    "    return x % 2 == 0\n",
    "\n",
    "# Use filter() to filter even numbers from the list\n",
    "even_numbers = list(filter(is_even, numbers))\n",
    "\n",
    "# Print the filtered even numbers\n",
    "print(\"Even numbers:\", even_numbers)"
   ]
  },
  {
   "cell_type": "code",
   "execution_count": 6,
   "id": "a3ba57e1",
   "metadata": {},
   "outputs": [
    {
     "name": "stdout",
     "output_type": "stream",
     "text": [
      "enetr the char to search name starting with:s\n",
      "Starting with s: ['satish', 'sumit', 'sattu']\n"
     ]
    }
   ],
   "source": [
    "#3. Create a Python program that uses the `filter()` function to select names that start with a specific\n",
    "# letter from a list of strings.\n",
    "\n",
    "numbers = ['satish','sumit','prabhas','sattu','ghanshyam']\n",
    "\n",
    "specific = input('enetr the char to search name starting with:')\n",
    "\n",
    "# Define a filtering function to check if a number is even\n",
    "def starts(numbers):\n",
    "    for i in numbers:\n",
    "        if numbers.startswith(specific):\n",
    "            return True\n",
    "\n",
    "# Use filter() to filter even numbers from the list\n",
    "names = list(filter(starts, numbers))\n",
    "\n",
    "# Print the filtered even numbers\n",
    "print(f\"Starting with {specific}:\", names)"
   ]
  },
  {
   "cell_type": "code",
   "execution_count": 10,
   "id": "73ecd1b3",
   "metadata": {},
   "outputs": [
    {
     "name": "stdout",
     "output_type": "stream",
     "text": [
      "Prime numbers: [2, 3, 5, 7]\n"
     ]
    }
   ],
   "source": [
    "#4. Write a Python program that uses the `filter()` function to select prime numbers from a list of integers.\n",
    "\n",
    "# Function to check if a number is prime\n",
    "def is_prime(n):\n",
    "    if n <= 1:\n",
    "        return False\n",
    "    elif n <= 3:\n",
    "        return True\n",
    "    elif n % 2 == 0 or n % 3 == 0:\n",
    "        return False\n",
    "    i = 5\n",
    "    while i * i <= n:\n",
    "        if n % i == 0 or n % (i + 2) == 0:\n",
    "            return False\n",
    "        i += 6\n",
    "    return True\n",
    "\n",
    "# List of integers\n",
    "numbers = [1, 2, 3, 4, 5, 6, 7, 8, 9, 10]\n",
    "\n",
    "# Use filter() to select prime numbers from the list\n",
    "prime_numbers = list(filter(is_prime, numbers))\n",
    "\n",
    "# Print the prime numbers\n",
    "print(\"Prime numbers:\", prime_numbers)\n"
   ]
  },
  {
   "cell_type": "code",
   "execution_count": 11,
   "id": "6f2a6156",
   "metadata": {},
   "outputs": [
    {
     "name": "stdout",
     "output_type": "stream",
     "text": [
      "Filtered values: [1, 3, 5, 7, 9]\n"
     ]
    }
   ],
   "source": [
    "# 5. How can you use the `filter()` function to remove None values from a list in Python?\n",
    "\n",
    "# List with None values\n",
    "values = [1, None, 3, None, 5, None, 7, None, 9]\n",
    "\n",
    "# Define a custom filtering function to remove None values\n",
    "def remove_none(x):\n",
    "    return x is not None\n",
    "\n",
    "# Use filter() to remove None values from the list\n",
    "filtered_values = list(filter(remove_none, values))\n",
    "\n",
    "# Print the filtered values\n",
    "print(\"Filtered values:\", filtered_values)\n"
   ]
  },
  {
   "cell_type": "code",
   "execution_count": 17,
   "id": "73cacb53",
   "metadata": {},
   "outputs": [
    {
     "name": "stdout",
     "output_type": "stream",
     "text": [
      "Long words: ['satish', 'vidhya', 'ghanshyam']\n"
     ]
    }
   ],
   "source": [
    "#6. Create a Python program that uses `filter()` to select words longer than a certain length from a list of strings.\n",
    "\n",
    "# List of strings\n",
    "words = ['satish','sattu','pavan','vidhya','ghanshyam']\n",
    "\n",
    "# Minimum word length to filter by\n",
    "min_length = 5\n",
    "\n",
    "# Define a custom filtering function to select longer words\n",
    "def is_long_word(word):\n",
    "    return len(word) > min_length\n",
    "\n",
    "# Use filter() to select longer words from the list\n",
    "long_words = list(filter(is_long_word, words))\n",
    "\n",
    "# Print the selected longer words\n",
    "print(\"Long words:\", long_words)\n"
   ]
  },
  {
   "cell_type": "code",
   "execution_count": 19,
   "id": "91c872e1",
   "metadata": {},
   "outputs": [
    {
     "name": "stdout",
     "output_type": "stream",
     "text": [
      "Nos. greater than 5 are: [6, 7, 8, 9]\n"
     ]
    }
   ],
   "source": [
    "#7. Write a Python program that uses the `filter()` function to select elements greater than a\n",
    "# specified threshold from a list of values.\n",
    "\n",
    "# List of values\n",
    "nums = [1,2,3,4,5,6,7,8,9]\n",
    "\n",
    "# Minimum word length to filter by\n",
    "min_length = 5\n",
    "\n",
    "# Define a custom filtering function to select longer words\n",
    "def is_greater(num):\n",
    "    return num > min_length\n",
    "\n",
    "# Use filter() to select longer words from the list\n",
    "greater_nums = list(filter(is_greater, nums))\n",
    "\n",
    "# Print the selected longer words\n",
    "print(f\"Nos. greater than {min_length} are:\", greater_nums)"
   ]
  },
  {
   "cell_type": "markdown",
   "id": "8a731fd3",
   "metadata": {},
   "source": [
    "# Recursion:-"
   ]
  },
  {
   "cell_type": "code",
   "execution_count": null,
   "id": "1bf64279",
   "metadata": {},
   "outputs": [],
   "source": [
    "#1. Explain the concept of recursion in Python. How does it differ from iteration?\n",
    "\"\"\"Recursion differs from iteration (looping) in the way it solves problems. In iteration, a loop repeatedly executes a \n",
    "block of code until a certain condition is met. In contrast, recursion solves problems by breaking them down into smaller, \n",
    "similar subproblems and solving them through recursive calls. While both recursion and iteration can be used to solve many of \n",
    "the same problems, recursion is particularly well-suited for problems that exhibit a divide-and-conquer structure.\"\"\""
   ]
  },
  {
   "cell_type": "code",
   "execution_count": 20,
   "id": "fcfdba43",
   "metadata": {},
   "outputs": [
    {
     "name": "stdout",
     "output_type": "stream",
     "text": [
      "Enter a non-negative integer: 10\n",
      "The factorial of 10 is 3628800\n"
     ]
    }
   ],
   "source": [
    "#2. Write a Python program to calculate the factorial of a number using recursion.\n",
    "# Recursive function to calculate the factorial of a number\n",
    "def factorial(n):\n",
    "    if n == 0:\n",
    "        return 1\n",
    "    else:\n",
    "        return n * factorial(n - 1)\n",
    "\n",
    "# Input from the user\n",
    "num = int(input(\"Enter a non-negative integer: \"))\n",
    "\n",
    "# Check if the input is non-negative\n",
    "if num < 0:\n",
    "    print(\"Factorial is not defined for negative numbers.\")\n",
    "else:\n",
    "    result = factorial(num)\n",
    "    print(f\"The factorial of {num} is {result}\")"
   ]
  },
  {
   "cell_type": "code",
   "execution_count": 21,
   "id": "3a1a4fa3",
   "metadata": {},
   "outputs": [
    {
     "name": "stdout",
     "output_type": "stream",
     "text": [
      "Enter a non-negative integer (n): 10\n",
      "The 10th Fibonacci number is 55\n"
     ]
    }
   ],
   "source": [
    "#3. Create a recursive Python function to find the nth Fibonacci number.\n",
    "\n",
    "# Recursive function to find the nth Fibonacci number\n",
    "def fibonacci(n):\n",
    "    if n <= 0:\n",
    "        return 0\n",
    "    elif n == 1:\n",
    "        return 1\n",
    "    else:\n",
    "        return fibonacci(n - 1) + fibonacci(n - 2)\n",
    "\n",
    "# Input from the user\n",
    "n = int(input(\"Enter a non-negative integer (n): \"))\n",
    "\n",
    "# Check if the input is non-negative\n",
    "if n < 0:\n",
    "    print(\"Please enter a non-negative integer.\")\n",
    "else:\n",
    "    result = fibonacci(n)\n",
    "    print(f\"The {n}th Fibonacci number is {result}\")\n"
   ]
  },
  {
   "cell_type": "code",
   "execution_count": 2,
   "id": "7613371b",
   "metadata": {},
   "outputs": [
    {
     "name": "stdout",
     "output_type": "stream",
     "text": [
      "The sum of the list elements is: 15\n"
     ]
    }
   ],
   "source": [
    "# 4. Write a recursive Python function to calculate the sum of all elements in a list.\n",
    "\n",
    "# Recursive function to calculate the sum of elements in a list\n",
    "\n",
    "def list_sum(arr):\n",
    "    if not arr:\n",
    "        return 0\n",
    "    else:\n",
    "        return arr[0] + list_sum(arr[1:])\n",
    "\n",
    "# Example list\n",
    "my_list = [1, 2, 3, 4, 5]\n",
    "\n",
    "# Calculate the sum of the list elements using recursion\n",
    "result = list_sum(my_list)\n",
    "\n",
    "print(f\"The sum of the list elements is: {result}\")\n"
   ]
  },
  {
   "cell_type": "code",
   "execution_count": null,
   "id": "0778e7ca",
   "metadata": {},
   "outputs": [],
   "source": [
    "#5. How can you prevent a recursive function from running indefinitely, causing a stack overflow error?\n",
    "\"\"\"To prevent a recursive function from causing a stack overflow error:\n",
    "1. Define a base case that signals when to stop the recursion.\n",
    "2. Ensure that each recursive call gets closer to the base case.\n",
    "3. Use appropriate data structures if needed to manage state.\n",
    "4. Thoroughly test and debug your recursive function.\n",
    "5. Be cautious when changing Python's recursion depth limit.\"\"\""
   ]
  },
  {
   "cell_type": "code",
   "execution_count": 3,
   "id": "38e69196",
   "metadata": {},
   "outputs": [
    {
     "name": "stdout",
     "output_type": "stream",
     "text": [
      "The GCD of 48 and 18 is 6\n"
     ]
    }
   ],
   "source": [
    "#6. Create a recursive Python function to find the greatest common divisor (GCD) of two numbers using the Euclidean algorithm.\n",
    "def euclidean_gcd(a, b):\n",
    "    # Base case: If b is zero, return a as the GCD\n",
    "    if b == 0:\n",
    "        return a\n",
    "    else:\n",
    "        # Recursive case: Compute GCD(b, a % b) until b becomes zero\n",
    "        return euclidean_gcd(b, a % b)\n",
    "\n",
    "# Example usage:\n",
    "num1 = 48\n",
    "num2 = 18\n",
    "gcd = euclidean_gcd(num1, num2)\n",
    "print(f\"The GCD of {num1} and {num2} is {gcd}\")\n"
   ]
  },
  {
   "cell_type": "code",
   "execution_count": 4,
   "id": "daf8412b",
   "metadata": {},
   "outputs": [
    {
     "name": "stdout",
     "output_type": "stream",
     "text": [
      "Original String: Hello, World!\n",
      "Reversed String: !dlroW ,olleH\n"
     ]
    }
   ],
   "source": [
    "#7. Write a recursive Python function to reverse a string.\n",
    "def reverse_string(input_string):\n",
    "    # Base case: If the string is empty or has only one character, return the string as is\n",
    "    if len(input_string) <= 1:\n",
    "        return input_string\n",
    "    else:\n",
    "        # Recursive case: Reverse the substring excluding the first character and concatenate the first character at the end\n",
    "        return reverse_string(input_string[1:]) + input_string[0]\n",
    "\n",
    "# Example usage:\n",
    "original_string = \"Hello, World!\"\n",
    "reversed_string = reverse_string(original_string)\n",
    "print(f\"Original String: {original_string}\")\n",
    "print(f\"Reversed String: {reversed_string}\")"
   ]
  },
  {
   "cell_type": "code",
   "execution_count": 5,
   "id": "8de54c58",
   "metadata": {},
   "outputs": [
    {
     "name": "stdout",
     "output_type": "stream",
     "text": [
      "2^3 = 8\n"
     ]
    }
   ],
   "source": [
    "#8. Create a recursive Python function to calculate the power of a number (x^n).\n",
    "def recursive_power(x, n):\n",
    "    # Base case: If n is 0, return 1\n",
    "    if n == 0:\n",
    "        return 1\n",
    "    # Recursive case: Compute x^n as x * x^(n-1)\n",
    "    return x * recursive_power(x, n - 1)\n",
    "\n",
    "# Example usage:\n",
    "base = 2\n",
    "exponent = 3\n",
    "result = recursive_power(base, exponent)\n",
    "print(f\"{base}^{exponent} = {result}\")\n"
   ]
  },
  {
   "cell_type": "code",
   "execution_count": 6,
   "id": "6a2f6bd1",
   "metadata": {},
   "outputs": [
    {
     "name": "stdout",
     "output_type": "stream",
     "text": [
      "Permutations of 'abc': ['abc', 'acb', 'bac', 'bca', 'cab', 'cba']\n"
     ]
    }
   ],
   "source": [
    "#9. Write a recursive Python function to find all permutations of a given string.\n",
    "def recursive_permutations(input_string):\n",
    "    if len(input_string) == 1:\n",
    "        return [input_string]\n",
    "    \n",
    "    perms = []\n",
    "    for i, char in enumerate(input_string):\n",
    "        rest = input_string[:i] + input_string[i+1:]\n",
    "        for perm in recursive_permutations(rest):\n",
    "            perms.append(char + perm)\n",
    "    \n",
    "    return perms\n",
    "\n",
    "# Example usage:\n",
    "input_str = \"abc\"\n",
    "permutations = recursive_permutations(input_str)\n",
    "print(f\"Permutations of '{input_str}': {permutations}\")\n"
   ]
  },
  {
   "cell_type": "code",
   "execution_count": 7,
   "id": "3cbe12f1",
   "metadata": {},
   "outputs": [
    {
     "name": "stdout",
     "output_type": "stream",
     "text": [
      "'racecar' is a palindrome.\n"
     ]
    }
   ],
   "source": [
    "#10. Write a recursive Python function to check if a string is a palindrome.\n",
    "def is_palindrome(input_string):\n",
    "    input_string = input_string.lower()  # Convert to lowercase for case-insensitive check\n",
    "    # Base cases: An empty string or a single character string is a palindrome\n",
    "    if len(input_string) <= 1:\n",
    "        return True\n",
    "    # Recursive case: Check if the first and last characters are the same, then check the substring\n",
    "    if input_string[0] == input_string[-1]:\n",
    "        return is_palindrome(input_string[1:-1])\n",
    "    return False\n",
    "\n",
    "# Example usage:\n",
    "test_string = \"racecar\"\n",
    "if is_palindrome(test_string):\n",
    "    print(f\"'{test_string}' is a palindrome.\")\n",
    "else:\n",
    "    print(f\"'{test_string}' is not a palindrome.\")\n"
   ]
  },
  {
   "cell_type": "code",
   "execution_count": 8,
   "id": "3132ec6a",
   "metadata": {},
   "outputs": [
    {
     "name": "stdout",
     "output_type": "stream",
     "text": [
      "2-element combinations of [1, 2, 3]: [[1, 2], [1, 3], [2, 3]]\n"
     ]
    }
   ],
   "source": [
    "#11. Create a recursive Python function to generate all possible combinations of a list of elements.\n",
    "def recursive_combinations(elements, k):\n",
    "    if k == 0:\n",
    "        return [[]]\n",
    "    if len(elements) == 0:\n",
    "        return []\n",
    "    \n",
    "    first, rest = elements[0], elements[1:]\n",
    "    \n",
    "    # Recursive case: Generate combinations with and without the first element\n",
    "    with_first = [[first] + combo for combo in recursive_combinations(rest, k - 1)]\n",
    "    without_first = recursive_combinations(rest, k)\n",
    "    \n",
    "    return with_first + without_first\n",
    "\n",
    "# Example usage:\n",
    "element_list = [1, 2, 3]\n",
    "combination_size = 2\n",
    "combinations = recursive_combinations(element_list, combination_size)\n",
    "print(f\"{combination_size}-element combinations of {element_list}: {combinations}\")\n"
   ]
  },
  {
   "cell_type": "markdown",
   "id": "a5903ec7",
   "metadata": {},
   "source": [
    "# Basics of Functions:"
   ]
  },
  {
   "cell_type": "code",
   "execution_count": null,
   "id": "9f34085c",
   "metadata": {},
   "outputs": [],
   "source": [
    "#1. What is a function in Python, and why is it used?\n",
    "\"\"\"\n",
    "A function in Python is a reusable block of code that performs a specific task or set of tasks. \n",
    "It is used to encapsulate a sequence of statements into a single unit, allowing you to organize and reuse code efficiently. \n",
    "Functions make your code more modular, readable, and maintainable.\"\"\""
   ]
  },
  {
   "cell_type": "code",
   "execution_count": 13,
   "id": "e0d5765f",
   "metadata": {},
   "outputs": [
    {
     "name": "stdout",
     "output_type": "stream",
     "text": [
      "Hello, Alice!\n"
     ]
    }
   ],
   "source": [
    "#2. How do you define a function in Python? Provide an example.\n",
    "def greet(name):\n",
    "    \"\"\"This function greets the person passed in as a parameter.\"\"\"\n",
    "    print(f\"Hello, {name}!\")\n",
    "\n",
    "# Example of a function call:\n",
    "greet(\"Alice\")"
   ]
  },
  {
   "cell_type": "code",
   "execution_count": null,
   "id": "d8d28a71",
   "metadata": {},
   "outputs": [],
   "source": [
    "#3. Explain the difference between a function definition and a function call.\n",
    "\"\"\"The difference between a function definition and a function call is as follows:\n",
    "\n",
    "Function Definition: It is the part where you define what a function does and how it operates. \n",
    "It includes the function name, parameters, and the block of code within the function body. \n",
    "In the example above, def greet(name): is the function definition.\n",
    "Function Call: It is the part where you use the defined function to execute its code. \n",
    "It involves providing arguments (values or variables) for the function's parameters. \n",
    "In the example above, greet(\"Alice\") is a function call where \"Alice\" is the argument provided to the name parameter.\"\"\""
   ]
  },
  {
   "cell_type": "code",
   "execution_count": 14,
   "id": "6aef69ff",
   "metadata": {},
   "outputs": [
    {
     "name": "stdout",
     "output_type": "stream",
     "text": [
      "Enter the first number: 2\n",
      "Enter the second number: 2\n",
      "The sum of 2.0 and 2.0 is 4.0\n"
     ]
    }
   ],
   "source": [
    "#4. Write a Python program that defines a function to calculate the sum of two numbers and then calls the function.\n",
    "# Define a function to calculate the sum of two numbers\n",
    "def add_numbers(a, b):\n",
    "    return a + b\n",
    "\n",
    "# Prompt the user for input\n",
    "num1 = float(input(\"Enter the first number: \"))\n",
    "num2 = float(input(\"Enter the second number: \"))\n",
    "\n",
    "# Call the function and print the result\n",
    "sum_result = add_numbers(num1, num2)\n",
    "print(f\"The sum of {num1} and {num2} is {sum_result}\")"
   ]
  },
  {
   "cell_type": "code",
   "execution_count": null,
   "id": "a8f2c6da",
   "metadata": {},
   "outputs": [],
   "source": [
    "#5. What is a function signature, and what information does it typically include?\n",
    "\"\"\"A function signature typically includes the following information:\n",
    "Function Name: The name that identifies the function.\n",
    "\n",
    "Parameters: The input values or variables that the function accepts, enclosed in parentheses.\n",
    "Parameters can be optional and can have default values.\n",
    "\n",
    "Return Type: The data type of the value that the function returns. If a function doesn't return anything, \n",
    "it has a return type of None.\n",
    "\n",
    "Docstring (Optional): A string enclosed in triple quotes that provides a brief description of what the function does. \n",
    "It serves as documentation for the function's purpose and usage.\"\"\"\"\"\""
   ]
  },
  {
   "cell_type": "code",
   "execution_count": 15,
   "id": "34f55615",
   "metadata": {},
   "outputs": [
    {
     "name": "stdout",
     "output_type": "stream",
     "text": [
      "Enter the first number: 2\n",
      "Enter the second number: 5\n",
      "The product of 2.0 and 5.0 is 10.0\n"
     ]
    }
   ],
   "source": [
    "#6. Create a Python function that takes two arguments and returns their product\n",
    "def multiply_numbers(a, b):\n",
    "    return a * b\n",
    "\n",
    "# Example usage:\n",
    "num1 = float(input(\"Enter the first number: \"))\n",
    "num2 = float(input(\"Enter the second number: \"))\n",
    "\n",
    "result = multiply_numbers(num1, num2)\n",
    "print(f\"The product of {num1} and {num2} is {result}\")"
   ]
  },
  {
   "cell_type": "markdown",
   "id": "cb8fe555",
   "metadata": {},
   "source": [
    "# Function Parameters and Arguments:"
   ]
  },
  {
   "cell_type": "code",
   "execution_count": null,
   "id": "779c3544",
   "metadata": {},
   "outputs": [],
   "source": [
    "#1. Explain the concepts of formal parameters and actual arguments in Python functions.\n",
    "\"\"\"n Python functions, formal parameters are placeholders or variables used in the function definition to represent the values \n",
    "that the function expects to receive when it is called. These parameters act as local variables within the function's scope and\n",
    "are used to perform operations or calculations. Formal parameters are defined within the parentheses of the function definition.\n",
    "\n",
    "Actual arguments, on the other hand, are the real values or expressions that are passed to a function when it is called. \n",
    "These values are substituted for the formal parameters when the function is executed. Actual arguments are provided within the \n",
    "arentheses when calling the function.\n",
    "\n",
    "There are several ways to pass actual arguments to a function in Python, \n",
    "including positional arguments (matched based on their position), keyword arguments (matched based on their names), \n",
    "and a combination of both.\"\"\""
   ]
  },
  {
   "cell_type": "code",
   "execution_count": 12,
   "id": "791a6f54",
   "metadata": {},
   "outputs": [
    {
     "name": "stdout",
     "output_type": "stream",
     "text": [
      "Hello, Alice!\n",
      "Hello, Guest!\n"
     ]
    }
   ],
   "source": [
    "#2. Write a Python program that defines a function with default argument values.\n",
    "def greet(name=\"Guest\"):\n",
    "    \"\"\"This function greets the person with the given name (or 'Guest' if not provided).\"\"\"\n",
    "    print(f\"Hello, {name}!\")\n",
    "\n",
    "# Calling the function with and without an argument\n",
    "greet(\"Alice\")  # Output: Hello, Alice!\n",
    "greet()         # Output: Hello, Guest!\n"
   ]
  },
  {
   "cell_type": "code",
   "execution_count": 1,
   "id": "16045aae",
   "metadata": {},
   "outputs": [
    {
     "name": "stdout",
     "output_type": "stream",
     "text": [
      "Hello, Alice!\n"
     ]
    }
   ],
   "source": [
    "# 3. How do you use keyword arguments in Python function calls? Provide an example.\n",
    "\"\"\"In Python, you can use keyword arguments in function calls by specifying the argument \n",
    "values using their corresponding parameter names. This allows us to pass arguments to a \n",
    "function in any order, as long as you specify the parameter names.\"\"\"\n",
    "\n",
    "# Define a function that accepts two parameters\n",
    "def greet(name, greeting):\n",
    "    print(f\"{greeting}, {name}!\")\n",
    "\n",
    "# Call the function using keyword arguments\n",
    "greet(greeting=\"Hello\", name=\"Alice\")\n"
   ]
  },
  {
   "cell_type": "code",
   "execution_count": 2,
   "id": "fde61580",
   "metadata": {},
   "outputs": [
    {
     "name": "stdout",
     "output_type": "stream",
     "text": [
      "6\n",
      "100\n"
     ]
    }
   ],
   "source": [
    "#4. Create a Python function that accepts a variable number of arguments and calculates their sum.\n",
    "\n",
    "def calculate_sum(*args):\n",
    "    total = 0\n",
    "    for num in args:\n",
    "        total += num\n",
    "    return total\n",
    "\n",
    "# Call the function with different numbers of arguments\n",
    "result1 = calculate_sum(1, 2, 3)\n",
    "result2 = calculate_sum(10, 20, 30, 40)\n",
    "\n",
    "print(result1)  # Output: 6\n",
    "print(result2)  # Output: 100"
   ]
  },
  {
   "cell_type": "code",
   "execution_count": null,
   "id": "36b540d4",
   "metadata": {},
   "outputs": [],
   "source": [
    "#5. What is the purpose of the `*args` and `**kwargs` syntax in function parameter lists?\n",
    "\"\"\"The *args and **kwargs syntax in function parameter lists are used for handling variable numbers of positional and \n",
    "keyword arguments, respectively:\n",
    "*args: It collects any number of positional arguments into a tuple. This allows you to pass a variable number of \n",
    "arguments to a function without explicitly naming them.\n",
    "**kwargs: It collects any number of keyword arguments into a dictionary. This allows you to pass a variable number \n",
    "of keyword arguments to a function without explicitly naming them.\n",
    "\n",
    "These features are particularly useful when you want to create flexible functions that can accept different numbers \n",
    "of arguments or handle optional arguments.\"\"\""
   ]
  },
  {
   "cell_type": "markdown",
   "id": "4f8d649a",
   "metadata": {},
   "source": [
    "# Return Values and Scoping:"
   ]
  },
  {
   "cell_type": "code",
   "execution_count": 2,
   "id": "3dc92686",
   "metadata": {},
   "outputs": [
    {
     "name": "stdout",
     "output_type": "stream",
     "text": [
      "7\n"
     ]
    }
   ],
   "source": [
    "#1. Describe the role of the `return` statement in Python functions and provide examples.\n",
    "\"\"\"The return statement is used in Python functions to specify the value that the function should send \n",
    "back to the caller when the function is called. It is often the result of some computation performed within \n",
    "the function. Once the return statement is executed, the function terminates, and control returns to the\n",
    "point where the function was called.\"\"\"\n",
    "def add(a, b):\n",
    "    result = a + b\n",
    "    return result  # Returns the sum of 'a' and 'b'\n",
    "\n",
    "sum_result = add(3, 4)  # Call the function and store the result\n",
    "\n",
    "print(sum_result)"
   ]
  },
  {
   "cell_type": "code",
   "execution_count": null,
   "id": "23126e44",
   "metadata": {},
   "outputs": [],
   "source": [
    "# 2. Explain the concept of variable scope in Python, including local and global variables.\n",
    "\"\"\"Variable scope refers to where in the code a variable can be accessed or modified.\n",
    "In Python, variables can have either local or global scope.\n",
    "Local variables are defined within a function and can only be accessed within that function.\n",
    "Global variables are defined outside of any function and can be accessed throughout the entire \n",
    "program, including within functions.\"\"\""
   ]
  },
  {
   "cell_type": "code",
   "execution_count": 3,
   "id": "618a525e",
   "metadata": {},
   "outputs": [
    {
     "name": "stdout",
     "output_type": "stream",
     "text": [
      "11\n"
     ]
    }
   ],
   "source": [
    "# 3. Write a Python program that demonstrates the use of global variables within functions.\n",
    "\"\"\"To access a global variable from within a function, you can simply use the variable's name.\n",
    "If you want to modify a global variable from within a function, you need to use the global keyword \n",
    "to indicate that you are referring to the global variable.\"\"\"\n",
    "\n",
    "\n",
    "global_var = 10  # Global variable\n",
    "\n",
    "def modify_global():\n",
    "    global global_var\n",
    "    global_var += 1\n",
    "\n",
    "modify_global()\n",
    "print(global_var)  # Outputs 11\n"
   ]
  },
  {
   "cell_type": "code",
   "execution_count": 5,
   "id": "1bf23217",
   "metadata": {},
   "outputs": [
    {
     "name": "stdout",
     "output_type": "stream",
     "text": [
      "120\n"
     ]
    }
   ],
   "source": [
    "#  4. Create a Python function that calculates the factorial of a number and returns it.\n",
    "def factorial(n):\n",
    "    if n == 0:\n",
    "        return 1\n",
    "    else:\n",
    "        return n * factorial(n - 1)\n",
    "\n",
    "result = factorial(5)  # Computes 5!\n",
    "print(result)"
   ]
  },
  {
   "cell_type": "code",
   "execution_count": 7,
   "id": "4d5e274a",
   "metadata": {},
   "outputs": [
    {
     "name": "stdout",
     "output_type": "stream",
     "text": [
      "42\n",
      "43\n"
     ]
    }
   ],
   "source": [
    "#5. How can you access variables defined outside a function from within the function?\n",
    "\n",
    "\"\"\"To access a global variable from within a function, you can use the variable's name directly.\n",
    "If you want to modify a global variable from within a function, you need to use the global keyword.\"\"\"\n",
    "\n",
    "global_var = 42  # Global variable\n",
    "\n",
    "def access_global():\n",
    "    print(global_var)  # Accessing the global variable\n",
    "\n",
    "def modify_global():\n",
    "    global global_var\n",
    "    global_var += 1  # Modifying the global variable\n",
    "\n",
    "access_global()\n",
    "modify_global()\n",
    "print(global_var)  # Outputs 43 after modification"
   ]
  },
  {
   "cell_type": "markdown",
   "id": "aecf11a6",
   "metadata": {},
   "source": [
    "# Lambda Functions and Higher-Order Functions:"
   ]
  },
  {
   "cell_type": "code",
   "execution_count": null,
   "id": "73e0e376",
   "metadata": {},
   "outputs": [],
   "source": [
    "#1. What are lambda functions in Python, and when are they typically used?\n",
    "\"\"\"Lambda functions, also known as anonymous functions, are small, unnamed functions defined using the lambda keyword.\n",
    "They are typically used when you need a simple, short function for a short period and don't want to define a full function \n",
    "using def. Lambda functions are often used in combination with functions like map, filter, and sorted.\"\"\""
   ]
  },
  {
   "cell_type": "code",
   "execution_count": 10,
   "id": "41b78670",
   "metadata": {},
   "outputs": [
    {
     "name": "stdout",
     "output_type": "stream",
     "text": [
      "[(4, 1), (3, 2), (1, 5), (2, 8)]\n"
     ]
    }
   ],
   "source": [
    "#2. Write a Python program that uses lambda functions to sort a list of tuples based on the second element.\n",
    "data = [(1, 5), (3, 2), (2, 8), (4, 1)]\n",
    "sorted_data = sorted(data, key=lambda x: x[1])\n",
    "print(sorted_data)"
   ]
  },
  {
   "cell_type": "code",
   "execution_count": null,
   "id": "b3f7c46d",
   "metadata": {},
   "outputs": [],
   "source": [
    "#3. Explain the concept of higher-order functions in Python, and provide an example.\n",
    "\"\"\"Higher-order functions are functions that can take other functions as arguments, return functions as results, or both.\n",
    "Python supports higher-order functions, allowing you to work with functions as first-class objects.\n",
    "An example of a higher-order function is the map function, which applies a function to each element of an iterable.\"\"\""
   ]
  },
  {
   "cell_type": "code",
   "execution_count": 12,
   "id": "aa47b6f9",
   "metadata": {},
   "outputs": [
    {
     "name": "stdout",
     "output_type": "stream",
     "text": [
      "[1, 4, 9, 16, 25]\n"
     ]
    }
   ],
   "source": [
    "#4. Create a Python function that takes a list of numbers and a function as arguments, applying the \n",
    "# function to each element in the list.\n",
    "def apply_function_to_list(numbers, func):\n",
    "    result = []\n",
    "    for num in numbers:\n",
    "        result.append(func(num))\n",
    "    return result\n",
    "\n",
    "numbers = [1, 2, 3, 4, 5]\n",
    "squared_numbers = apply_function_to_list(numbers, lambda x: x ** 2)\n",
    "print(squared_numbers)"
   ]
  },
  {
   "cell_type": "markdown",
   "id": "c21c7087",
   "metadata": {},
   "source": [
    "# Built-in Functions:"
   ]
  },
  {
   "cell_type": "code",
   "execution_count": 14,
   "id": "0b98820c",
   "metadata": {},
   "outputs": [
    {
     "name": "stdout",
     "output_type": "stream",
     "text": [
      "5 10 2\n"
     ]
    }
   ],
   "source": [
    "#1. Describe the role of built-in functions like `len()`, `max()`, and `min()` in Python.\n",
    "\"\"\"Python provides a wide range of built-in functions that perform common tasks and operations.\n",
    "These functions are part of the Python standard library and can be used without importing external modules.\n",
    "Examples include len(), max(), and min():\n",
    "len(iterable): Returns the number of elements in an iterable (e.g., list, string, tuple).\n",
    "max(iterable): Returns the maximum element in an iterable.\n",
    "min(iterable): Returns the minimum element in an iterable.\"\"\"\n",
    "my_list = [4, 8, 2, 10, 6]\n",
    "length = len(my_list)  # length will be 5\n",
    "maximum = max(my_list)  # maximum will be 10\n",
    "minimum = min(my_list)  # minimum will be 2\n",
    "print(length,maximum,minimum)"
   ]
  },
  {
   "cell_type": "code",
   "execution_count": 16,
   "id": "18e7f2d7",
   "metadata": {},
   "outputs": [
    {
     "name": "stdout",
     "output_type": "stream",
     "text": [
      "[1, 4, 9, 16, 25]\n"
     ]
    }
   ],
   "source": [
    "#2. Write a Python program that uses the `map()` function to apply a function to each element of a list.\n",
    "numbers = [1, 2, 3, 4, 5]\n",
    "\n",
    "# Define a function to square a number\n",
    "def square(x):\n",
    "    return x ** 2\n",
    "\n",
    "squared_numbers = list(map(square, numbers))  # [1, 4, 9, 16, 25]\n",
    "print(squared_numbers)"
   ]
  },
  {
   "cell_type": "code",
   "execution_count": 17,
   "id": "5e29b453",
   "metadata": {},
   "outputs": [
    {
     "name": "stdout",
     "output_type": "stream",
     "text": [
      "[2, 4]\n"
     ]
    }
   ],
   "source": [
    "#3. How does the `filter()` function work in Python, and when would you use it?\n",
    "\"\"\"The filter() function filters elements from an iterable based on a given function (predicate) and \n",
    "returns an iterator containing the elements that satisfy the condition.\n",
    "It is useful when you want to extract specific elements from a sequence based on a certain criterion.\"\"\"\n",
    "numbers = [1, 2, 3, 4, 5]\n",
    "\n",
    "# Define a function to filter even numbers\n",
    "def is_even(x):\n",
    "    return x % 2 == 0\n",
    "\n",
    "even_numbers = list(filter(is_even, numbers))  # [2, 4]\n",
    "print(even_numbers)"
   ]
  },
  {
   "cell_type": "code",
   "execution_count": 18,
   "id": "ad1325a6",
   "metadata": {},
   "outputs": [
    {
     "name": "stdout",
     "output_type": "stream",
     "text": [
      "120\n"
     ]
    }
   ],
   "source": [
    "#4. Create a Python program that uses the `reduce()` function to find the product of all elements in a list.\n",
    "from functools import reduce\n",
    "\n",
    "numbers = [1, 2, 3, 4, 5]\n",
    "\n",
    "# Define a function to calculate the product of two numbers\n",
    "def multiply(x, y):\n",
    "    return x * y\n",
    "\n",
    "product = reduce(multiply, numbers)  # 120 (1 * 2 * 3 * 4 * 5)\n",
    "print(product)"
   ]
  },
  {
   "cell_type": "markdown",
   "id": "f1b084b4",
   "metadata": {},
   "source": [
    "# Function Documentation and Best Practices:"
   ]
  },
  {
   "cell_type": "code",
   "execution_count": null,
   "id": "87c3e515",
   "metadata": {},
   "outputs": [],
   "source": [
    "#1. Explain the purpose of docstrings in Python functions and how to write them.\n",
    "\"\"\"\n",
    "Docstrings in Python are used to document functions, modules, classes, or methods. \n",
    "They serve as a form of documentation to explain what a piece of code does, its parameters, and its expected behavior. \n",
    "Docstrings are accessible as the __doc__ attribute of an object and can be used to generate documentation automatically \n",
    "using tools like Sphinx.\"\"\""
   ]
  },
  {
   "cell_type": "code",
   "execution_count": null,
   "id": "db05eb9c",
   "metadata": {},
   "outputs": [],
   "source": [
    "#2. Describe some best practices for naming functions and variables in Python, including naming\n",
    "# conventions and guidelines.\n",
    "\"\"\"\n",
    "1. Use Descriptive Names:\n",
    "   - Choose names that describe the function or variable's purpose.\n",
    "   - Avoid generic names like `x` or `data`.\n",
    "\n",
    "2. Follow PEP 8:\n",
    "   - Adhere to Python's naming conventions (snake_case for functions and variables, CamelCase for classes).\n",
    "   - Use uppercase for constants.\n",
    "\n",
    "3. Be Consistent:\n",
    "   - Maintain naming consistency throughout your codebase.\n",
    "\n",
    "4. Use Verbs for Functions:\n",
    "   - Start function names with a verb that describes their action.\n",
    "\n",
    "5. Be Specific:\n",
    "   - Avoid vague or ambiguous names.\n",
    "\n",
    "6. Keep Names Concise:\n",
    "   - Balance clarity and brevity in names.\n",
    "\n",
    "7. Avoid Reserved Words:\n",
    "   - Don't use Python's reserved words as names.\n",
    "\n",
    "8. CamelCase for Class Names:\n",
    "   - Use CamelCase for class names.\n",
    "\n",
    "9. Meaningful Parameters:\n",
    "   - Name function parameters meaningfully.\n",
    "\n",
    "10. Consider Context:\n",
    "    - Adapt naming to the project's scale.\n",
    "\n",
    "11. Comment When Necessary:\n",
    "    - Add comments for clarity when names alone aren't sufficient.\n",
    "\n",
    "12. Refactor When Appropriate:\n",
    "    - Update names as your code evolves.\n",
    "\n",
    "Effective naming enhances code readability, understandability, and maintainability, benefiting both developers and users.\"\"\""
   ]
  }
 ],
 "metadata": {
  "kernelspec": {
   "display_name": "Python 3 (ipykernel)",
   "language": "python",
   "name": "python3"
  },
  "language_info": {
   "codemirror_mode": {
    "name": "ipython",
    "version": 3
   },
   "file_extension": ".py",
   "mimetype": "text/x-python",
   "name": "python",
   "nbconvert_exporter": "python",
   "pygments_lexer": "ipython3",
   "version": "3.9.12"
  }
 },
 "nbformat": 4,
 "nbformat_minor": 5
}
