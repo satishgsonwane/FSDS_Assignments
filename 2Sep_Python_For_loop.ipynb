{
 "cells": [
  {
   "cell_type": "code",
   "execution_count": 1,
   "id": "4d4d43eb",
   "metadata": {},
   "outputs": [
    {
     "name": "stdout",
     "output_type": "stream",
     "text": [
      "1\n",
      "2\n",
      "3\n",
      "4\n",
      "5\n",
      "6\n",
      "7\n",
      "8\n",
      "9\n",
      "10\n"
     ]
    }
   ],
   "source": [
    "#1. Print numbers from 1 to 10 using a `for` loop:\n",
    "\n",
    "for num in range(1, 11):\n",
    "    print(num)\n"
   ]
  },
  {
   "cell_type": "code",
   "execution_count": 2,
   "id": "d0f991d9",
   "metadata": {},
   "outputs": [
    {
     "name": "stdout",
     "output_type": "stream",
     "text": [
      "Sum: 30\n"
     ]
    }
   ],
   "source": [
    "#2. Calculate the sum of all numbers in a list using a `for` loop:\n",
    "\n",
    "numbers = [2, 4, 6, 8, 10]\n",
    "total = 0\n",
    "\n",
    "for num in numbers:\n",
    "    total += num\n",
    "\n",
    "print(\"Sum:\", total)\n"
   ]
  },
  {
   "cell_type": "code",
   "execution_count": 4,
   "id": "b3a50c4d",
   "metadata": {},
   "outputs": [
    {
     "name": "stdout",
     "output_type": "stream",
     "text": [
      "!\n",
      "d\n",
      "l\n",
      "r\n",
      "o\n",
      "W\n",
      " \n",
      ",\n",
      "o\n",
      "l\n",
      "l\n",
      "e\n",
      "H\n"
     ]
    }
   ],
   "source": [
    "#3. Print characters of a string in reverse order using a `for` loop:\n",
    "text = \"Hello, World!\"\n",
    "\n",
    "for char in reversed(text):\n",
    "    print(char)\n"
   ]
  },
  {
   "cell_type": "code",
   "execution_count": 5,
   "id": "7c52e85a",
   "metadata": {},
   "outputs": [
    {
     "name": "stdout",
     "output_type": "stream",
     "text": [
      "Enter a number: 12\n",
      "Factorial of 12: 479001600\n"
     ]
    }
   ],
   "source": [
    "#4. Find the factorial of a given number using a `for` loop:\n",
    "\n",
    "n = int(input(\"Enter a number: \"))\n",
    "factorial = 1\n",
    "\n",
    "for i in range(1, n + 1):\n",
    "    factorial *= i\n",
    "\n",
    "print(f\"Factorial of {n}: {factorial}\")"
   ]
  },
  {
   "cell_type": "code",
   "execution_count": 6,
   "id": "2f3a3f9e",
   "metadata": {},
   "outputs": [
    {
     "name": "stdout",
     "output_type": "stream",
     "text": [
      "Enter a number: 12\n",
      "12 x 1 = 12\n",
      "12 x 2 = 24\n",
      "12 x 3 = 36\n",
      "12 x 4 = 48\n",
      "12 x 5 = 60\n",
      "12 x 6 = 72\n",
      "12 x 7 = 84\n",
      "12 x 8 = 96\n",
      "12 x 9 = 108\n",
      "12 x 10 = 120\n"
     ]
    }
   ],
   "source": [
    "#5. Print the multiplication table of a given number using a `for` loop:\n",
    "n = int(input(\"Enter a number: \"))\n",
    "\n",
    "for i in range(1, 11):\n",
    "    product = n * i\n",
    "    print(f\"{n} x {i} = {product}\")"
   ]
  },
  {
   "cell_type": "code",
   "execution_count": 7,
   "id": "83fbcb3f",
   "metadata": {},
   "outputs": [
    {
     "name": "stdout",
     "output_type": "stream",
     "text": [
      "Even numbers: 4\n",
      "Odd numbers: 2\n"
     ]
    }
   ],
   "source": [
    "#6. Count the number of even and odd numbers in a list using a `for` loop:\n",
    "numbers = [2, 4, 5, 7, 8, 10]\n",
    "even_count = 0\n",
    "odd_count = 0\n",
    "\n",
    "for num in numbers:\n",
    "    if num % 2 == 0:\n",
    "        even_count += 1\n",
    "    else:\n",
    "        odd_count += 1\n",
    "\n",
    "print(\"Even numbers:\", even_count)\n",
    "print(\"Odd numbers:\", odd_count)"
   ]
  },
  {
   "cell_type": "code",
   "execution_count": 8,
   "id": "c20fc2a4",
   "metadata": {},
   "outputs": [
    {
     "name": "stdout",
     "output_type": "stream",
     "text": [
      "1 squared is 1\n",
      "2 squared is 4\n",
      "3 squared is 9\n",
      "4 squared is 16\n",
      "5 squared is 25\n"
     ]
    }
   ],
   "source": [
    "#7. Print the squares of numbers from 1 to 5 using a `for` loop:\n",
    "\n",
    "for num in range(1, 6):\n",
    "    square = num ** 2\n",
    "    print(f\"{num} squared is {square}\")"
   ]
  },
  {
   "cell_type": "code",
   "execution_count": 9,
   "id": "f56f052c",
   "metadata": {},
   "outputs": [
    {
     "name": "stdout",
     "output_type": "stream",
     "text": [
      "Length of the string: 13\n"
     ]
    }
   ],
   "source": [
    "#8. Find the length of a string without using the `len()` function:\n",
    "\n",
    "text = \"Hello, World!\"\n",
    "length = 0\n",
    "\n",
    "for char in text:\n",
    "    length += 1\n",
    "\n",
    "print(\"Length of the string:\", length)"
   ]
  },
  {
   "cell_type": "code",
   "execution_count": 10,
   "id": "9417d112",
   "metadata": {},
   "outputs": [
    {
     "name": "stdout",
     "output_type": "stream",
     "text": [
      "Average: 6.0\n"
     ]
    }
   ],
   "source": [
    "#9. Calculate the average of a list of numbers using a `for` loop:\n",
    "numbers = [2, 4, 6, 8, 10]\n",
    "total = 0\n",
    "\n",
    "for num in numbers:\n",
    "    total += num\n",
    "\n",
    "average = total / len(numbers)\n",
    "print(\"Average:\", average)\n"
   ]
  },
  {
   "cell_type": "code",
   "execution_count": 11,
   "id": "5a20bf06",
   "metadata": {},
   "outputs": [
    {
     "name": "stdout",
     "output_type": "stream",
     "text": [
      "Enter the number of Fibonacci numbers to generate: 10\n",
      "Fibonacci sequence:\n",
      "0\n",
      "1\n",
      "1\n",
      "2\n",
      "3\n",
      "5\n",
      "8\n",
      "13\n",
      "21\n",
      "34\n"
     ]
    }
   ],
   "source": [
    "#10. Print the first `n` Fibonacci numbers using a `for` loop:\n",
    "n = int(input(\"Enter the number of Fibonacci numbers to generate: \"))\n",
    "fibonacci = [0, 1]\n",
    "\n",
    "for i in range(2, n):\n",
    "    next_term = fibonacci[i - 1] + fibonacci[i - 2]\n",
    "    fibonacci.append(next_term)\n",
    "\n",
    "print(\"Fibonacci sequence:\")\n",
    "for num in fibonacci:\n",
    "    print(num)\n"
   ]
  },
  {
   "cell_type": "code",
   "execution_count": 12,
   "id": "1fb9d45a",
   "metadata": {},
   "outputs": [
    {
     "name": "stdout",
     "output_type": "stream",
     "text": [
      "The list contains duplicates.\n"
     ]
    }
   ],
   "source": [
    "#11. Check if a list contains any duplicates using a `for` loop:\n",
    "\n",
    "def has_duplicates(lst):\n",
    "    seen = set()\n",
    "    for item in lst:\n",
    "        if item in seen:\n",
    "            return True\n",
    "        seen.add(item)\n",
    "    return False\n",
    "\n",
    "my_list = [1, 2, 3, 4, 5, 2]\n",
    "if has_duplicates(my_list):\n",
    "    print(\"The list contains duplicates.\")\n",
    "else:\n",
    "    print(\"The list does not contain duplicates.\")"
   ]
  },
  {
   "cell_type": "code",
   "execution_count": 13,
   "id": "bb0ee995",
   "metadata": {},
   "outputs": [
    {
     "name": "stdout",
     "output_type": "stream",
     "text": [
      "Enter the start of the range: 12\n",
      "Enter the end of the range: 15\n",
      "Prime numbers in the range 12 to 15:\n",
      "13\n"
     ]
    }
   ],
   "source": [
    "#12. Print prime numbers in a given range using a `for` loop:\n",
    "\n",
    "def is_prime(num):\n",
    "    if num <= 1:\n",
    "        return False\n",
    "    for i in range(2, int(num**0.5) + 1):\n",
    "        if num % i == 0:\n",
    "            return False\n",
    "    return True\n",
    "\n",
    "start = int(input(\"Enter the start of the range: \"))\n",
    "end = int(input(\"Enter the end of the range: \"))\n",
    "\n",
    "print(f\"Prime numbers in the range {start} to {end}:\")\n",
    "for num in range(start, end + 1):\n",
    "    if is_prime(num):\n",
    "        print(num)"
   ]
  },
  {
   "cell_type": "code",
   "execution_count": 14,
   "id": "9edf1ef8",
   "metadata": {},
   "outputs": [
    {
     "name": "stdout",
     "output_type": "stream",
     "text": [
      "Enter a string: hello ji\n",
      "Number of vowels in the string: 3\n"
     ]
    }
   ],
   "source": [
    "#13. Count the number of vowels in a string using a `for` loop:\n",
    "\n",
    "text = input(\"Enter a string: \")\n",
    "vowels = \"aeiouAEIOU\"\n",
    "count = 0\n",
    "\n",
    "for char in text:\n",
    "    if char in vowels:\n",
    "        count += 1\n",
    "\n",
    "print(f\"Number of vowels in the string: {count}\")"
   ]
  },
  {
   "cell_type": "code",
   "execution_count": 16,
   "id": "c073384e",
   "metadata": {},
   "outputs": [
    {
     "name": "stdout",
     "output_type": "stream",
     "text": [
      "The maximum element in the 2D list is: 9\n"
     ]
    }
   ],
   "source": [
    "#14. Find the maximum element in a 2D list using a nested `for` loop:\n",
    "\n",
    "matrix = [\n",
    "    [3, 7, 2],\n",
    "    [9, 4, 6],\n",
    "    [1, 8, 5]\n",
    "]\n",
    "\n",
    "max_value = matrix[0][0]\n",
    "\n",
    "for row in matrix:\n",
    "    for element in row:\n",
    "        if element > max_value:\n",
    "            max_value = element\n",
    "\n",
    "print(f\"The maximum element in the 2D list is: {max_value}\")"
   ]
  },
  {
   "cell_type": "code",
   "execution_count": 17,
   "id": "9adacb64",
   "metadata": {},
   "outputs": [
    {
     "name": "stdout",
     "output_type": "stream",
     "text": [
      "Original list: [1, 2, 3, 2, 4, 5, 2]\n",
      "List after removing 2: [1, 3, 4, 5]\n"
     ]
    }
   ],
   "source": [
    "#15. Remove all occurrences of a specific element from a list using a `for` loop:\n",
    "\n",
    "my_list = [1, 2, 3, 2, 4, 5, 2]\n",
    "element_to_remove = 2\n",
    "\n",
    "new_list = []\n",
    "for item in my_list:\n",
    "    if item != element_to_remove:\n",
    "        new_list.append(item)\n",
    "\n",
    "print(f\"Original list: {my_list}\")\n",
    "print(f\"List after removing {element_to_remove}: {new_list}\")"
   ]
  },
  {
   "cell_type": "code",
   "execution_count": null,
   "id": "b816ff58",
   "metadata": {},
   "outputs": [],
   "source": [
    "#16. Generate a multiplication table for numbers from 1 to 5 using a nested `for` loop:\n",
    "\n",
    "for i in range(1, 6):\n",
    "    print(f\"Multiplication table for {i}:\")\n",
    "    for j in range(1, 11):\n",
    "        product = i * j\n",
    "        print(f\"{i} x {j} = {product}\")\n",
    "    print()  # Blank line to separate tables"
   ]
  },
  {
   "cell_type": "code",
   "execution_count": 18,
   "id": "d79316ec",
   "metadata": {},
   "outputs": [
    {
     "name": "stdout",
     "output_type": "stream",
     "text": [
      "Fahrenheit temperatures: [32, 68, 104, 212]\n",
      "Celsius temperatures: [0.0, 20.0, 40.0, 100.0]\n"
     ]
    }
   ],
   "source": [
    "#17. Convert a list of Fahrenheit temperatures to Celsius using a `for` loop:\n",
    "\n",
    "fahrenheit_temperatures = [32, 68, 104, 212]\n",
    "celsius_temperatures = []\n",
    "\n",
    "for fahrenheit in fahrenheit_temperatures:\n",
    "    celsius = (fahrenheit - 32) * 5/9\n",
    "    celsius_temperatures.append(celsius)\n",
    "\n",
    "print(f\"Fahrenheit temperatures: {fahrenheit_temperatures}\")\n",
    "print(f\"Celsius temperatures: {celsius_temperatures}\")"
   ]
  },
  {
   "cell_type": "code",
   "execution_count": 19,
   "id": "b0239820",
   "metadata": {},
   "outputs": [
    {
     "name": "stdout",
     "output_type": "stream",
     "text": [
      "Common elements between the two lists: [3, 4, 5]\n"
     ]
    }
   ],
   "source": [
    "#18. Print common elements from two lists using a `for` loop:\n",
    "\n",
    "list1 = [1, 2, 3, 4, 5]\n",
    "list2 = [3, 4, 5, 6, 7]\n",
    "common_elements = []\n",
    "\n",
    "for item in list1:\n",
    "    if item in list2:\n",
    "        common_elements.append(item)\n",
    "\n",
    "print(f\"Common elements between the two lists: {common_elements}\")"
   ]
  },
  {
   "cell_type": "code",
   "execution_count": 22,
   "id": "375987ca",
   "metadata": {},
   "outputs": [
    {
     "name": "stdout",
     "output_type": "stream",
     "text": [
      "Enter the number of rows for the right-angled triangles pattern: 3\n",
      "* \n",
      "* * \n",
      "* * * \n"
     ]
    }
   ],
   "source": [
    "#19. Print the pattern of right-angled triangles using a `for` loop:\n",
    "\n",
    "n = int(input(\"Enter the number of rows for the right-angled triangles pattern: \"))\n",
    "\n",
    "for i in range(1, n + 1):\n",
    "    for j in range(i):\n",
    "        print(\"*\", end=\" \")\n",
    "    print()"
   ]
  },
  {
   "cell_type": "code",
   "execution_count": 23,
   "id": "ba03950f",
   "metadata": {},
   "outputs": [
    {
     "name": "stdout",
     "output_type": "stream",
     "text": [
      "Enter the first number: 3\n",
      "Enter the second number: 4\n",
      "The greatest common divisor (GCD) of 3 and 4 is 1.\n"
     ]
    }
   ],
   "source": [
    "#20. Find the greatest common divisor (GCD) of two numbers using a `for` loop:\n",
    "\n",
    "def gcd(a, b):\n",
    "    while b:\n",
    "        a, b = b, a % b\n",
    "    return a\n",
    "\n",
    "num1 = int(input(\"Enter the first number: \"))\n",
    "num2 = int(input(\"Enter the second number: \"))\n",
    "\n",
    "result = gcd(num1, num2)\n",
    "print(f\"The greatest common divisor (GCD) of {num1} and {num2} is {result}.\")"
   ]
  },
  {
   "cell_type": "code",
   "execution_count": 24,
   "id": "b5350022",
   "metadata": {},
   "outputs": [
    {
     "name": "stdout",
     "output_type": "stream",
     "text": [
      "Sum of digits of numbers: [6, 15, 24]\n"
     ]
    }
   ],
   "source": [
    "#21. Calculate the sum of the digits of numbers in a list using a list comprehension:\n",
    "\n",
    "numbers = [123, 456, 789]\n",
    "digit_sums = [sum(int(digit) for digit in str(num)) for num in numbers]\n",
    "\n",
    "print(\"Sum of digits of numbers:\", digit_sums)"
   ]
  },
  {
   "cell_type": "code",
   "execution_count": 25,
   "id": "be6fefa1",
   "metadata": {},
   "outputs": [
    {
     "name": "stdout",
     "output_type": "stream",
     "text": [
      "Enter a number: 2\n",
      "Prime factors of 2: [2]\n"
     ]
    }
   ],
   "source": [
    "#22. Find the prime factors of a given number using a `for` loop and list comprehension:\n",
    "\n",
    "def is_prime(num):\n",
    "    if num <= 1:\n",
    "        return False\n",
    "    for i in range(2, int(num**0.5) + 1):\n",
    "        if num % i == 0:\n",
    "            return False\n",
    "    return True\n",
    "\n",
    "def prime_factors(n):\n",
    "    factors = [x for x in range(2, n+1) if n % x == 0 and is_prime(x)]\n",
    "    return factors\n",
    "\n",
    "number = int(input(\"Enter a number: \"))\n",
    "factors = prime_factors(number)\n",
    "\n",
    "print(f\"Prime factors of {number}: {factors}\")"
   ]
  },
  {
   "cell_type": "code",
   "execution_count": 26,
   "id": "020dbd75",
   "metadata": {},
   "outputs": [
    {
     "name": "stdout",
     "output_type": "stream",
     "text": [
      "Unique elements: [1, 2, 3, 4, 5]\n"
     ]
    }
   ],
   "source": [
    "#23. Extract unique elements from a list and store them in a new list using a list comprehension:\n",
    "\n",
    "original_list = [1, 2, 2, 3, 4, 4, 5]\n",
    "unique_elements = [x for i, x in enumerate(original_list) if x not in original_list[:i]]\n",
    "\n",
    "print(\"Unique elements:\", unique_elements)"
   ]
  },
  {
   "cell_type": "code",
   "execution_count": 27,
   "id": "7f0e3aab",
   "metadata": {},
   "outputs": [
    {
     "name": "stdout",
     "output_type": "stream",
     "text": [
      "Enter the limit: 4\n",
      "Palindromic numbers: [1, 2, 3, 4]\n"
     ]
    }
   ],
   "source": [
    "#24. Generate a list of all palindromic numbers up to a specified limit using a list comprehension:\n",
    "\n",
    "limit = int(input(\"Enter the limit: \"))\n",
    "palindromic_numbers = [num for num in range(1, limit + 1) if str(num) == str(num)[::-1]]\n",
    "\n",
    "print(\"Palindromic numbers:\", palindromic_numbers)"
   ]
  },
  {
   "cell_type": "code",
   "execution_count": 28,
   "id": "5a202564",
   "metadata": {},
   "outputs": [
    {
     "name": "stdout",
     "output_type": "stream",
     "text": [
      "Flattened list: [1, 2, 3, 4, 5, 6, 7, 8]\n"
     ]
    }
   ],
   "source": [
    "#25. Flatten a nested list using list comprehension:\n",
    "\n",
    "nested_list = [[1, 2, 3], [4, 5], [6, 7, 8]]\n",
    "flattened_list = [item for sublist in nested_list for item in sublist]\n",
    "\n",
    "print(\"Flattened list:\", flattened_list)"
   ]
  },
  {
   "cell_type": "code",
   "execution_count": 29,
   "id": "4a6cd488",
   "metadata": {},
   "outputs": [
    {
     "name": "stdout",
     "output_type": "stream",
     "text": [
      "Sum of even numbers: 20\n",
      "Sum of odd numbers: 25\n"
     ]
    }
   ],
   "source": [
    "#26. Compute the sum of even and odd numbers in a list separately using list comprehension:\n",
    "\n",
    "numbers = [1, 2, 3, 4, 5, 6, 7, 8, 9]\n",
    "sum_even = sum([x for x in numbers if x % 2 == 0])\n",
    "sum_odd = sum([x for x in numbers if x % 2 != 0])\n",
    "\n",
    "print(f\"Sum of even numbers: {sum_even}\")\n",
    "print(f\"Sum of odd numbers: {sum_odd}\")"
   ]
  },
  {
   "cell_type": "code",
   "execution_count": 30,
   "id": "3fe2b588",
   "metadata": {},
   "outputs": [
    {
     "name": "stdout",
     "output_type": "stream",
     "text": [
      "Squares of odd numbers: [1, 9, 25, 49, 81]\n"
     ]
    }
   ],
   "source": [
    "#27. Generate a list of squares of odd numbers between 1 and 10 using list comprehension:\n",
    "\n",
    "squares_of_odd_numbers = [x**2 for x in range(1, 11) if x % 2 != 0]\n",
    "\n",
    "print(\"Squares of odd numbers:\", squares_of_odd_numbers)"
   ]
  },
  {
   "cell_type": "code",
   "execution_count": 31,
   "id": "bdeb8d48",
   "metadata": {},
   "outputs": [
    {
     "name": "stdout",
     "output_type": "stream",
     "text": [
      "Combined dictionary: {'a': 1, 'b': 2, 'c': 3}\n"
     ]
    }
   ],
   "source": [
    "#28. Combine two lists into a dictionary using list comprehension:\n",
    "\n",
    "keys = [\"a\", \"b\", \"c\"]\n",
    "values = [1, 2, 3]\n",
    "combined_dict = {k: v for k, v in zip(keys, values)}\n",
    "\n",
    "print(\"Combined dictionary:\", combined_dict)"
   ]
  },
  {
   "cell_type": "code",
   "execution_count": 32,
   "id": "dc5b6f16",
   "metadata": {},
   "outputs": [
    {
     "name": "stdout",
     "output_type": "stream",
     "text": [
      "Vowels in the string: ['e', 'o', 'o']\n"
     ]
    }
   ],
   "source": [
    "#29. Extract vowels from a string and store them in a list using list comprehension:\n",
    "\n",
    "text = \"Hello, World!\"\n",
    "vowels = ['a', 'e', 'i', 'o', 'u']\n",
    "vowel_list = [char for char in text if char.lower() in vowels]\n",
    "\n",
    "print(\"Vowels in the string:\", vowel_list)"
   ]
  },
  {
   "cell_type": "code",
   "execution_count": 33,
   "id": "73c2c768",
   "metadata": {},
   "outputs": [
    {
     "name": "stdout",
     "output_type": "stream",
     "text": [
      "Numeric strings: ['123', '456']\n"
     ]
    }
   ],
   "source": [
    "#30. Remove all non-numeric characters from a list of strings using list comprehension:\n",
    "\n",
    "string_list = [\"abc\", \"123\", \"xyz\", \"456\"]\n",
    "numeric_strings = [s for s in string_list if s.isnumeric()]\n",
    "\n",
    "print(\"Numeric strings:\", numeric_strings)"
   ]
  },
  {
   "cell_type": "code",
   "execution_count": 34,
   "id": "e9cfe8ed",
   "metadata": {},
   "outputs": [
    {
     "name": "stdout",
     "output_type": "stream",
     "text": [
      "Enter the limit: 8\n",
      "Prime numbers up to 8 : [2, 3, 5, 7]\n"
     ]
    }
   ],
   "source": [
    "#31. Generate a list of prime numbers using the Sieve of Eratosthenes algorithm and list comprehension:\n",
    "\n",
    "def sieve_eratosthenes(n):\n",
    "    sieve = [True] * (n + 1)\n",
    "    sieve[0:2] = [False, False]\n",
    "    \n",
    "    for p in range(2, int(n**0.5) + 1):\n",
    "        if sieve[p]:\n",
    "            sieve[p*p::p] = [False] * len(sieve[p*p::p])\n",
    "    \n",
    "    return [i for i, is_prime in enumerate(sieve) if is_prime]\n",
    "\n",
    "limit = int(input(\"Enter the limit: \"))\n",
    "prime_numbers = sieve_eratosthenes(limit)\n",
    "\n",
    "print(\"Prime numbers up to\", limit, \":\", prime_numbers)"
   ]
  },
  {
   "cell_type": "code",
   "execution_count": 35,
   "id": "94fe99fc",
   "metadata": {},
   "outputs": [
    {
     "name": "stdout",
     "output_type": "stream",
     "text": [
      "Enter the limit: 10\n",
      "Pythagorean triplets up to 10 : [(3, 4, 5), (6, 8, 10)]\n"
     ]
    }
   ],
   "source": [
    "#32. Generate a list of Pythagorean triplets up to a specified limit using list comprehension:\n",
    "limit = int(input(\"Enter the limit: \"))\n",
    "pythagorean_triplets = [(a, b, c) for a in range(1, limit + 1) for b in range(a, limit + 1) for c in range(b, limit + 1) if a**2 + b**2 == c**2]\n",
    "\n",
    "print(\"Pythagorean triplets up to\", limit, \":\", pythagorean_triplets)"
   ]
  },
  {
   "cell_type": "code",
   "execution_count": 36,
   "id": "cf089c78",
   "metadata": {},
   "outputs": [
    {
     "name": "stdout",
     "output_type": "stream",
     "text": [
      "Combinations: [(1, 'a'), (1, 'b'), (1, 'c'), (2, 'a'), (2, 'b'), (2, 'c'), (3, 'a'), (3, 'b'), (3, 'c')]\n"
     ]
    }
   ],
   "source": [
    "#33. Generate a list of all possible combinations of two lists using list comprehension:\n",
    "\n",
    "list1 = [1, 2, 3]\n",
    "list2 = ['a', 'b', 'c']\n",
    "combinations = [(x, y) for x in list1 for y in list2]\n",
    "\n",
    "print(\"Combinations:\", combinations)"
   ]
  },
  {
   "cell_type": "code",
   "execution_count": 37,
   "id": "9fbe9105",
   "metadata": {},
   "outputs": [
    {
     "name": "stdout",
     "output_type": "stream",
     "text": [
      "Mean: 3, Median: 3, Mode: 2\n"
     ]
    }
   ],
   "source": [
    "#34. Calculate the mean, median, and mode of a list of numbers using list comprehension:\n",
    "\n",
    "import statistics\n",
    "\n",
    "numbers = [1, 2, 2, 3, 4, 4, 5]\n",
    "mean = statistics.mean(numbers)\n",
    "median = statistics.median(numbers)\n",
    "mode = statistics.mode(numbers)\n",
    "\n",
    "print(f\"Mean: {mean}, Median: {median}, Mode: {mode}\")"
   ]
  },
  {
   "cell_type": "code",
   "execution_count": 38,
   "id": "ccc14042",
   "metadata": {},
   "outputs": [
    {
     "name": "stdout",
     "output_type": "stream",
     "text": [
      "Enter the number of rows for Pascal's triangle: 4\n",
      "[1]\n",
      "[1, 1]\n",
      "[1, 2, 1]\n",
      "[1, 3, 3, 1]\n"
     ]
    }
   ],
   "source": [
    "#35. Generate Pascal's triangle up to a specified number of rows using list comprehension:\n",
    "\n",
    "def generate_pascals_triangle(n):\n",
    "    triangle = [[1]]\n",
    "    for i in range(1, n):\n",
    "        row = [1] + [triangle[i-1][j-1] + triangle[i-1][j] for j in range(1, i)] + [1]\n",
    "        triangle.append(row)\n",
    "    return triangle\n",
    "\n",
    "num_rows = int(input(\"Enter the number of rows for Pascal's triangle: \"))\n",
    "pascals_triangle = generate_pascals_triangle(num_rows)\n",
    "\n",
    "for row in pascals_triangle:\n",
    "    print(row)"
   ]
  },
  {
   "cell_type": "code",
   "execution_count": 39,
   "id": "57304563",
   "metadata": {},
   "outputs": [
    {
     "name": "stdout",
     "output_type": "stream",
     "text": [
      "Sum of digits of factorials: [1, 2, 6, 6, 3]\n"
     ]
    }
   ],
   "source": [
    "#36. Calculate the sum of the digits of the factorial of numbers from 1 to 5 using list comprehension:\n",
    "\n",
    "import math\n",
    "\n",
    "factorial_sums = [sum(int(digit) for digit in str(math.factorial(num))) for num in range(1, 6)]\n",
    "\n",
    "print(\"Sum of digits of factorials:\", factorial_sums)"
   ]
  },
  {
   "cell_type": "code",
   "execution_count": 41,
   "id": "932207d1",
   "metadata": {},
   "outputs": [
    {
     "name": "stdout",
     "output_type": "stream",
     "text": [
      "Longest word in the sentence: sentence\n"
     ]
    }
   ],
   "source": [
    "#37. Find the longest word in a sentence using list comprehension:\n",
    "\n",
    "sentence = \"This is a sample sentence with some long words\"\n",
    "words = sentence.split()\n",
    "longest_word = max(words, key=lambda word: len(word))\n",
    "\n",
    "print(\"Longest word in the sentence:\", longest_word)"
   ]
  },
  {
   "cell_type": "code",
   "execution_count": 42,
   "id": "9ba7a928",
   "metadata": {},
   "outputs": [
    {
     "name": "stdout",
     "output_type": "stream",
     "text": [
      "Words with more than three vowels: []\n"
     ]
    }
   ],
   "source": [
    "#38. Filter a list of strings to include only those with more than three vowels using list comprehension:\n",
    "\n",
    "words = [\"apple\", \"banana\", \"grape\", \"strawberry\", \"kiwi\", \"blueberry\"]\n",
    "vowel_count = lambda word: sum(1 for char in word if char in 'aeiouAEIOU')\n",
    "filtered_words = [word for word in words if vowel_count(word) > 3]\n",
    "\n",
    "print(\"Words with more than three vowels:\", filtered_words)"
   ]
  },
  {
   "cell_type": "code",
   "execution_count": 43,
   "id": "fa861c62",
   "metadata": {},
   "outputs": [
    {
     "name": "stdout",
     "output_type": "stream",
     "text": [
      "Sum of digits of numbers from 1 to 1000: [1, 2, 3, 4, 5, 6, 7, 8, 9, 1, 2, 3, 4, 5, 6, 7, 8, 9, 10, 2, 3, 4, 5, 6, 7, 8, 9, 10, 11, 3, 4, 5, 6, 7, 8, 9, 10, 11, 12, 4, 5, 6, 7, 8, 9, 10, 11, 12, 13, 5, 6, 7, 8, 9, 10, 11, 12, 13, 14, 6, 7, 8, 9, 10, 11, 12, 13, 14, 15, 7, 8, 9, 10, 11, 12, 13, 14, 15, 16, 8, 9, 10, 11, 12, 13, 14, 15, 16, 17, 9, 10, 11, 12, 13, 14, 15, 16, 17, 18, 1, 2, 3, 4, 5, 6, 7, 8, 9, 10, 2, 3, 4, 5, 6, 7, 8, 9, 10, 11, 3, 4, 5, 6, 7, 8, 9, 10, 11, 12, 4, 5, 6, 7, 8, 9, 10, 11, 12, 13, 5, 6, 7, 8, 9, 10, 11, 12, 13, 14, 6, 7, 8, 9, 10, 11, 12, 13, 14, 15, 7, 8, 9, 10, 11, 12, 13, 14, 15, 16, 8, 9, 10, 11, 12, 13, 14, 15, 16, 17, 9, 10, 11, 12, 13, 14, 15, 16, 17, 18, 10, 11, 12, 13, 14, 15, 16, 17, 18, 19, 2, 3, 4, 5, 6, 7, 8, 9, 10, 11, 3, 4, 5, 6, 7, 8, 9, 10, 11, 12, 4, 5, 6, 7, 8, 9, 10, 11, 12, 13, 5, 6, 7, 8, 9, 10, 11, 12, 13, 14, 6, 7, 8, 9, 10, 11, 12, 13, 14, 15, 7, 8, 9, 10, 11, 12, 13, 14, 15, 16, 8, 9, 10, 11, 12, 13, 14, 15, 16, 17, 9, 10, 11, 12, 13, 14, 15, 16, 17, 18, 10, 11, 12, 13, 14, 15, 16, 17, 18, 19, 11, 12, 13, 14, 15, 16, 17, 18, 19, 20, 3, 4, 5, 6, 7, 8, 9, 10, 11, 12, 4, 5, 6, 7, 8, 9, 10, 11, 12, 13, 5, 6, 7, 8, 9, 10, 11, 12, 13, 14, 6, 7, 8, 9, 10, 11, 12, 13, 14, 15, 7, 8, 9, 10, 11, 12, 13, 14, 15, 16, 8, 9, 10, 11, 12, 13, 14, 15, 16, 17, 9, 10, 11, 12, 13, 14, 15, 16, 17, 18, 10, 11, 12, 13, 14, 15, 16, 17, 18, 19, 11, 12, 13, 14, 15, 16, 17, 18, 19, 20, 12, 13, 14, 15, 16, 17, 18, 19, 20, 21, 4, 5, 6, 7, 8, 9, 10, 11, 12, 13, 5, 6, 7, 8, 9, 10, 11, 12, 13, 14, 6, 7, 8, 9, 10, 11, 12, 13, 14, 15, 7, 8, 9, 10, 11, 12, 13, 14, 15, 16, 8, 9, 10, 11, 12, 13, 14, 15, 16, 17, 9, 10, 11, 12, 13, 14, 15, 16, 17, 18, 10, 11, 12, 13, 14, 15, 16, 17, 18, 19, 11, 12, 13, 14, 15, 16, 17, 18, 19, 20, 12, 13, 14, 15, 16, 17, 18, 19, 20, 21, 13, 14, 15, 16, 17, 18, 19, 20, 21, 22, 5, 6, 7, 8, 9, 10, 11, 12, 13, 14, 6, 7, 8, 9, 10, 11, 12, 13, 14, 15, 7, 8, 9, 10, 11, 12, 13, 14, 15, 16, 8, 9, 10, 11, 12, 13, 14, 15, 16, 17, 9, 10, 11, 12, 13, 14, 15, 16, 17, 18, 10, 11, 12, 13, 14, 15, 16, 17, 18, 19, 11, 12, 13, 14, 15, 16, 17, 18, 19, 20, 12, 13, 14, 15, 16, 17, 18, 19, 20, 21, 13, 14, 15, 16, 17, 18, 19, 20, 21, 22, 14, 15, 16, 17, 18, 19, 20, 21, 22, 23, 6, 7, 8, 9, 10, 11, 12, 13, 14, 15, 7, 8, 9, 10, 11, 12, 13, 14, 15, 16, 8, 9, 10, 11, 12, 13, 14, 15, 16, 17, 9, 10, 11, 12, 13, 14, 15, 16, 17, 18, 10, 11, 12, 13, 14, 15, 16, 17, 18, 19, 11, 12, 13, 14, 15, 16, 17, 18, 19, 20, 12, 13, 14, 15, 16, 17, 18, 19, 20, 21, 13, 14, 15, 16, 17, 18, 19, 20, 21, 22, 14, 15, 16, 17, 18, 19, 20, 21, 22, 23, 15, 16, 17, 18, 19, 20, 21, 22, 23, 24, 7, 8, 9, 10, 11, 12, 13, 14, 15, 16, 8, 9, 10, 11, 12, 13, 14, 15, 16, 17, 9, 10, 11, 12, 13, 14, 15, 16, 17, 18, 10, 11, 12, 13, 14, 15, 16, 17, 18, 19, 11, 12, 13, 14, 15, 16, 17, 18, 19, 20, 12, 13, 14, 15, 16, 17, 18, 19, 20, 21, 13, 14, 15, 16, 17, 18, 19, 20, 21, 22, 14, 15, 16, 17, 18, 19, 20, 21, 22, 23, 15, 16, 17, 18, 19, 20, 21, 22, 23, 24, 16, 17, 18, 19, 20, 21, 22, 23, 24, 25, 8, 9, 10, 11, 12, 13, 14, 15, 16, 17, 9, 10, 11, 12, 13, 14, 15, 16, 17, 18, 10, 11, 12, 13, 14, 15, 16, 17, 18, 19, 11, 12, 13, 14, 15, 16, 17, 18, 19, 20, 12, 13, 14, 15, 16, 17, 18, 19, 20, 21, 13, 14, 15, 16, 17, 18, 19, 20, 21, 22, 14, 15, 16, 17, 18, 19, 20, 21, 22, 23, 15, 16, 17, 18, 19, 20, 21, 22, 23, 24, 16, 17, 18, 19, 20, 21, 22, 23, 24, 25, 17, 18, 19, 20, 21, 22, 23, 24, 25, 26, 9, 10, 11, 12, 13, 14, 15, 16, 17, 18, 10, 11, 12, 13, 14, 15, 16, 17, 18, 19, 11, 12, 13, 14, 15, 16, 17, 18, 19, 20, 12, 13, 14, 15, 16, 17, 18, 19, 20, 21, 13, 14, 15, 16, 17, 18, 19, 20, 21, 22, 14, 15, 16, 17, 18, 19, 20, 21, 22, 23, 15, 16, 17, 18, 19, 20, 21, 22, 23, 24, 16, 17, 18, 19, 20, 21, 22, 23, 24, 25, 17, 18, 19, 20, 21, 22, 23, 24, 25, 26, 18, 19, 20, 21, 22, 23, 24, 25, 26, 27, 1]\n"
     ]
    }
   ],
   "source": [
    "#39. Calculate the sum of the digits of numbers from 1 to 1000 using list comprehension:\n",
    "\n",
    "digit_sums = [sum(int(digit) for digit in str(num)) for num in range(1, 1001)]\n",
    "\n",
    "print(\"Sum of digits of numbers from 1 to 1000:\", digit_sums)"
   ]
  },
  {
   "cell_type": "code",
   "execution_count": 44,
   "id": "3a673c19",
   "metadata": {},
   "outputs": [
    {
     "name": "stdout",
     "output_type": "stream",
     "text": [
      "Prime palindromic numbers: [2, 3, 5, 7, 11, 101, 131, 151, 181, 191, 313, 353, 373, 383, 727, 757, 787, 797, 919, 929]\n"
     ]
    }
   ],
   "source": [
    "#40. Generate a list of prime palindromic numbers using list comprehension:\n",
    "\n",
    "def is_prime(num):\n",
    "    if num <= 1:\n",
    "        return False\n",
    "    for i in range(2, int(num**0.5) + 1):\n",
    "        if num % i == 0:\n",
    "            return False\n",
    "    return True\n",
    "\n",
    "def is_palindrome(num):\n",
    "    return str(num) == str(num)[::-1]\n",
    "\n",
    "prime_palindromic_numbers = [num for num in range(1, 1001) if is_prime(num) and is_palindrome(num)]\n",
    "\n",
    "print(\"Prime palindromic numbers:\", prime_palindromic_numbers)"
   ]
  },
  {
   "cell_type": "code",
   "execution_count": null,
   "id": "8311e1ec",
   "metadata": {},
   "outputs": [],
   "source": []
  }
 ],
 "metadata": {
  "kernelspec": {
   "display_name": "Python 3 (ipykernel)",
   "language": "python",
   "name": "python3"
  },
  "language_info": {
   "codemirror_mode": {
    "name": "ipython",
    "version": 3
   },
   "file_extension": ".py",
   "mimetype": "text/x-python",
   "name": "python",
   "nbconvert_exporter": "python",
   "pygments_lexer": "ipython3",
   "version": "3.9.12"
  }
 },
 "nbformat": 4,
 "nbformat_minor": 5
}
